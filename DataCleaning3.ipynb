{
 "cells": [
  {
   "cell_type": "code",
   "execution_count": 1,
   "id": "3ce76701-82d6-4a24-9c5a-7e479df6b4c6",
   "metadata": {
    "ExecuteTime": {
     "end_time": "2024-03-13T09:02:42.719958Z",
     "start_time": "2024-03-13T09:02:41.983805Z"
    }
   },
   "outputs": [],
   "source": [
    "import pandas as pd \n",
    "import matplotlib.pyplot as plt \n",
    "import numpy as np \n",
    "import seaborn as sns\n",
    "\n",
    "from scipy.cluster.hierarchy import dendrogram, linkage\n",
    "from sklearn.preprocessing import StandardScaler\n",
    "from sklearn.metrics.pairwise import cosine_similarity"
   ]
  },
  {
   "cell_type": "markdown",
   "id": "05e98994-671a-4ad4-a1ea-58defffaefb4",
   "metadata": {},
   "source": [
    "# 数据导入 "
   ]
  },
  {
   "cell_type": "code",
   "execution_count": null,
   "id": "f5d818d5-4238-4d44-ac6d-28d1e5892075",
   "metadata": {},
   "outputs": [],
   "source": [
    "df_main = pd.read_excel(\"/Users/improvise/Desktop/Guaranteed Graduates/Thesis/ESG/Playground/06_DataCleaning/data6.xlsx\")"
   ]
  },
  {
   "cell_type": "code",
   "execution_count": null,
   "id": "5dd1fd0f-45ba-4daf-a8f8-27535a23d123",
   "metadata": {},
   "outputs": [],
   "source": [
    "df_main.columns"
   ]
  },
  {
   "cell_type": "code",
   "execution_count": null,
   "id": "986b4d4c-3df0-4eea-b882-4a63c4208292",
   "metadata": {},
   "outputs": [],
   "source": [
    "# 取出需要标准化的列 \n",
    "df_process = df_main[['R&D_rate', 'Patents_CSMAR', 'Patents_iFind', 'Patent_CNRDS', 'R&D_rate_t-1',\n",
    "       'R&D_rate_t-2', 'R&D_rate_t-3']]"
   ]
  },
  {
   "cell_type": "code",
   "execution_count": null,
   "id": "5c5ccb90-e814-466c-9e2c-0e5b02a52e62",
   "metadata": {},
   "outputs": [],
   "source": [
    "scaler = StandardScaler()\n",
    "df_process_scaled = pd.DataFrame(scaler.fit_transform(df_process), columns=df_process.columns)"
   ]
  },
  {
   "cell_type": "code",
   "execution_count": null,
   "id": "cfbb0ee5-a019-4984-bada-cef9e2e24cb9",
   "metadata": {},
   "outputs": [],
   "source": [
    "df_process_scaled2 = df_main.drop(columns=['R&D_rate', 'Patents_CSMAR', 'Patents_iFind', 'Patent_CNRDS', 'R&D_rate_t-1',\n",
    "       'R&D_rate_t-2', 'R&D_rate_t-3']).merge(df_process_scaled, left_index=True, right_index=True)"
   ]
  },
  {
   "cell_type": "code",
   "execution_count": null,
   "id": "26ccb7c6-d0b7-43d0-8872-21a05cb3c7dc",
   "metadata": {},
   "outputs": [],
   "source": [
    "df_process_scaled2.to_excel(\"/Users/improvise/Desktop/Guaranteed Graduates/Thesis/ESG/Playground/06_DataCleaning/data7.xlsx\",index=False)"
   ]
  },
  {
   "cell_type": "code",
   "execution_count": null,
   "id": "4f78b4e7-6038-4160-ab11-cb735a6d125a",
   "metadata": {},
   "outputs": [],
   "source": [
    "def standardize(df, columns):\n",
    "    scaler = StandardScaler()\n",
    "    df2 = pd.DataFrame(scaler.fit_transform(df[columns]), columns=df[columns].columns)\n",
    "\n",
    "    return df.drop(columns = columns).merge(df2, left_index=True, right_index=True)"
   ]
  },
  {
   "cell_type": "code",
   "execution_count": null,
   "id": "eba69f6b-6a0b-4bf3-b927-02109a50194f",
   "metadata": {},
   "outputs": [],
   "source": [
    "df_main2 = pd.read_excel(\"/Users/improvise/Desktop/Guaranteed Graduates/Thesis/ESG/Playground/07_EmpiricalTesting/data_archive/data_stata4_6_0.25_2.xlsx\")"
   ]
  },
  {
   "cell_type": "code",
   "execution_count": null,
   "id": "5b5280f5-de8a-415e-be6e-18a4ec62ccca",
   "metadata": {},
   "outputs": [],
   "source": [
    "df_main2.drop(columns={\"Unnamed: 0\"}, inplace=True)"
   ]
  },
  {
   "cell_type": "code",
   "execution_count": null,
   "id": "0bc356ee-f9f6-486d-bd4f-cb3e6d8305fd",
   "metadata": {},
   "outputs": [],
   "source": [
    "standardize(df_main2, ['SalesRate', 'GovEquity']).to_excel(\"/Users/improvise/Desktop/Guaranteed Graduates/Thesis/ESG/Playground/07_EmpiricalTesting/data_archive/data_stata4_6_0.25_3.xlsx\")"
   ]
  },
  {
   "cell_type": "code",
   "execution_count": null,
   "id": "fb1b2320-fb9a-43fe-a397-b5ec5bb97421",
   "metadata": {},
   "outputs": [],
   "source": []
  },
  {
   "cell_type": "markdown",
   "id": "7947dcf8-3a9e-432a-831e-1d3148f38cef",
   "metadata": {},
   "source": [
    "# 相关性分析 "
   ]
  },
  {
   "cell_type": "code",
   "execution_count": null,
   "id": "3674e648-b693-4ab6-b687-363e0b9f2974",
   "metadata": {},
   "outputs": [],
   "source": [
    "df_process_scaled2 = pd.read_excel(\"/Users/improvise/Desktop/Guaranteed Graduates/Thesis/ESG/Playground/06_DataCleaning/data7.xlsx\")"
   ]
  },
  {
   "cell_type": "code",
   "execution_count": null,
   "id": "75b286ae-c55f-4d39-8b8a-19dd64033462",
   "metadata": {},
   "outputs": [],
   "source": [
    "df_process_scaled2.columns"
   ]
  },
  {
   "cell_type": "code",
   "execution_count": null,
   "id": "cf65a2b1-7e81-46c1-9f77-ecbc27f43204",
   "metadata": {},
   "outputs": [],
   "source": [
    "df_process_scaled2.info()"
   ]
  },
  {
   "cell_type": "code",
   "execution_count": null,
   "id": "1f1e4645-32eb-4bc2-b49f-09b9a8593813",
   "metadata": {},
   "outputs": [],
   "source": [
    "var_list = ['img_num_pages_ratio', 'img_size_pages_ratio',\n",
    "       'dist_diag_ratio', 'word_simi_avg', 'Wind_ESG', 'ROA', 'ROE',\n",
    "       'cash_ratio', 'OperateDuration', 'Top3ManageSumSalary', 'Total_Asset', 'R&D_rate', \n",
    "        'Patents_iFind', 'Patent_CNRDS', 'R&D_rate_t-3']"
   ]
  },
  {
   "cell_type": "code",
   "execution_count": null,
   "id": "eaa1600d-820f-4ab1-b61f-51d53112c79c",
   "metadata": {},
   "outputs": [],
   "source": [
    "df_var = df_process_scaled2[var_list].dropna(how='any')"
   ]
  },
  {
   "cell_type": "code",
   "execution_count": null,
   "id": "c049dd45-c0b5-466e-a4b9-8e6f33b5b319",
   "metadata": {},
   "outputs": [],
   "source": []
  },
  {
   "cell_type": "code",
   "execution_count": null,
   "id": "a53bd40e-c45f-450f-b363-809a4f8fc72a",
   "metadata": {},
   "outputs": [],
   "source": [
    "correlation = cosine_similarity(df_var.T)\n",
    "correlation = pd.DataFrame(correlation, index=df_var.columns, columns=df_var.columns)\n",
    "\n",
    "plt.figure(figsize=(16, 14))\n",
    "sns.heatmap(correlation, cmap = 'coolwarm', annot=True, square=True) \n",
    "\n",
    "plt.savefig(\"/Users/improvise/Desktop/Guaranteed Graduates/Thesis/ESG/Playground/06_DataCleaning/img/correlation heatmap3.png\")"
   ]
  },
  {
   "cell_type": "markdown",
   "id": "b46d3c48dc34c29a",
   "metadata": {
    "collapsed": false,
    "jupyter": {
     "outputs_hidden": false
    }
   },
   "source": [
    "# Final数据信息展示"
   ]
  },
  {
   "cell_type": "code",
   "execution_count": null,
   "id": "fa13871c708ff66e",
   "metadata": {
    "ExecuteTime": {
     "end_time": "2024-03-13T09:03:51.353490Z",
     "start_time": "2024-03-13T09:03:50.419369Z"
    },
    "collapsed": false,
    "jupyter": {
     "outputs_hidden": false
    }
   },
   "outputs": [],
   "source": [
    "df_PDF = pd.read_excel(\"/Users/improvise/Desktop/Guaranteed Graduates/Thesis/ESG/Playground/06_DataCleaning/data_stata4.xlsx\")"
   ]
  },
  {
   "cell_type": "code",
   "execution_count": null,
   "id": "c1ca15d8ea645912",
   "metadata": {
    "ExecuteTime": {
     "end_time": "2024-03-13T09:03:55.758311Z",
     "start_time": "2024-03-13T09:03:55.713966Z"
    },
    "collapsed": false,
    "jupyter": {
     "outputs_hidden": false
    }
   },
   "outputs": [],
   "source": [
    "df_PDF.info()"
   ]
  },
  {
   "cell_type": "code",
   "execution_count": null,
   "id": "2f67c7a30c590c2d",
   "metadata": {
    "ExecuteTime": {
     "end_time": "2024-03-13T09:08:44.841615Z",
     "start_time": "2024-03-13T09:08:44.831932Z"
    },
    "collapsed": false,
    "jupyter": {
     "outputs_hidden": false
    }
   },
   "outputs": [],
   "source": [
    "target_var = ['img_num_pages_ratio', 'Num_sqr', 'dist_diag_ratio', 'word_simi_avg',\n",
    "              'Intersection', 'Intersection_H2', 'Intersection_H3', 'Intersection_H2_sqr', 'Intersection_H3_sqr', 'Mono_idst', 'Poll_idst', 'ROA', 'cash_ratio', 'OperateDuration', 'Top3ManageSumSalary', 'Total_Asset', 'RD_rate_t3']\n",
    "target_var_key = ['Corp_code', 'Pub_year'] + target_var"
   ]
  },
  {
   "cell_type": "code",
   "execution_count": null,
   "id": "5ee36657258168cf",
   "metadata": {
    "ExecuteTime": {
     "end_time": "2024-03-13T09:08:45.797831Z",
     "start_time": "2024-03-13T09:08:45.790176Z"
    },
    "collapsed": false,
    "jupyter": {
     "outputs_hidden": false
    }
   },
   "outputs": [],
   "source": [
    "df_PDF2 = df_PDF[target_var].dropna(how='any')"
   ]
  },
  {
   "cell_type": "code",
   "execution_count": null,
   "id": "88369b2f602252ec",
   "metadata": {
    "ExecuteTime": {
     "end_time": "2024-03-13T09:10:09.781015Z",
     "start_time": "2024-03-13T09:10:08.056629Z"
    },
    "collapsed": false,
    "jupyter": {
     "outputs_hidden": false
    }
   },
   "outputs": [],
   "source": [
    "correlation = cosine_similarity(df_PDF2.T)\n",
    "correlation = pd.DataFrame(correlation, index=df_PDF2.columns, columns=df_PDF2.columns)\n",
    "\n",
    "plt.figure(figsize=(16, 14))\n",
    "sns.heatmap(correlation, cmap = 'coolwarm', annot=True, square=True)\n",
    "\n",
    "plt.savefig(\"/Users/improvise/Desktop/Guaranteed Graduates/Thesis/ESG/Playground/06_DataCleaning/img/correlation heatmap4.png\")"
   ]
  },
  {
   "cell_type": "code",
   "execution_count": null,
   "id": "ba3e473e8a192043",
   "metadata": {
    "ExecuteTime": {
     "end_time": "2024-03-13T09:13:53.974655Z",
     "start_time": "2024-03-13T09:13:53.793908Z"
    },
    "collapsed": false,
    "jupyter": {
     "outputs_hidden": false
    }
   },
   "outputs": [],
   "source": [
    "df_PDF[target_var].describe()"
   ]
  },
  {
   "cell_type": "code",
   "execution_count": null,
   "id": "668a4f8d493e42f9",
   "metadata": {
    "collapsed": false,
    "jupyter": {
     "outputs_hidden": false
    }
   },
   "outputs": [],
   "source": []
  }
 ],
 "metadata": {
  "kernelspec": {
   "display_name": "Python 3.9 (XPython)",
   "language": "python",
   "name": "xpython"
  },
  "language_info": {
   "file_extension": ".py",
   "mimetype": "text/x-python",
   "name": "python",
   "version": "3.9.18"
  }
 },
 "nbformat": 4,
 "nbformat_minor": 5
}
