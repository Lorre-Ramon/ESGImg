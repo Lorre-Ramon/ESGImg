{
 "cells": [
  {
   "cell_type": "code",
   "execution_count": 2,
   "metadata": {},
   "outputs": [
    {
     "name": "stdout",
     "output_type": "stream",
     "text": [
      "任务已完成！   \n"
     ]
    }
   ],
   "source": [
    "import sys\n",
    "import time\n",
    "import threading\n",
    "\n",
    "# 创建一个加载动画函数\n",
    "def loading_animation(stop_event, message=\"Loading\"):\n",
    "    animation_chars = \"|/-\\\\\"\n",
    "    i = 0\n",
    "    while not stop_event.is_set():\n",
    "        # 在同一行显示动态加载\n",
    "        sys.stdout.write(f\"\\r{message} {animation_chars[i % len(animation_chars)]}\")\n",
    "        sys.stdout.flush()\n",
    "        time.sleep(0.1)\n",
    "        i += 1\n",
    "    # 清除加载动画行\n",
    "    sys.stdout.write(\"\\r\" + \" \" * (len(message) + 2) + \"\\r\")\n",
    "    sys.stdout.flush()\n",
    "\n",
    "# 主程序\n",
    "def main_task():\n",
    "    stop_event = threading.Event()\n",
    "    # 启动加载动画线程\n",
    "    loader_thread = threading.Thread(target=loading_animation, args=(stop_event,))\n",
    "    loader_thread.start()\n",
    "\n",
    "    # 执行需要等待的主要任务\n",
    "    try:\n",
    "        # 这里模拟一个长时间任务\n",
    "        time.sleep(5)  # 将此行替换为实际的任务\n",
    "    finally:\n",
    "        # 任务完成，停止加载动画\n",
    "        stop_event.set()\n",
    "        loader_thread.join()\n",
    "\n",
    "    print(\"任务已完成！\")\n",
    "\n",
    "# 调用主程序\n",
    "main_task()"
   ]
  },
  {
   "cell_type": "code",
   "execution_count": 3,
   "metadata": {},
   "outputs": [],
   "source": [
    "import ast\n",
    "\n",
    "def is_number(s: str) -> bool:\n",
    "    try:\n",
    "        # result = ast.literal_eval(s)\n",
    "        # return isinstance(result, (int, float))\n",
    "        return isinstance(ast.literal_eval(s),(int,float))\n",
    "    except (ValueError, SyntaxError):\n",
    "        return False"
   ]
  },
  {
   "cell_type": "code",
   "execution_count": 5,
   "metadata": {},
   "outputs": [
    {
     "data": {
      "text/plain": [
       "False"
      ]
     },
     "execution_count": 5,
     "metadata": {},
     "output_type": "execute_result"
    }
   ],
   "source": [
    "is_number(\"2023\\n国元证券股份有限公司\\n可持续发展报告\\n\")"
   ]
  },
  {
   "cell_type": "code",
   "execution_count": 5,
   "metadata": {},
   "outputs": [],
   "source": [
    "import re\n",
    "\n",
    "def isSymbolOrNumber( text: str) -> bool:\n",
    "    \"\"\"检查文本是否仅包含符号、数字或空白字符\"\"\"\n",
    "\n",
    "    # 匹配仅包含数字、符号、空白字符的字符串\n",
    "    pattern = r\"^[\\s\\d,;:()\\-+/*%&!|.]*$\"\n",
    "    \n",
    "    # 返回是否匹配\n",
    "    return bool(re.match(pattern, text))"
   ]
  },
  {
   "cell_type": "code",
   "execution_count": 10,
   "metadata": {},
   "outputs": [
    {
     "data": {
      "text/plain": [
       "False"
      ]
     },
     "execution_count": 10,
     "metadata": {},
     "output_type": "execute_result"
    }
   ],
   "source": [
    "isValidSymbolOrNumber(\"2023\\n国元证券股份有限公司\\n可持续发展报告\\n\")"
   ]
  },
  {
   "cell_type": "code",
   "execution_count": null,
   "metadata": {},
   "outputs": [],
   "source": []
  }
 ],
 "metadata": {
  "kernelspec": {
   "display_name": "Tannhauser",
   "language": "python",
   "name": "python3"
  },
  "language_info": {
   "codemirror_mode": {
    "name": "ipython",
    "version": 3
   },
   "file_extension": ".py",
   "mimetype": "text/x-python",
   "name": "python",
   "nbconvert_exporter": "python",
   "pygments_lexer": "ipython3",
   "version": "3.9.18"
  }
 },
 "nbformat": 4,
 "nbformat_minor": 2
}
