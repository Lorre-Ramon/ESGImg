{
 "cells": [
  {
   "cell_type": "code",
   "execution_count": 2,
   "metadata": {},
   "outputs": [
    {
     "name": "stdout",
     "output_type": "stream",
     "text": [
      "Wait until it says 'speak now'\n"
     ]
    },
    {
     "name": "stderr",
     "output_type": "stream",
     "text": [
      "Error processing line 1 of /Users/improvise/miniconda/envs/Tannhauser/lib/python3.9/site-packages/dj-0.1-py3.9-nspkg.pth:\n",
      "\n",
      "Error processing line 1 of /Users/improvise/miniconda/envs/Tannhauser/lib/python3.9/site-packages/dj-0.1-py3.9-nspkg.pth:\n",
      "\n",
      "  Traceback (most recent call last):  Traceback (most recent call last):\n",
      "\n",
      "    File \"/Users/improvise/miniconda/envs/Tannhauser/lib/python3.9/site.py\", line 169, in addpackage    File \"/Users/improvise/miniconda/envs/Tannhauser/lib/python3.9/site.py\", line 169, in addpackage\n",
      "\n",
      "      exec(line)      exec(line)\n",
      "\n",
      "    File \"<string>\", line 1, in <module>    File \"<string>\", line 1, in <module>\n",
      "\n",
      "    File \"<frozen importlib._bootstrap>\", line 562, in module_from_spec    File \"<frozen importlib._bootstrap>\", line 562, in module_from_spec\n",
      "\n",
      "  AttributeError: 'NoneType' object has no attribute 'loader'\n",
      "  AttributeError: 'NoneType' object has no attribute 'loader'\n",
      "Remainder of file ignored\n",
      "\n",
      "\n",
      "Remainder of file ignored\n"
     ]
    },
    {
     "name": "stdout",
     "output_type": "stream",
     "text": [
      "⠋ speak now⠙ speak now"
     ]
    },
    {
     "name": "stderr",
     "output_type": "stream",
     "text": [
      "[2025-01-23 11:25:09.725] [ctranslate2] [thread 806241] [warning] The compute type inferred from the saved model is float16, but the target device or backend do not support efficient float16 computation. The model weights have been automatically converted to use the float32 compute type instead.\n"
     ]
    },
    {
     "name": "stdout",
     "output_type": "stream",
     "text": [
      "You have to have quarterly meetings. You have to keep minutes of all those meetings.ding⠋ recording⠙ recording⠹ recording⠸ recording⠼ recording⠴ recording⠦ recording⠧ recording⠇ recording⠏ recording⠋ recording⠙ recording⠹ recording⠸ recording⠼ recording⠴ recording⠦ recording⠧ recording⠇ recording⠏ recording transcribing⠙ transcribing\n",
      "Single thing that was talked about in the society.rding⠴ recording⠦ recording⠧ recording⠇ recording⠏ recording⠋ recording⠙ recording⠹ recording⠸ recording⠼ recording⠴ recording⠦ recording⠧ recording transcribing⠙ transcribing⠹ transcribing\n",
      "Helps keep that liability shield.⠸ speak now⠼ speak now⠴ speak now⠦ recording⠧ recording⠇ recording⠏ recording⠋ recording⠙ recording⠹ recording⠸ recording⠼ recording⠴ recording⠦ recording⠧ recording⠇ recording⠏ recording⠋ recording transcribing⠙ transcribing recording⠙ recording⠹ recording⠸ recording\n",
      "RealtimeSTT shutting down\n"
     ]
    },
    {
     "ename": "KeyboardInterrupt",
     "evalue": "",
     "output_type": "error",
     "traceback": [
      "\u001b[0;31m---------------------------------------------------------------------------\u001b[0m",
      "\u001b[0;31mKeyboardInterrupt\u001b[0m                         Traceback (most recent call last)",
      "Cell \u001b[0;32mIn[2], line 11\u001b[0m\n\u001b[1;32m      8\u001b[0m recorder \u001b[38;5;241m=\u001b[39m AudioToTextRecorder()\n\u001b[1;32m     10\u001b[0m \u001b[38;5;28;01mwhile\u001b[39;00m \u001b[38;5;28;01mTrue\u001b[39;00m:\n\u001b[0;32m---> 11\u001b[0m     \u001b[43mrecorder\u001b[49m\u001b[38;5;241;43m.\u001b[39;49m\u001b[43mtext\u001b[49m\u001b[43m(\u001b[49m\u001b[43mprocess_text\u001b[49m\u001b[43m)\u001b[49m\n",
      "File \u001b[0;32m~/miniconda/envs/Tannhauser/lib/python3.9/site-packages/RealtimeSTT/audio_recorder.py:1300\u001b[0m, in \u001b[0;36mAudioToTextRecorder.text\u001b[0;34m(self, on_transcription_finished)\u001b[0m\n\u001b[1;32m   1298\u001b[0m \u001b[38;5;28mself\u001b[39m\u001b[38;5;241m.\u001b[39mwas_interrupted\u001b[38;5;241m.\u001b[39mclear()\n\u001b[1;32m   1299\u001b[0m \u001b[38;5;28;01mtry\u001b[39;00m:\n\u001b[0;32m-> 1300\u001b[0m     \u001b[38;5;28;43mself\u001b[39;49m\u001b[38;5;241;43m.\u001b[39;49m\u001b[43mwait_audio\u001b[49m\u001b[43m(\u001b[49m\u001b[43m)\u001b[49m\n\u001b[1;32m   1301\u001b[0m \u001b[38;5;28;01mexcept\u001b[39;00m \u001b[38;5;167;01mKeyboardInterrupt\u001b[39;00m:\n\u001b[1;32m   1302\u001b[0m     logging\u001b[38;5;241m.\u001b[39minfo(\u001b[38;5;124m\"\u001b[39m\u001b[38;5;124mKeyboardInterrupt in text() method\u001b[39m\u001b[38;5;124m\"\u001b[39m)\n",
      "File \u001b[0;32m~/miniconda/envs/Tannhauser/lib/python3.9/site-packages/RealtimeSTT/audio_recorder.py:1148\u001b[0m, in \u001b[0;36mAudioToTextRecorder.wait_audio\u001b[0;34m(self)\u001b[0m\n\u001b[1;32m   1146\u001b[0m     logging\u001b[38;5;241m.\u001b[39mdebug(\u001b[38;5;124m'\u001b[39m\u001b[38;5;124mWaiting for recording stop\u001b[39m\u001b[38;5;124m'\u001b[39m)\n\u001b[1;32m   1147\u001b[0m     \u001b[38;5;28;01mwhile\u001b[39;00m \u001b[38;5;129;01mnot\u001b[39;00m \u001b[38;5;28mself\u001b[39m\u001b[38;5;241m.\u001b[39minterrupt_stop_event\u001b[38;5;241m.\u001b[39mis_set():\n\u001b[0;32m-> 1148\u001b[0m         \u001b[38;5;28;01mif\u001b[39;00m (\u001b[38;5;28;43mself\u001b[39;49m\u001b[38;5;241;43m.\u001b[39;49m\u001b[43mstop_recording_event\u001b[49m\u001b[38;5;241;43m.\u001b[39;49m\u001b[43mwait\u001b[49m\u001b[43m(\u001b[49m\u001b[43mtimeout\u001b[49m\u001b[38;5;241;43m=\u001b[39;49m\u001b[38;5;241;43m0.02\u001b[39;49m\u001b[43m)\u001b[49m):\n\u001b[1;32m   1149\u001b[0m             \u001b[38;5;28;01mbreak\u001b[39;00m\n\u001b[1;32m   1151\u001b[0m \u001b[38;5;66;03m# Convert recorded frames to the appropriate audio format.\u001b[39;00m\n",
      "File \u001b[0;32m~/miniconda/envs/Tannhauser/lib/python3.9/threading.py:581\u001b[0m, in \u001b[0;36mEvent.wait\u001b[0;34m(self, timeout)\u001b[0m\n\u001b[1;32m    579\u001b[0m signaled \u001b[38;5;241m=\u001b[39m \u001b[38;5;28mself\u001b[39m\u001b[38;5;241m.\u001b[39m_flag\n\u001b[1;32m    580\u001b[0m \u001b[38;5;28;01mif\u001b[39;00m \u001b[38;5;129;01mnot\u001b[39;00m signaled:\n\u001b[0;32m--> 581\u001b[0m     signaled \u001b[38;5;241m=\u001b[39m \u001b[38;5;28;43mself\u001b[39;49m\u001b[38;5;241;43m.\u001b[39;49m\u001b[43m_cond\u001b[49m\u001b[38;5;241;43m.\u001b[39;49m\u001b[43mwait\u001b[49m\u001b[43m(\u001b[49m\u001b[43mtimeout\u001b[49m\u001b[43m)\u001b[49m\n\u001b[1;32m    582\u001b[0m \u001b[38;5;28;01mreturn\u001b[39;00m signaled\n",
      "File \u001b[0;32m~/miniconda/envs/Tannhauser/lib/python3.9/threading.py:316\u001b[0m, in \u001b[0;36mCondition.wait\u001b[0;34m(self, timeout)\u001b[0m\n\u001b[1;32m    314\u001b[0m \u001b[38;5;28;01melse\u001b[39;00m:\n\u001b[1;32m    315\u001b[0m     \u001b[38;5;28;01mif\u001b[39;00m timeout \u001b[38;5;241m>\u001b[39m \u001b[38;5;241m0\u001b[39m:\n\u001b[0;32m--> 316\u001b[0m         gotit \u001b[38;5;241m=\u001b[39m \u001b[43mwaiter\u001b[49m\u001b[38;5;241;43m.\u001b[39;49m\u001b[43macquire\u001b[49m\u001b[43m(\u001b[49m\u001b[38;5;28;43;01mTrue\u001b[39;49;00m\u001b[43m,\u001b[49m\u001b[43m \u001b[49m\u001b[43mtimeout\u001b[49m\u001b[43m)\u001b[49m\n\u001b[1;32m    317\u001b[0m     \u001b[38;5;28;01melse\u001b[39;00m:\n\u001b[1;32m    318\u001b[0m         gotit \u001b[38;5;241m=\u001b[39m waiter\u001b[38;5;241m.\u001b[39macquire(\u001b[38;5;28;01mFalse\u001b[39;00m)\n",
      "\u001b[0;31mKeyboardInterrupt\u001b[0m: "
     ]
    },
    {
     "name": "stdout",
     "output_type": "stream",
     "text": []
    }
   ],
   "source": [
    "from RealtimeSTT import AudioToTextRecorder\n",
    "\n",
    "def process_text(text):\n",
    "    print(text)\n",
    "\n",
    "if __name__ == '__main__':\n",
    "    print(\"Wait until it says 'speak now'\")\n",
    "    recorder = AudioToTextRecorder()\n",
    "\n",
    "    while True:\n",
    "        recorder.text(process_text)"
   ]
  },
  {
   "cell_type": "code",
   "execution_count": 1,
   "metadata": {},
   "outputs": [
    {
     "name": "stdout",
     "output_type": "stream",
     "text": [
      "<class 'pandas.core.frame.DataFrame'>\n",
      "RangeIndex: 101799 entries, 0 to 101798\n",
      "Data columns (total 18 columns):\n",
      " #   Column             Non-Null Count   Dtype  \n",
      "---  ------             --------------   -----  \n",
      " 0   file_name          101799 non-null  object \n",
      " 1   x0                 101799 non-null  float64\n",
      " 2   y0                 101799 non-null  float64\n",
      " 3   x1                 101799 non-null  float64\n",
      " 4   y1                 101799 non-null  float64\n",
      " 5   centre_coordinate  101799 non-null  object \n",
      " 6   PDF_name           101799 non-null  object \n",
      " 7   page               101799 non-null  int64  \n",
      " 8   p_index            101799 non-null  int64  \n",
      " 9   word_simi          101799 non-null  float64\n",
      " 10  match_text         87797 non-null   object \n",
      " 11  match_text_prob    87797 non-null   float64\n",
      " 12  match_text_CRI     87797 non-null   float64\n",
      " 13  distance           87797 non-null   float64\n",
      " 14  year               101799 non-null  int64  \n",
      " 15  type               101799 non-null  object \n",
      " 16  thscode            101799 non-null  object \n",
      " 17  pdf_filename       101799 non-null  object \n",
      "dtypes: float64(8), int64(3), object(7)\n",
      "memory usage: 14.0+ MB\n"
     ]
    }
   ],
   "source": [
    "import pandas as pd \n",
    "\n",
    "df = pd.read_excel(\"output/distance.xlsx\")\n",
    "df.info()"
   ]
  },
  {
   "cell_type": "code",
   "execution_count": 4,
   "metadata": {},
   "outputs": [
    {
     "data": {
      "text/html": [
       "<div>\n",
       "<style scoped>\n",
       "    .dataframe tbody tr th:only-of-type {\n",
       "        vertical-align: middle;\n",
       "    }\n",
       "\n",
       "    .dataframe tbody tr th {\n",
       "        vertical-align: top;\n",
       "    }\n",
       "\n",
       "    .dataframe thead th {\n",
       "        text-align: right;\n",
       "    }\n",
       "</style>\n",
       "<table border=\"1\" class=\"dataframe\">\n",
       "  <thead>\n",
       "    <tr style=\"text-align: right;\">\n",
       "      <th></th>\n",
       "      <th>year</th>\n",
       "      <th>type</th>\n",
       "      <th>PDF_name</th>\n",
       "    </tr>\n",
       "  </thead>\n",
       "  <tbody>\n",
       "    <tr>\n",
       "      <th>0</th>\n",
       "      <td>2023</td>\n",
       "      <td>SUS</td>\n",
       "      <td>上海梅林：上海梅林2023年度ESG暨可持续发展报告</td>\n",
       "    </tr>\n",
       "    <tr>\n",
       "      <th>147</th>\n",
       "      <td>2023</td>\n",
       "      <td>SUS</td>\n",
       "      <td>上港集团：上港集团2023年可持续发展报告</td>\n",
       "    </tr>\n",
       "    <tr>\n",
       "      <th>279</th>\n",
       "      <td>2023</td>\n",
       "      <td>SUS</td>\n",
       "      <td>密尔克卫：密尔克卫智能供应链服务集团股份有限公司2023年度可持续发展报告</td>\n",
       "    </tr>\n",
       "    <tr>\n",
       "      <th>372</th>\n",
       "      <td>2023</td>\n",
       "      <td>SUS</td>\n",
       "      <td>禾望电气：深圳市禾望电气股份有限公司2023年可持续发展报告</td>\n",
       "    </tr>\n",
       "    <tr>\n",
       "      <th>455</th>\n",
       "      <td>2023</td>\n",
       "      <td>SUS</td>\n",
       "      <td>贝泰妮：2023年度可持续发展报告暨环境、社会及管治(ESG)报告</td>\n",
       "    </tr>\n",
       "    <tr>\n",
       "      <th>...</th>\n",
       "      <td>...</td>\n",
       "      <td>...</td>\n",
       "      <td>...</td>\n",
       "    </tr>\n",
       "    <tr>\n",
       "      <th>101204</th>\n",
       "      <td>2023</td>\n",
       "      <td>SUS</td>\n",
       "      <td>张家港行：江苏张家港农村商业银行股份有限公司2023年度可持续发展报告</td>\n",
       "    </tr>\n",
       "    <tr>\n",
       "      <th>101255</th>\n",
       "      <td>2023</td>\n",
       "      <td>SUS</td>\n",
       "      <td>首钢股份：北京首钢股份有限公司2023年度可持续发展报告</td>\n",
       "    </tr>\n",
       "    <tr>\n",
       "      <th>101475</th>\n",
       "      <td>2023</td>\n",
       "      <td>SUS</td>\n",
       "      <td>易事特：2023年度可持续发展暨ESG报告</td>\n",
       "    </tr>\n",
       "    <tr>\n",
       "      <th>101596</th>\n",
       "      <td>2023</td>\n",
       "      <td>SUS</td>\n",
       "      <td>阳光电源：2023年可持续发展报告</td>\n",
       "    </tr>\n",
       "    <tr>\n",
       "      <th>101645</th>\n",
       "      <td>2023</td>\n",
       "      <td>SUS</td>\n",
       "      <td>金盘科技：2023年可持续发展报告暨环境、社会及管治报告</td>\n",
       "    </tr>\n",
       "  </tbody>\n",
       "</table>\n",
       "<p>845 rows × 3 columns</p>\n",
       "</div>"
      ],
      "text/plain": [
       "        year type                               PDF_name\n",
       "0       2023  SUS             上海梅林：上海梅林2023年度ESG暨可持续发展报告\n",
       "147     2023  SUS                  上港集团：上港集团2023年可持续发展报告\n",
       "279     2023  SUS  密尔克卫：密尔克卫智能供应链服务集团股份有限公司2023年度可持续发展报告\n",
       "372     2023  SUS         禾望电气：深圳市禾望电气股份有限公司2023年可持续发展报告\n",
       "455     2023  SUS      贝泰妮：2023年度可持续发展报告暨环境、社会及管治(ESG)报告\n",
       "...      ...  ...                                    ...\n",
       "101204  2023  SUS    张家港行：江苏张家港农村商业银行股份有限公司2023年度可持续发展报告\n",
       "101255  2023  SUS           首钢股份：北京首钢股份有限公司2023年度可持续发展报告\n",
       "101475  2023  SUS                  易事特：2023年度可持续发展暨ESG报告\n",
       "101596  2023  SUS                      阳光电源：2023年可持续发展报告\n",
       "101645  2023  SUS           金盘科技：2023年可持续发展报告暨环境、社会及管治报告\n",
       "\n",
       "[845 rows x 3 columns]"
      ]
     },
     "execution_count": 4,
     "metadata": {},
     "output_type": "execute_result"
    }
   ],
   "source": [
    "df[['year', 'type', 'PDF_name']].drop_duplicates()"
   ]
  },
  {
   "cell_type": "code",
   "execution_count": null,
   "metadata": {},
   "outputs": [],
   "source": []
  }
 ],
 "metadata": {
  "kernelspec": {
   "display_name": "Richthofen",
   "language": "python",
   "name": "python3"
  },
  "language_info": {
   "codemirror_mode": {
    "name": "ipython",
    "version": 3
   },
   "file_extension": ".py",
   "mimetype": "text/x-python",
   "name": "python",
   "nbconvert_exporter": "python",
   "pygments_lexer": "ipython3",
   "version": "3.10.15"
  }
 },
 "nbformat": 4,
 "nbformat_minor": 2
}
