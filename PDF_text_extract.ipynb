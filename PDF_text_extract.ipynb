{
 "cells": [
  {
   "cell_type": "markdown",
   "id": "f8edf826",
   "metadata": {},
   "source": [
    "# 文本提取"
   ]
  },
  {
   "cell_type": "code",
   "execution_count": 1,
   "id": "1c3bb378",
   "metadata": {
    "ExecuteTime": {
     "end_time": "2023-12-06T02:39:42.555808Z",
     "start_time": "2023-12-06T02:39:41.857026Z"
    }
   },
   "outputs": [],
   "source": [
    "import fitz  # PyMuPDF\n",
    "import pdb\n",
    "import pandas as pd \n",
    "import os\n",
    "from tqdm import tqdm"
   ]
  },
  {
   "cell_type": "code",
   "execution_count": 2,
   "id": "1bfe113d",
   "metadata": {
    "ExecuteTime": {
     "end_time": "2023-12-06T02:39:42.562514Z",
     "start_time": "2023-12-06T02:39:42.557435Z"
    }
   },
   "outputs": [],
   "source": [
    "# 建立文本存储dataframe\n",
    "text_df = pd.DataFrame(columns=[\"PDF_name\", \"page\", \"p_index\",\n",
    "                                \"content\", \"center_x\", \"center_y\"])"
   ]
  },
  {
   "cell_type": "markdown",
   "id": "ef4b3101",
   "metadata": {},
   "source": [
    "## 函数定义"
   ]
  },
  {
   "cell_type": "code",
   "execution_count": 3,
   "id": "231e503d",
   "metadata": {
    "ExecuteTime": {
     "end_time": "2023-12-06T02:39:42.574814Z",
     "start_time": "2023-12-06T02:39:42.566950Z"
    },
    "code_folding": [
     0
    ]
   },
   "outputs": [],
   "source": [
    "def paragraph(file_path, page_number, y_threshold = 11.5, text_df = text_df):\n",
    "    # 打开PDF文件\n",
    "    pdf_file = fitz.open(file_path)\n",
    "\n",
    "    # 获取页面\n",
    "    page = pdf_file[page_number]\n",
    "    # 获取页面高度\n",
    "    page_height = page.rect.height\n",
    "\n",
    "    # 获取页面上的所有文本块及其位置\n",
    "    blocks = page.get_text(\"blocks\")\n",
    "\n",
    "    # 初始的段落, 坐标\n",
    "    paragraphs = []\n",
    "    coordinates = []\n",
    "\n",
    "    # 初始的文本块\n",
    "    current_text = \"\"\n",
    "    x0, y0, x1, y1 = blocks[0][:4]\n",
    "\n",
    "    # 遍历每个文本块\n",
    "    for block in blocks:\n",
    "        bx0, by0, bx1, by1, text, _, _ = block\n",
    "            \n",
    "        # 忽略图像信息块\n",
    "        if \"<image:\" in text:\n",
    "            continue\n",
    "        \n",
    "        # y轴阈值\n",
    "        y_close_enough = abs(by0 - y1) < y_threshold\n",
    "        \n",
    "        # 检查y坐标是否相邻以确定是否在同一段落中\n",
    "        if y_close_enough:\n",
    "            current_text +=  text.strip()\n",
    "            x1 = max(x1, bx1)\n",
    "            y1 = max(y1, by1)\n",
    "        else:\n",
    "            # 保存段落和计算中心坐标\n",
    "            paragraphs.append(current_text.replace(\" \",\"\"))\n",
    "            coordinates.append(((x0 + x1) / 2, (y0 + y1) / 2))\n",
    "\n",
    "            # 开始新的文本块\n",
    "            current_text = text.strip()\n",
    "            x0, y0, x1, y1 = bx0, by0, bx1, by1\n",
    "\n",
    "    # 保存最后一个段落和中心坐标\n",
    "    paragraphs.append(current_text.replace(\" \",\"\"))\n",
    "    coordinates.append(((x0 + x1) / 2, (y0 + y1) / 2))\n",
    "\n",
    "    # 遍历段落和中心坐标\n",
    "    j = 0\n",
    "    for para, coord in zip(paragraphs, coordinates):\n",
    "#         print(f\"段落: {para}\\n中心: {coord}\\n\")\n",
    "        \n",
    "        # 保存至dataframe\n",
    "        center_x, center_y = coord\n",
    "        \n",
    "        # 判断是不是页眉页脚\n",
    "        if not is_header_or_footer(center_x, center_y, page_height, header_footer_threshold=100):\n",
    "        \n",
    "            info = pd.Series([\"\",page_number + 1 ,j ,para, center_x, center_y],\n",
    "                            index=[\"PDF_name\", \"page\", \"p_index\",\n",
    "                                    \"content\", \"center_x\", \"center_y\"])\n",
    "            text_df = pd.concat([text_df, pd.DataFrame([info])], ignore_index=True)\n",
    "        j = j + 1\n",
    "        \n",
    "    # 关闭PDF文件\n",
    "    pdf_file.close()\n",
    "    \n",
    "    return text_df"
   ]
  },
  {
   "cell_type": "code",
   "execution_count": 4,
   "id": "1101a17e",
   "metadata": {
    "ExecuteTime": {
     "end_time": "2023-12-06T02:39:42.580810Z",
     "start_time": "2023-12-06T02:39:42.577257Z"
    },
    "code_folding": [
     0
    ]
   },
   "outputs": [],
   "source": [
    "def get_bundle_path(directory):\n",
    "    files = [f for f in os.listdir(directory) if f != '.DS_Store']\n",
    "    return [os.path.join(directory, file) for file in files if os.path.isfile(os.path.join(directory, file))]"
   ]
  },
  {
   "cell_type": "code",
   "execution_count": 5,
   "id": "58cf6493",
   "metadata": {
    "ExecuteTime": {
     "end_time": "2023-12-06T02:39:42.587301Z",
     "start_time": "2023-12-06T02:39:42.583551Z"
    },
    "code_folding": [
     0
    ]
   },
   "outputs": [],
   "source": [
    "def PDF_text_extract(file_path, text_df=text_df):\n",
    "    # 打开PDF并获取名称\n",
    "    pdf_file = fitz.open(file_path)\n",
    "    pdf_file_name = os.path.basename(file_path)\n",
    "        \n",
    "    for page_number in range(len(pdf_file)):\n",
    "        # 提取当页PDF文本内容\n",
    "        try:\n",
    "            text_df = pd.concat([text_df, paragraph(file_path, page_number)], ignore_index=True)\n",
    "        except Exception as e:\n",
    "            print(f\"Error occurred: {str(e)}\")\n",
    "            \n",
    "    text_df.PDF_name = pdf_file_name\n",
    "    return text_df[text_df[\"content\"] != \"\"]"
   ]
  },
  {
   "cell_type": "markdown",
   "id": "85c5db20",
   "metadata": {},
   "source": [
    "## 排除页眉页脚"
   ]
  },
  {
   "cell_type": "code",
   "execution_count": 6,
   "id": "fd2152b2",
   "metadata": {
    "ExecuteTime": {
     "end_time": "2023-12-06T02:39:42.594495Z",
     "start_time": "2023-12-06T02:39:42.591899Z"
    },
    "code_folding": [
     0
    ]
   },
   "outputs": [],
   "source": [
    "def is_header_or_footer(center_x, center_y, page_height, header_footer_threshold):\n",
    "    \n",
    "    # 检查位置是否在页眉或页脚的阈值范围内\n",
    "    if center_y < header_footer_threshold or center_y > (page_height - header_footer_threshold):\n",
    "        return True\n",
    "\n",
    "    return False"
   ]
  },
  {
   "cell_type": "markdown",
   "id": "d5872608",
   "metadata": {},
   "source": [
    "## 修改输入输出路径"
   ]
  },
  {
   "cell_type": "code",
   "execution_count": 7,
   "id": "a2148f6e",
   "metadata": {
    "ExecuteTime": {
     "end_time": "2023-12-06T02:39:42.607493Z",
     "start_time": "2023-12-06T02:39:42.597907Z"
    }
   },
   "outputs": [],
   "source": [
    "# 输入文件夹路径\n",
    "file_bundle = get_bundle_path(\"/Users/improvise/Desktop/保研/实证论文/ESG/Playground/00_DataBase/01_ESGReport_PDF/2021\")\n",
    "\n",
    "# 输出csv文件路径\n",
    "file_output_path =\"/Users/improvise/Desktop/保研/实证论文/ESG/Playground/01_Extraction/ESG 2021/01 Text\""
   ]
  },
  {
   "cell_type": "markdown",
   "id": "edbb8dd8",
   "metadata": {},
   "source": [
    "## 运行main"
   ]
  },
  {
   "cell_type": "code",
   "execution_count": 8,
   "id": "6c165dda",
   "metadata": {
    "ExecuteTime": {
     "end_time": "2023-12-06T02:51:00.447525Z",
     "start_time": "2023-12-06T02:39:42.610081Z"
    },
    "scrolled": true
   },
   "outputs": [
    {
     "name": "stderr",
     "output_type": "stream",
     "text": [
      "  8%|███▎                                      | 19/238 [00:52<07:04,  1.94s/it]"
     ]
    },
    {
     "name": "stdout",
     "output_type": "stream",
     "text": [
      "Error occurred: list index out of range\n"
     ]
    },
    {
     "name": "stderr",
     "output_type": "stream",
     "text": [
      " 15%|██████▏                                   | 35/238 [01:44<09:23,  2.77s/it]"
     ]
    },
    {
     "name": "stdout",
     "output_type": "stream",
     "text": [
      "Error occurred: list index out of range\n"
     ]
    },
    {
     "name": "stderr",
     "output_type": "stream",
     "text": [
      " 16%|██████▌                                   | 37/238 [01:48<07:53,  2.36s/it]"
     ]
    },
    {
     "name": "stdout",
     "output_type": "stream",
     "text": [
      "Error occurred: list index out of range\n"
     ]
    },
    {
     "name": "stderr",
     "output_type": "stream",
     "text": [
      " 26%|██████████▉                               | 62/238 [02:37<04:28,  1.52s/it]"
     ]
    },
    {
     "name": "stdout",
     "output_type": "stream",
     "text": [
      "Error occurred: list index out of range\n"
     ]
    },
    {
     "name": "stderr",
     "output_type": "stream",
     "text": [
      " 55%|██████████████████████▋                  | 132/238 [05:43<07:18,  4.14s/it]"
     ]
    },
    {
     "name": "stdout",
     "output_type": "stream",
     "text": [
      "Error occurred: list index out of range\n"
     ]
    },
    {
     "name": "stderr",
     "output_type": "stream",
     "text": [
      " 63%|██████████████████████████               | 151/238 [06:50<04:22,  3.02s/it]"
     ]
    },
    {
     "name": "stdout",
     "output_type": "stream",
     "text": [
      "Error occurred: list index out of range\n",
      "Error occurred: list index out of range\n",
      "Error occurred: list index out of range\n",
      "Error occurred: list index out of range\n",
      "Error occurred: list index out of range\n"
     ]
    },
    {
     "name": "stderr",
     "output_type": "stream",
     "text": [
      " 66%|███████████████████████████▏             | 158/238 [07:02<02:19,  1.75s/it]"
     ]
    },
    {
     "name": "stdout",
     "output_type": "stream",
     "text": [
      "Error occurred: list index out of range\n"
     ]
    },
    {
     "name": "stderr",
     "output_type": "stream",
     "text": [
      "\r",
      " 67%|███████████████████████████▌             | 160/238 [07:04<01:44,  1.35s/it]"
     ]
    },
    {
     "name": "stdout",
     "output_type": "stream",
     "text": [
      "Error occurred: list index out of range\n"
     ]
    },
    {
     "name": "stderr",
     "output_type": "stream",
     "text": [
      " 72%|█████████████████████████████▋           | 172/238 [07:37<03:59,  3.62s/it]"
     ]
    },
    {
     "name": "stdout",
     "output_type": "stream",
     "text": [
      "Error occurred: list index out of range\n"
     ]
    },
    {
     "name": "stderr",
     "output_type": "stream",
     "text": [
      " 74%|██████████████████████████████▎          | 176/238 [07:47<02:21,  2.28s/it]"
     ]
    },
    {
     "name": "stdout",
     "output_type": "stream",
     "text": [
      "Error occurred: list index out of range\n",
      "Error occurred: list index out of range\n",
      "Error occurred: list index out of range\n",
      "Error occurred: list index out of range\n",
      "Error occurred: list index out of range\n"
     ]
    },
    {
     "name": "stderr",
     "output_type": "stream",
     "text": [
      " 85%|██████████████████████████████████▊      | 202/238 [09:31<03:01,  5.03s/it]"
     ]
    },
    {
     "name": "stdout",
     "output_type": "stream",
     "text": [
      "Error occurred: list index out of range\n"
     ]
    },
    {
     "name": "stderr",
     "output_type": "stream",
     "text": [
      " 86%|███████████████████████████████████▏     | 204/238 [09:34<01:57,  3.46s/it]"
     ]
    },
    {
     "name": "stdout",
     "output_type": "stream",
     "text": [
      "Error occurred: list index out of range\n"
     ]
    },
    {
     "name": "stderr",
     "output_type": "stream",
     "text": [
      " 95%|███████████████████████████████████████  | 227/238 [10:51<00:30,  2.74s/it]"
     ]
    },
    {
     "name": "stdout",
     "output_type": "stream",
     "text": [
      "Error occurred: list index out of range\n"
     ]
    },
    {
     "name": "stderr",
     "output_type": "stream",
     "text": [
      " 99%|████████████████████████████████████████▋| 236/238 [11:09<00:03,  1.75s/it]"
     ]
    },
    {
     "name": "stdout",
     "output_type": "stream",
     "text": [
      "Error occurred: list index out of range\n"
     ]
    },
    {
     "name": "stderr",
     "output_type": "stream",
     "text": [
      "100%|█████████████████████████████████████████| 238/238 [11:17<00:00,  2.85s/it]\n"
     ]
    }
   ],
   "source": [
    "for file in tqdm(file_bundle):\n",
    "    text_df = pd.concat([text_df, PDF_text_extract(file)], ignore_index=True)"
   ]
  },
  {
   "cell_type": "code",
   "execution_count": 9,
   "id": "63c4b2de",
   "metadata": {
    "ExecuteTime": {
     "end_time": "2023-12-06T02:51:00.452211Z",
     "start_time": "2023-12-06T02:51:00.450424Z"
    },
    "scrolled": false
   },
   "outputs": [],
   "source": [
    "# try:\n",
    "# #     pdb.set_trace()\n",
    "#     text_df = paragraph(\"./Playground/EsgReport_PDF/00998.HK-中信银行-中信银行 中信银行股份有限公司2022年度可持续发展报告-2023-03-24.pdf\", \n",
    "#               7)\n",
    "# except Exception as e:\n",
    "#     print(f\"An error occurred: {str(e)}\")"
   ]
  },
  {
   "cell_type": "code",
   "execution_count": 10,
   "id": "11eac951",
   "metadata": {
    "ExecuteTime": {
     "end_time": "2023-12-06T02:51:00.465531Z",
     "start_time": "2023-12-06T02:51:00.453360Z"
    }
   },
   "outputs": [
    {
     "data": {
      "text/html": [
       "<div>\n",
       "<style scoped>\n",
       "    .dataframe tbody tr th:only-of-type {\n",
       "        vertical-align: middle;\n",
       "    }\n",
       "\n",
       "    .dataframe tbody tr th {\n",
       "        vertical-align: top;\n",
       "    }\n",
       "\n",
       "    .dataframe thead th {\n",
       "        text-align: right;\n",
       "    }\n",
       "</style>\n",
       "<table border=\"1\" class=\"dataframe\">\n",
       "  <thead>\n",
       "    <tr style=\"text-align: right;\">\n",
       "      <th></th>\n",
       "      <th>PDF_name</th>\n",
       "      <th>page</th>\n",
       "      <th>p_index</th>\n",
       "      <th>content</th>\n",
       "      <th>center_x</th>\n",
       "      <th>center_y</th>\n",
       "    </tr>\n",
       "  </thead>\n",
       "  <tbody>\n",
       "    <tr>\n",
       "      <th>0</th>\n",
       "      <td>600350.SH-山东高速-山东高速股份有限公司2021年环境、社会及治理报告-2022-...</td>\n",
       "      <td>2</td>\n",
       "      <td>2</td>\n",
       "      <td>关于本报告</td>\n",
       "      <td>169.251999</td>\n",
       "      <td>171.902611</td>\n",
       "    </tr>\n",
       "    <tr>\n",
       "      <th>1</th>\n",
       "      <td>600350.SH-山东高速-山东高速股份有限公司2021年环境、社会及治理报告-2022-...</td>\n",
       "      <td>2</td>\n",
       "      <td>3</td>\n",
       "      <td>本报告内容时间界限为2021年1月1日至2021年12月31日，部分内容超出上述范围。</td>\n",
       "      <td>273.216419</td>\n",
       "      <td>456.935013</td>\n",
       "    </tr>\n",
       "    <tr>\n",
       "      <th>2</th>\n",
       "      <td>600350.SH-山东高速-山东高速股份有限公司2021年环境、社会及治理报告-2022-...</td>\n",
       "      <td>2</td>\n",
       "      <td>4</td>\n",
       "      <td>本报告覆盖山东高速股份有限公司及附属公司。</td>\n",
       "      <td>188.751896</td>\n",
       "      <td>542.731995</td>\n",
       "    </tr>\n",
       "    <tr>\n",
       "      <th>3</th>\n",
       "      <td>600350.SH-山东高速-山东高速股份有限公司2021年环境、社会及治理报告-2022-...</td>\n",
       "      <td>2</td>\n",
       "      <td>5</td>\n",
       "      <td>全部信息数据来自山东高速股份有限公司所属各部门、各单位的正式文件、统计报告与财务报告，以及经...</td>\n",
       "      <td>296.574604</td>\n",
       "      <td>654.926025</td>\n",
       "    </tr>\n",
       "    <tr>\n",
       "      <th>4</th>\n",
       "      <td>600350.SH-山东高速-山东高速股份有限公司2021年环境、社会及治理报告-2022-...</td>\n",
       "      <td>2</td>\n",
       "      <td>6</td>\n",
       "      <td>本报告参照上海证券交易所《公司履行社会责任的报告编制指引》进行编写，并适度参考中国社科院发布...</td>\n",
       "      <td>895.254578</td>\n",
       "      <td>474.629013</td>\n",
       "    </tr>\n",
       "    <tr>\n",
       "      <th>...</th>\n",
       "      <td>...</td>\n",
       "      <td>...</td>\n",
       "      <td>...</td>\n",
       "      <td>...</td>\n",
       "      <td>...</td>\n",
       "      <td>...</td>\n",
       "    </tr>\n",
       "    <tr>\n",
       "      <th>148839</th>\n",
       "      <td>688248.SH-南网科技-南方电网电力科技股份有限公司2021年度环境、社会及管治(ES...</td>\n",
       "      <td>32</td>\n",
       "      <td>10</td>\n",
       "      <td>很好\\n较好\\n一般\\n较差\\n差</td>\n",
       "      <td>171.636448</td>\n",
       "      <td>429.617096</td>\n",
       "    </tr>\n",
       "    <tr>\n",
       "      <th>148840</th>\n",
       "      <td>688248.SH-南网科技-南方电网电力科技股份有限公司2021年度环境、社会及管治(ES...</td>\n",
       "      <td>32</td>\n",
       "      <td>11</td>\n",
       "      <td>很好\\n较好\\n一般\\n较差\\n差</td>\n",
       "      <td>171.636448</td>\n",
       "      <td>469.325623</td>\n",
       "    </tr>\n",
       "    <tr>\n",
       "      <th>148841</th>\n",
       "      <td>688248.SH-南网科技-南方电网电力科技股份有限公司2021年度环境、社会及管治(ES...</td>\n",
       "      <td>32</td>\n",
       "      <td>12</td>\n",
       "      <td>3．您认为本报告是否能反映南网科技对经济、社会和环境的重大影响？</td>\n",
       "      <td>170.505199</td>\n",
       "      <td>412.193832</td>\n",
       "    </tr>\n",
       "    <tr>\n",
       "      <th>148842</th>\n",
       "      <td>688248.SH-南网科技-南方电网电力科技股份有限公司2021年度环境、社会及管治(ES...</td>\n",
       "      <td>32</td>\n",
       "      <td>13</td>\n",
       "      <td>4．您认为报告的可读性，即报告的逻辑主线、内容设计、语言文字和版式设计？</td>\n",
       "      <td>181.755199</td>\n",
       "      <td>451.973831</td>\n",
       "    </tr>\n",
       "    <tr>\n",
       "      <th>148843</th>\n",
       "      <td>688248.SH-南网科技-南方电网电力科技股份有限公司2021年度环境、社会及管治(ES...</td>\n",
       "      <td>33</td>\n",
       "      <td>2</td>\n",
       "      <td>南方电网电力科技股份有限公司</td>\n",
       "      <td>137.325279</td>\n",
       "      <td>724.224274</td>\n",
       "    </tr>\n",
       "  </tbody>\n",
       "</table>\n",
       "<p>148844 rows × 6 columns</p>\n",
       "</div>"
      ],
      "text/plain": [
       "                                                 PDF_name page p_index  \\\n",
       "0       600350.SH-山东高速-山东高速股份有限公司2021年环境、社会及治理报告-2022-...    2       2   \n",
       "1       600350.SH-山东高速-山东高速股份有限公司2021年环境、社会及治理报告-2022-...    2       3   \n",
       "2       600350.SH-山东高速-山东高速股份有限公司2021年环境、社会及治理报告-2022-...    2       4   \n",
       "3       600350.SH-山东高速-山东高速股份有限公司2021年环境、社会及治理报告-2022-...    2       5   \n",
       "4       600350.SH-山东高速-山东高速股份有限公司2021年环境、社会及治理报告-2022-...    2       6   \n",
       "...                                                   ...  ...     ...   \n",
       "148839  688248.SH-南网科技-南方电网电力科技股份有限公司2021年度环境、社会及管治(ES...   32      10   \n",
       "148840  688248.SH-南网科技-南方电网电力科技股份有限公司2021年度环境、社会及管治(ES...   32      11   \n",
       "148841  688248.SH-南网科技-南方电网电力科技股份有限公司2021年度环境、社会及管治(ES...   32      12   \n",
       "148842  688248.SH-南网科技-南方电网电力科技股份有限公司2021年度环境、社会及管治(ES...   32      13   \n",
       "148843  688248.SH-南网科技-南方电网电力科技股份有限公司2021年度环境、社会及管治(ES...   33       2   \n",
       "\n",
       "                                                  content    center_x  \\\n",
       "0                                                   关于本报告  169.251999   \n",
       "1             本报告内容时间界限为2021年1月1日至2021年12月31日，部分内容超出上述范围。  273.216419   \n",
       "2                                   本报告覆盖山东高速股份有限公司及附属公司。  188.751896   \n",
       "3       全部信息数据来自山东高速股份有限公司所属各部门、各单位的正式文件、统计报告与财务报告，以及经...  296.574604   \n",
       "4       本报告参照上海证券交易所《公司履行社会责任的报告编制指引》进行编写，并适度参考中国社科院发布...  895.254578   \n",
       "...                                                   ...         ...   \n",
       "148839                                  很好\\n较好\\n一般\\n较差\\n差  171.636448   \n",
       "148840                                  很好\\n较好\\n一般\\n较差\\n差  171.636448   \n",
       "148841                   3．您认为本报告是否能反映南网科技对经济、社会和环境的重大影响？  170.505199   \n",
       "148842               4．您认为报告的可读性，即报告的逻辑主线、内容设计、语言文字和版式设计？  181.755199   \n",
       "148843                                     南方电网电力科技股份有限公司  137.325279   \n",
       "\n",
       "          center_y  \n",
       "0       171.902611  \n",
       "1       456.935013  \n",
       "2       542.731995  \n",
       "3       654.926025  \n",
       "4       474.629013  \n",
       "...            ...  \n",
       "148839  429.617096  \n",
       "148840  469.325623  \n",
       "148841  412.193832  \n",
       "148842  451.973831  \n",
       "148843  724.224274  \n",
       "\n",
       "[148844 rows x 6 columns]"
      ]
     },
     "execution_count": 10,
     "metadata": {},
     "output_type": "execute_result"
    }
   ],
   "source": [
    "text_df"
   ]
  },
  {
   "cell_type": "markdown",
   "id": "7a665e76",
   "metadata": {},
   "source": [
    "## 处理文本"
   ]
  },
  {
   "cell_type": "code",
   "execution_count": 11,
   "id": "796f6d78",
   "metadata": {
    "ExecuteTime": {
     "end_time": "2023-12-06T02:51:00.500021Z",
     "start_time": "2023-12-06T02:51:00.466646Z"
    }
   },
   "outputs": [],
   "source": [
    "def taboo_content(t):\n",
    "    taboo = ['案例']\n",
    "    return t in taboo\n",
    "\n",
    "mask = text_df['content'].apply(taboo_content)\n",
    "text_df = text_df[~mask]"
   ]
  },
  {
   "cell_type": "code",
   "execution_count": 12,
   "id": "fc9cae27",
   "metadata": {
    "ExecuteTime": {
     "end_time": "2023-12-06T02:51:00.535620Z",
     "start_time": "2023-12-06T02:51:00.501079Z"
    }
   },
   "outputs": [],
   "source": [
    "def is_all_digits(s):\n",
    "    return s.isdigit()\n",
    "\n",
    "mask = text_df[\"content\"].apply(is_all_digits)\n",
    "\n",
    "text_df = text_df[~mask]"
   ]
  },
  {
   "cell_type": "code",
   "execution_count": 13,
   "id": "58ccef14",
   "metadata": {
    "ExecuteTime": {
     "end_time": "2023-12-06T02:51:00.623490Z",
     "start_time": "2023-12-06T02:51:00.536694Z"
    }
   },
   "outputs": [],
   "source": [
    "regex = r'[\\n]'\n",
    "\n",
    "# 使用 str.replace 方法，将这些字符替换为空字符串\n",
    "# 这会剔除这些字符，而保留其他文本\n",
    "text_df[\"content\"] = text_df[\"content\"].str.replace(regex, '', regex=True)"
   ]
  },
  {
   "cell_type": "markdown",
   "id": "6d4c5e73",
   "metadata": {},
   "source": [
    "## 保存"
   ]
  },
  {
   "cell_type": "code",
   "execution_count": 14,
   "id": "fd6ede9c",
   "metadata": {
    "ExecuteTime": {
     "end_time": "2023-12-06T02:51:10.485821Z",
     "start_time": "2023-12-06T02:51:00.624560Z"
    }
   },
   "outputs": [],
   "source": [
    "# 检查输出目录是否存在，如果不存在则创建\n",
    "if not os.path.exists(file_output_path):\n",
    "    os.makedirs(file_output_path)\n",
    "    \n",
    "text_df.to_excel(os.path.join(file_output_path, \"text_df_2.xlsx\"), index=False)"
   ]
  },
  {
   "cell_type": "code",
   "execution_count": 15,
   "id": "e021dc19",
   "metadata": {
    "ExecuteTime": {
     "end_time": "2023-12-06T03:01:56.430036Z",
     "start_time": "2023-12-06T03:01:56.414499Z"
    }
   },
   "outputs": [
    {
     "data": {
      "text/html": [
       "<div>\n",
       "<style scoped>\n",
       "    .dataframe tbody tr th:only-of-type {\n",
       "        vertical-align: middle;\n",
       "    }\n",
       "\n",
       "    .dataframe tbody tr th {\n",
       "        vertical-align: top;\n",
       "    }\n",
       "\n",
       "    .dataframe thead th {\n",
       "        text-align: right;\n",
       "    }\n",
       "</style>\n",
       "<table border=\"1\" class=\"dataframe\">\n",
       "  <thead>\n",
       "    <tr style=\"text-align: right;\">\n",
       "      <th></th>\n",
       "      <th>PDF_name</th>\n",
       "      <th>page</th>\n",
       "      <th>p_index</th>\n",
       "      <th>content</th>\n",
       "      <th>center_x</th>\n",
       "      <th>center_y</th>\n",
       "    </tr>\n",
       "  </thead>\n",
       "  <tbody>\n",
       "    <tr>\n",
       "      <th>0</th>\n",
       "      <td>600350.SH-山东高速-山东高速股份有限公司2021年环境、社会及治理报告-2022-...</td>\n",
       "      <td>2</td>\n",
       "      <td>2</td>\n",
       "      <td>关于本报告</td>\n",
       "      <td>169.251999</td>\n",
       "      <td>171.902611</td>\n",
       "    </tr>\n",
       "    <tr>\n",
       "      <th>1</th>\n",
       "      <td>600350.SH-山东高速-山东高速股份有限公司2021年环境、社会及治理报告-2022-...</td>\n",
       "      <td>2</td>\n",
       "      <td>3</td>\n",
       "      <td>本报告内容时间界限为2021年1月1日至2021年12月31日，部分内容超出上述范围。</td>\n",
       "      <td>273.216419</td>\n",
       "      <td>456.935013</td>\n",
       "    </tr>\n",
       "    <tr>\n",
       "      <th>2</th>\n",
       "      <td>600350.SH-山东高速-山东高速股份有限公司2021年环境、社会及治理报告-2022-...</td>\n",
       "      <td>2</td>\n",
       "      <td>4</td>\n",
       "      <td>本报告覆盖山东高速股份有限公司及附属公司。</td>\n",
       "      <td>188.751896</td>\n",
       "      <td>542.731995</td>\n",
       "    </tr>\n",
       "    <tr>\n",
       "      <th>3</th>\n",
       "      <td>600350.SH-山东高速-山东高速股份有限公司2021年环境、社会及治理报告-2022-...</td>\n",
       "      <td>2</td>\n",
       "      <td>5</td>\n",
       "      <td>全部信息数据来自山东高速股份有限公司所属各部门、各单位的正式文件、统计报告与财务报告，以及经...</td>\n",
       "      <td>296.574604</td>\n",
       "      <td>654.926025</td>\n",
       "    </tr>\n",
       "    <tr>\n",
       "      <th>4</th>\n",
       "      <td>600350.SH-山东高速-山东高速股份有限公司2021年环境、社会及治理报告-2022-...</td>\n",
       "      <td>2</td>\n",
       "      <td>6</td>\n",
       "      <td>本报告参照上海证券交易所《公司履行社会责任的报告编制指引》进行编写，并适度参考中国社科院发布...</td>\n",
       "      <td>895.254578</td>\n",
       "      <td>474.629013</td>\n",
       "    </tr>\n",
       "    <tr>\n",
       "      <th>...</th>\n",
       "      <td>...</td>\n",
       "      <td>...</td>\n",
       "      <td>...</td>\n",
       "      <td>...</td>\n",
       "      <td>...</td>\n",
       "      <td>...</td>\n",
       "    </tr>\n",
       "    <tr>\n",
       "      <th>148839</th>\n",
       "      <td>688248.SH-南网科技-南方电网电力科技股份有限公司2021年度环境、社会及管治(ES...</td>\n",
       "      <td>32</td>\n",
       "      <td>10</td>\n",
       "      <td>很好较好一般较差差</td>\n",
       "      <td>171.636448</td>\n",
       "      <td>429.617096</td>\n",
       "    </tr>\n",
       "    <tr>\n",
       "      <th>148840</th>\n",
       "      <td>688248.SH-南网科技-南方电网电力科技股份有限公司2021年度环境、社会及管治(ES...</td>\n",
       "      <td>32</td>\n",
       "      <td>11</td>\n",
       "      <td>很好较好一般较差差</td>\n",
       "      <td>171.636448</td>\n",
       "      <td>469.325623</td>\n",
       "    </tr>\n",
       "    <tr>\n",
       "      <th>148841</th>\n",
       "      <td>688248.SH-南网科技-南方电网电力科技股份有限公司2021年度环境、社会及管治(ES...</td>\n",
       "      <td>32</td>\n",
       "      <td>12</td>\n",
       "      <td>3．您认为本报告是否能反映南网科技对经济、社会和环境的重大影响？</td>\n",
       "      <td>170.505199</td>\n",
       "      <td>412.193832</td>\n",
       "    </tr>\n",
       "    <tr>\n",
       "      <th>148842</th>\n",
       "      <td>688248.SH-南网科技-南方电网电力科技股份有限公司2021年度环境、社会及管治(ES...</td>\n",
       "      <td>32</td>\n",
       "      <td>13</td>\n",
       "      <td>4．您认为报告的可读性，即报告的逻辑主线、内容设计、语言文字和版式设计？</td>\n",
       "      <td>181.755199</td>\n",
       "      <td>451.973831</td>\n",
       "    </tr>\n",
       "    <tr>\n",
       "      <th>148843</th>\n",
       "      <td>688248.SH-南网科技-南方电网电力科技股份有限公司2021年度环境、社会及管治(ES...</td>\n",
       "      <td>33</td>\n",
       "      <td>2</td>\n",
       "      <td>南方电网电力科技股份有限公司</td>\n",
       "      <td>137.325279</td>\n",
       "      <td>724.224274</td>\n",
       "    </tr>\n",
       "  </tbody>\n",
       "</table>\n",
       "<p>143071 rows × 6 columns</p>\n",
       "</div>"
      ],
      "text/plain": [
       "                                                 PDF_name page p_index  \\\n",
       "0       600350.SH-山东高速-山东高速股份有限公司2021年环境、社会及治理报告-2022-...    2       2   \n",
       "1       600350.SH-山东高速-山东高速股份有限公司2021年环境、社会及治理报告-2022-...    2       3   \n",
       "2       600350.SH-山东高速-山东高速股份有限公司2021年环境、社会及治理报告-2022-...    2       4   \n",
       "3       600350.SH-山东高速-山东高速股份有限公司2021年环境、社会及治理报告-2022-...    2       5   \n",
       "4       600350.SH-山东高速-山东高速股份有限公司2021年环境、社会及治理报告-2022-...    2       6   \n",
       "...                                                   ...  ...     ...   \n",
       "148839  688248.SH-南网科技-南方电网电力科技股份有限公司2021年度环境、社会及管治(ES...   32      10   \n",
       "148840  688248.SH-南网科技-南方电网电力科技股份有限公司2021年度环境、社会及管治(ES...   32      11   \n",
       "148841  688248.SH-南网科技-南方电网电力科技股份有限公司2021年度环境、社会及管治(ES...   32      12   \n",
       "148842  688248.SH-南网科技-南方电网电力科技股份有限公司2021年度环境、社会及管治(ES...   32      13   \n",
       "148843  688248.SH-南网科技-南方电网电力科技股份有限公司2021年度环境、社会及管治(ES...   33       2   \n",
       "\n",
       "                                                  content    center_x  \\\n",
       "0                                                   关于本报告  169.251999   \n",
       "1             本报告内容时间界限为2021年1月1日至2021年12月31日，部分内容超出上述范围。  273.216419   \n",
       "2                                   本报告覆盖山东高速股份有限公司及附属公司。  188.751896   \n",
       "3       全部信息数据来自山东高速股份有限公司所属各部门、各单位的正式文件、统计报告与财务报告，以及经...  296.574604   \n",
       "4       本报告参照上海证券交易所《公司履行社会责任的报告编制指引》进行编写，并适度参考中国社科院发布...  895.254578   \n",
       "...                                                   ...         ...   \n",
       "148839                                          很好较好一般较差差  171.636448   \n",
       "148840                                          很好较好一般较差差  171.636448   \n",
       "148841                   3．您认为本报告是否能反映南网科技对经济、社会和环境的重大影响？  170.505199   \n",
       "148842               4．您认为报告的可读性，即报告的逻辑主线、内容设计、语言文字和版式设计？  181.755199   \n",
       "148843                                     南方电网电力科技股份有限公司  137.325279   \n",
       "\n",
       "          center_y  \n",
       "0       171.902611  \n",
       "1       456.935013  \n",
       "2       542.731995  \n",
       "3       654.926025  \n",
       "4       474.629013  \n",
       "...            ...  \n",
       "148839  429.617096  \n",
       "148840  469.325623  \n",
       "148841  412.193832  \n",
       "148842  451.973831  \n",
       "148843  724.224274  \n",
       "\n",
       "[143071 rows x 6 columns]"
      ]
     },
     "execution_count": 15,
     "metadata": {},
     "output_type": "execute_result"
    }
   ],
   "source": [
    "text_df"
   ]
  },
  {
   "cell_type": "code",
   "execution_count": null,
   "id": "6c2a7186",
   "metadata": {},
   "outputs": [],
   "source": []
  }
 ],
 "metadata": {
  "kernelspec": {
   "display_name": "Python 3 (ipykernel)",
   "language": "python",
   "name": "python3"
  },
  "language_info": {
   "codemirror_mode": {
    "name": "ipython",
    "version": 3
   },
   "file_extension": ".py",
   "mimetype": "text/x-python",
   "name": "python",
   "nbconvert_exporter": "python",
   "pygments_lexer": "ipython3",
   "version": "3.9.11"
  },
  "toc": {
   "base_numbering": 1,
   "nav_menu": {},
   "number_sections": true,
   "sideBar": true,
   "skip_h1_title": false,
   "title_cell": "Table of Contents",
   "title_sidebar": "Contents",
   "toc_cell": false,
   "toc_position": {},
   "toc_section_display": true,
   "toc_window_display": false
  }
 },
 "nbformat": 4,
 "nbformat_minor": 5
}
