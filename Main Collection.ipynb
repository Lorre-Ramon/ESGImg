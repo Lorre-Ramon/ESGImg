{
 "cells": [
  {
   "cell_type": "code",
   "execution_count": 14,
   "id": "e58a207e-0d37-47dd-9ddb-8204dd0c070f",
   "metadata": {},
   "outputs": [],
   "source": [
    "import pandas as pd \n",
    "import akshare as ak\n",
    "import os \n",
    "# import fitz\n",
    "import math"
   ]
  },
  {
   "cell_type": "markdown",
   "id": "4bdac6f7-c8a6-4657-9818-f3e7814e38cb",
   "metadata": {},
   "source": [
    "# 获取PDF "
   ]
  },
  {
   "cell_type": "code",
   "execution_count": 64,
   "id": "f84bff76",
   "metadata": {
    "ExecuteTime": {
     "end_time": "2024-01-13T08:01:39.317004Z",
     "start_time": "2024-01-13T08:01:39.314012Z"
    }
   },
   "outputs": [],
   "source": [
    "# 获取PDF页数\n",
    "def pages(PDF_path):\n",
    "    pdf_file = fitz.open(PDF_path)\n",
    "    return pdf_file.page_count"
   ]
  },
  {
   "cell_type": "code",
   "execution_count": 65,
   "id": "74a300c3",
   "metadata": {
    "ExecuteTime": {
     "end_time": "2024-01-13T08:01:40.005748Z",
     "start_time": "2024-01-13T08:01:40.002002Z"
    }
   },
   "outputs": [],
   "source": [
    "# 页面对角线距离\n",
    "def diagonal(PDF_path):\n",
    "    pdf_file = fitz.open(PDF_path)\n",
    "    width, height = pdf_file[3].rect.width, pdf_file[2].rect.height\n",
    "    \n",
    "    return math.sqrt(width**2 + height**2)"
   ]
  },
  {
   "cell_type": "code",
   "execution_count": 66,
   "id": "a93182f2",
   "metadata": {
    "ExecuteTime": {
     "end_time": "2024-01-13T08:01:41.172983Z",
     "start_time": "2024-01-13T08:01:41.168302Z"
    }
   },
   "outputs": [],
   "source": [
    "# 获取上市公司代码\n",
    "def corp_code(PDF_name):\n",
    "    return str(PDF_name.split(\"-\")[0][0:6]) if PDF_name.split(\"-\")[0][-2:] != 'HK' else str(PDF_name.split(\"-\")[0][0:5])\n",
    "\n",
    "def corp_market(PDF_name):\n",
    "    return PDF_name.split(\"-\")[0][-2:]"
   ]
  },
  {
   "cell_type": "code",
   "execution_count": 99,
   "id": "ec989a55",
   "metadata": {
    "ExecuteTime": {
     "end_time": "2024-01-13T08:21:27.862684Z",
     "start_time": "2024-01-13T08:21:27.847480Z"
    }
   },
   "outputs": [],
   "source": [
    "def get_df_PDF(filepath, PDF_folder, PDF_year, PDF_type):\n",
    "    # 读入df_img，保存着距离信息\n",
    "    df_img = pd.read_excel(filepath)\n",
    "    \n",
    "    if \"Unnamed: 0\" in df_img.columns:\n",
    "        df_img = df_img.drop(\"Unnamed: 0\", axis=1)\n",
    "        \n",
    "    values_to_remove = [\"华为2022.pdf\", \"万科2022.pdf\", \"601966.SH-玲珑轮胎-玲珑轮胎 山东玲珑轮胎股份有限公司2022年可持续发展报告英文版-2023-04-29.pdf\", \"002129.SZ-TCL中环-TCL中环 TCL中环新能源科技股份有限公司2022年度可持续发展报告(英文版)-2023-03-29.pdf\", \"000726.SZ-鲁泰A-鲁泰Ａ 鲁泰纺织可持续发展报告2022-英文版-2023-04-12.pdf\"]\n",
    "    df_img = df_img[~df_img['PDF_name'].isin(values_to_remove)]\n",
    "        \n",
    "    # 准备df_PDF\n",
    "    df_PDF = pd.DataFrame()\n",
    "    df_PDF['PDF_name'] = df_img['PDF_name'].unique()\n",
    "    df_PDF['Corp_code'] = df_PDF['PDF_name'].apply(corp_code)\n",
    "    df_PDF['Corp_market'] = df_PDF['PDF_name'].apply(corp_market)\n",
    "    df_PDF['Pub_year'] = PDF_year\n",
    "    df_PDF['Pub_type'] = PDF_type\n",
    "    \n",
    "    # 获取PDF页数\n",
    "    df_PDF['PDF_pages'] = df_PDF['PDF_name'].apply(lambda x: pages(os.path.join(PDF_folder, x)))\n",
    "    \n",
    "    # 获取PDF内图片数量\n",
    "    df_PDF = df_PDF.merge(df_img.groupby('PDF_name')['page'].count().reset_index(name= 'img_num'),\n",
    "                     on='PDF_name', how='left')\n",
    "    \n",
    "    # 获取PDF内图片大小（均值）\n",
    "    df_img['img_size'] = df_img.apply(lambda row: abs(row[\"x1\"] - row[\"x0\"]) * abs(row[\"y1\"] - row[\"y0\"]),\n",
    "                                      axis=1)\n",
    "    df_PDF = df_PDF.merge(df_img.groupby('PDF_name')['img_size'].mean().reset_index(name= 'img_size_avg'),\n",
    "                     how='left', on='PDF_name')\n",
    "    \n",
    "    # 计算图片数量与页数比\n",
    "    df_PDF['img_num_pages_ratio'] = df_PDF.apply(lambda row: row['img_num'] / row['PDF_pages'], axis=1)\n",
    "\n",
    "    # 计算图片大小和页数比\n",
    "    df_PDF['img_size_pages_ratio'] = df_PDF.apply(lambda row: row['img_size_avg'] / row['PDF_pages'], axis=1)\n",
    "    \n",
    "    # 计算 图文空间距离(平均）与 页面对角线距离 比\n",
    "    diagonal_series = df_PDF['PDF_name'].apply(lambda x: diagonal(os.path.join(PDF_folder, x)))\n",
    "    diagonal_series.index = df_PDF['PDF_name']\n",
    "    \n",
    "    diagonal_compute = pd.merge(diagonal_series.reset_index(name = 'diag'), \n",
    "                           df_img.groupby('PDF_name')['distance'].mean().reset_index(name = 'dist_avg'),\n",
    "                           on='PDF_name', how = 'left')\n",
    "    diagonal_compute['dist_diag_ratio'] = diagonal_compute.apply(lambda row: row['dist_avg'] / row['diag'], \n",
    "                                                                 axis=1)\n",
    "    df_PDF = pd.merge(df_PDF, diagonal_compute[['PDF_name', 'dist_diag_ratio']],\n",
    "                      on='PDF_name', how = 'left')\n",
    "    \n",
    "    # 计算 图文语义近似度\n",
    "    df_PDF = pd.merge(df_PDF, df_img.groupby(\"PDF_name\")['word_simi'].mean().reset_index(name= 'word_simi_avg'),\n",
    "                      on='PDF_name', how='left')\n",
    "    \n",
    "    # 保存文件\n",
    "    df_PDF.to_excel(\"/Users/improvise/Desktop/保研/实证论文/ESG/Playground/05_DataIntegration2/00_separate/df_PDF_{}_{}.xlsx\".format(PDF_type, PDF_year))\n",
    "\n",
    "    return df_PDF"
   ]
  },
  {
   "cell_type": "code",
   "execution_count": 105,
   "id": "2219c23c",
   "metadata": {
    "ExecuteTime": {
     "end_time": "2024-01-13T08:23:54.072957Z",
     "start_time": "2024-01-13T08:23:36.824517Z"
    }
   },
   "outputs": [
    {
     "data": {
      "text/html": [
       "<div>\n",
       "<style scoped>\n",
       "    .dataframe tbody tr th:only-of-type {\n",
       "        vertical-align: middle;\n",
       "    }\n",
       "\n",
       "    .dataframe tbody tr th {\n",
       "        vertical-align: top;\n",
       "    }\n",
       "\n",
       "    .dataframe thead th {\n",
       "        text-align: right;\n",
       "    }\n",
       "</style>\n",
       "<table border=\"1\" class=\"dataframe\">\n",
       "  <thead>\n",
       "    <tr style=\"text-align: right;\">\n",
       "      <th></th>\n",
       "      <th>PDF_name</th>\n",
       "      <th>Corp_code</th>\n",
       "      <th>Corp_market</th>\n",
       "      <th>Pub_year</th>\n",
       "      <th>Pub_type</th>\n",
       "      <th>PDF_pages</th>\n",
       "      <th>img_num</th>\n",
       "      <th>img_size_avg</th>\n",
       "      <th>img_num_pages_ratio</th>\n",
       "      <th>img_size_pages_ratio</th>\n",
       "      <th>dist_diag_ratio</th>\n",
       "      <th>word_simi_avg</th>\n",
       "    </tr>\n",
       "  </thead>\n",
       "  <tbody>\n",
       "    <tr>\n",
       "      <th>0</th>\n",
       "      <td>300011.SZ-鼎汉技术-鼎汉技术 2022年社会责任暨环境、社会及管治(ESG)报告-...</td>\n",
       "      <td>300011</td>\n",
       "      <td>SZ</td>\n",
       "      <td>2022</td>\n",
       "      <td>ESG</td>\n",
       "      <td>47</td>\n",
       "      <td>118</td>\n",
       "      <td>234082.815567</td>\n",
       "      <td>2.510638</td>\n",
       "      <td>4980.485438</td>\n",
       "      <td>0.347275</td>\n",
       "      <td>0.073068</td>\n",
       "    </tr>\n",
       "    <tr>\n",
       "      <th>1</th>\n",
       "      <td>300021.SZ-大禹节水-大禹节水 2022年度环境、社会及公司治理(ESG)报告-20...</td>\n",
       "      <td>300021</td>\n",
       "      <td>SZ</td>\n",
       "      <td>2022</td>\n",
       "      <td>ESG</td>\n",
       "      <td>38</td>\n",
       "      <td>219</td>\n",
       "      <td>50995.114252</td>\n",
       "      <td>5.763158</td>\n",
       "      <td>1341.976691</td>\n",
       "      <td>0.377827</td>\n",
       "      <td>0.105909</td>\n",
       "    </tr>\n",
       "    <tr>\n",
       "      <th>2</th>\n",
       "      <td>000553.SZ-安道麦A-安道麦A 2022年度环境、社会及公司治理报告-2023-07...</td>\n",
       "      <td>000553</td>\n",
       "      <td>SZ</td>\n",
       "      <td>2022</td>\n",
       "      <td>ESG</td>\n",
       "      <td>143</td>\n",
       "      <td>145</td>\n",
       "      <td>493534.342545</td>\n",
       "      <td>1.013986</td>\n",
       "      <td>3451.289109</td>\n",
       "      <td>0.185911</td>\n",
       "      <td>0.048672</td>\n",
       "    </tr>\n",
       "    <tr>\n",
       "      <th>3</th>\n",
       "      <td>600779.SH-水井坊-水井坊 水井坊2022年度环境、社会、公司治理(ESG)报告-2...</td>\n",
       "      <td>600779</td>\n",
       "      <td>SH</td>\n",
       "      <td>2022</td>\n",
       "      <td>ESG</td>\n",
       "      <td>61</td>\n",
       "      <td>87</td>\n",
       "      <td>243267.877227</td>\n",
       "      <td>1.426230</td>\n",
       "      <td>3987.997987</td>\n",
       "      <td>0.335838</td>\n",
       "      <td>0.118991</td>\n",
       "    </tr>\n",
       "    <tr>\n",
       "      <th>4</th>\n",
       "      <td>601600.SH-中国铝业-中国铝业 中国铝业2022年度社会责任暨环境、社会与管治报告-...</td>\n",
       "      <td>601600</td>\n",
       "      <td>SH</td>\n",
       "      <td>2022</td>\n",
       "      <td>ESG</td>\n",
       "      <td>92</td>\n",
       "      <td>88</td>\n",
       "      <td>188413.610568</td>\n",
       "      <td>0.956522</td>\n",
       "      <td>2047.974028</td>\n",
       "      <td>0.237009</td>\n",
       "      <td>0.107603</td>\n",
       "    </tr>\n",
       "    <tr>\n",
       "      <th>...</th>\n",
       "      <td>...</td>\n",
       "      <td>...</td>\n",
       "      <td>...</td>\n",
       "      <td>...</td>\n",
       "      <td>...</td>\n",
       "      <td>...</td>\n",
       "      <td>...</td>\n",
       "      <td>...</td>\n",
       "      <td>...</td>\n",
       "      <td>...</td>\n",
       "      <td>...</td>\n",
       "      <td>...</td>\n",
       "    </tr>\n",
       "    <tr>\n",
       "      <th>593</th>\n",
       "      <td>002506.SZ-协鑫集成-协鑫集成 协鑫集成科技股份有限公司2022年度环境、社会及管治...</td>\n",
       "      <td>002506</td>\n",
       "      <td>SZ</td>\n",
       "      <td>2022</td>\n",
       "      <td>ESG</td>\n",
       "      <td>44</td>\n",
       "      <td>100</td>\n",
       "      <td>124995.912834</td>\n",
       "      <td>2.272727</td>\n",
       "      <td>2840.816201</td>\n",
       "      <td>0.297456</td>\n",
       "      <td>0.010491</td>\n",
       "    </tr>\n",
       "    <tr>\n",
       "      <th>594</th>\n",
       "      <td>600487.SH-亨通光电-亨通光电 亨通光电2022年环境、社会及治理报告-2023-0...</td>\n",
       "      <td>600487</td>\n",
       "      <td>SH</td>\n",
       "      <td>2022</td>\n",
       "      <td>ESG</td>\n",
       "      <td>39</td>\n",
       "      <td>74</td>\n",
       "      <td>409709.302261</td>\n",
       "      <td>1.897436</td>\n",
       "      <td>10505.366725</td>\n",
       "      <td>0.362397</td>\n",
       "      <td>0.055136</td>\n",
       "    </tr>\n",
       "    <tr>\n",
       "      <th>595</th>\n",
       "      <td>600874.SH-创业环保-创业环保 创业环保2022年环境、社会及管治报告-2023-0...</td>\n",
       "      <td>600874</td>\n",
       "      <td>SH</td>\n",
       "      <td>2022</td>\n",
       "      <td>ESG</td>\n",
       "      <td>43</td>\n",
       "      <td>3</td>\n",
       "      <td>353974.728585</td>\n",
       "      <td>0.069767</td>\n",
       "      <td>8231.970432</td>\n",
       "      <td>0.159869</td>\n",
       "      <td>0.330609</td>\n",
       "    </tr>\n",
       "    <tr>\n",
       "      <th>596</th>\n",
       "      <td>601918.SH-新集能源-新集能源 新集能源2022年环境、社会和治理报告-2023-0...</td>\n",
       "      <td>601918</td>\n",
       "      <td>SH</td>\n",
       "      <td>2022</td>\n",
       "      <td>ESG</td>\n",
       "      <td>76</td>\n",
       "      <td>76</td>\n",
       "      <td>481020.231220</td>\n",
       "      <td>1.000000</td>\n",
       "      <td>6329.213569</td>\n",
       "      <td>NaN</td>\n",
       "      <td>-1.000000</td>\n",
       "    </tr>\n",
       "    <tr>\n",
       "      <th>597</th>\n",
       "      <td>002910.SZ-庄园牧场-庄园牧场 2022年度环境、社会及管治(ESG)报告-2023...</td>\n",
       "      <td>002910</td>\n",
       "      <td>SZ</td>\n",
       "      <td>2022</td>\n",
       "      <td>ESG</td>\n",
       "      <td>64</td>\n",
       "      <td>121</td>\n",
       "      <td>377612.761120</td>\n",
       "      <td>1.890625</td>\n",
       "      <td>5900.199392</td>\n",
       "      <td>0.243433</td>\n",
       "      <td>0.014112</td>\n",
       "    </tr>\n",
       "  </tbody>\n",
       "</table>\n",
       "<p>598 rows × 12 columns</p>\n",
       "</div>"
      ],
      "text/plain": [
       "                                              PDF_name Corp_code Corp_market  \\\n",
       "0    300011.SZ-鼎汉技术-鼎汉技术 2022年社会责任暨环境、社会及管治(ESG)报告-...    300011          SZ   \n",
       "1    300021.SZ-大禹节水-大禹节水 2022年度环境、社会及公司治理(ESG)报告-20...    300021          SZ   \n",
       "2    000553.SZ-安道麦A-安道麦A 2022年度环境、社会及公司治理报告-2023-07...    000553          SZ   \n",
       "3    600779.SH-水井坊-水井坊 水井坊2022年度环境、社会、公司治理(ESG)报告-2...    600779          SH   \n",
       "4    601600.SH-中国铝业-中国铝业 中国铝业2022年度社会责任暨环境、社会与管治报告-...    601600          SH   \n",
       "..                                                 ...       ...         ...   \n",
       "593  002506.SZ-协鑫集成-协鑫集成 协鑫集成科技股份有限公司2022年度环境、社会及管治...    002506          SZ   \n",
       "594  600487.SH-亨通光电-亨通光电 亨通光电2022年环境、社会及治理报告-2023-0...    600487          SH   \n",
       "595  600874.SH-创业环保-创业环保 创业环保2022年环境、社会及管治报告-2023-0...    600874          SH   \n",
       "596  601918.SH-新集能源-新集能源 新集能源2022年环境、社会和治理报告-2023-0...    601918          SH   \n",
       "597  002910.SZ-庄园牧场-庄园牧场 2022年度环境、社会及管治(ESG)报告-2023...    002910          SZ   \n",
       "\n",
       "     Pub_year Pub_type  PDF_pages  img_num   img_size_avg  \\\n",
       "0        2022      ESG         47      118  234082.815567   \n",
       "1        2022      ESG         38      219   50995.114252   \n",
       "2        2022      ESG        143      145  493534.342545   \n",
       "3        2022      ESG         61       87  243267.877227   \n",
       "4        2022      ESG         92       88  188413.610568   \n",
       "..        ...      ...        ...      ...            ...   \n",
       "593      2022      ESG         44      100  124995.912834   \n",
       "594      2022      ESG         39       74  409709.302261   \n",
       "595      2022      ESG         43        3  353974.728585   \n",
       "596      2022      ESG         76       76  481020.231220   \n",
       "597      2022      ESG         64      121  377612.761120   \n",
       "\n",
       "     img_num_pages_ratio  img_size_pages_ratio  dist_diag_ratio  word_simi_avg  \n",
       "0               2.510638           4980.485438         0.347275       0.073068  \n",
       "1               5.763158           1341.976691         0.377827       0.105909  \n",
       "2               1.013986           3451.289109         0.185911       0.048672  \n",
       "3               1.426230           3987.997987         0.335838       0.118991  \n",
       "4               0.956522           2047.974028         0.237009       0.107603  \n",
       "..                   ...                   ...              ...            ...  \n",
       "593             2.272727           2840.816201         0.297456       0.010491  \n",
       "594             1.897436          10505.366725         0.362397       0.055136  \n",
       "595             0.069767           8231.970432         0.159869       0.330609  \n",
       "596             1.000000           6329.213569              NaN      -1.000000  \n",
       "597             1.890625           5900.199392         0.243433       0.014112  \n",
       "\n",
       "[598 rows x 12 columns]"
      ]
     },
     "execution_count": 105,
     "metadata": {},
     "output_type": "execute_result"
    }
   ],
   "source": [
    "get_df_PDF(\"/Users/improvise/Desktop/保研/实证论文/ESG/Playground/03_TextImgMatch/distance/ESG_2022_distance.xlsx\",\n",
    "          \"/Users/improvise/Desktop/保研/实证论文/ESG/Playground/00_DataBase/01_ESGReport_PDF/2022\",\n",
    "          2022, \"ESG\")"
   ]
  },
  {
   "cell_type": "markdown",
   "id": "a4eb97ec",
   "metadata": {},
   "source": [
    "# 合并df_PDF"
   ]
  },
  {
   "cell_type": "code",
   "execution_count": 106,
   "id": "b2907749",
   "metadata": {
    "ExecuteTime": {
     "end_time": "2024-01-13T08:24:01.592259Z",
     "start_time": "2024-01-13T08:24:01.263308Z"
    }
   },
   "outputs": [],
   "source": [
    "df_PDF_SUS_2020 = pd.read_excel(\"/Users/improvise/Desktop/保研/实证论文/ESG/Playground/05_DataIntegration2/00_separate/df_PDF_SUS_2020.xlsx\")\n",
    "df_PDF_SUS_2021 = pd.read_excel(\"/Users/improvise/Desktop/保研/实证论文/ESG/Playground/05_DataIntegration2/00_separate/df_PDF_SUS_2021.xlsx\")\n",
    "df_PDF_SUS_2022 = pd.read_excel(\"/Users/improvise/Desktop/保研/实证论文/ESG/Playground/05_DataIntegration2/00_separate/df_PDF_SUS_2022.xlsx\")\n",
    "df_PDF_ESG_2020 = pd.read_excel(\"/Users/improvise/Desktop/保研/实证论文/ESG/Playground/05_DataIntegration2/00_separate/df_PDF_ESG_2020.xlsx\")\n",
    "df_PDF_ESG_2021 = pd.read_excel(\"/Users/improvise/Desktop/保研/实证论文/ESG/Playground/05_DataIntegration2/00_separate/df_PDF_ESG_2021.xlsx\")\n",
    "df_PDF_ESG_2022 = pd.read_excel(\"/Users/improvise/Desktop/保研/实证论文/ESG/Playground/05_DataIntegration2/00_separate/df_PDF_ESG_2022.xlsx\")\n",
    "\n",
    "df_PDF_main = pd.concat([df_PDF_ESG_2020, df_PDF_ESG_2021, df_PDF_ESG_2022, \n",
    "                         df_PDF_SUS_2020, df_PDF_SUS_2021, df_PDF_SUS_2022])\n",
    "df_PDF_main = df_PDF_main.drop('Unnamed: 0', axis=1)\n",
    "\n",
    "# 保存df\n",
    "df_PDF_main.to_excel(\"/Users/improvise/Desktop/保研/实证论文/ESG/Playground/05_DataIntegration2/df_PDF_main.xlsx\",\n",
    "                    index=False)"
   ]
  },
  {
   "cell_type": "markdown",
   "id": "5d81c756",
   "metadata": {},
   "source": [
    "# 读取PDF"
   ]
  },
  {
   "cell_type": "code",
   "execution_count": 37,
   "id": "8c729491",
   "metadata": {
    "ExecuteTime": {
     "end_time": "2023-12-29T07:13:24.027043Z",
     "start_time": "2023-12-29T07:13:23.908001Z"
    }
   },
   "outputs": [
    {
     "name": "stdout",
     "output_type": "stream",
     "text": [
      "<class 'pandas.core.frame.DataFrame'>\n",
      "RangeIndex: 1046 entries, 0 to 1045\n",
      "Data columns (total 11 columns):\n",
      " #   Column                Non-Null Count  Dtype  \n",
      "---  ------                --------------  -----  \n",
      " 0   PDF_name              1046 non-null   object \n",
      " 1   Corp_code             1046 non-null   object \n",
      " 2   Corp_market           1046 non-null   object \n",
      " 3   Pub_year              1046 non-null   int64  \n",
      " 4   Pub_type              1046 non-null   object \n",
      " 5   PDF_pages             1046 non-null   int64  \n",
      " 6   img_num               1046 non-null   int64  \n",
      " 7   img_size_avg          1046 non-null   float64\n",
      " 8   img_num_pages_ratio   1046 non-null   float64\n",
      " 9   img_size_pages_ratio  1046 non-null   float64\n",
      " 10  dist_diag_ratio       961 non-null    float64\n",
      "dtypes: float64(4), int64(3), object(4)\n",
      "memory usage: 90.0+ KB\n"
     ]
    }
   ],
   "source": [
    "df_PDF_main = pd.read_excel(\"/Users/improvise/Desktop/保研/实证论文/ESG/Playground/04_DataIntegration/df_PDF_main.xlsx\",\n",
    "                           dtype={'Corp_code': str})\n",
    "df_PDF_main.info()"
   ]
  },
  {
   "cell_type": "code",
   "execution_count": 83,
   "id": "e461d177",
   "metadata": {
    "ExecuteTime": {
     "end_time": "2024-01-13T08:11:08.552718Z",
     "start_time": "2024-01-13T08:11:08.491855Z"
    }
   },
   "outputs": [],
   "source": [
    "# 补全股票代码\n",
    "df_PDF_main['Corp_code'] = df_PDF_main['Corp_code'].astype(str)\n",
    "df_PDF_main['Corp_code'] = df_PDF_main.Corp_code.apply(lambda x: f'{\"0\"*(6-len(x))}{x}' if len(x)<6 else x)"
   ]
  },
  {
   "cell_type": "code",
   "execution_count": 84,
   "id": "17b1fdc8",
   "metadata": {
    "ExecuteTime": {
     "end_time": "2024-01-13T08:11:11.667324Z",
     "start_time": "2024-01-13T08:11:11.609007Z"
    }
   },
   "outputs": [],
   "source": [
    "# 创建上市公司名字\n",
    "df_PDF_main['Corp_name'] = df_PDF_main['PDF_name'].apply(lambda x: x.split('-')[1])"
   ]
  },
  {
   "cell_type": "markdown",
   "id": "8559204e",
   "metadata": {},
   "source": [
    "# 企业行业类型导入"
   ]
  },
  {
   "cell_type": "code",
   "execution_count": 85,
   "id": "10d59d52",
   "metadata": {
    "ExecuteTime": {
     "end_time": "2024-01-13T08:11:18.330158Z",
     "start_time": "2024-01-13T08:11:18.287480Z"
    }
   },
   "outputs": [
    {
     "data": {
      "text/html": [
       "<div>\n",
       "<style scoped>\n",
       "    .dataframe tbody tr th:only-of-type {\n",
       "        vertical-align: middle;\n",
       "    }\n",
       "\n",
       "    .dataframe tbody tr th {\n",
       "        vertical-align: top;\n",
       "    }\n",
       "\n",
       "    .dataframe thead th {\n",
       "        text-align: right;\n",
       "    }\n",
       "</style>\n",
       "<table border=\"1\" class=\"dataframe\">\n",
       "  <thead>\n",
       "    <tr style=\"text-align: right;\">\n",
       "      <th></th>\n",
       "      <th>类目编码</th>\n",
       "      <th>类目名称</th>\n",
       "      <th>终止日期</th>\n",
       "      <th>行业类型</th>\n",
       "      <th>行业类型编码</th>\n",
       "      <th>类目名称英文</th>\n",
       "      <th>父类编码</th>\n",
       "      <th>分级</th>\n",
       "    </tr>\n",
       "  </thead>\n",
       "  <tbody>\n",
       "    <tr>\n",
       "      <th>0</th>\n",
       "      <td>0</td>\n",
       "      <td>证监会行业分类</td>\n",
       "      <td>NaN</td>\n",
       "      <td>证监会行业分类标准</td>\n",
       "      <td>8001</td>\n",
       "      <td>CSRC Industry Classification</td>\n",
       "      <td>008</td>\n",
       "      <td>0</td>\n",
       "    </tr>\n",
       "    <tr>\n",
       "      <th>1</th>\n",
       "      <td>A</td>\n",
       "      <td>农、林、牧、渔业</td>\n",
       "      <td>NaN</td>\n",
       "      <td>证监会行业分类标准</td>\n",
       "      <td>8001</td>\n",
       "      <td>Agriculture</td>\n",
       "      <td>0</td>\n",
       "      <td>0</td>\n",
       "    </tr>\n",
       "    <tr>\n",
       "      <th>2</th>\n",
       "      <td>A01</td>\n",
       "      <td>农业</td>\n",
       "      <td>NaN</td>\n",
       "      <td>证监会行业分类标准</td>\n",
       "      <td>8001</td>\n",
       "      <td>Agriculture</td>\n",
       "      <td>A</td>\n",
       "      <td>1</td>\n",
       "    </tr>\n",
       "    <tr>\n",
       "      <th>3</th>\n",
       "      <td>A02</td>\n",
       "      <td>林业</td>\n",
       "      <td>NaN</td>\n",
       "      <td>证监会行业分类标准</td>\n",
       "      <td>8001</td>\n",
       "      <td>Forestry</td>\n",
       "      <td>A</td>\n",
       "      <td>1</td>\n",
       "    </tr>\n",
       "    <tr>\n",
       "      <th>4</th>\n",
       "      <td>A03</td>\n",
       "      <td>畜牧业</td>\n",
       "      <td>NaN</td>\n",
       "      <td>证监会行业分类标准</td>\n",
       "      <td>8001</td>\n",
       "      <td>Animal Husbandry</td>\n",
       "      <td>A</td>\n",
       "      <td>1</td>\n",
       "    </tr>\n",
       "    <tr>\n",
       "      <th>...</th>\n",
       "      <td>...</td>\n",
       "      <td>...</td>\n",
       "      <td>...</td>\n",
       "      <td>...</td>\n",
       "      <td>...</td>\n",
       "      <td>...</td>\n",
       "      <td>...</td>\n",
       "      <td>...</td>\n",
       "    </tr>\n",
       "    <tr>\n",
       "      <th>105</th>\n",
       "      <td>R87</td>\n",
       "      <td>文化艺术业</td>\n",
       "      <td>NaN</td>\n",
       "      <td>证监会行业分类标准</td>\n",
       "      <td>8001</td>\n",
       "      <td>Culture and Art</td>\n",
       "      <td>R</td>\n",
       "      <td>1</td>\n",
       "    </tr>\n",
       "    <tr>\n",
       "      <th>106</th>\n",
       "      <td>R88</td>\n",
       "      <td>体育</td>\n",
       "      <td>NaN</td>\n",
       "      <td>证监会行业分类标准</td>\n",
       "      <td>8001</td>\n",
       "      <td>Sports</td>\n",
       "      <td>R</td>\n",
       "      <td>1</td>\n",
       "    </tr>\n",
       "    <tr>\n",
       "      <th>107</th>\n",
       "      <td>R89</td>\n",
       "      <td>娱乐业</td>\n",
       "      <td>NaN</td>\n",
       "      <td>证监会行业分类标准</td>\n",
       "      <td>8001</td>\n",
       "      <td>Entertainment</td>\n",
       "      <td>R</td>\n",
       "      <td>1</td>\n",
       "    </tr>\n",
       "    <tr>\n",
       "      <th>108</th>\n",
       "      <td>S</td>\n",
       "      <td>综合</td>\n",
       "      <td>NaN</td>\n",
       "      <td>证监会行业分类标准</td>\n",
       "      <td>8001</td>\n",
       "      <td>Conglomerates</td>\n",
       "      <td>0</td>\n",
       "      <td>0</td>\n",
       "    </tr>\n",
       "    <tr>\n",
       "      <th>109</th>\n",
       "      <td>S90</td>\n",
       "      <td>综合</td>\n",
       "      <td>NaN</td>\n",
       "      <td>证监会行业分类标准</td>\n",
       "      <td>8001</td>\n",
       "      <td>Conglomerates</td>\n",
       "      <td>S</td>\n",
       "      <td>1</td>\n",
       "    </tr>\n",
       "  </tbody>\n",
       "</table>\n",
       "<p>110 rows × 8 columns</p>\n",
       "</div>"
      ],
      "text/plain": [
       "    类目编码      类目名称  终止日期       行业类型  行业类型编码                        类目名称英文  \\\n",
       "0      0   证监会行业分类   NaN  证监会行业分类标准    8001  CSRC Industry Classification   \n",
       "1      A  农、林、牧、渔业   NaN  证监会行业分类标准    8001                   Agriculture   \n",
       "2    A01        农业   NaN  证监会行业分类标准    8001                   Agriculture   \n",
       "3    A02        林业   NaN  证监会行业分类标准    8001                      Forestry   \n",
       "4    A03       畜牧业   NaN  证监会行业分类标准    8001              Animal Husbandry   \n",
       "..   ...       ...   ...        ...     ...                           ...   \n",
       "105  R87     文化艺术业   NaN  证监会行业分类标准    8001               Culture and Art   \n",
       "106  R88        体育   NaN  证监会行业分类标准    8001                        Sports   \n",
       "107  R89       娱乐业   NaN  证监会行业分类标准    8001                 Entertainment   \n",
       "108    S        综合   NaN  证监会行业分类标准    8001                 Conglomerates   \n",
       "109  S90        综合   NaN  证监会行业分类标准    8001                 Conglomerates   \n",
       "\n",
       "    父类编码  分级  \n",
       "0    008   0  \n",
       "1      0   0  \n",
       "2      A   1  \n",
       "3      A   1  \n",
       "4      A   1  \n",
       "..   ...  ..  \n",
       "105    R   1  \n",
       "106    R   1  \n",
       "107    R   1  \n",
       "108    0   0  \n",
       "109    S   1  \n",
       "\n",
       "[110 rows x 8 columns]"
      ]
     },
     "execution_count": 85,
     "metadata": {},
     "output_type": "execute_result"
    }
   ],
   "source": [
    "stock_industry_category_cninfo_df = pd.read_excel(\"/Users/improvise/Desktop/保研/实证论文/ESG/Playground/00_DataBase/02_Stock/证监会行业分类标准.xlsx\")\n",
    "\n",
    "if 'Unnamed: 0' in stock_industry_category_cninfo_df.columns:\n",
    "    stock_industry_category_cninfo_df = stock_industry_category_cninfo_df.drop('Unnamed: 0', axis=1)\n",
    "    \n",
    "stock_industry_category_cninfo_df"
   ]
  },
  {
   "cell_type": "code",
   "execution_count": 86,
   "id": "ff74e3f0",
   "metadata": {
    "ExecuteTime": {
     "end_time": "2024-01-13T08:11:21.044111Z",
     "start_time": "2024-01-13T08:11:21.038486Z"
    }
   },
   "outputs": [],
   "source": [
    "def industry_info(corp_code, stock_industry_category_cninfo_df=stock_industry_category_cninfo_df):\n",
    "    if len(str(corp_code)) == 6:\n",
    "        industry_name_list = ak.stock_profile_cninfo(symbol=str(corp_code))['所属行业'].values.tolist()\n",
    "        if len(industry_name_list) != 0:\n",
    "            industry_name = industry_name_list[0]\n",
    "            industry_code = stock_industry_category_cninfo_df[stock_industry_category_cninfo_df['类目名称'] == industry_name]['类目编码'].values.tolist()[-1]\n",
    "        \n",
    "            return industry_code\n",
    "        else:\n",
    "            print(f'ZeroInfoError: corp_code {corp_code} has no info.')\n",
    "            return None\n",
    "    else:\n",
    "        print(f'Unregularized corp_code found: {corp_code}')\n",
    "        return None"
   ]
  },
  {
   "cell_type": "markdown",
   "id": "024241f3",
   "metadata": {},
   "source": [
    "## 虚拟变量：污染行业和垄断行业"
   ]
  },
  {
   "cell_type": "code",
   "execution_count": 43,
   "id": "23019a1f",
   "metadata": {
    "ExecuteTime": {
     "end_time": "2023-12-29T07:16:45.184320Z",
     "start_time": "2023-12-29T07:16:45.177426Z"
    }
   },
   "outputs": [],
   "source": [
    "def polluting_industry(corp_industry_code, poll_list = ['C25', 'C26', 'C28', 'C31', 'C32', 'C33']):\n",
    "    \"\"\"\n",
    "    Return True if corp in polluting industry else False.\n",
    "    \"\"\"\n",
    "    return corp_industry_code in poll_list\n",
    "\n",
    "def monopoly_industry(corp_industry_code, mono_list = ['D44', 'D45', 'D46']):\n",
    "    \"\"\"\n",
    "    Return True if corp in monopolistic industry else False.\n",
    "    \"\"\"\n",
    "    return corp_industry_code in mono_list"
   ]
  },
  {
   "cell_type": "code",
   "execution_count": 44,
   "id": "2147d90f",
   "metadata": {
    "ExecuteTime": {
     "end_time": "2023-12-29T07:16:45.193841Z",
     "start_time": "2023-12-29T07:16:45.187600Z"
    }
   },
   "outputs": [],
   "source": [
    "df_PDF_main['Mono_idst'] = df_PDF_main['Corp_industry_code'].apply(monopoly_industry)\n",
    "df_PDF_main['Poll_idst'] = df_PDF_main['Corp_industry_code'].apply(polluting_industry)"
   ]
  },
  {
   "cell_type": "code",
   "execution_count": 46,
   "id": "31204e49",
   "metadata": {
    "ExecuteTime": {
     "end_time": "2023-12-29T07:25:43.486875Z",
     "start_time": "2023-12-29T07:25:43.324266Z"
    }
   },
   "outputs": [],
   "source": [
    "# df_PDF_main.to_excel(\"/Users/improvise/Desktop/保研/实证论文/ESG/Playground/04_DataIntegration/df_PDF_main2.xlsx\")"
   ]
  },
  {
   "cell_type": "code",
   "execution_count": 48,
   "id": "8393b990",
   "metadata": {
    "ExecuteTime": {
     "end_time": "2023-12-29T07:38:31.897961Z",
     "start_time": "2023-12-29T07:38:31.884041Z"
    }
   },
   "outputs": [],
   "source": [
    "df_PDF_main = df_PDF_main[['PDF_name', 'Corp_code', 'Corp_name', 'Corp_market', 'Pub_year', 'Pub_type',\n",
    "       'PDF_pages', 'img_num', 'img_size_avg', 'img_num_pages_ratio',\n",
    "       'img_size_pages_ratio', 'dist_diag_ratio', \n",
    "       'Corp_industry_code', 'Mono_idst', 'Poll_idst']]"
   ]
  },
  {
   "cell_type": "code",
   "execution_count": 49,
   "id": "5ec3823e",
   "metadata": {
    "ExecuteTime": {
     "end_time": "2023-12-29T07:38:39.688220Z",
     "start_time": "2023-12-29T07:38:39.666444Z"
    }
   },
   "outputs": [
    {
     "data": {
      "text/html": [
       "<div>\n",
       "<style scoped>\n",
       "    .dataframe tbody tr th:only-of-type {\n",
       "        vertical-align: middle;\n",
       "    }\n",
       "\n",
       "    .dataframe tbody tr th {\n",
       "        vertical-align: top;\n",
       "    }\n",
       "\n",
       "    .dataframe thead th {\n",
       "        text-align: right;\n",
       "    }\n",
       "</style>\n",
       "<table border=\"1\" class=\"dataframe\">\n",
       "  <thead>\n",
       "    <tr style=\"text-align: right;\">\n",
       "      <th></th>\n",
       "      <th>PDF_name</th>\n",
       "      <th>Corp_code</th>\n",
       "      <th>Corp_name</th>\n",
       "      <th>Corp_market</th>\n",
       "      <th>Pub_year</th>\n",
       "      <th>Pub_type</th>\n",
       "      <th>PDF_pages</th>\n",
       "      <th>img_num</th>\n",
       "      <th>img_size_avg</th>\n",
       "      <th>img_num_pages_ratio</th>\n",
       "      <th>img_size_pages_ratio</th>\n",
       "      <th>dist_diag_ratio</th>\n",
       "      <th>Corp_industry_code</th>\n",
       "      <th>Mono_idst</th>\n",
       "      <th>Poll_idst</th>\n",
       "    </tr>\n",
       "  </thead>\n",
       "  <tbody>\n",
       "    <tr>\n",
       "      <th>0</th>\n",
       "      <td>601066.SH-中信建投-2020年度社会责任暨环境、社会与管治报告-2021-04-0...</td>\n",
       "      <td>601066</td>\n",
       "      <td>中信建投</td>\n",
       "      <td>SH</td>\n",
       "      <td>2020</td>\n",
       "      <td>ESG</td>\n",
       "      <td>76</td>\n",
       "      <td>9</td>\n",
       "      <td>42387.210437</td>\n",
       "      <td>0.118421</td>\n",
       "      <td>557.726453</td>\n",
       "      <td>0.350460</td>\n",
       "      <td>J67</td>\n",
       "      <td>False</td>\n",
       "      <td>False</td>\n",
       "    </tr>\n",
       "    <tr>\n",
       "      <th>1</th>\n",
       "      <td>600803.SH-新奥股份-新奥天然气股份有限公司2020年度环境、社会及管治报告(中文版...</td>\n",
       "      <td>600803</td>\n",
       "      <td>新奥股份</td>\n",
       "      <td>SH</td>\n",
       "      <td>2020</td>\n",
       "      <td>ESG</td>\n",
       "      <td>44</td>\n",
       "      <td>153</td>\n",
       "      <td>128895.980539</td>\n",
       "      <td>3.477273</td>\n",
       "      <td>2929.454103</td>\n",
       "      <td>0.333972</td>\n",
       "      <td>D45</td>\n",
       "      <td>True</td>\n",
       "      <td>False</td>\n",
       "    </tr>\n",
       "    <tr>\n",
       "      <th>2</th>\n",
       "      <td>600600.SH-青岛啤酒-环境、社会及管治报告-2021-03-29.pdf</td>\n",
       "      <td>600600</td>\n",
       "      <td>青岛啤酒</td>\n",
       "      <td>SH</td>\n",
       "      <td>2020</td>\n",
       "      <td>ESG</td>\n",
       "      <td>32</td>\n",
       "      <td>99</td>\n",
       "      <td>125883.408804</td>\n",
       "      <td>3.093750</td>\n",
       "      <td>3933.856525</td>\n",
       "      <td>0.340635</td>\n",
       "      <td>C15</td>\n",
       "      <td>False</td>\n",
       "      <td>False</td>\n",
       "    </tr>\n",
       "    <tr>\n",
       "      <th>3</th>\n",
       "      <td>300759.SZ-康龙化成-康龙化成 2020年度社会责任暨环境、社会及管治报告-2021...</td>\n",
       "      <td>300759</td>\n",
       "      <td>康龙化成</td>\n",
       "      <td>SZ</td>\n",
       "      <td>2020</td>\n",
       "      <td>ESG</td>\n",
       "      <td>28</td>\n",
       "      <td>25</td>\n",
       "      <td>27196.530652</td>\n",
       "      <td>0.892857</td>\n",
       "      <td>971.304666</td>\n",
       "      <td>0.273792</td>\n",
       "      <td>M73</td>\n",
       "      <td>False</td>\n",
       "      <td>False</td>\n",
       "    </tr>\n",
       "    <tr>\n",
       "      <th>4</th>\n",
       "      <td>002242.SZ-九阳股份-九阳股份 2020年环境、社会及管治报告-2021-06-11...</td>\n",
       "      <td>002242</td>\n",
       "      <td>九阳股份</td>\n",
       "      <td>SZ</td>\n",
       "      <td>2020</td>\n",
       "      <td>ESG</td>\n",
       "      <td>51</td>\n",
       "      <td>52</td>\n",
       "      <td>61956.921173</td>\n",
       "      <td>1.019608</td>\n",
       "      <td>1214.841592</td>\n",
       "      <td>0.212756</td>\n",
       "      <td>C38</td>\n",
       "      <td>False</td>\n",
       "      <td>False</td>\n",
       "    </tr>\n",
       "    <tr>\n",
       "      <th>...</th>\n",
       "      <td>...</td>\n",
       "      <td>...</td>\n",
       "      <td>...</td>\n",
       "      <td>...</td>\n",
       "      <td>...</td>\n",
       "      <td>...</td>\n",
       "      <td>...</td>\n",
       "      <td>...</td>\n",
       "      <td>...</td>\n",
       "      <td>...</td>\n",
       "      <td>...</td>\n",
       "      <td>...</td>\n",
       "      <td>...</td>\n",
       "      <td>...</td>\n",
       "      <td>...</td>\n",
       "    </tr>\n",
       "    <tr>\n",
       "      <th>1041</th>\n",
       "      <td>600201.SH-生物股份-生物股份 金宇生物技术股份有限公司2022年年度可持续发展报告...</td>\n",
       "      <td>600201</td>\n",
       "      <td>生物股份</td>\n",
       "      <td>SH</td>\n",
       "      <td>2022</td>\n",
       "      <td>SUS</td>\n",
       "      <td>36</td>\n",
       "      <td>35</td>\n",
       "      <td>102463.497340</td>\n",
       "      <td>0.972222</td>\n",
       "      <td>2846.208259</td>\n",
       "      <td>0.319214</td>\n",
       "      <td>C27</td>\n",
       "      <td>False</td>\n",
       "      <td>False</td>\n",
       "    </tr>\n",
       "    <tr>\n",
       "      <th>1042</th>\n",
       "      <td>600588.SH-用友网络-用友网络 用友网络2022年度可持续发展(ESG)报告-202...</td>\n",
       "      <td>600588</td>\n",
       "      <td>用友网络</td>\n",
       "      <td>SH</td>\n",
       "      <td>2022</td>\n",
       "      <td>SUS</td>\n",
       "      <td>33</td>\n",
       "      <td>31</td>\n",
       "      <td>109075.470388</td>\n",
       "      <td>0.939394</td>\n",
       "      <td>3305.317284</td>\n",
       "      <td>0.252490</td>\n",
       "      <td>I65</td>\n",
       "      <td>False</td>\n",
       "      <td>False</td>\n",
       "    </tr>\n",
       "    <tr>\n",
       "      <th>1043</th>\n",
       "      <td>600989.SH-宝丰能源-宝丰能源 宁夏宝丰能源集团股份有限公司2022年可持续发展报告...</td>\n",
       "      <td>600989</td>\n",
       "      <td>宝丰能源</td>\n",
       "      <td>SH</td>\n",
       "      <td>2022</td>\n",
       "      <td>SUS</td>\n",
       "      <td>35</td>\n",
       "      <td>58</td>\n",
       "      <td>199669.598451</td>\n",
       "      <td>1.657143</td>\n",
       "      <td>5704.845670</td>\n",
       "      <td>0.291486</td>\n",
       "      <td>C26</td>\n",
       "      <td>False</td>\n",
       "      <td>True</td>\n",
       "    </tr>\n",
       "    <tr>\n",
       "      <th>1044</th>\n",
       "      <td>600019.SH-宝钢股份-宝钢股份 宝山钢铁股份有限公司2022年度可持续发展报告-20...</td>\n",
       "      <td>600019</td>\n",
       "      <td>宝钢股份</td>\n",
       "      <td>SH</td>\n",
       "      <td>2022</td>\n",
       "      <td>SUS</td>\n",
       "      <td>73</td>\n",
       "      <td>227</td>\n",
       "      <td>157117.564714</td>\n",
       "      <td>3.109589</td>\n",
       "      <td>2152.295407</td>\n",
       "      <td>0.292533</td>\n",
       "      <td>C31</td>\n",
       "      <td>False</td>\n",
       "      <td>True</td>\n",
       "    </tr>\n",
       "    <tr>\n",
       "      <th>1045</th>\n",
       "      <td>600356.SH-恒丰纸业-恒丰纸业 恒丰纸业2022可持续发展报告-2023-03-15...</td>\n",
       "      <td>600356</td>\n",
       "      <td>恒丰纸业</td>\n",
       "      <td>SH</td>\n",
       "      <td>2022</td>\n",
       "      <td>SUS</td>\n",
       "      <td>40</td>\n",
       "      <td>118</td>\n",
       "      <td>133293.581823</td>\n",
       "      <td>2.950000</td>\n",
       "      <td>3332.339546</td>\n",
       "      <td>0.333423</td>\n",
       "      <td>C22</td>\n",
       "      <td>False</td>\n",
       "      <td>False</td>\n",
       "    </tr>\n",
       "  </tbody>\n",
       "</table>\n",
       "<p>1046 rows × 15 columns</p>\n",
       "</div>"
      ],
      "text/plain": [
       "                                               PDF_name Corp_code Corp_name  \\\n",
       "0     601066.SH-中信建投-2020年度社会责任暨环境、社会与管治报告-2021-04-0...    601066      中信建投   \n",
       "1     600803.SH-新奥股份-新奥天然气股份有限公司2020年度环境、社会及管治报告(中文版...    600803      新奥股份   \n",
       "2              600600.SH-青岛啤酒-环境、社会及管治报告-2021-03-29.pdf    600600      青岛啤酒   \n",
       "3     300759.SZ-康龙化成-康龙化成 2020年度社会责任暨环境、社会及管治报告-2021...    300759      康龙化成   \n",
       "4     002242.SZ-九阳股份-九阳股份 2020年环境、社会及管治报告-2021-06-11...    002242      九阳股份   \n",
       "...                                                 ...       ...       ...   \n",
       "1041  600201.SH-生物股份-生物股份 金宇生物技术股份有限公司2022年年度可持续发展报告...    600201      生物股份   \n",
       "1042  600588.SH-用友网络-用友网络 用友网络2022年度可持续发展(ESG)报告-202...    600588      用友网络   \n",
       "1043  600989.SH-宝丰能源-宝丰能源 宁夏宝丰能源集团股份有限公司2022年可持续发展报告...    600989      宝丰能源   \n",
       "1044  600019.SH-宝钢股份-宝钢股份 宝山钢铁股份有限公司2022年度可持续发展报告-20...    600019      宝钢股份   \n",
       "1045  600356.SH-恒丰纸业-恒丰纸业 恒丰纸业2022可持续发展报告-2023-03-15...    600356      恒丰纸业   \n",
       "\n",
       "     Corp_market  Pub_year Pub_type  PDF_pages  img_num   img_size_avg  \\\n",
       "0             SH      2020      ESG         76        9   42387.210437   \n",
       "1             SH      2020      ESG         44      153  128895.980539   \n",
       "2             SH      2020      ESG         32       99  125883.408804   \n",
       "3             SZ      2020      ESG         28       25   27196.530652   \n",
       "4             SZ      2020      ESG         51       52   61956.921173   \n",
       "...          ...       ...      ...        ...      ...            ...   \n",
       "1041          SH      2022      SUS         36       35  102463.497340   \n",
       "1042          SH      2022      SUS         33       31  109075.470388   \n",
       "1043          SH      2022      SUS         35       58  199669.598451   \n",
       "1044          SH      2022      SUS         73      227  157117.564714   \n",
       "1045          SH      2022      SUS         40      118  133293.581823   \n",
       "\n",
       "      img_num_pages_ratio  img_size_pages_ratio  dist_diag_ratio  \\\n",
       "0                0.118421            557.726453         0.350460   \n",
       "1                3.477273           2929.454103         0.333972   \n",
       "2                3.093750           3933.856525         0.340635   \n",
       "3                0.892857            971.304666         0.273792   \n",
       "4                1.019608           1214.841592         0.212756   \n",
       "...                   ...                   ...              ...   \n",
       "1041             0.972222           2846.208259         0.319214   \n",
       "1042             0.939394           3305.317284         0.252490   \n",
       "1043             1.657143           5704.845670         0.291486   \n",
       "1044             3.109589           2152.295407         0.292533   \n",
       "1045             2.950000           3332.339546         0.333423   \n",
       "\n",
       "     Corp_industry_code  Mono_idst  Poll_idst  \n",
       "0                   J67      False      False  \n",
       "1                   D45       True      False  \n",
       "2                   C15      False      False  \n",
       "3                   M73      False      False  \n",
       "4                   C38      False      False  \n",
       "...                 ...        ...        ...  \n",
       "1041                C27      False      False  \n",
       "1042                I65      False      False  \n",
       "1043                C26      False       True  \n",
       "1044                C31      False       True  \n",
       "1045                C22      False      False  \n",
       "\n",
       "[1046 rows x 15 columns]"
      ]
     },
     "execution_count": 49,
     "metadata": {},
     "output_type": "execute_result"
    }
   ],
   "source": [
    "df_PDF_main"
   ]
  },
  {
   "cell_type": "markdown",
   "id": "b55cda19",
   "metadata": {},
   "source": [
    "# 财务数据\n",
    "ROA，ROE，成立时长，总资产，专利数\n",
    "## 专利数数据来源\n",
    "https://bbs.pinggu.org/thread-11541330-1-1.html"
   ]
  },
  {
   "cell_type": "code",
   "execution_count": 66,
   "id": "5740b440",
   "metadata": {
    "ExecuteTime": {
     "end_time": "2023-12-29T07:54:27.314115Z",
     "start_time": "2023-12-29T07:54:24.185983Z"
    },
    "collapsed": true,
    "jupyter": {
     "outputs_hidden": true
    }
   },
   "outputs": [
    {
     "name": "stdout",
     "output_type": "stream",
     "text": [
      "<class 'pandas.core.frame.DataFrame'>\n",
      "Int64Index: 15354 entries, 0 to 5092\n",
      "Data columns (total 16 columns):\n",
      " #   Column    Non-Null Count  Dtype         \n",
      "---  ------    --------------  -----         \n",
      " 0   序号        15354 non-null  int64         \n",
      " 1   股票代码      15354 non-null  object        \n",
      " 2   股票简称      15354 non-null  object        \n",
      " 3   资产-货币资金   15228 non-null  float64       \n",
      " 4   资产-应收账款   15146 non-null  float64       \n",
      " 5   资产-存货     14848 non-null  float64       \n",
      " 6   资产-总资产    15354 non-null  float64       \n",
      " 7   资产-总资产同比  15354 non-null  float64       \n",
      " 8   负债-应付账款   15190 non-null  float64       \n",
      " 9   负债-预收账款   4685 non-null   float64       \n",
      " 10  负债-总负债    15354 non-null  float64       \n",
      " 11  负债-总负债同比  15354 non-null  float64       \n",
      " 12  资产负债率     15354 non-null  float64       \n",
      " 13  股东权益合计    15354 non-null  float64       \n",
      " 14  公告日期      15354 non-null  datetime64[ns]\n",
      " 15  所属年份      15354 non-null  object        \n",
      "dtypes: datetime64[ns](1), float64(11), int64(1), object(3)\n",
      "memory usage: 2.0+ MB\n",
      "<class 'pandas.core.frame.DataFrame'>\n",
      "Int64Index: 15382 entries, 0 to 5120\n",
      "Data columns (total 16 columns):\n",
      " #   Column       Non-Null Count  Dtype         \n",
      "---  ------       --------------  -----         \n",
      " 0   序号           15382 non-null  int64         \n",
      " 1   股票代码         15382 non-null  object        \n",
      " 2   股票简称         15382 non-null  object        \n",
      " 3   净利润          15382 non-null  float64       \n",
      " 4   净利润同比        15382 non-null  float64       \n",
      " 5   营业总收入        15376 non-null  float64       \n",
      " 6   营业总收入同比      15368 non-null  float64       \n",
      " 7   营业总支出-营业支出   15064 non-null  float64       \n",
      " 8   营业总支出-销售费用   14855 non-null  float64       \n",
      " 9   营业总支出-管理费用   15364 non-null  float64       \n",
      " 10  营业总支出-财务费用   15080 non-null  float64       \n",
      " 11  营业总支出-营业总支出  15382 non-null  float64       \n",
      " 12  营业利润         15382 non-null  float64       \n",
      " 13  利润总额         15382 non-null  float64       \n",
      " 14  公告日期         15382 non-null  datetime64[ns]\n",
      " 15  所属年份         15382 non-null  object        \n",
      "dtypes: datetime64[ns](1), float64(11), int64(1), object(3)\n",
      "memory usage: 2.0+ MB\n"
     ]
    },
    {
     "data": {
      "text/plain": [
       "(None, None)"
      ]
     },
     "execution_count": 66,
     "metadata": {},
     "output_type": "execute_result"
    }
   ],
   "source": [
    "BalanceSheet_2020 = pd.read_excel(\"/Users/improvise/Desktop/保研/实证论文/ESG/Playground/00_DataBase/02_Stock/A股资产负债表2020.xlsx\",\n",
    "                                 dtype={'股票代码': str})\n",
    "BalanceSheet_2020['所属年份'] = '2020'\n",
    "BalanceSheet_2021 = pd.read_excel(\"/Users/improvise/Desktop/保研/实证论文/ESG/Playground/00_DataBase/02_Stock/A股资产负债表2021.xlsx\",\n",
    "                                 dtype={'股票代码': str})\n",
    "BalanceSheet_2021['所属年份'] = '2021'\n",
    "BalanceSheet_2022 = pd.read_excel(\"/Users/improvise/Desktop/保研/实证论文/ESG/Playground/00_DataBase/02_Stock/A股资产负债表2022.xlsx\",\n",
    "                                 dtype={'股票代码': str})\n",
    "BalanceSheet_2022['所属年份'] = '2022'\n",
    "BalanceSheet = pd.concat([BalanceSheet_2020, BalanceSheet_2021, BalanceSheet_2022])\n",
    "BalanceSheet = BalanceSheet.drop(\"Unnamed: 0\", axis=1)\n",
    "# 补全股票代码\n",
    "BalanceSheet['股票代码'] = BalanceSheet['股票代码'].apply(lambda x: f'{\"0\"*(6-len(x))}{x}' if len(x)<6 else x)\n",
    "\n",
    "ProfitLost_2020 = pd.read_excel(\"/Users/improvise/Desktop/保研/实证论文/ESG/Playground/00_DataBase/02_Stock/A股利润表2020.xlsx\",\n",
    "                               dtype={'股票代码': str})\n",
    "ProfitLost_2020['所属年份'] = '2020'\n",
    "ProfitLost_2021 = pd.read_excel(\"/Users/improvise/Desktop/保研/实证论文/ESG/Playground/00_DataBase/02_Stock/A股利润表2021.xlsx\",\n",
    "                               dtype={'股票代码': str})\n",
    "ProfitLost_2021['所属年份'] = '2021'\n",
    "ProfitLost_2022 = pd.read_excel(\"/Users/improvise/Desktop/保研/实证论文/ESG/Playground/00_DataBase/02_Stock/A股利润表2022.xlsx\",\n",
    "                               dtype={'股票代码': str})\n",
    "ProfitLost_2022['所属年份'] = '2022'\n",
    "ProfitLost = pd.concat([ProfitLost_2020, ProfitLost_2021, ProfitLost_2022])\n",
    "ProfitLost = ProfitLost.drop(\"Unnamed: 0\", axis=1)\n",
    "# 补全股票代码\n",
    "ProfitLost['股票代码'] = ProfitLost['股票代码'].apply(lambda x: f'{\"0\"*(6-len(x))}{x}' if len(x)<6 else x)\n",
    "\n",
    "# BalanceSheet.info(), ProfitLost.info()"
   ]
  },
  {
   "cell_type": "code",
   "execution_count": 171,
   "id": "87758a96",
   "metadata": {
    "ExecuteTime": {
     "end_time": "2023-12-29T09:14:45.631852Z",
     "start_time": "2023-12-29T09:14:45.619647Z"
    }
   },
   "outputs": [],
   "source": [
    "# ROA = 税后净利润 / 总资产\n",
    "def getROA(corp_code, year, BalanceSheet = BalanceSheet, ProfitLost = ProfitLost):\n",
    "    asset = BalanceSheet[(BalanceSheet['股票代码'] == str(corp_code)) & (BalanceSheet['所属年份'] == str(year))]['资产-总资产']\n",
    "    net_profit = ProfitLost[(ProfitLost['股票代码'] == str(corp_code)) & (ProfitLost['所属年份'] == str(year))]['净利润']\n",
    "    if len(asset.tolist()) != 0 and len(net_profit.tolist()) != 0:\n",
    "        return float(net_profit.values / asset.values)\n",
    "    else:\n",
    "#         print(f\"corp {corp_code} has no info in ROA.\")\n",
    "        return None\n",
    "\n",
    "# ROE = 税后净利润 / 净资产\n",
    "def getROE(corp_code, year, BalanceSheet = BalanceSheet, ProfitLost = ProfitLost):\n",
    "    equity = BalanceSheet[(BalanceSheet['股票代码'] == str(corp_code)) & (BalanceSheet['所属年份'] == str(year))]['股东权益合计']\n",
    "    net_profit = ProfitLost[(ProfitLost['股票代码'] == str(corp_code)) & (ProfitLost['所属年份'] == str(year))]['净利润']\n",
    "    if len(equity.tolist()) != 0 and len(net_profit.tolist()) != 0:\n",
    "        return float(net_profit.values / equity.values)\n",
    "    else:\n",
    "#         print(f\"corp {corp_code} has no info in ROE.\")\n",
    "        return None\n",
    "\n",
    "# 成立时长(至2022年) ?2020年的企业数据反映的成立时长应该是与21年、22年的不同吧，每年增加1年?\n",
    "def OperateDuration(corp_code, year):\n",
    "    foundation_time = ak.stock_profile_cninfo(symbol=str(corp_code))['成立日期'].values.tolist()\n",
    "    if len(foundation_time) != 0:\n",
    "        foundation_year = foundation_time[0].split('-')[0]\n",
    "        return int(year) - int(foundation_year) + 1\n",
    "    else:\n",
    "#         print(f\"Corp {corp_code} has no info on founding date, set operating duration to \\'None\\'.\")\n",
    "        return None\n",
    "    \n",
    "# 总资产\n",
    "def getAsset(corp_code, year, BalanceSheet = BalanceSheet):\n",
    "    asset = BalanceSheet[(BalanceSheet['股票代码'] == str(corp_code)) & (BalanceSheet['所属年份'] == str(year))]['资产-总资产']\n",
    "    return asset"
   ]
  },
  {
   "cell_type": "code",
   "execution_count": null,
   "id": "591faca8",
   "metadata": {},
   "outputs": [],
   "source": [
    "def getTobinQ(corp_code, year, )"
   ]
  },
  {
   "cell_type": "code",
   "execution_count": 174,
   "id": "438e1681",
   "metadata": {
    "ExecuteTime": {
     "end_time": "2023-12-29T09:18:51.069971Z",
     "start_time": "2023-12-29T09:18:45.940436Z"
    }
   },
   "outputs": [
    {
     "name": "stderr",
     "output_type": "stream",
     "text": [
      "/var/folders/kd/t2wnd4h911v09vtv543hpkg80000gn/T/ipykernel_51824/2381933266.py:1: SettingWithCopyWarning: \n",
      "A value is trying to be set on a copy of a slice from a DataFrame.\n",
      "Try using .loc[row_indexer,col_indexer] = value instead\n",
      "\n",
      "See the caveats in the documentation: https://pandas.pydata.org/pandas-docs/stable/user_guide/indexing.html#returning-a-view-versus-a-copy\n",
      "  df_PDF_main['ROA'] = df_PDF_main.apply(lambda row: getROA(corp_code = row['Corp_code'], year = row['Pub_year']), axis=1)\n",
      "/var/folders/kd/t2wnd4h911v09vtv543hpkg80000gn/T/ipykernel_51824/2381933266.py:2: SettingWithCopyWarning: \n",
      "A value is trying to be set on a copy of a slice from a DataFrame.\n",
      "Try using .loc[row_indexer,col_indexer] = value instead\n",
      "\n",
      "See the caveats in the documentation: https://pandas.pydata.org/pandas-docs/stable/user_guide/indexing.html#returning-a-view-versus-a-copy\n",
      "  df_PDF_main['ROE'] = df_PDF_main.apply(lambda row: getROE(corp_code = row['Corp_code'], year = row['Pub_year']), axis=1)\n"
     ]
    }
   ],
   "source": [
    "df_PDF_main['ROA'] = df_PDF_main.apply(lambda row: getROA(corp_code = row['Corp_code'], year = row['Pub_year']), axis=1)\n",
    "df_PDF_main['ROE'] = df_PDF_main.apply(lambda row: getROE(corp_code = row['Corp_code'], year = row['Pub_year']), axis=1)"
   ]
  },
  {
   "cell_type": "code",
   "execution_count": 175,
   "id": "d4d53ea6",
   "metadata": {
    "ExecuteTime": {
     "end_time": "2023-12-29T09:22:25.081384Z",
     "start_time": "2023-12-29T09:19:08.195771Z"
    }
   },
   "outputs": [
    {
     "name": "stderr",
     "output_type": "stream",
     "text": [
      "/var/folders/kd/t2wnd4h911v09vtv543hpkg80000gn/T/ipykernel_51824/2035372471.py:1: SettingWithCopyWarning: \n",
      "A value is trying to be set on a copy of a slice from a DataFrame.\n",
      "Try using .loc[row_indexer,col_indexer] = value instead\n",
      "\n",
      "See the caveats in the documentation: https://pandas.pydata.org/pandas-docs/stable/user_guide/indexing.html#returning-a-view-versus-a-copy\n",
      "  df_PDF_main['OperateDuration'] = df_PDF_main.apply(lambda row: OperateDuration(corp_code = row['Corp_code'], year = row['Pub_year']), axis=1)\n"
     ]
    }
   ],
   "source": [
    "df_PDF_main['OperateDuration'] = df_PDF_main.apply(lambda row: OperateDuration(corp_code = row['Corp_code'], year = row['Pub_year']), axis=1)"
   ]
  },
  {
   "cell_type": "code",
   "execution_count": 176,
   "id": "53aee36c",
   "metadata": {
    "ExecuteTime": {
     "end_time": "2023-12-29T09:22:25.097964Z",
     "start_time": "2023-12-29T09:22:25.085842Z"
    }
   },
   "outputs": [
    {
     "name": "stdout",
     "output_type": "stream",
     "text": [
      "<class 'pandas.core.frame.DataFrame'>\n",
      "RangeIndex: 1046 entries, 0 to 1045\n",
      "Data columns (total 18 columns):\n",
      " #   Column                Non-Null Count  Dtype  \n",
      "---  ------                --------------  -----  \n",
      " 0   PDF_name              1046 non-null   object \n",
      " 1   Corp_code             1046 non-null   object \n",
      " 2   Corp_name             1046 non-null   object \n",
      " 3   Corp_market           1046 non-null   object \n",
      " 4   Pub_year              1046 non-null   int64  \n",
      " 5   Pub_type              1046 non-null   object \n",
      " 6   PDF_pages             1046 non-null   int64  \n",
      " 7   img_num               1046 non-null   int64  \n",
      " 8   img_size_avg          1046 non-null   float64\n",
      " 9   img_num_pages_ratio   1046 non-null   float64\n",
      " 10  img_size_pages_ratio  1046 non-null   float64\n",
      " 11  dist_diag_ratio       961 non-null    float64\n",
      " 12  Corp_industry_code    1040 non-null   object \n",
      " 13  Mono_idst             1046 non-null   bool   \n",
      " 14  Poll_idst             1046 non-null   bool   \n",
      " 15  ROA                   1033 non-null   float64\n",
      " 16  ROE                   1033 non-null   float64\n",
      " 17  OperateDuration       1040 non-null   float64\n",
      "dtypes: bool(2), float64(7), int64(3), object(6)\n",
      "memory usage: 132.9+ KB\n"
     ]
    }
   ],
   "source": [
    "df_PDF_main.info()"
   ]
  },
  {
   "cell_type": "code",
   "execution_count": 177,
   "id": "9570b0cd",
   "metadata": {
    "ExecuteTime": {
     "end_time": "2023-12-29T09:23:04.930009Z",
     "start_time": "2023-12-29T09:23:04.761695Z"
    }
   },
   "outputs": [],
   "source": [
    "df_PDF_main.to_excel(\"/Users/improvise/Desktop/保研/实证论文/ESG/Playground/04_DataIntegration/df_PDF_main3.xlsx\")"
   ]
  },
  {
   "cell_type": "markdown",
   "id": "0d2f5198",
   "metadata": {},
   "source": [
    "# ESG数据"
   ]
  },
  {
   "cell_type": "code",
   "execution_count": 9,
   "id": "e77d154e",
   "metadata": {
    "ExecuteTime": {
     "end_time": "2023-12-29T11:35:03.573930Z",
     "start_time": "2023-12-29T11:35:02.908603Z"
    }
   },
   "outputs": [],
   "source": [
    "BloombergESG = pd.read_excel(\"/Users/improvise/Desktop/保研/实证论文/ESG/Playground/00_DataBase/03_彭博ESG2006-2022（评级体系更新）/BloombergESG（匹配版）.xls\",\n",
    "                            dtype={'Stkcd': str})\n",
    "BloombergESG['Stkcd'] = BloombergESG['Stkcd'].apply(lambda x: f'{\"0\"*(6-len(x))}{x}' if len(x)<6 else x)"
   ]
  },
  {
   "cell_type": "code",
   "execution_count": 14,
   "id": "a7170351",
   "metadata": {
    "ExecuteTime": {
     "end_time": "2023-12-29T11:47:21.461991Z",
     "start_time": "2023-12-29T11:47:21.457104Z"
    }
   },
   "outputs": [],
   "source": [
    "BloombergESG = BloombergESG.rename(columns={'Stkcd':'Corp_code', 'Year':'Pub_year'})"
   ]
  },
  {
   "cell_type": "code",
   "execution_count": 16,
   "id": "84196032",
   "metadata": {
    "ExecuteTime": {
     "end_time": "2023-12-29T11:52:15.590019Z",
     "start_time": "2023-12-29T11:52:15.574281Z"
    }
   },
   "outputs": [],
   "source": [
    "df_PDF_main['Corp_code'] = df_PDF_main['Corp_code'].astype(str)\n",
    "BloombergESG['Corp_code'] = BloombergESG['Corp_code'].astype(str)\n",
    "df_PDF_main['Pub_year'] = df_PDF_main['Pub_year'].astype(str)\n",
    "BloombergESG['Pub_year'] = BloombergESG['Pub_year'].astype(str)"
   ]
  },
  {
   "cell_type": "code",
   "execution_count": 19,
   "id": "93e3f0b7",
   "metadata": {
    "ExecuteTime": {
     "end_time": "2023-12-29T11:53:26.882693Z",
     "start_time": "2023-12-29T11:53:26.860125Z"
    }
   },
   "outputs": [],
   "source": [
    "df_PDF_main = pd.merge(df_PDF_main, BloombergESG, how='left',\n",
    "        on=['Corp_code', 'Pub_year']).drop(\"Unnamed: 0\", axis=1)"
   ]
  },
  {
   "cell_type": "code",
   "execution_count": 22,
   "id": "264faad4",
   "metadata": {
    "ExecuteTime": {
     "end_time": "2023-12-29T11:55:21.645581Z",
     "start_time": "2023-12-29T11:55:21.194364Z"
    }
   },
   "outputs": [],
   "source": [
    "df_PDF_main.to_excel(\"/Users/improvise/Desktop/保研/实证论文/ESG/Playground/04_DataIntegration/df_PDF_main4.xlsx\")"
   ]
  },
  {
   "cell_type": "markdown",
   "id": "ba74fbca",
   "metadata": {},
   "source": [
    "# 专利信息（创新）"
   ]
  },
  {
   "cell_type": "code",
   "execution_count": 4,
   "id": "9f8be6de",
   "metadata": {
    "ExecuteTime": {
     "end_time": "2023-12-30T01:43:26.458115Z",
     "start_time": "2023-12-30T01:43:22.961620Z"
    },
    "collapsed": true,
    "jupyter": {
     "outputs_hidden": true
    }
   },
   "outputs": [
    {
     "name": "stderr",
     "output_type": "stream",
     "text": [
      "/Users/improvise/miniconda/envs/Grace/lib/python3.9/site-packages/openpyxl/styles/stylesheet.py:226: UserWarning: Workbook contains no default style, apply openpyxl's default\n",
      "  warn(\"Workbook contains no default style, apply openpyxl's default\")\n"
     ]
    },
    {
     "name": "stdout",
     "output_type": "stream",
     "text": [
      "<class 'pandas.core.frame.DataFrame'>\n",
      "RangeIndex: 48011 entries, 0 to 48010\n",
      "Data columns (total 8 columns):\n",
      " #   Column         Non-Null Count  Dtype \n",
      "---  ------         --------------  ----- \n",
      " 0   Symbol         48011 non-null  object\n",
      " 1   EndDate        48011 non-null  object\n",
      " 2   StateTypeCode  48011 non-null  object\n",
      " 3   Area           48011 non-null  object\n",
      " 4   ApplyTypeCode  48011 non-null  object\n",
      " 5   ApplyType      48011 non-null  object\n",
      " 6   Patents        38033 non-null  object\n",
      " 7   Invention      34650 non-null  object\n",
      "dtypes: object(8)\n",
      "memory usage: 2.9+ MB\n"
     ]
    }
   ],
   "source": [
    "df_patent = pd.read_excel(\"/Users/improvise/Desktop/保研/实证论文/ESG/Playground/00_DataBase/04_国内外专利申请获得情况表204112695(仅供上海财经大学使用) (1)/PT_LCDOMFORAPPLY.xlsx\")\n",
    "df_patent.info()"
   ]
  },
  {
   "cell_type": "code",
   "execution_count": 7,
   "id": "8229805e",
   "metadata": {
    "ExecuteTime": {
     "end_time": "2023-12-30T01:45:10.585277Z",
     "start_time": "2023-12-30T01:45:10.578071Z"
    },
    "collapsed": true,
    "jupyter": {
     "outputs_hidden": true
    }
   },
   "outputs": [
    {
     "data": {
      "text/plain": [
       "array(['统计截止日期', '没有单位', '2021-12-31', '2016-12-31', '2017-12-31',\n",
       "       '2018-12-31', '2019-12-31', '2020-12-31', '2022-12-31',\n",
       "       '2008-12-31', '2013-12-31', '2014-12-31', '2015-12-31',\n",
       "       '2011-12-31', '2007-12-31', '2012-12-31', '2009-12-31',\n",
       "       '2010-12-31'], dtype=object)"
      ]
     },
     "execution_count": 7,
     "metadata": {},
     "output_type": "execute_result"
    }
   ],
   "source": [
    "df_patent['EndDate'].unique()"
   ]
  },
  {
   "cell_type": "code",
   "execution_count": 17,
   "id": "0d66cf65",
   "metadata": {
    "ExecuteTime": {
     "end_time": "2023-12-30T01:56:53.718042Z",
     "start_time": "2023-12-30T01:56:53.698174Z"
    },
    "collapsed": true,
    "jupyter": {
     "outputs_hidden": true
    }
   },
   "outputs": [
    {
     "data": {
      "text/html": [
       "<div>\n",
       "<style scoped>\n",
       "    .dataframe tbody tr th:only-of-type {\n",
       "        vertical-align: middle;\n",
       "    }\n",
       "\n",
       "    .dataframe tbody tr th {\n",
       "        vertical-align: top;\n",
       "    }\n",
       "\n",
       "    .dataframe thead th {\n",
       "        text-align: right;\n",
       "    }\n",
       "</style>\n",
       "<table border=\"1\" class=\"dataframe\">\n",
       "  <thead>\n",
       "    <tr style=\"text-align: right;\">\n",
       "      <th></th>\n",
       "      <th>Corp_code</th>\n",
       "      <th>EndDate</th>\n",
       "      <th>StateTypeCode</th>\n",
       "      <th>Area</th>\n",
       "      <th>ApplyTypeCode</th>\n",
       "      <th>ApplyType</th>\n",
       "      <th>Patents</th>\n",
       "      <th>Invention</th>\n",
       "    </tr>\n",
       "  </thead>\n",
       "  <tbody>\n",
       "    <tr>\n",
       "      <th>0</th>\n",
       "      <td>证券代码</td>\n",
       "      <td>统计截止日期</td>\n",
       "      <td>报表类型</td>\n",
       "      <td>地区</td>\n",
       "      <td>申请类型编码</td>\n",
       "      <td>申请类型</td>\n",
       "      <td>专利</td>\n",
       "      <td>发明专利</td>\n",
       "    </tr>\n",
       "    <tr>\n",
       "      <th>1</th>\n",
       "      <td>没有单位</td>\n",
       "      <td>没有单位</td>\n",
       "      <td>没有单位</td>\n",
       "      <td>没有单位</td>\n",
       "      <td>没有单位</td>\n",
       "      <td>没有单位</td>\n",
       "      <td>件</td>\n",
       "      <td>件</td>\n",
       "    </tr>\n",
       "    <tr>\n",
       "      <th>2</th>\n",
       "      <td>000004</td>\n",
       "      <td>2021-12-31</td>\n",
       "      <td>1</td>\n",
       "      <td>1</td>\n",
       "      <td>S5204</td>\n",
       "      <td>截至报告期末累计获得</td>\n",
       "      <td>NaN</td>\n",
       "      <td>14</td>\n",
       "    </tr>\n",
       "    <tr>\n",
       "      <th>3</th>\n",
       "      <td>000008</td>\n",
       "      <td>2016-12-31</td>\n",
       "      <td>1</td>\n",
       "      <td>1</td>\n",
       "      <td>S5204</td>\n",
       "      <td>截至报告期末累计获得</td>\n",
       "      <td>NaN</td>\n",
       "      <td>56</td>\n",
       "    </tr>\n",
       "    <tr>\n",
       "      <th>4</th>\n",
       "      <td>000008</td>\n",
       "      <td>2017-12-31</td>\n",
       "      <td>1</td>\n",
       "      <td>1</td>\n",
       "      <td>S5201</td>\n",
       "      <td>已申请</td>\n",
       "      <td>123</td>\n",
       "      <td>NaN</td>\n",
       "    </tr>\n",
       "    <tr>\n",
       "      <th>...</th>\n",
       "      <td>...</td>\n",
       "      <td>...</td>\n",
       "      <td>...</td>\n",
       "      <td>...</td>\n",
       "      <td>...</td>\n",
       "      <td>...</td>\n",
       "      <td>...</td>\n",
       "      <td>...</td>\n",
       "    </tr>\n",
       "    <tr>\n",
       "      <th>48006</th>\n",
       "      <td>900956</td>\n",
       "      <td>2015-12-31</td>\n",
       "      <td>1</td>\n",
       "      <td>1</td>\n",
       "      <td>S5203</td>\n",
       "      <td>已授权</td>\n",
       "      <td>56</td>\n",
       "      <td>NaN</td>\n",
       "    </tr>\n",
       "    <tr>\n",
       "      <th>48007</th>\n",
       "      <td>900956</td>\n",
       "      <td>2017-12-31</td>\n",
       "      <td>1</td>\n",
       "      <td>1</td>\n",
       "      <td>S5201</td>\n",
       "      <td>已申请</td>\n",
       "      <td>12</td>\n",
       "      <td>4</td>\n",
       "    </tr>\n",
       "    <tr>\n",
       "      <th>48008</th>\n",
       "      <td>900956</td>\n",
       "      <td>2018-12-31</td>\n",
       "      <td>1</td>\n",
       "      <td>1</td>\n",
       "      <td>S5201</td>\n",
       "      <td>已申请</td>\n",
       "      <td>114</td>\n",
       "      <td>NaN</td>\n",
       "    </tr>\n",
       "    <tr>\n",
       "      <th>48009</th>\n",
       "      <td>900956</td>\n",
       "      <td>2018-12-31</td>\n",
       "      <td>1</td>\n",
       "      <td>1</td>\n",
       "      <td>S5203</td>\n",
       "      <td>已授权</td>\n",
       "      <td>63</td>\n",
       "      <td>13</td>\n",
       "    </tr>\n",
       "    <tr>\n",
       "      <th>48010</th>\n",
       "      <td>900956</td>\n",
       "      <td>2019-12-31</td>\n",
       "      <td>1</td>\n",
       "      <td>1</td>\n",
       "      <td>S5204</td>\n",
       "      <td>截至报告期末累计获得</td>\n",
       "      <td>381</td>\n",
       "      <td>NaN</td>\n",
       "    </tr>\n",
       "  </tbody>\n",
       "</table>\n",
       "<p>48011 rows × 8 columns</p>\n",
       "</div>"
      ],
      "text/plain": [
       "      Corp_code     EndDate StateTypeCode  Area ApplyTypeCode   ApplyType  \\\n",
       "0          证券代码      统计截止日期          报表类型    地区        申请类型编码        申请类型   \n",
       "1          没有单位        没有单位          没有单位  没有单位          没有单位        没有单位   \n",
       "2        000004  2021-12-31             1     1         S5204  截至报告期末累计获得   \n",
       "3        000008  2016-12-31             1     1         S5204  截至报告期末累计获得   \n",
       "4        000008  2017-12-31             1     1         S5201         已申请   \n",
       "...         ...         ...           ...   ...           ...         ...   \n",
       "48006    900956  2015-12-31             1     1         S5203         已授权   \n",
       "48007    900956  2017-12-31             1     1         S5201         已申请   \n",
       "48008    900956  2018-12-31             1     1         S5201         已申请   \n",
       "48009    900956  2018-12-31             1     1         S5203         已授权   \n",
       "48010    900956  2019-12-31             1     1         S5204  截至报告期末累计获得   \n",
       "\n",
       "      Patents Invention  \n",
       "0          专利      发明专利  \n",
       "1           件         件  \n",
       "2         NaN        14  \n",
       "3         NaN        56  \n",
       "4         123       NaN  \n",
       "...       ...       ...  \n",
       "48006      56       NaN  \n",
       "48007      12         4  \n",
       "48008     114       NaN  \n",
       "48009      63        13  \n",
       "48010     381       NaN  \n",
       "\n",
       "[48011 rows x 8 columns]"
      ]
     },
     "execution_count": 17,
     "metadata": {},
     "output_type": "execute_result"
    }
   ],
   "source": [
    "df_patent = df_patent.rename(columns={'Symbol':'Corp_code'})\n",
    "df_patent"
   ]
  },
  {
   "cell_type": "code",
   "execution_count": 14,
   "id": "387a03d3",
   "metadata": {
    "ExecuteTime": {
     "end_time": "2023-12-30T01:53:19.716196Z",
     "start_time": "2023-12-30T01:53:19.710210Z"
    }
   },
   "outputs": [],
   "source": [
    "df_PDF_main['EndDate'] = df_PDF_main['Pub_year'].apply(lambda x: '-'.join([str(x), '12', '31']))"
   ]
  },
  {
   "cell_type": "code",
   "execution_count": 101,
   "id": "92988eb7",
   "metadata": {
    "ExecuteTime": {
     "end_time": "2023-12-30T03:24:25.950246Z",
     "start_time": "2023-12-30T03:24:25.930795Z"
    }
   },
   "outputs": [],
   "source": [
    "df_patent_gain = df_patent[(df_patent['ApplyTypeCode'] == 'S5204') & (df_patent['Area']==1) & (df_patent['StateTypeCode']==1)]"
   ]
  },
  {
   "cell_type": "code",
   "execution_count": 104,
   "id": "7198f5a5",
   "metadata": {
    "ExecuteTime": {
     "end_time": "2023-12-30T03:26:55.620795Z",
     "start_time": "2023-12-30T03:26:55.596035Z"
    }
   },
   "outputs": [
    {
     "name": "stderr",
     "output_type": "stream",
     "text": [
      "/var/folders/kd/t2wnd4h911v09vtv543hpkg80000gn/T/ipykernel_7667/2785880780.py:2: SettingWithCopyWarning: \n",
      "A value is trying to be set on a copy of a slice from a DataFrame.\n",
      "Try using .loc[row_indexer,col_indexer] = value instead\n",
      "\n",
      "See the caveats in the documentation: https://pandas.pydata.org/pandas-docs/stable/user_guide/indexing.html#returning-a-view-versus-a-copy\n",
      "  df_patent_gain['Corp_code'] = df_patent_gain['Corp_code'].astype(str)\n"
     ]
    }
   ],
   "source": [
    "df_PDF_main['Corp_code'] = df_PDF_main['Corp_code'].astype(str)\n",
    "df_patent_gain['Corp_code'] = df_patent_gain['Corp_code'].astype(str)\n",
    "\n",
    "df_PDF_main = df_PDF_main.merge(df_patent_gain[df_patent_gain['ApplyTypeCode']==\"S5204\"][['Corp_code', 'EndDate', 'Patents', 'Invention']],\n",
    "                                 how='left', on=['Corp_code', 'EndDate'])"
   ]
  },
  {
   "cell_type": "code",
   "execution_count": 106,
   "id": "af92eb99",
   "metadata": {
    "ExecuteTime": {
     "end_time": "2023-12-30T03:28:21.414691Z",
     "start_time": "2023-12-30T03:28:21.132842Z"
    }
   },
   "outputs": [],
   "source": [
    "df_PDF_main.to_excel(\"/Users/improvise/Desktop/保研/实证论文/ESG/Playground/04_DataIntegration/df_PDF_main5.xlsx\",\n",
    "                    index=False)"
   ]
  },
  {
   "cell_type": "markdown",
   "id": "6d2dc0b1",
   "metadata": {},
   "source": [
    "# 分析师研报关注度"
   ]
  },
  {
   "cell_type": "code",
   "execution_count": 108,
   "id": "6232b9f8",
   "metadata": {
    "ExecuteTime": {
     "end_time": "2023-12-30T05:19:36.281839Z",
     "start_time": "2023-12-30T05:19:31.463524Z"
    }
   },
   "outputs": [
    {
     "name": "stderr",
     "output_type": "stream",
     "text": [
      "/Users/improvise/miniconda/envs/Grace/lib/python3.9/site-packages/openpyxl/styles/stylesheet.py:226: UserWarning: Workbook contains no default style, apply openpyxl's default\n",
      "  warn(\"Workbook contains no default style, apply openpyxl's default\")\n"
     ]
    },
    {
     "name": "stdout",
     "output_type": "stream",
     "text": [
      "<class 'pandas.core.frame.DataFrame'>\n",
      "RangeIndex: 55661 entries, 0 to 55660\n",
      "Data columns (total 10 columns):\n",
      " #   Column           Non-Null Count  Dtype \n",
      "---  ------           --------------  ----- \n",
      " 0   Stknmec          55661 non-null  object\n",
      " 1   Stkcd            55661 non-null  object\n",
      " 2   Accper           55661 non-null  object\n",
      " 3   CompanySize      55355 non-null  object\n",
      " 4   Big4             55360 non-null  object\n",
      " 5   Outside          55360 non-null  object\n",
      " 6   AnaAttention     34427 non-null  object\n",
      " 7   ReportAttention  34841 non-null  object\n",
      " 8   CompanyOpacity   37907 non-null  object\n",
      " 9   RegisterCapital  55661 non-null  object\n",
      "dtypes: object(10)\n",
      "memory usage: 4.2+ MB\n"
     ]
    }
   ],
   "source": [
    "df_attention = pd.read_excel(\"/Users/improvise/Desktop/保研/实证论文/ESG/Playground/00_DataBase/05_上市公司基本信息特色指标表132631814(仅供上海财经大学使用)/AF_CFEATUREPROFILE.xlsx\")\n",
    "df_attention.info()"
   ]
  },
  {
   "cell_type": "code",
   "execution_count": 112,
   "id": "2d635344",
   "metadata": {
    "ExecuteTime": {
     "end_time": "2023-12-30T05:23:41.244135Z",
     "start_time": "2023-12-30T05:23:41.235656Z"
    }
   },
   "outputs": [],
   "source": [
    "df_attention = df_attention.rename(columns={'Stkcd':'Corp_code', 'Accper':'EndDate'})"
   ]
  },
  {
   "cell_type": "code",
   "execution_count": 115,
   "id": "5b2b83dd",
   "metadata": {
    "ExecuteTime": {
     "end_time": "2023-12-30T05:24:03.509344Z",
     "start_time": "2023-12-30T05:24:03.482375Z"
    }
   },
   "outputs": [],
   "source": [
    "df_PDF_main = df_PDF_main.merge(df_attention[['Corp_code', 'EndDate', 'AnaAttention','ReportAttention']], \n",
    "                  how='left', on=['Corp_code', 'EndDate'])"
   ]
  },
  {
   "cell_type": "code",
   "execution_count": 117,
   "id": "6e9bc400",
   "metadata": {
    "ExecuteTime": {
     "end_time": "2023-12-30T05:24:30.194357Z",
     "start_time": "2023-12-30T05:24:29.905921Z"
    }
   },
   "outputs": [],
   "source": [
    "df_PDF_main.to_excel(\"/Users/improvise/Desktop/保研/实证论文/ESG/Playground/04_DataIntegration/df_PDF_main6.xlsx\",\n",
    "                    index=False)"
   ]
  },
  {
   "cell_type": "markdown",
   "id": "53427821",
   "metadata": {},
   "source": [
    "# 富时罗素"
   ]
  },
  {
   "cell_type": "code",
   "execution_count": 2,
   "id": "858c0fc0",
   "metadata": {
    "ExecuteTime": {
     "end_time": "2024-01-13T06:56:14.831512Z",
     "start_time": "2024-01-13T06:56:13.861850Z"
    },
    "scrolled": true
   },
   "outputs": [
    {
     "data": {
      "text/html": [
       "<div>\n",
       "<style scoped>\n",
       "    .dataframe tbody tr th:only-of-type {\n",
       "        vertical-align: middle;\n",
       "    }\n",
       "\n",
       "    .dataframe tbody tr th {\n",
       "        vertical-align: top;\n",
       "    }\n",
       "\n",
       "    .dataframe thead th {\n",
       "        text-align: right;\n",
       "    }\n",
       "</style>\n",
       "<table border=\"1\" class=\"dataframe\">\n",
       "  <thead>\n",
       "    <tr style=\"text-align: right;\">\n",
       "      <th></th>\n",
       "      <th>PDF_name</th>\n",
       "      <th>Corp_code</th>\n",
       "      <th>Corp_name</th>\n",
       "      <th>Corp_market</th>\n",
       "      <th>Pub_year</th>\n",
       "      <th>Pub_type</th>\n",
       "      <th>PDF_pages</th>\n",
       "      <th>img_num</th>\n",
       "      <th>img_size_avg</th>\n",
       "      <th>img_num_pages_ratio</th>\n",
       "      <th>...</th>\n",
       "      <th>HighTech_1</th>\n",
       "      <th>HighTech_2</th>\n",
       "      <th>Pollute_1</th>\n",
       "      <th>Pollute_2</th>\n",
       "      <th>Pollute_3</th>\n",
       "      <th>EndDate</th>\n",
       "      <th>Patents</th>\n",
       "      <th>Invention</th>\n",
       "      <th>AnaAttention</th>\n",
       "      <th>ReportAttention</th>\n",
       "    </tr>\n",
       "  </thead>\n",
       "  <tbody>\n",
       "    <tr>\n",
       "      <th>0</th>\n",
       "      <td>601066.SH-中信建投-2020年度社会责任暨环境、社会与管治报告-2021-04-0...</td>\n",
       "      <td>601066</td>\n",
       "      <td>中信建投</td>\n",
       "      <td>SH</td>\n",
       "      <td>2020</td>\n",
       "      <td>ESG</td>\n",
       "      <td>76</td>\n",
       "      <td>9</td>\n",
       "      <td>42387.210437</td>\n",
       "      <td>0.118421</td>\n",
       "      <td>...</td>\n",
       "      <td>0.0</td>\n",
       "      <td>0.0</td>\n",
       "      <td>0.0</td>\n",
       "      <td>0.0</td>\n",
       "      <td>0.0</td>\n",
       "      <td>2020-12-31</td>\n",
       "      <td>NaN</td>\n",
       "      <td>NaN</td>\n",
       "      <td>11.0</td>\n",
       "      <td>18.0</td>\n",
       "    </tr>\n",
       "    <tr>\n",
       "      <th>1</th>\n",
       "      <td>600803.SH-新奥股份-新奥天然气股份有限公司2020年度环境、社会及管治报告(中文版...</td>\n",
       "      <td>600803</td>\n",
       "      <td>新奥股份</td>\n",
       "      <td>SH</td>\n",
       "      <td>2020</td>\n",
       "      <td>ESG</td>\n",
       "      <td>44</td>\n",
       "      <td>153</td>\n",
       "      <td>128895.980539</td>\n",
       "      <td>3.477273</td>\n",
       "      <td>...</td>\n",
       "      <td>0.0</td>\n",
       "      <td>0.0</td>\n",
       "      <td>0.0</td>\n",
       "      <td>1.0</td>\n",
       "      <td>1.0</td>\n",
       "      <td>2020-12-31</td>\n",
       "      <td>NaN</td>\n",
       "      <td>NaN</td>\n",
       "      <td>12.0</td>\n",
       "      <td>31.0</td>\n",
       "    </tr>\n",
       "    <tr>\n",
       "      <th>2</th>\n",
       "      <td>600600.SH-青岛啤酒-环境、社会及管治报告-2021-03-29.pdf</td>\n",
       "      <td>600600</td>\n",
       "      <td>青岛啤酒</td>\n",
       "      <td>SH</td>\n",
       "      <td>2020</td>\n",
       "      <td>ESG</td>\n",
       "      <td>32</td>\n",
       "      <td>99</td>\n",
       "      <td>125883.408804</td>\n",
       "      <td>3.093750</td>\n",
       "      <td>...</td>\n",
       "      <td>0.0</td>\n",
       "      <td>0.0</td>\n",
       "      <td>0.0</td>\n",
       "      <td>1.0</td>\n",
       "      <td>1.0</td>\n",
       "      <td>2020-12-31</td>\n",
       "      <td>NaN</td>\n",
       "      <td>NaN</td>\n",
       "      <td>45.0</td>\n",
       "      <td>105.0</td>\n",
       "    </tr>\n",
       "    <tr>\n",
       "      <th>3</th>\n",
       "      <td>300759.SZ-康龙化成-康龙化成 2020年度社会责任暨环境、社会及管治报告-2021...</td>\n",
       "      <td>300759</td>\n",
       "      <td>康龙化成</td>\n",
       "      <td>SZ</td>\n",
       "      <td>2020</td>\n",
       "      <td>ESG</td>\n",
       "      <td>28</td>\n",
       "      <td>25</td>\n",
       "      <td>27196.530652</td>\n",
       "      <td>0.892857</td>\n",
       "      <td>...</td>\n",
       "      <td>NaN</td>\n",
       "      <td>NaN</td>\n",
       "      <td>NaN</td>\n",
       "      <td>NaN</td>\n",
       "      <td>NaN</td>\n",
       "      <td>2020-12-31</td>\n",
       "      <td>NaN</td>\n",
       "      <td>NaN</td>\n",
       "      <td>33.0</td>\n",
       "      <td>77.0</td>\n",
       "    </tr>\n",
       "    <tr>\n",
       "      <th>4</th>\n",
       "      <td>002242.SZ-九阳股份-九阳股份 2020年环境、社会及管治报告-2021-06-11...</td>\n",
       "      <td>2242</td>\n",
       "      <td>九阳股份</td>\n",
       "      <td>SZ</td>\n",
       "      <td>2020</td>\n",
       "      <td>ESG</td>\n",
       "      <td>51</td>\n",
       "      <td>52</td>\n",
       "      <td>61956.921173</td>\n",
       "      <td>1.019608</td>\n",
       "      <td>...</td>\n",
       "      <td>NaN</td>\n",
       "      <td>NaN</td>\n",
       "      <td>NaN</td>\n",
       "      <td>NaN</td>\n",
       "      <td>NaN</td>\n",
       "      <td>2020-12-31</td>\n",
       "      <td>NaN</td>\n",
       "      <td>NaN</td>\n",
       "      <td>NaN</td>\n",
       "      <td>NaN</td>\n",
       "    </tr>\n",
       "    <tr>\n",
       "      <th>...</th>\n",
       "      <td>...</td>\n",
       "      <td>...</td>\n",
       "      <td>...</td>\n",
       "      <td>...</td>\n",
       "      <td>...</td>\n",
       "      <td>...</td>\n",
       "      <td>...</td>\n",
       "      <td>...</td>\n",
       "      <td>...</td>\n",
       "      <td>...</td>\n",
       "      <td>...</td>\n",
       "      <td>...</td>\n",
       "      <td>...</td>\n",
       "      <td>...</td>\n",
       "      <td>...</td>\n",
       "      <td>...</td>\n",
       "      <td>...</td>\n",
       "      <td>...</td>\n",
       "      <td>...</td>\n",
       "      <td>...</td>\n",
       "      <td>...</td>\n",
       "    </tr>\n",
       "    <tr>\n",
       "      <th>1041</th>\n",
       "      <td>600201.SH-生物股份-生物股份 金宇生物技术股份有限公司2022年年度可持续发展报告...</td>\n",
       "      <td>600201</td>\n",
       "      <td>生物股份</td>\n",
       "      <td>SH</td>\n",
       "      <td>2022</td>\n",
       "      <td>SUS</td>\n",
       "      <td>36</td>\n",
       "      <td>35</td>\n",
       "      <td>102463.497340</td>\n",
       "      <td>0.972222</td>\n",
       "      <td>...</td>\n",
       "      <td>1.0</td>\n",
       "      <td>1.0</td>\n",
       "      <td>0.0</td>\n",
       "      <td>1.0</td>\n",
       "      <td>1.0</td>\n",
       "      <td>2022-12-31</td>\n",
       "      <td>NaN</td>\n",
       "      <td>NaN</td>\n",
       "      <td>7.0</td>\n",
       "      <td>12.0</td>\n",
       "    </tr>\n",
       "    <tr>\n",
       "      <th>1042</th>\n",
       "      <td>600588.SH-用友网络-用友网络 用友网络2022年度可持续发展(ESG)报告-202...</td>\n",
       "      <td>600588</td>\n",
       "      <td>用友网络</td>\n",
       "      <td>SH</td>\n",
       "      <td>2022</td>\n",
       "      <td>SUS</td>\n",
       "      <td>33</td>\n",
       "      <td>31</td>\n",
       "      <td>109075.470388</td>\n",
       "      <td>0.939394</td>\n",
       "      <td>...</td>\n",
       "      <td>NaN</td>\n",
       "      <td>NaN</td>\n",
       "      <td>NaN</td>\n",
       "      <td>NaN</td>\n",
       "      <td>NaN</td>\n",
       "      <td>2022-12-31</td>\n",
       "      <td>NaN</td>\n",
       "      <td>NaN</td>\n",
       "      <td>43.0</td>\n",
       "      <td>107.0</td>\n",
       "    </tr>\n",
       "    <tr>\n",
       "      <th>1043</th>\n",
       "      <td>600989.SH-宝丰能源-宝丰能源 宁夏宝丰能源集团股份有限公司2022年可持续发展报告...</td>\n",
       "      <td>600989</td>\n",
       "      <td>宝丰能源</td>\n",
       "      <td>SH</td>\n",
       "      <td>2022</td>\n",
       "      <td>SUS</td>\n",
       "      <td>35</td>\n",
       "      <td>58</td>\n",
       "      <td>199669.598451</td>\n",
       "      <td>1.657143</td>\n",
       "      <td>...</td>\n",
       "      <td>1.0</td>\n",
       "      <td>1.0</td>\n",
       "      <td>1.0</td>\n",
       "      <td>1.0</td>\n",
       "      <td>1.0</td>\n",
       "      <td>2022-12-31</td>\n",
       "      <td>NaN</td>\n",
       "      <td>NaN</td>\n",
       "      <td>26.0</td>\n",
       "      <td>64.0</td>\n",
       "    </tr>\n",
       "    <tr>\n",
       "      <th>1044</th>\n",
       "      <td>600019.SH-宝钢股份-宝钢股份 宝山钢铁股份有限公司2022年度可持续发展报告-20...</td>\n",
       "      <td>600019</td>\n",
       "      <td>宝钢股份</td>\n",
       "      <td>SH</td>\n",
       "      <td>2022</td>\n",
       "      <td>SUS</td>\n",
       "      <td>73</td>\n",
       "      <td>227</td>\n",
       "      <td>157117.564714</td>\n",
       "      <td>3.109589</td>\n",
       "      <td>...</td>\n",
       "      <td>1.0</td>\n",
       "      <td>0.0</td>\n",
       "      <td>1.0</td>\n",
       "      <td>1.0</td>\n",
       "      <td>1.0</td>\n",
       "      <td>2022-12-31</td>\n",
       "      <td>NaN</td>\n",
       "      <td>NaN</td>\n",
       "      <td>17.0</td>\n",
       "      <td>27.0</td>\n",
       "    </tr>\n",
       "    <tr>\n",
       "      <th>1045</th>\n",
       "      <td>600356.SH-恒丰纸业-恒丰纸业 恒丰纸业2022可持续发展报告-2023-03-15...</td>\n",
       "      <td>600356</td>\n",
       "      <td>恒丰纸业</td>\n",
       "      <td>SH</td>\n",
       "      <td>2022</td>\n",
       "      <td>SUS</td>\n",
       "      <td>40</td>\n",
       "      <td>118</td>\n",
       "      <td>133293.581823</td>\n",
       "      <td>2.950000</td>\n",
       "      <td>...</td>\n",
       "      <td>NaN</td>\n",
       "      <td>NaN</td>\n",
       "      <td>NaN</td>\n",
       "      <td>NaN</td>\n",
       "      <td>NaN</td>\n",
       "      <td>2022-12-31</td>\n",
       "      <td>NaN</td>\n",
       "      <td>NaN</td>\n",
       "      <td>NaN</td>\n",
       "      <td>NaN</td>\n",
       "    </tr>\n",
       "  </tbody>\n",
       "</table>\n",
       "<p>1046 rows × 48 columns</p>\n",
       "</div>"
      ],
      "text/plain": [
       "                                               PDF_name  Corp_code Corp_name  \\\n",
       "0     601066.SH-中信建投-2020年度社会责任暨环境、社会与管治报告-2021-04-0...     601066      中信建投   \n",
       "1     600803.SH-新奥股份-新奥天然气股份有限公司2020年度环境、社会及管治报告(中文版...     600803      新奥股份   \n",
       "2              600600.SH-青岛啤酒-环境、社会及管治报告-2021-03-29.pdf     600600      青岛啤酒   \n",
       "3     300759.SZ-康龙化成-康龙化成 2020年度社会责任暨环境、社会及管治报告-2021...     300759      康龙化成   \n",
       "4     002242.SZ-九阳股份-九阳股份 2020年环境、社会及管治报告-2021-06-11...       2242      九阳股份   \n",
       "...                                                 ...        ...       ...   \n",
       "1041  600201.SH-生物股份-生物股份 金宇生物技术股份有限公司2022年年度可持续发展报告...     600201      生物股份   \n",
       "1042  600588.SH-用友网络-用友网络 用友网络2022年度可持续发展(ESG)报告-202...     600588      用友网络   \n",
       "1043  600989.SH-宝丰能源-宝丰能源 宁夏宝丰能源集团股份有限公司2022年可持续发展报告...     600989      宝丰能源   \n",
       "1044  600019.SH-宝钢股份-宝钢股份 宝山钢铁股份有限公司2022年度可持续发展报告-20...     600019      宝钢股份   \n",
       "1045  600356.SH-恒丰纸业-恒丰纸业 恒丰纸业2022可持续发展报告-2023-03-15...     600356      恒丰纸业   \n",
       "\n",
       "     Corp_market  Pub_year Pub_type  PDF_pages  img_num   img_size_avg  \\\n",
       "0             SH      2020      ESG         76        9   42387.210437   \n",
       "1             SH      2020      ESG         44      153  128895.980539   \n",
       "2             SH      2020      ESG         32       99  125883.408804   \n",
       "3             SZ      2020      ESG         28       25   27196.530652   \n",
       "4             SZ      2020      ESG         51       52   61956.921173   \n",
       "...          ...       ...      ...        ...      ...            ...   \n",
       "1041          SH      2022      SUS         36       35  102463.497340   \n",
       "1042          SH      2022      SUS         33       31  109075.470388   \n",
       "1043          SH      2022      SUS         35       58  199669.598451   \n",
       "1044          SH      2022      SUS         73      227  157117.564714   \n",
       "1045          SH      2022      SUS         40      118  133293.581823   \n",
       "\n",
       "      img_num_pages_ratio  ...  HighTech_1  HighTech_2 Pollute_1  Pollute_2  \\\n",
       "0                0.118421  ...         0.0         0.0       0.0        0.0   \n",
       "1                3.477273  ...         0.0         0.0       0.0        1.0   \n",
       "2                3.093750  ...         0.0         0.0       0.0        1.0   \n",
       "3                0.892857  ...         NaN         NaN       NaN        NaN   \n",
       "4                1.019608  ...         NaN         NaN       NaN        NaN   \n",
       "...                   ...  ...         ...         ...       ...        ...   \n",
       "1041             0.972222  ...         1.0         1.0       0.0        1.0   \n",
       "1042             0.939394  ...         NaN         NaN       NaN        NaN   \n",
       "1043             1.657143  ...         1.0         1.0       1.0        1.0   \n",
       "1044             3.109589  ...         1.0         0.0       1.0        1.0   \n",
       "1045             2.950000  ...         NaN         NaN       NaN        NaN   \n",
       "\n",
       "      Pollute_3     EndDate  Patents  Invention  AnaAttention  ReportAttention  \n",
       "0           0.0  2020-12-31      NaN        NaN          11.0             18.0  \n",
       "1           1.0  2020-12-31      NaN        NaN          12.0             31.0  \n",
       "2           1.0  2020-12-31      NaN        NaN          45.0            105.0  \n",
       "3           NaN  2020-12-31      NaN        NaN          33.0             77.0  \n",
       "4           NaN  2020-12-31      NaN        NaN           NaN              NaN  \n",
       "...         ...         ...      ...        ...           ...              ...  \n",
       "1041        1.0  2022-12-31      NaN        NaN           7.0             12.0  \n",
       "1042        NaN  2022-12-31      NaN        NaN          43.0            107.0  \n",
       "1043        1.0  2022-12-31      NaN        NaN          26.0             64.0  \n",
       "1044        1.0  2022-12-31      NaN        NaN          17.0             27.0  \n",
       "1045        NaN  2022-12-31      NaN        NaN           NaN              NaN  \n",
       "\n",
       "[1046 rows x 48 columns]"
      ]
     },
     "execution_count": 2,
     "metadata": {},
     "output_type": "execute_result"
    }
   ],
   "source": [
    "df_PDF_main = pd.read_excel(\"/Users/improvise/Desktop/保研/实证论文/ESG/Playground/04_DataIntegration/df_PDF_main6.xlsx\")\n",
    "df_PDF_main"
   ]
  },
  {
   "cell_type": "code",
   "execution_count": 3,
   "id": "1486e2bd",
   "metadata": {
    "ExecuteTime": {
     "end_time": "2024-01-13T06:56:17.753740Z",
     "start_time": "2024-01-13T06:56:17.250867Z"
    },
    "scrolled": true
   },
   "outputs": [
    {
     "data": {
      "text/html": [
       "<div>\n",
       "<style scoped>\n",
       "    .dataframe tbody tr th:only-of-type {\n",
       "        vertical-align: middle;\n",
       "    }\n",
       "\n",
       "    .dataframe tbody tr th {\n",
       "        vertical-align: top;\n",
       "    }\n",
       "\n",
       "    .dataframe thead th {\n",
       "        text-align: right;\n",
       "    }\n",
       "</style>\n",
       "<table border=\"1\" class=\"dataframe\">\n",
       "  <thead>\n",
       "    <tr style=\"text-align: right;\">\n",
       "      <th></th>\n",
       "      <th>证券代码</th>\n",
       "      <th>证券简称</th>\n",
       "      <th>富时罗素ESG评分[交易日期] 2018-12-31</th>\n",
       "      <th>富时罗素ESG评分[交易日期] 2019-12-31</th>\n",
       "      <th>富时罗素ESG评分[交易日期] 2020-12-31</th>\n",
       "      <th>富时罗素ESG评分[交易日期] 2021-12-31</th>\n",
       "      <th>富时罗素ESG评分[交易日期] 2022-12-31</th>\n",
       "      <th>省份</th>\n",
       "      <th>城市</th>\n",
       "      <th>所属证监会行业名称[交易日期] 最新收盘日[行业级别] 大类行业</th>\n",
       "      <th>所属证监会行业代码[交易日期] 最新收盘日[行业级别] 大类行业</th>\n",
       "    </tr>\n",
       "  </thead>\n",
       "  <tbody>\n",
       "    <tr>\n",
       "      <th>0</th>\n",
       "      <td>000001.SZ</td>\n",
       "      <td>平安银行</td>\n",
       "      <td>NaN</td>\n",
       "      <td>2.5</td>\n",
       "      <td>2.5</td>\n",
       "      <td>1.9</td>\n",
       "      <td>2.2</td>\n",
       "      <td>广东省</td>\n",
       "      <td>深圳市</td>\n",
       "      <td>货币金融服务</td>\n",
       "      <td>J66</td>\n",
       "    </tr>\n",
       "    <tr>\n",
       "      <th>1</th>\n",
       "      <td>000002.SZ</td>\n",
       "      <td>万科A</td>\n",
       "      <td>NaN</td>\n",
       "      <td>2.0</td>\n",
       "      <td>2.0</td>\n",
       "      <td>2.2</td>\n",
       "      <td>2.3</td>\n",
       "      <td>广东省</td>\n",
       "      <td>深圳市</td>\n",
       "      <td>房地产业</td>\n",
       "      <td>K70</td>\n",
       "    </tr>\n",
       "    <tr>\n",
       "      <th>2</th>\n",
       "      <td>000004.SZ</td>\n",
       "      <td>ST国华</td>\n",
       "      <td>NaN</td>\n",
       "      <td>NaN</td>\n",
       "      <td>NaN</td>\n",
       "      <td>NaN</td>\n",
       "      <td>NaN</td>\n",
       "      <td>广东省</td>\n",
       "      <td>深圳市</td>\n",
       "      <td>软件和信息技术服务业</td>\n",
       "      <td>I65</td>\n",
       "    </tr>\n",
       "    <tr>\n",
       "      <th>3</th>\n",
       "      <td>000005.SZ</td>\n",
       "      <td>ST星源</td>\n",
       "      <td>NaN</td>\n",
       "      <td>NaN</td>\n",
       "      <td>NaN</td>\n",
       "      <td>NaN</td>\n",
       "      <td>NaN</td>\n",
       "      <td>广东省</td>\n",
       "      <td>深圳市</td>\n",
       "      <td>生态保护和环境治理业</td>\n",
       "      <td>N77</td>\n",
       "    </tr>\n",
       "    <tr>\n",
       "      <th>4</th>\n",
       "      <td>000006.SZ</td>\n",
       "      <td>深振业A</td>\n",
       "      <td>NaN</td>\n",
       "      <td>NaN</td>\n",
       "      <td>NaN</td>\n",
       "      <td>NaN</td>\n",
       "      <td>NaN</td>\n",
       "      <td>广东省</td>\n",
       "      <td>深圳市</td>\n",
       "      <td>房地产业</td>\n",
       "      <td>K70</td>\n",
       "    </tr>\n",
       "    <tr>\n",
       "      <th>...</th>\n",
       "      <td>...</td>\n",
       "      <td>...</td>\n",
       "      <td>...</td>\n",
       "      <td>...</td>\n",
       "      <td>...</td>\n",
       "      <td>...</td>\n",
       "      <td>...</td>\n",
       "      <td>...</td>\n",
       "      <td>...</td>\n",
       "      <td>...</td>\n",
       "      <td>...</td>\n",
       "    </tr>\n",
       "    <tr>\n",
       "      <th>5098</th>\n",
       "      <td>873169.BJ</td>\n",
       "      <td>七丰精工</td>\n",
       "      <td>NaN</td>\n",
       "      <td>NaN</td>\n",
       "      <td>NaN</td>\n",
       "      <td>NaN</td>\n",
       "      <td>NaN</td>\n",
       "      <td>浙江省</td>\n",
       "      <td>嘉兴市</td>\n",
       "      <td>通用设备制造业</td>\n",
       "      <td>C34</td>\n",
       "    </tr>\n",
       "    <tr>\n",
       "      <th>5099</th>\n",
       "      <td>873223.BJ</td>\n",
       "      <td>荣亿精密</td>\n",
       "      <td>NaN</td>\n",
       "      <td>NaN</td>\n",
       "      <td>NaN</td>\n",
       "      <td>NaN</td>\n",
       "      <td>NaN</td>\n",
       "      <td>浙江省</td>\n",
       "      <td>嘉兴市</td>\n",
       "      <td>通用设备制造业</td>\n",
       "      <td>C34</td>\n",
       "    </tr>\n",
       "    <tr>\n",
       "      <th>5100</th>\n",
       "      <td>873305.BJ</td>\n",
       "      <td>九菱科技</td>\n",
       "      <td>NaN</td>\n",
       "      <td>NaN</td>\n",
       "      <td>NaN</td>\n",
       "      <td>NaN</td>\n",
       "      <td>NaN</td>\n",
       "      <td>湖北省</td>\n",
       "      <td>荆州市</td>\n",
       "      <td>金属制品业</td>\n",
       "      <td>C33</td>\n",
       "    </tr>\n",
       "    <tr>\n",
       "      <th>5101</th>\n",
       "      <td>873339.BJ</td>\n",
       "      <td>恒太照明</td>\n",
       "      <td>NaN</td>\n",
       "      <td>NaN</td>\n",
       "      <td>NaN</td>\n",
       "      <td>NaN</td>\n",
       "      <td>NaN</td>\n",
       "      <td>江苏省</td>\n",
       "      <td>南通市</td>\n",
       "      <td>电气机械和器材制造业</td>\n",
       "      <td>C38</td>\n",
       "    </tr>\n",
       "    <tr>\n",
       "      <th>5102</th>\n",
       "      <td>873527.BJ</td>\n",
       "      <td>夜光明</td>\n",
       "      <td>NaN</td>\n",
       "      <td>NaN</td>\n",
       "      <td>NaN</td>\n",
       "      <td>NaN</td>\n",
       "      <td>NaN</td>\n",
       "      <td>浙江省</td>\n",
       "      <td>台州市</td>\n",
       "      <td>化学原料和化学制品制造业</td>\n",
       "      <td>C26</td>\n",
       "    </tr>\n",
       "  </tbody>\n",
       "</table>\n",
       "<p>5103 rows × 11 columns</p>\n",
       "</div>"
      ],
      "text/plain": [
       "           证券代码  证券简称  富时罗素ESG评分[交易日期] 2018-12-31  富时罗素ESG评分[交易日期] 2019-12-31  \\\n",
       "0     000001.SZ  平安银行                         NaN                         2.5   \n",
       "1     000002.SZ   万科A                         NaN                         2.0   \n",
       "2     000004.SZ  ST国华                         NaN                         NaN   \n",
       "3     000005.SZ  ST星源                         NaN                         NaN   \n",
       "4     000006.SZ  深振业A                         NaN                         NaN   \n",
       "...         ...   ...                         ...                         ...   \n",
       "5098  873169.BJ  七丰精工                         NaN                         NaN   \n",
       "5099  873223.BJ  荣亿精密                         NaN                         NaN   \n",
       "5100  873305.BJ  九菱科技                         NaN                         NaN   \n",
       "5101  873339.BJ  恒太照明                         NaN                         NaN   \n",
       "5102  873527.BJ   夜光明                         NaN                         NaN   \n",
       "\n",
       "      富时罗素ESG评分[交易日期] 2020-12-31  富时罗素ESG评分[交易日期] 2021-12-31  \\\n",
       "0                            2.5                         1.9   \n",
       "1                            2.0                         2.2   \n",
       "2                            NaN                         NaN   \n",
       "3                            NaN                         NaN   \n",
       "4                            NaN                         NaN   \n",
       "...                          ...                         ...   \n",
       "5098                         NaN                         NaN   \n",
       "5099                         NaN                         NaN   \n",
       "5100                         NaN                         NaN   \n",
       "5101                         NaN                         NaN   \n",
       "5102                         NaN                         NaN   \n",
       "\n",
       "      富时罗素ESG评分[交易日期] 2022-12-31   省份   城市 所属证监会行业名称[交易日期] 最新收盘日[行业级别] 大类行业  \\\n",
       "0                            2.2  广东省  深圳市                           货币金融服务   \n",
       "1                            2.3  广东省  深圳市                             房地产业   \n",
       "2                            NaN  广东省  深圳市                       软件和信息技术服务业   \n",
       "3                            NaN  广东省  深圳市                       生态保护和环境治理业   \n",
       "4                            NaN  广东省  深圳市                             房地产业   \n",
       "...                          ...  ...  ...                              ...   \n",
       "5098                         NaN  浙江省  嘉兴市                          通用设备制造业   \n",
       "5099                         NaN  浙江省  嘉兴市                          通用设备制造业   \n",
       "5100                         NaN  湖北省  荆州市                            金属制品业   \n",
       "5101                         NaN  江苏省  南通市                       电气机械和器材制造业   \n",
       "5102                         NaN  浙江省  台州市                     化学原料和化学制品制造业   \n",
       "\n",
       "     所属证监会行业代码[交易日期] 最新收盘日[行业级别] 大类行业  \n",
       "0                                 J66  \n",
       "1                                 K70  \n",
       "2                                 I65  \n",
       "3                                 N77  \n",
       "4                                 K70  \n",
       "...                               ...  \n",
       "5098                              C34  \n",
       "5099                              C34  \n",
       "5100                              C33  \n",
       "5101                              C38  \n",
       "5102                              C26  \n",
       "\n",
       "[5103 rows x 11 columns]"
      ]
     },
     "execution_count": 3,
     "metadata": {},
     "output_type": "execute_result"
    }
   ],
   "source": [
    "df_FTSE = pd.read_excel(\"/Users/improvise/Desktop/保研/实证论文/ESG/Playground/00_DataBase/06_ESG数据集大全整理可涵盖2022-2009年赋值法年度面板数据细分整理/富时罗素ESG2018-2022/富时罗素 ESG数据.xlsx\")\n",
    "df_FTSE"
   ]
  },
  {
   "cell_type": "code",
   "execution_count": 35,
   "id": "105f45f6",
   "metadata": {
    "ExecuteTime": {
     "end_time": "2024-01-13T07:13:59.004325Z",
     "start_time": "2024-01-13T07:13:58.997471Z"
    }
   },
   "outputs": [],
   "source": [
    "df_FTSE2 = pd.DataFrame()"
   ]
  },
  {
   "cell_type": "code",
   "execution_count": 36,
   "id": "8f34ba71",
   "metadata": {
    "ExecuteTime": {
     "end_time": "2024-01-13T07:13:59.407929Z",
     "start_time": "2024-01-13T07:13:59.399321Z"
    }
   },
   "outputs": [],
   "source": [
    "df_FTSE2['Corp_code'] = df_FTSE['证券代码'].str[:6]\n",
    "df_FTSE2['Corp_market'] = df_FTSE['证券代码'].str[-2:]"
   ]
  },
  {
   "cell_type": "code",
   "execution_count": 37,
   "id": "2fc88d59",
   "metadata": {
    "ExecuteTime": {
     "end_time": "2024-01-13T07:14:00.089583Z",
     "start_time": "2024-01-13T07:14:00.081940Z"
    }
   },
   "outputs": [],
   "source": [
    "df_FTSE2_2020 = df_FTSE2.copy()\n",
    "df_FTSE2_2020['Pub_year'] = 2020\n",
    "\n",
    "df_FTSE2_2021 = df_FTSE2.copy()\n",
    "df_FTSE2_2021['Pub_year'] = 2021\n",
    "\n",
    "df_FTSE2_2022 = df_FTSE2.copy()\n",
    "df_FTSE2_2022['Pub_year'] = 2022"
   ]
  },
  {
   "cell_type": "code",
   "execution_count": 38,
   "id": "79495a6d",
   "metadata": {
    "ExecuteTime": {
     "end_time": "2024-01-13T07:14:16.945271Z",
     "start_time": "2024-01-13T07:14:16.928785Z"
    }
   },
   "outputs": [],
   "source": [
    "df_FTSE2 = pd.concat([df_FTSE2_2020, df_FTSE2_2021, df_FTSE2_2022]).sort_values(by='Corp_code')"
   ]
  },
  {
   "cell_type": "code",
   "execution_count": 43,
   "id": "5ccfb937",
   "metadata": {
    "ExecuteTime": {
     "end_time": "2024-01-13T07:21:02.187748Z",
     "start_time": "2024-01-13T07:21:02.184728Z"
    }
   },
   "outputs": [],
   "source": [
    "df_FTSE2['FTSE_ESG_score'] = np.nan"
   ]
  },
  {
   "cell_type": "code",
   "execution_count": 49,
   "id": "18cf89af",
   "metadata": {
    "ExecuteTime": {
     "end_time": "2024-01-13T07:24:48.278699Z",
     "start_time": "2024-01-13T07:24:48.269258Z"
    }
   },
   "outputs": [],
   "source": [
    "for year in range(2020, 2023):\n",
    "    df_FTSE2.loc[df_FTSE2['Pub_year']==year, 'FTSE_ESG_score'] = df_FTSE[f'富时罗素ESG评分[交易日期] {year}-12-31']"
   ]
  },
  {
   "cell_type": "code",
   "execution_count": 55,
   "id": "f1ad0cd2",
   "metadata": {
    "ExecuteTime": {
     "end_time": "2024-01-13T07:31:37.273642Z",
     "start_time": "2024-01-13T07:31:37.266637Z"
    }
   },
   "outputs": [],
   "source": [
    "df_FTSE2['Pub_year'] = df_FTSE2['Pub_year'].astype(str)\n",
    "df_PDF_main['Pub_year'] = df_PDF_main['Pub_year'].astype(str)\n",
    "df_PDF_main['Corp_code'] = df_PDF_main['Corp_code'].astype(str)"
   ]
  },
  {
   "cell_type": "code",
   "execution_count": 56,
   "id": "fb2f25ed",
   "metadata": {
    "ExecuteTime": {
     "end_time": "2024-01-13T07:31:44.353644Z",
     "start_time": "2024-01-13T07:31:44.348146Z"
    }
   },
   "outputs": [],
   "source": [
    "# 补全股票代码\n",
    "df_PDF_main['Corp_code'] = df_PDF_main.Corp_code.apply(lambda x: f'{\"0\"*(6-len(x))}{x}' if len(x)<6 else x)"
   ]
  },
  {
   "cell_type": "code",
   "execution_count": 60,
   "id": "53007600",
   "metadata": {
    "ExecuteTime": {
     "end_time": "2024-01-13T07:33:20.616291Z",
     "start_time": "2024-01-13T07:33:20.596057Z"
    }
   },
   "outputs": [],
   "source": [
    "df_PDF_main = df_PDF_main.merge(df_FTSE2[['Corp_code', 'Pub_year', 'FTSE_ESG_score']], how='left',\n",
    "                  on=['Corp_code', 'Pub_year'])"
   ]
  },
  {
   "cell_type": "code",
   "execution_count": 63,
   "id": "17dacc2c",
   "metadata": {
    "ExecuteTime": {
     "end_time": "2024-01-13T07:34:29.303581Z",
     "start_time": "2024-01-13T07:34:28.635692Z"
    }
   },
   "outputs": [],
   "source": [
    "df_PDF_main.to_excel(\"/Users/improvise/Desktop/保研/实证论文/ESG/Playground/04_DataIntegration/df_PDF_main7.xlsx\",\n",
    "                    index=False)"
   ]
  },
  {
   "cell_type": "markdown",
   "id": "049f84f7",
   "metadata": {},
   "source": [
    "# 整合word_simi"
   ]
  },
  {
   "cell_type": "code",
   "execution_count": 110,
   "id": "95ac748f",
   "metadata": {
    "ExecuteTime": {
     "end_time": "2024-01-13T08:27:37.681893Z",
     "start_time": "2024-01-13T08:27:37.130793Z"
    },
    "scrolled": true
   },
   "outputs": [
    {
     "data": {
      "text/html": [
       "<div>\n",
       "<style scoped>\n",
       "    .dataframe tbody tr th:only-of-type {\n",
       "        vertical-align: middle;\n",
       "    }\n",
       "\n",
       "    .dataframe tbody tr th {\n",
       "        vertical-align: top;\n",
       "    }\n",
       "\n",
       "    .dataframe thead th {\n",
       "        text-align: right;\n",
       "    }\n",
       "</style>\n",
       "<table border=\"1\" class=\"dataframe\">\n",
       "  <thead>\n",
       "    <tr style=\"text-align: right;\">\n",
       "      <th></th>\n",
       "      <th>PDF_name</th>\n",
       "      <th>Corp_code</th>\n",
       "      <th>Corp_name</th>\n",
       "      <th>Corp_market</th>\n",
       "      <th>Pub_year</th>\n",
       "      <th>Pub_type</th>\n",
       "      <th>PDF_pages</th>\n",
       "      <th>img_num</th>\n",
       "      <th>img_size_avg</th>\n",
       "      <th>img_num_pages_ratio</th>\n",
       "      <th>...</th>\n",
       "      <th>HighTech_2</th>\n",
       "      <th>Pollute_1</th>\n",
       "      <th>Pollute_2</th>\n",
       "      <th>Pollute_3</th>\n",
       "      <th>EndDate</th>\n",
       "      <th>Patents</th>\n",
       "      <th>Invention</th>\n",
       "      <th>AnaAttention</th>\n",
       "      <th>ReportAttention</th>\n",
       "      <th>FTSE_ESG_score</th>\n",
       "    </tr>\n",
       "  </thead>\n",
       "  <tbody>\n",
       "    <tr>\n",
       "      <th>0</th>\n",
       "      <td>601066.SH-中信建投-2020年度社会责任暨环境、社会与管治报告-2021-04-0...</td>\n",
       "      <td>601066</td>\n",
       "      <td>中信建投</td>\n",
       "      <td>SH</td>\n",
       "      <td>2020</td>\n",
       "      <td>ESG</td>\n",
       "      <td>76</td>\n",
       "      <td>9</td>\n",
       "      <td>42387.210437</td>\n",
       "      <td>0.118421</td>\n",
       "      <td>...</td>\n",
       "      <td>0.0</td>\n",
       "      <td>0.0</td>\n",
       "      <td>0.0</td>\n",
       "      <td>0.0</td>\n",
       "      <td>2020-12-31</td>\n",
       "      <td>NaN</td>\n",
       "      <td>NaN</td>\n",
       "      <td>11.0</td>\n",
       "      <td>18.0</td>\n",
       "      <td>2.7</td>\n",
       "    </tr>\n",
       "    <tr>\n",
       "      <th>1</th>\n",
       "      <td>600803.SH-新奥股份-新奥天然气股份有限公司2020年度环境、社会及管治报告(中文版...</td>\n",
       "      <td>600803</td>\n",
       "      <td>新奥股份</td>\n",
       "      <td>SH</td>\n",
       "      <td>2020</td>\n",
       "      <td>ESG</td>\n",
       "      <td>44</td>\n",
       "      <td>153</td>\n",
       "      <td>128895.980539</td>\n",
       "      <td>3.477273</td>\n",
       "      <td>...</td>\n",
       "      <td>0.0</td>\n",
       "      <td>0.0</td>\n",
       "      <td>1.0</td>\n",
       "      <td>1.0</td>\n",
       "      <td>2020-12-31</td>\n",
       "      <td>NaN</td>\n",
       "      <td>NaN</td>\n",
       "      <td>12.0</td>\n",
       "      <td>31.0</td>\n",
       "      <td>1.9</td>\n",
       "    </tr>\n",
       "    <tr>\n",
       "      <th>2</th>\n",
       "      <td>600600.SH-青岛啤酒-环境、社会及管治报告-2021-03-29.pdf</td>\n",
       "      <td>600600</td>\n",
       "      <td>青岛啤酒</td>\n",
       "      <td>SH</td>\n",
       "      <td>2020</td>\n",
       "      <td>ESG</td>\n",
       "      <td>32</td>\n",
       "      <td>99</td>\n",
       "      <td>125883.408804</td>\n",
       "      <td>3.093750</td>\n",
       "      <td>...</td>\n",
       "      <td>0.0</td>\n",
       "      <td>0.0</td>\n",
       "      <td>1.0</td>\n",
       "      <td>1.0</td>\n",
       "      <td>2020-12-31</td>\n",
       "      <td>NaN</td>\n",
       "      <td>NaN</td>\n",
       "      <td>45.0</td>\n",
       "      <td>105.0</td>\n",
       "      <td>1.8</td>\n",
       "    </tr>\n",
       "    <tr>\n",
       "      <th>3</th>\n",
       "      <td>300759.SZ-康龙化成-康龙化成 2020年度社会责任暨环境、社会及管治报告-2021...</td>\n",
       "      <td>300759</td>\n",
       "      <td>康龙化成</td>\n",
       "      <td>SZ</td>\n",
       "      <td>2020</td>\n",
       "      <td>ESG</td>\n",
       "      <td>28</td>\n",
       "      <td>25</td>\n",
       "      <td>27196.530652</td>\n",
       "      <td>0.892857</td>\n",
       "      <td>...</td>\n",
       "      <td>NaN</td>\n",
       "      <td>NaN</td>\n",
       "      <td>NaN</td>\n",
       "      <td>NaN</td>\n",
       "      <td>2020-12-31</td>\n",
       "      <td>NaN</td>\n",
       "      <td>NaN</td>\n",
       "      <td>33.0</td>\n",
       "      <td>77.0</td>\n",
       "      <td>NaN</td>\n",
       "    </tr>\n",
       "    <tr>\n",
       "      <th>4</th>\n",
       "      <td>002242.SZ-九阳股份-九阳股份 2020年环境、社会及管治报告-2021-06-11...</td>\n",
       "      <td>2242</td>\n",
       "      <td>九阳股份</td>\n",
       "      <td>SZ</td>\n",
       "      <td>2020</td>\n",
       "      <td>ESG</td>\n",
       "      <td>51</td>\n",
       "      <td>52</td>\n",
       "      <td>61956.921173</td>\n",
       "      <td>1.019608</td>\n",
       "      <td>...</td>\n",
       "      <td>NaN</td>\n",
       "      <td>NaN</td>\n",
       "      <td>NaN</td>\n",
       "      <td>NaN</td>\n",
       "      <td>2020-12-31</td>\n",
       "      <td>NaN</td>\n",
       "      <td>NaN</td>\n",
       "      <td>NaN</td>\n",
       "      <td>NaN</td>\n",
       "      <td>1.0</td>\n",
       "    </tr>\n",
       "    <tr>\n",
       "      <th>...</th>\n",
       "      <td>...</td>\n",
       "      <td>...</td>\n",
       "      <td>...</td>\n",
       "      <td>...</td>\n",
       "      <td>...</td>\n",
       "      <td>...</td>\n",
       "      <td>...</td>\n",
       "      <td>...</td>\n",
       "      <td>...</td>\n",
       "      <td>...</td>\n",
       "      <td>...</td>\n",
       "      <td>...</td>\n",
       "      <td>...</td>\n",
       "      <td>...</td>\n",
       "      <td>...</td>\n",
       "      <td>...</td>\n",
       "      <td>...</td>\n",
       "      <td>...</td>\n",
       "      <td>...</td>\n",
       "      <td>...</td>\n",
       "      <td>...</td>\n",
       "    </tr>\n",
       "    <tr>\n",
       "      <th>1033</th>\n",
       "      <td>600201.SH-生物股份-生物股份 金宇生物技术股份有限公司2022年年度可持续发展报告...</td>\n",
       "      <td>600201</td>\n",
       "      <td>生物股份</td>\n",
       "      <td>SH</td>\n",
       "      <td>2022</td>\n",
       "      <td>SUS</td>\n",
       "      <td>36</td>\n",
       "      <td>35</td>\n",
       "      <td>102463.497340</td>\n",
       "      <td>0.972222</td>\n",
       "      <td>...</td>\n",
       "      <td>1.0</td>\n",
       "      <td>0.0</td>\n",
       "      <td>1.0</td>\n",
       "      <td>1.0</td>\n",
       "      <td>2022-12-31</td>\n",
       "      <td>NaN</td>\n",
       "      <td>NaN</td>\n",
       "      <td>7.0</td>\n",
       "      <td>12.0</td>\n",
       "      <td>1.2</td>\n",
       "    </tr>\n",
       "    <tr>\n",
       "      <th>1034</th>\n",
       "      <td>600588.SH-用友网络-用友网络 用友网络2022年度可持续发展(ESG)报告-202...</td>\n",
       "      <td>600588</td>\n",
       "      <td>用友网络</td>\n",
       "      <td>SH</td>\n",
       "      <td>2022</td>\n",
       "      <td>SUS</td>\n",
       "      <td>33</td>\n",
       "      <td>31</td>\n",
       "      <td>109075.470388</td>\n",
       "      <td>0.939394</td>\n",
       "      <td>...</td>\n",
       "      <td>NaN</td>\n",
       "      <td>NaN</td>\n",
       "      <td>NaN</td>\n",
       "      <td>NaN</td>\n",
       "      <td>2022-12-31</td>\n",
       "      <td>NaN</td>\n",
       "      <td>NaN</td>\n",
       "      <td>43.0</td>\n",
       "      <td>107.0</td>\n",
       "      <td>2.3</td>\n",
       "    </tr>\n",
       "    <tr>\n",
       "      <th>1035</th>\n",
       "      <td>600989.SH-宝丰能源-宝丰能源 宁夏宝丰能源集团股份有限公司2022年可持续发展报告...</td>\n",
       "      <td>600989</td>\n",
       "      <td>宝丰能源</td>\n",
       "      <td>SH</td>\n",
       "      <td>2022</td>\n",
       "      <td>SUS</td>\n",
       "      <td>35</td>\n",
       "      <td>58</td>\n",
       "      <td>199669.598451</td>\n",
       "      <td>1.657143</td>\n",
       "      <td>...</td>\n",
       "      <td>1.0</td>\n",
       "      <td>1.0</td>\n",
       "      <td>1.0</td>\n",
       "      <td>1.0</td>\n",
       "      <td>2022-12-31</td>\n",
       "      <td>NaN</td>\n",
       "      <td>NaN</td>\n",
       "      <td>26.0</td>\n",
       "      <td>64.0</td>\n",
       "      <td>1.7</td>\n",
       "    </tr>\n",
       "    <tr>\n",
       "      <th>1036</th>\n",
       "      <td>600019.SH-宝钢股份-宝钢股份 宝山钢铁股份有限公司2022年度可持续发展报告-20...</td>\n",
       "      <td>600019</td>\n",
       "      <td>宝钢股份</td>\n",
       "      <td>SH</td>\n",
       "      <td>2022</td>\n",
       "      <td>SUS</td>\n",
       "      <td>73</td>\n",
       "      <td>227</td>\n",
       "      <td>157117.564714</td>\n",
       "      <td>3.109589</td>\n",
       "      <td>...</td>\n",
       "      <td>0.0</td>\n",
       "      <td>1.0</td>\n",
       "      <td>1.0</td>\n",
       "      <td>1.0</td>\n",
       "      <td>2022-12-31</td>\n",
       "      <td>NaN</td>\n",
       "      <td>NaN</td>\n",
       "      <td>17.0</td>\n",
       "      <td>27.0</td>\n",
       "      <td>2.9</td>\n",
       "    </tr>\n",
       "    <tr>\n",
       "      <th>1037</th>\n",
       "      <td>600356.SH-恒丰纸业-恒丰纸业 恒丰纸业2022可持续发展报告-2023-03-15...</td>\n",
       "      <td>600356</td>\n",
       "      <td>恒丰纸业</td>\n",
       "      <td>SH</td>\n",
       "      <td>2022</td>\n",
       "      <td>SUS</td>\n",
       "      <td>40</td>\n",
       "      <td>118</td>\n",
       "      <td>133293.581823</td>\n",
       "      <td>2.950000</td>\n",
       "      <td>...</td>\n",
       "      <td>NaN</td>\n",
       "      <td>NaN</td>\n",
       "      <td>NaN</td>\n",
       "      <td>NaN</td>\n",
       "      <td>2022-12-31</td>\n",
       "      <td>NaN</td>\n",
       "      <td>NaN</td>\n",
       "      <td>NaN</td>\n",
       "      <td>NaN</td>\n",
       "      <td>NaN</td>\n",
       "    </tr>\n",
       "  </tbody>\n",
       "</table>\n",
       "<p>1038 rows × 49 columns</p>\n",
       "</div>"
      ],
      "text/plain": [
       "                                               PDF_name  Corp_code Corp_name  \\\n",
       "0     601066.SH-中信建投-2020年度社会责任暨环境、社会与管治报告-2021-04-0...     601066      中信建投   \n",
       "1     600803.SH-新奥股份-新奥天然气股份有限公司2020年度环境、社会及管治报告(中文版...     600803      新奥股份   \n",
       "2              600600.SH-青岛啤酒-环境、社会及管治报告-2021-03-29.pdf     600600      青岛啤酒   \n",
       "3     300759.SZ-康龙化成-康龙化成 2020年度社会责任暨环境、社会及管治报告-2021...     300759      康龙化成   \n",
       "4     002242.SZ-九阳股份-九阳股份 2020年环境、社会及管治报告-2021-06-11...       2242      九阳股份   \n",
       "...                                                 ...        ...       ...   \n",
       "1033  600201.SH-生物股份-生物股份 金宇生物技术股份有限公司2022年年度可持续发展报告...     600201      生物股份   \n",
       "1034  600588.SH-用友网络-用友网络 用友网络2022年度可持续发展(ESG)报告-202...     600588      用友网络   \n",
       "1035  600989.SH-宝丰能源-宝丰能源 宁夏宝丰能源集团股份有限公司2022年可持续发展报告...     600989      宝丰能源   \n",
       "1036  600019.SH-宝钢股份-宝钢股份 宝山钢铁股份有限公司2022年度可持续发展报告-20...     600019      宝钢股份   \n",
       "1037  600356.SH-恒丰纸业-恒丰纸业 恒丰纸业2022可持续发展报告-2023-03-15...     600356      恒丰纸业   \n",
       "\n",
       "     Corp_market  Pub_year Pub_type  PDF_pages  img_num   img_size_avg  \\\n",
       "0             SH      2020      ESG         76        9   42387.210437   \n",
       "1             SH      2020      ESG         44      153  128895.980539   \n",
       "2             SH      2020      ESG         32       99  125883.408804   \n",
       "3             SZ      2020      ESG         28       25   27196.530652   \n",
       "4             SZ      2020      ESG         51       52   61956.921173   \n",
       "...          ...       ...      ...        ...      ...            ...   \n",
       "1033          SH      2022      SUS         36       35  102463.497340   \n",
       "1034          SH      2022      SUS         33       31  109075.470388   \n",
       "1035          SH      2022      SUS         35       58  199669.598451   \n",
       "1036          SH      2022      SUS         73      227  157117.564714   \n",
       "1037          SH      2022      SUS         40      118  133293.581823   \n",
       "\n",
       "      img_num_pages_ratio  ...  HighTech_2  Pollute_1 Pollute_2  Pollute_3  \\\n",
       "0                0.118421  ...         0.0        0.0       0.0        0.0   \n",
       "1                3.477273  ...         0.0        0.0       1.0        1.0   \n",
       "2                3.093750  ...         0.0        0.0       1.0        1.0   \n",
       "3                0.892857  ...         NaN        NaN       NaN        NaN   \n",
       "4                1.019608  ...         NaN        NaN       NaN        NaN   \n",
       "...                   ...  ...         ...        ...       ...        ...   \n",
       "1033             0.972222  ...         1.0        0.0       1.0        1.0   \n",
       "1034             0.939394  ...         NaN        NaN       NaN        NaN   \n",
       "1035             1.657143  ...         1.0        1.0       1.0        1.0   \n",
       "1036             3.109589  ...         0.0        1.0       1.0        1.0   \n",
       "1037             2.950000  ...         NaN        NaN       NaN        NaN   \n",
       "\n",
       "         EndDate  Patents  Invention  AnaAttention  ReportAttention  \\\n",
       "0     2020-12-31      NaN        NaN          11.0             18.0   \n",
       "1     2020-12-31      NaN        NaN          12.0             31.0   \n",
       "2     2020-12-31      NaN        NaN          45.0            105.0   \n",
       "3     2020-12-31      NaN        NaN          33.0             77.0   \n",
       "4     2020-12-31      NaN        NaN           NaN              NaN   \n",
       "...          ...      ...        ...           ...              ...   \n",
       "1033  2022-12-31      NaN        NaN           7.0             12.0   \n",
       "1034  2022-12-31      NaN        NaN          43.0            107.0   \n",
       "1035  2022-12-31      NaN        NaN          26.0             64.0   \n",
       "1036  2022-12-31      NaN        NaN          17.0             27.0   \n",
       "1037  2022-12-31      NaN        NaN           NaN              NaN   \n",
       "\n",
       "      FTSE_ESG_score  \n",
       "0                2.7  \n",
       "1                1.9  \n",
       "2                1.8  \n",
       "3                NaN  \n",
       "4                1.0  \n",
       "...              ...  \n",
       "1033             1.2  \n",
       "1034             2.3  \n",
       "1035             1.7  \n",
       "1036             2.9  \n",
       "1037             NaN  \n",
       "\n",
       "[1038 rows x 49 columns]"
      ]
     },
     "execution_count": 110,
     "metadata": {},
     "output_type": "execute_result"
    }
   ],
   "source": [
    "df_PDF_main = pd.read_excel(\"/Users/improvise/Desktop/保研/实证论文/ESG/Playground/04_DataIntegration/df_PDF_main8.xlsx\")\n",
    "df_PDF_main"
   ]
  },
  {
   "cell_type": "code",
   "execution_count": 113,
   "id": "ee3c7610",
   "metadata": {
    "ExecuteTime": {
     "end_time": "2024-01-13T08:29:25.208753Z",
     "start_time": "2024-01-13T08:29:25.199719Z"
    }
   },
   "outputs": [],
   "source": [
    "df_PDF_main = df_PDF_main.merge(df_simi[['PDF_name', 'word_simi_avg']], on='PDF_name', how='left')"
   ]
  },
  {
   "cell_type": "code",
   "execution_count": 114,
   "id": "93d492bf",
   "metadata": {
    "ExecuteTime": {
     "end_time": "2024-01-13T08:30:17.589074Z",
     "start_time": "2024-01-13T08:30:17.034196Z"
    }
   },
   "outputs": [],
   "source": [
    "df_PDF_main.to_excel(\"/Users/improvise/Desktop/保研/实证论文/ESG/Playground/05_DataIntegration2/df_PDF_main9.xlsx\",\n",
    "                    index = False)"
   ]
  },
  {
   "cell_type": "markdown",
   "id": "e560d8ae",
   "metadata": {},
   "source": [
    "# 高管"
   ]
  },
  {
   "cell_type": "code",
   "execution_count": null,
   "id": "d05ffe61",
   "metadata": {},
   "outputs": [],
   "source": [
    "df_PDF_main "
   ]
  },
  {
   "cell_type": "code",
   "execution_count": 7,
   "id": "8f2da121",
   "metadata": {
    "ExecuteTime": {
     "end_time": "2024-01-16T14:03:31.755499Z",
     "start_time": "2024-01-16T14:03:28.189557Z"
    }
   },
   "outputs": [
    {
     "name": "stdout",
     "output_type": "stream",
     "text": [
      "<class 'pandas.core.frame.DataFrame'>\n",
      "RangeIndex: 53720 entries, 0 to 53719\n",
      "Data columns (total 10 columns):\n",
      " #   Column         Non-Null Count  Dtype         \n",
      "---  ------         --------------  -----         \n",
      " 0   security_code  53720 non-null  int64         \n",
      " 1   security_name  53720 non-null  object        \n",
      " 2   rep_period     53720 non-null  datetime64[ns]\n",
      " 3   rep_type       53720 non-null  object        \n",
      " 4   release_date   53720 non-null  datetime64[ns]\n",
      " 5   rep_size       53720 non-null  object        \n",
      " 6   cnt_char       53720 non-null  int64         \n",
      " 7   cnt_word       53720 non-null  int64         \n",
      " 8   cnt_sent       53720 non-null  int64         \n",
      " 9   myopia         53720 non-null  float64       \n",
      "dtypes: datetime64[ns](2), float64(1), int64(4), object(3)\n",
      "memory usage: 4.1+ MB\n"
     ]
    }
   ],
   "source": [
    "df_boss = pd.read_excel(\"/Users/improvise/Desktop/保研/实证论文/ESG/Playground/00_DataBase/07_高管/public_duanshi_副本2.xlsx\")\n",
    "df_boss.info()"
   ]
  },
  {
   "cell_type": "code",
   "execution_count": 8,
   "id": "c02abbb2",
   "metadata": {
    "ExecuteTime": {
     "end_time": "2024-01-16T14:10:06.668315Z",
     "start_time": "2024-01-16T14:10:06.643943Z"
    }
   },
   "outputs": [
    {
     "data": {
      "text/html": [
       "<div>\n",
       "<style scoped>\n",
       "    .dataframe tbody tr th:only-of-type {\n",
       "        vertical-align: middle;\n",
       "    }\n",
       "\n",
       "    .dataframe tbody tr th {\n",
       "        vertical-align: top;\n",
       "    }\n",
       "\n",
       "    .dataframe thead th {\n",
       "        text-align: right;\n",
       "    }\n",
       "</style>\n",
       "<table border=\"1\" class=\"dataframe\">\n",
       "  <thead>\n",
       "    <tr style=\"text-align: right;\">\n",
       "      <th></th>\n",
       "      <th>security_code</th>\n",
       "      <th>security_name</th>\n",
       "      <th>rep_period</th>\n",
       "      <th>rep_type</th>\n",
       "      <th>release_date</th>\n",
       "      <th>rep_size</th>\n",
       "      <th>cnt_char</th>\n",
       "      <th>cnt_word</th>\n",
       "      <th>cnt_sent</th>\n",
       "      <th>myopia</th>\n",
       "    </tr>\n",
       "  </thead>\n",
       "  <tbody>\n",
       "    <tr>\n",
       "      <th>0</th>\n",
       "      <td>1</td>\n",
       "      <td>平安银行</td>\n",
       "      <td>2001-12-31</td>\n",
       "      <td>MD&amp;A</td>\n",
       "      <td>2002-04-18</td>\n",
       "      <td>422k</td>\n",
       "      <td>2824</td>\n",
       "      <td>1324</td>\n",
       "      <td>8</td>\n",
       "      <td>0.075529</td>\n",
       "    </tr>\n",
       "    <tr>\n",
       "      <th>1</th>\n",
       "      <td>3</td>\n",
       "      <td>PT 金田A</td>\n",
       "      <td>2001-12-31</td>\n",
       "      <td>MD&amp;A</td>\n",
       "      <td>2002-04-29</td>\n",
       "      <td>298k</td>\n",
       "      <td>1130</td>\n",
       "      <td>496</td>\n",
       "      <td>8</td>\n",
       "      <td>0.000000</td>\n",
       "    </tr>\n",
       "    <tr>\n",
       "      <th>2</th>\n",
       "      <td>4</td>\n",
       "      <td>国农科技</td>\n",
       "      <td>2001-12-31</td>\n",
       "      <td>MD&amp;A</td>\n",
       "      <td>2002-03-26</td>\n",
       "      <td>516k</td>\n",
       "      <td>2660</td>\n",
       "      <td>1310</td>\n",
       "      <td>9</td>\n",
       "      <td>0.152672</td>\n",
       "    </tr>\n",
       "    <tr>\n",
       "      <th>3</th>\n",
       "      <td>5</td>\n",
       "      <td>世纪星源</td>\n",
       "      <td>2001-12-31</td>\n",
       "      <td>MD&amp;A</td>\n",
       "      <td>2002-04-17</td>\n",
       "      <td>315k</td>\n",
       "      <td>1717</td>\n",
       "      <td>861</td>\n",
       "      <td>47</td>\n",
       "      <td>0.348432</td>\n",
       "    </tr>\n",
       "    <tr>\n",
       "      <th>4</th>\n",
       "      <td>6</td>\n",
       "      <td>深振业A</td>\n",
       "      <td>2001-12-31</td>\n",
       "      <td>MD&amp;A</td>\n",
       "      <td>2002-04-15</td>\n",
       "      <td>358k</td>\n",
       "      <td>2952</td>\n",
       "      <td>1447</td>\n",
       "      <td>67</td>\n",
       "      <td>0.276434</td>\n",
       "    </tr>\n",
       "    <tr>\n",
       "      <th>...</th>\n",
       "      <td>...</td>\n",
       "      <td>...</td>\n",
       "      <td>...</td>\n",
       "      <td>...</td>\n",
       "      <td>...</td>\n",
       "      <td>...</td>\n",
       "      <td>...</td>\n",
       "      <td>...</td>\n",
       "      <td>...</td>\n",
       "      <td>...</td>\n",
       "    </tr>\n",
       "    <tr>\n",
       "      <th>53715</th>\n",
       "      <td>688799</td>\n",
       "      <td>华纳药厂</td>\n",
       "      <td>2022-12-31</td>\n",
       "      <td>MD&amp;A</td>\n",
       "      <td>2023-04-29</td>\n",
       "      <td>4312k</td>\n",
       "      <td>21188</td>\n",
       "      <td>10185</td>\n",
       "      <td>473</td>\n",
       "      <td>0.049092</td>\n",
       "    </tr>\n",
       "    <tr>\n",
       "      <th>53716</th>\n",
       "      <td>688800</td>\n",
       "      <td>瑞可达</td>\n",
       "      <td>2022-12-31</td>\n",
       "      <td>MD&amp;A</td>\n",
       "      <td>2023-04-11</td>\n",
       "      <td>4843k</td>\n",
       "      <td>21346</td>\n",
       "      <td>9834</td>\n",
       "      <td>407</td>\n",
       "      <td>0.061013</td>\n",
       "    </tr>\n",
       "    <tr>\n",
       "      <th>53717</th>\n",
       "      <td>688819</td>\n",
       "      <td>天能股份</td>\n",
       "      <td>2022-12-31</td>\n",
       "      <td>MD&amp;A</td>\n",
       "      <td>2023-03-25</td>\n",
       "      <td>4496k</td>\n",
       "      <td>20188</td>\n",
       "      <td>9452</td>\n",
       "      <td>458</td>\n",
       "      <td>0.031739</td>\n",
       "    </tr>\n",
       "    <tr>\n",
       "      <th>53718</th>\n",
       "      <td>688981</td>\n",
       "      <td>中芯国际</td>\n",
       "      <td>2022-12-31</td>\n",
       "      <td>MD&amp;A</td>\n",
       "      <td>2023-03-29</td>\n",
       "      <td>3942k</td>\n",
       "      <td>13266</td>\n",
       "      <td>6209</td>\n",
       "      <td>344</td>\n",
       "      <td>0.048317</td>\n",
       "    </tr>\n",
       "    <tr>\n",
       "      <th>53719</th>\n",
       "      <td>689009</td>\n",
       "      <td>九号公司</td>\n",
       "      <td>2022-12-31</td>\n",
       "      <td>MD&amp;A</td>\n",
       "      <td>2023-03-31</td>\n",
       "      <td>4811k</td>\n",
       "      <td>17847</td>\n",
       "      <td>8499</td>\n",
       "      <td>419</td>\n",
       "      <td>0.035298</td>\n",
       "    </tr>\n",
       "  </tbody>\n",
       "</table>\n",
       "<p>53720 rows × 10 columns</p>\n",
       "</div>"
      ],
      "text/plain": [
       "       security_code security_name rep_period rep_type release_date rep_size  \\\n",
       "0                  1          平安银行 2001-12-31     MD&A   2002-04-18     422k   \n",
       "1                  3        PT 金田A 2001-12-31     MD&A   2002-04-29     298k   \n",
       "2                  4          国农科技 2001-12-31     MD&A   2002-03-26     516k   \n",
       "3                  5          世纪星源 2001-12-31     MD&A   2002-04-17     315k   \n",
       "4                  6          深振业A 2001-12-31     MD&A   2002-04-15     358k   \n",
       "...              ...           ...        ...      ...          ...      ...   \n",
       "53715         688799          华纳药厂 2022-12-31     MD&A   2023-04-29    4312k   \n",
       "53716         688800           瑞可达 2022-12-31     MD&A   2023-04-11    4843k   \n",
       "53717         688819          天能股份 2022-12-31     MD&A   2023-03-25    4496k   \n",
       "53718         688981          中芯国际 2022-12-31     MD&A   2023-03-29    3942k   \n",
       "53719         689009          九号公司 2022-12-31     MD&A   2023-03-31    4811k   \n",
       "\n",
       "       cnt_char  cnt_word  cnt_sent    myopia  \n",
       "0          2824      1324         8  0.075529  \n",
       "1          1130       496         8  0.000000  \n",
       "2          2660      1310         9  0.152672  \n",
       "3          1717       861        47  0.348432  \n",
       "4          2952      1447        67  0.276434  \n",
       "...         ...       ...       ...       ...  \n",
       "53715     21188     10185       473  0.049092  \n",
       "53716     21346      9834       407  0.061013  \n",
       "53717     20188      9452       458  0.031739  \n",
       "53718     13266      6209       344  0.048317  \n",
       "53719     17847      8499       419  0.035298  \n",
       "\n",
       "[53720 rows x 10 columns]"
      ]
     },
     "execution_count": 8,
     "metadata": {},
     "output_type": "execute_result"
    }
   ],
   "source": [
    "df_boss"
   ]
  },
  {
   "cell_type": "markdown",
   "id": "6d51a354",
   "metadata": {},
   "source": [
    "# Wind ESG评分"
   ]
  },
  {
   "cell_type": "code",
   "execution_count": 2,
   "id": "8d3ab266",
   "metadata": {
    "ExecuteTime": {
     "end_time": "2024-01-22T07:50:36.699171Z",
     "start_time": "2024-01-22T07:50:35.216348Z"
    },
    "scrolled": true
   },
   "outputs": [
    {
     "data": {
      "text/html": [
       "<div>\n",
       "<style scoped>\n",
       "    .dataframe tbody tr th:only-of-type {\n",
       "        vertical-align: middle;\n",
       "    }\n",
       "\n",
       "    .dataframe tbody tr th {\n",
       "        vertical-align: top;\n",
       "    }\n",
       "\n",
       "    .dataframe thead th {\n",
       "        text-align: right;\n",
       "    }\n",
       "</style>\n",
       "<table border=\"1\" class=\"dataframe\">\n",
       "  <thead>\n",
       "    <tr style=\"text-align: right;\">\n",
       "      <th></th>\n",
       "      <th>证券代码</th>\n",
       "      <th>证券简称</th>\n",
       "      <th>Wind ESG评级2018</th>\n",
       "      <th>Wind ESG评级2019</th>\n",
       "      <th>Wind ESG评级2020</th>\n",
       "      <th>Wind ESG评级2021</th>\n",
       "      <th>Wind ESG评级2022</th>\n",
       "      <th>Wind ESG综合得分2018</th>\n",
       "      <th>Wind ESG综合得分2019</th>\n",
       "      <th>Wind ESG综合得分2020</th>\n",
       "      <th>...</th>\n",
       "      <th>社会维度得分2018</th>\n",
       "      <th>社会维度得分2019</th>\n",
       "      <th>社会维度得分2020</th>\n",
       "      <th>社会维度得分2021</th>\n",
       "      <th>社会维度得分2022</th>\n",
       "      <th>治理维度得分2018</th>\n",
       "      <th>治理维度得分2019</th>\n",
       "      <th>治理维度得分2020</th>\n",
       "      <th>治理维度得分2021</th>\n",
       "      <th>治理维度得分2022</th>\n",
       "    </tr>\n",
       "  </thead>\n",
       "  <tbody>\n",
       "    <tr>\n",
       "      <th>0</th>\n",
       "      <td>1</td>\n",
       "      <td>平安银行</td>\n",
       "      <td>B</td>\n",
       "      <td>BB</td>\n",
       "      <td>BBB</td>\n",
       "      <td>A</td>\n",
       "      <td>A</td>\n",
       "      <td>5.03</td>\n",
       "      <td>5.86</td>\n",
       "      <td>5.82</td>\n",
       "      <td>...</td>\n",
       "      <td>1.75</td>\n",
       "      <td>5.35</td>\n",
       "      <td>3.81</td>\n",
       "      <td>7.48</td>\n",
       "      <td>8.03</td>\n",
       "      <td>7.45</td>\n",
       "      <td>7.24</td>\n",
       "      <td>7.87</td>\n",
       "      <td>7.81</td>\n",
       "      <td>7.46</td>\n",
       "    </tr>\n",
       "    <tr>\n",
       "      <th>1</th>\n",
       "      <td>2</td>\n",
       "      <td>万科A</td>\n",
       "      <td>A</td>\n",
       "      <td>AA</td>\n",
       "      <td>AA</td>\n",
       "      <td>AA</td>\n",
       "      <td>A</td>\n",
       "      <td>7.54</td>\n",
       "      <td>8.12</td>\n",
       "      <td>8.88</td>\n",
       "      <td>...</td>\n",
       "      <td>4.02</td>\n",
       "      <td>7.10</td>\n",
       "      <td>7.41</td>\n",
       "      <td>7.23</td>\n",
       "      <td>6.86</td>\n",
       "      <td>8.45</td>\n",
       "      <td>9.60</td>\n",
       "      <td>9.25</td>\n",
       "      <td>9.06</td>\n",
       "      <td>8.18</td>\n",
       "    </tr>\n",
       "    <tr>\n",
       "      <th>2</th>\n",
       "      <td>4</td>\n",
       "      <td>ST国华</td>\n",
       "      <td>B</td>\n",
       "      <td>B</td>\n",
       "      <td>BBB</td>\n",
       "      <td>BBB</td>\n",
       "      <td>BBB</td>\n",
       "      <td>3.77</td>\n",
       "      <td>4.98</td>\n",
       "      <td>6.41</td>\n",
       "      <td>...</td>\n",
       "      <td>0.77</td>\n",
       "      <td>1.14</td>\n",
       "      <td>3.38</td>\n",
       "      <td>3.30</td>\n",
       "      <td>6.07</td>\n",
       "      <td>2.76</td>\n",
       "      <td>5.71</td>\n",
       "      <td>7.85</td>\n",
       "      <td>8.31</td>\n",
       "      <td>5.07</td>\n",
       "    </tr>\n",
       "    <tr>\n",
       "      <th>3</th>\n",
       "      <td>5</td>\n",
       "      <td>ST星源</td>\n",
       "      <td>B</td>\n",
       "      <td>B</td>\n",
       "      <td>B</td>\n",
       "      <td>B</td>\n",
       "      <td>CCC</td>\n",
       "      <td>4.29</td>\n",
       "      <td>4.65</td>\n",
       "      <td>4.64</td>\n",
       "      <td>...</td>\n",
       "      <td>0.94</td>\n",
       "      <td>2.15</td>\n",
       "      <td>2.56</td>\n",
       "      <td>2.68</td>\n",
       "      <td>2.50</td>\n",
       "      <td>4.59</td>\n",
       "      <td>4.87</td>\n",
       "      <td>4.34</td>\n",
       "      <td>4.52</td>\n",
       "      <td>4.19</td>\n",
       "    </tr>\n",
       "    <tr>\n",
       "      <th>4</th>\n",
       "      <td>6</td>\n",
       "      <td>深振业A</td>\n",
       "      <td>BB</td>\n",
       "      <td>BB</td>\n",
       "      <td>BBB</td>\n",
       "      <td>BB</td>\n",
       "      <td>BB</td>\n",
       "      <td>5.72</td>\n",
       "      <td>5.69</td>\n",
       "      <td>6.12</td>\n",
       "      <td>...</td>\n",
       "      <td>1.10</td>\n",
       "      <td>2.50</td>\n",
       "      <td>2.86</td>\n",
       "      <td>1.18</td>\n",
       "      <td>1.53</td>\n",
       "      <td>7.47</td>\n",
       "      <td>6.26</td>\n",
       "      <td>7.40</td>\n",
       "      <td>6.74</td>\n",
       "      <td>7.80</td>\n",
       "    </tr>\n",
       "    <tr>\n",
       "      <th>...</th>\n",
       "      <td>...</td>\n",
       "      <td>...</td>\n",
       "      <td>...</td>\n",
       "      <td>...</td>\n",
       "      <td>...</td>\n",
       "      <td>...</td>\n",
       "      <td>...</td>\n",
       "      <td>...</td>\n",
       "      <td>...</td>\n",
       "      <td>...</td>\n",
       "      <td>...</td>\n",
       "      <td>...</td>\n",
       "      <td>...</td>\n",
       "      <td>...</td>\n",
       "      <td>...</td>\n",
       "      <td>...</td>\n",
       "      <td>...</td>\n",
       "      <td>...</td>\n",
       "      <td>...</td>\n",
       "      <td>...</td>\n",
       "      <td>...</td>\n",
       "    </tr>\n",
       "    <tr>\n",
       "      <th>5121</th>\n",
       "      <td>873169</td>\n",
       "      <td>七丰精工</td>\n",
       "      <td>NaN</td>\n",
       "      <td>NaN</td>\n",
       "      <td>NaN</td>\n",
       "      <td>NaN</td>\n",
       "      <td>CCC</td>\n",
       "      <td>NaN</td>\n",
       "      <td>NaN</td>\n",
       "      <td>NaN</td>\n",
       "      <td>...</td>\n",
       "      <td>NaN</td>\n",
       "      <td>NaN</td>\n",
       "      <td>NaN</td>\n",
       "      <td>NaN</td>\n",
       "      <td>2.52</td>\n",
       "      <td>NaN</td>\n",
       "      <td>NaN</td>\n",
       "      <td>NaN</td>\n",
       "      <td>NaN</td>\n",
       "      <td>1.28</td>\n",
       "    </tr>\n",
       "    <tr>\n",
       "      <th>5122</th>\n",
       "      <td>873223</td>\n",
       "      <td>荣亿精密</td>\n",
       "      <td>NaN</td>\n",
       "      <td>NaN</td>\n",
       "      <td>NaN</td>\n",
       "      <td>NaN</td>\n",
       "      <td>B</td>\n",
       "      <td>NaN</td>\n",
       "      <td>NaN</td>\n",
       "      <td>NaN</td>\n",
       "      <td>...</td>\n",
       "      <td>NaN</td>\n",
       "      <td>NaN</td>\n",
       "      <td>NaN</td>\n",
       "      <td>NaN</td>\n",
       "      <td>4.16</td>\n",
       "      <td>NaN</td>\n",
       "      <td>NaN</td>\n",
       "      <td>NaN</td>\n",
       "      <td>NaN</td>\n",
       "      <td>1.00</td>\n",
       "    </tr>\n",
       "    <tr>\n",
       "      <th>5123</th>\n",
       "      <td>873305</td>\n",
       "      <td>九菱科技</td>\n",
       "      <td>NaN</td>\n",
       "      <td>NaN</td>\n",
       "      <td>NaN</td>\n",
       "      <td>NaN</td>\n",
       "      <td>NaN</td>\n",
       "      <td>NaN</td>\n",
       "      <td>NaN</td>\n",
       "      <td>NaN</td>\n",
       "      <td>...</td>\n",
       "      <td>NaN</td>\n",
       "      <td>NaN</td>\n",
       "      <td>NaN</td>\n",
       "      <td>NaN</td>\n",
       "      <td>NaN</td>\n",
       "      <td>NaN</td>\n",
       "      <td>NaN</td>\n",
       "      <td>NaN</td>\n",
       "      <td>NaN</td>\n",
       "      <td>NaN</td>\n",
       "    </tr>\n",
       "    <tr>\n",
       "      <th>5124</th>\n",
       "      <td>873339</td>\n",
       "      <td>恒太照明</td>\n",
       "      <td>NaN</td>\n",
       "      <td>NaN</td>\n",
       "      <td>NaN</td>\n",
       "      <td>NaN</td>\n",
       "      <td>NaN</td>\n",
       "      <td>NaN</td>\n",
       "      <td>NaN</td>\n",
       "      <td>NaN</td>\n",
       "      <td>...</td>\n",
       "      <td>NaN</td>\n",
       "      <td>NaN</td>\n",
       "      <td>NaN</td>\n",
       "      <td>NaN</td>\n",
       "      <td>NaN</td>\n",
       "      <td>NaN</td>\n",
       "      <td>NaN</td>\n",
       "      <td>NaN</td>\n",
       "      <td>NaN</td>\n",
       "      <td>NaN</td>\n",
       "    </tr>\n",
       "    <tr>\n",
       "      <th>5125</th>\n",
       "      <td>873527</td>\n",
       "      <td>夜光明</td>\n",
       "      <td>NaN</td>\n",
       "      <td>NaN</td>\n",
       "      <td>NaN</td>\n",
       "      <td>NaN</td>\n",
       "      <td>NaN</td>\n",
       "      <td>NaN</td>\n",
       "      <td>NaN</td>\n",
       "      <td>NaN</td>\n",
       "      <td>...</td>\n",
       "      <td>NaN</td>\n",
       "      <td>NaN</td>\n",
       "      <td>NaN</td>\n",
       "      <td>NaN</td>\n",
       "      <td>NaN</td>\n",
       "      <td>NaN</td>\n",
       "      <td>NaN</td>\n",
       "      <td>NaN</td>\n",
       "      <td>NaN</td>\n",
       "      <td>NaN</td>\n",
       "    </tr>\n",
       "  </tbody>\n",
       "</table>\n",
       "<p>5126 rows × 37 columns</p>\n",
       "</div>"
      ],
      "text/plain": [
       "        证券代码  证券简称 Wind ESG评级2018 Wind ESG评级2019 Wind ESG评级2020  \\\n",
       "0          1  平安银行              B             BB            BBB   \n",
       "1          2   万科A              A             AA             AA   \n",
       "2          4  ST国华              B              B            BBB   \n",
       "3          5  ST星源              B              B              B   \n",
       "4          6  深振业A             BB             BB            BBB   \n",
       "...      ...   ...            ...            ...            ...   \n",
       "5121  873169  七丰精工            NaN            NaN            NaN   \n",
       "5122  873223  荣亿精密            NaN            NaN            NaN   \n",
       "5123  873305  九菱科技            NaN            NaN            NaN   \n",
       "5124  873339  恒太照明            NaN            NaN            NaN   \n",
       "5125  873527   夜光明            NaN            NaN            NaN   \n",
       "\n",
       "     Wind ESG评级2021 Wind ESG评级2022  Wind ESG综合得分2018  Wind ESG综合得分2019  \\\n",
       "0                 A              A              5.03              5.86   \n",
       "1                AA              A              7.54              8.12   \n",
       "2               BBB            BBB              3.77              4.98   \n",
       "3                 B            CCC              4.29              4.65   \n",
       "4                BB             BB              5.72              5.69   \n",
       "...             ...            ...               ...               ...   \n",
       "5121            NaN            CCC               NaN               NaN   \n",
       "5122            NaN              B               NaN               NaN   \n",
       "5123            NaN            NaN               NaN               NaN   \n",
       "5124            NaN            NaN               NaN               NaN   \n",
       "5125            NaN            NaN               NaN               NaN   \n",
       "\n",
       "      Wind ESG综合得分2020  ...  社会维度得分2018  社会维度得分2019  社会维度得分2020  社会维度得分2021  \\\n",
       "0                 5.82  ...        1.75        5.35        3.81        7.48   \n",
       "1                 8.88  ...        4.02        7.10        7.41        7.23   \n",
       "2                 6.41  ...        0.77        1.14        3.38        3.30   \n",
       "3                 4.64  ...        0.94        2.15        2.56        2.68   \n",
       "4                 6.12  ...        1.10        2.50        2.86        1.18   \n",
       "...                ...  ...         ...         ...         ...         ...   \n",
       "5121               NaN  ...         NaN         NaN         NaN         NaN   \n",
       "5122               NaN  ...         NaN         NaN         NaN         NaN   \n",
       "5123               NaN  ...         NaN         NaN         NaN         NaN   \n",
       "5124               NaN  ...         NaN         NaN         NaN         NaN   \n",
       "5125               NaN  ...         NaN         NaN         NaN         NaN   \n",
       "\n",
       "      社会维度得分2022  治理维度得分2018  治理维度得分2019  治理维度得分2020  治理维度得分2021  治理维度得分2022  \n",
       "0           8.03        7.45        7.24        7.87        7.81        7.46  \n",
       "1           6.86        8.45        9.60        9.25        9.06        8.18  \n",
       "2           6.07        2.76        5.71        7.85        8.31        5.07  \n",
       "3           2.50        4.59        4.87        4.34        4.52        4.19  \n",
       "4           1.53        7.47        6.26        7.40        6.74        7.80  \n",
       "...          ...         ...         ...         ...         ...         ...  \n",
       "5121        2.52         NaN         NaN         NaN         NaN        1.28  \n",
       "5122        4.16         NaN         NaN         NaN         NaN        1.00  \n",
       "5123         NaN         NaN         NaN         NaN         NaN         NaN  \n",
       "5124         NaN         NaN         NaN         NaN         NaN         NaN  \n",
       "5125         NaN         NaN         NaN         NaN         NaN         NaN  \n",
       "\n",
       "[5126 rows x 37 columns]"
      ]
     },
     "execution_count": 2,
     "metadata": {},
     "output_type": "execute_result"
    }
   ],
   "source": [
    "df_wind_esg = pd.read_excel(\"/Users/improvise/Desktop/保研/实证论文/ESG/Playground/00_DataBase/06_ESG数据集大全整理可涵盖2022-2009年赋值法年度面板数据细分整理/Wind ESG评级2018-2022年数据.xlsx\")"
   ]
  },
  {
   "cell_type": "code",
   "execution_count": 3,
   "id": "d79680e9",
   "metadata": {
    "ExecuteTime": {
     "end_time": "2024-01-22T07:51:15.281753Z",
     "start_time": "2024-01-22T07:51:15.256878Z"
    },
    "scrolled": true
   },
   "outputs": [
    {
     "name": "stdout",
     "output_type": "stream",
     "text": [
      "<class 'pandas.core.frame.DataFrame'>\n",
      "RangeIndex: 5126 entries, 0 to 5125\n",
      "Data columns (total 37 columns):\n",
      " #   Column            Non-Null Count  Dtype  \n",
      "---  ------            --------------  -----  \n",
      " 0   证券代码              5126 non-null   int64  \n",
      " 1   证券简称              5126 non-null   object \n",
      " 2   Wind ESG评级2018    3382 non-null   object \n",
      " 3   Wind ESG评级2019    3490 non-null   object \n",
      " 4   Wind ESG评级2020    3733 non-null   object \n",
      " 5   Wind ESG评级2021    4628 non-null   object \n",
      " 6   Wind ESG评级2022    4810 non-null   object \n",
      " 7   Wind ESG综合得分2018  3384 non-null   float64\n",
      " 8   Wind ESG综合得分2019  3490 non-null   float64\n",
      " 9   Wind ESG综合得分2020  3733 non-null   float64\n",
      " 10  Wind ESG综合得分2021  4628 non-null   float64\n",
      " 11  Wind ESG综合得分2022  4811 non-null   float64\n",
      " 12  ESG管理实践得分2018     3384 non-null   float64\n",
      " 13  ESG管理实践得分2019     3490 non-null   float64\n",
      " 14  ESG管理实践得分2020     3733 non-null   float64\n",
      " 15  ESG管理实践得分2021     4628 non-null   float64\n",
      " 16  ESG管理实践得分2022     4811 non-null   float64\n",
      " 17  ESG争议事件得分2018     3384 non-null   float64\n",
      " 18  ESG争议事件得分2019     3490 non-null   float64\n",
      " 19  ESG争议事件得分2020     3733 non-null   float64\n",
      " 20  ESG争议事件得分2021     4628 non-null   float64\n",
      " 21  ESG争议事件得分2022     4811 non-null   float64\n",
      " 22  环境维度得分2018        3383 non-null   float64\n",
      " 23  环境维度得分2019        3490 non-null   float64\n",
      " 24  环境维度得分2020        3733 non-null   float64\n",
      " 25  环境维度得分2021        4628 non-null   float64\n",
      " 26  环境维度得分2022        4811 non-null   float64\n",
      " 27  社会维度得分2018        3384 non-null   float64\n",
      " 28  社会维度得分2019        3490 non-null   float64\n",
      " 29  社会维度得分2020        3733 non-null   float64\n",
      " 30  社会维度得分2021        4628 non-null   float64\n",
      " 31  社会维度得分2022        4811 non-null   float64\n",
      " 32  治理维度得分2018        3384 non-null   float64\n",
      " 33  治理维度得分2019        3490 non-null   float64\n",
      " 34  治理维度得分2020        3733 non-null   float64\n",
      " 35  治理维度得分2021        4628 non-null   float64\n",
      " 36  治理维度得分2022        4811 non-null   float64\n",
      "dtypes: float64(30), int64(1), object(6)\n",
      "memory usage: 1.4+ MB\n"
     ]
    }
   ],
   "source": [
    "df_wind_esg.info()"
   ]
  },
  {
   "cell_type": "code",
   "execution_count": 4,
   "id": "7ee65c38",
   "metadata": {
    "ExecuteTime": {
     "end_time": "2024-01-22T07:53:56.144121Z",
     "start_time": "2024-01-22T07:53:55.912923Z"
    }
   },
   "outputs": [],
   "source": [
    "df_PDF_main = pd.read_excel(\"/Users/improvise/Desktop/保研/实证论文/ESG/Playground/05_DataIntegration2/df_PDF_main10.xlsx\")"
   ]
  },
  {
   "cell_type": "code",
   "execution_count": 5,
   "id": "c40ca376",
   "metadata": {
    "ExecuteTime": {
     "end_time": "2024-01-22T07:54:51.276236Z",
     "start_time": "2024-01-22T07:54:51.273060Z"
    }
   },
   "outputs": [],
   "source": [
    "df_wind2 = pd.DataFrame()"
   ]
  },
  {
   "cell_type": "code",
   "execution_count": 6,
   "id": "a9cdcefa",
   "metadata": {
    "ExecuteTime": {
     "end_time": "2024-01-22T07:55:57.025073Z",
     "start_time": "2024-01-22T07:55:57.020673Z"
    }
   },
   "outputs": [],
   "source": [
    "df_wind2['Corp_code'] =  df_wind_esg['证券代码']"
   ]
  },
  {
   "cell_type": "code",
   "execution_count": 7,
   "id": "ebafeb5f",
   "metadata": {
    "ExecuteTime": {
     "end_time": "2024-01-22T07:56:39.632253Z",
     "start_time": "2024-01-22T07:56:39.625013Z"
    }
   },
   "outputs": [],
   "source": [
    "df_wind2_2020 = df_wind2.copy()\n",
    "df_wind2_2020['Pub_year'] = 2020\n",
    "\n",
    "df_wind2_2021= df_wind2.copy()\n",
    "df_wind2_2021['Pub_year'] = 2021\n",
    "\n",
    "df_wind2_2022 = df_wind2.copy()\n",
    "df_wind2_2022['Pub_year'] = 2022"
   ]
  },
  {
   "cell_type": "code",
   "execution_count": 8,
   "id": "10729eb3",
   "metadata": {
    "ExecuteTime": {
     "end_time": "2024-01-22T07:57:33.413033Z",
     "start_time": "2024-01-22T07:57:33.406311Z"
    }
   },
   "outputs": [],
   "source": [
    "df_wind2 = pd.concat([df_wind2_2020, df_wind2_2021, df_wind2_2022]).sort_values(by='Corp_code')"
   ]
  },
  {
   "cell_type": "code",
   "execution_count": 11,
   "id": "0e865afa",
   "metadata": {
    "ExecuteTime": {
     "end_time": "2024-01-22T07:58:00.337549Z",
     "start_time": "2024-01-22T07:58:00.334258Z"
    }
   },
   "outputs": [],
   "source": [
    "df_wind2['Wind_ESG'] = np.nan"
   ]
  },
  {
   "cell_type": "code",
   "execution_count": 12,
   "id": "698fc2b7",
   "metadata": {
    "ExecuteTime": {
     "end_time": "2024-01-22T07:59:25.918957Z",
     "start_time": "2024-01-22T07:59:25.912070Z"
    }
   },
   "outputs": [],
   "source": [
    "for year in range(2020,2023):\n",
    "    df_wind2.loc[df_wind2['Pub_year']==year, 'Wind_ESG'] = df_wind_esg[f'Wind ESG综合得分{year}']"
   ]
  },
  {
   "cell_type": "code",
   "execution_count": 13,
   "id": "e91c1047",
   "metadata": {
    "ExecuteTime": {
     "end_time": "2024-01-22T08:00:09.664292Z",
     "start_time": "2024-01-22T08:00:09.647501Z"
    }
   },
   "outputs": [],
   "source": [
    "df_wind2['Pub_year'] = df_wind2['Pub_year'].astype(str)\n",
    "df_PDF_main['Pub_year'] = df_PDF_main['Pub_year'].astype(str)"
   ]
  },
  {
   "cell_type": "code",
   "execution_count": 15,
   "id": "1a55de45",
   "metadata": {
    "ExecuteTime": {
     "end_time": "2024-01-22T08:01:27.177314Z",
     "start_time": "2024-01-22T08:01:27.160796Z"
    }
   },
   "outputs": [
    {
     "name": "stdout",
     "output_type": "stream",
     "text": [
      "<class 'pandas.core.frame.DataFrame'>\n",
      "Int64Index: 15378 entries, 0 to 5125\n",
      "Data columns (total 3 columns):\n",
      " #   Column     Non-Null Count  Dtype  \n",
      "---  ------     --------------  -----  \n",
      " 0   Corp_code  15378 non-null  int64  \n",
      " 1   Pub_year   15378 non-null  object \n",
      " 2   Wind_ESG   13172 non-null  float64\n",
      "dtypes: float64(1), int64(1), object(1)\n",
      "memory usage: 480.6+ KB\n"
     ]
    }
   ],
   "source": [
    "df_wind2.info()"
   ]
  },
  {
   "cell_type": "code",
   "execution_count": 19,
   "id": "3e35f186",
   "metadata": {
    "ExecuteTime": {
     "end_time": "2024-01-22T08:02:58.480480Z",
     "start_time": "2024-01-22T08:02:58.225956Z"
    },
    "scrolled": true
   },
   "outputs": [
    {
     "name": "stdout",
     "output_type": "stream",
     "text": [
      "<class 'pandas.core.frame.DataFrame'>\n",
      "RangeIndex: 1045 entries, 0 to 1044\n",
      "Data columns (total 50 columns):\n",
      " #   Column                Non-Null Count  Dtype  \n",
      "---  ------                --------------  -----  \n",
      " 0   PDF_name              1045 non-null   object \n",
      " 1   Corp_code             1045 non-null   int64  \n",
      " 2   Corp_name             1045 non-null   object \n",
      " 3   Corp_market           1045 non-null   object \n",
      " 4   Pub_year              1045 non-null   int64  \n",
      " 5   Pub_type              1045 non-null   object \n",
      " 6   PDF_pages             1045 non-null   int64  \n",
      " 7   img_num               1045 non-null   int64  \n",
      " 8   img_size_avg          1045 non-null   float64\n",
      " 9   img_num_pages_ratio   1045 non-null   float64\n",
      " 10  img_size_pages_ratio  1045 non-null   float64\n",
      " 11  dist_diag_ratio       960 non-null    float64\n",
      " 12  Corp_industry_code    1039 non-null   object \n",
      " 13  Mono_idst             1045 non-null   bool   \n",
      " 14  Poll_idst             1045 non-null   bool   \n",
      " 15  ROA                   1032 non-null   float64\n",
      " 16  ROE                   1032 non-null   float64\n",
      " 17  OperateDuration       1039 non-null   float64\n",
      " 18  BloombergESG          378 non-null    float64\n",
      " 19  BloombergE            378 non-null    float64\n",
      " 20  BloombergS            378 non-null    float64\n",
      " 21  BloombergG            378 non-null    float64\n",
      " 22  ShortName             378 non-null    object \n",
      " 23  STPT                  378 non-null    float64\n",
      " 24  金融业                   378 non-null    float64\n",
      " 25  资不抵债                  378 non-null    float64\n",
      " 26  沪深上市                  378 non-null    float64\n",
      " 27  北京上市                  378 non-null    float64\n",
      " 28  IndustryName          378 non-null    object \n",
      " 29  Industry1             378 non-null    object \n",
      " 30  Industry2             378 non-null    object \n",
      " 31  PROVINCECODE          375 non-null    float64\n",
      " 32  PROVINCE              378 non-null    object \n",
      " 33  CITYCODE              375 non-null    float64\n",
      " 34  CITY                  378 non-null    object \n",
      " 35  East                  375 non-null    float64\n",
      " 36  West                  375 non-null    float64\n",
      " 37  Mid                   375 non-null    float64\n",
      " 38  HighTech_1            378 non-null    float64\n",
      " 39  HighTech_2            378 non-null    float64\n",
      " 40  Pollute_1             378 non-null    float64\n",
      " 41  Pollute_2             378 non-null    float64\n",
      " 42  Pollute_3             378 non-null    float64\n",
      " 43  EndDate               1045 non-null   object \n",
      " 44  Patents               248 non-null    float64\n",
      " 45  Invention             209 non-null    float64\n",
      " 46  AnaAttention          714 non-null    float64\n",
      " 47  ReportAttention       714 non-null    float64\n",
      " 48  FTSE_ESG_score        540 non-null    float64\n",
      " 49  word_simi_avg         1045 non-null   float64\n",
      "dtypes: bool(2), float64(32), int64(4), object(12)\n",
      "memory usage: 394.0+ KB\n"
     ]
    }
   ],
   "source": [
    "df_PDF_main09 = pd.read_excel(\"/Users/improvise/Desktop/保研/实证论文/ESG/Playground/05_DataIntegration2/df_PDF_main9.xlsx\")\n",
    "df_PDF_main09.info()"
   ]
  },
  {
   "cell_type": "code",
   "execution_count": 20,
   "id": "7d6bc356",
   "metadata": {
    "ExecuteTime": {
     "end_time": "2024-01-22T08:04:57.900184Z",
     "start_time": "2024-01-22T08:04:57.886245Z"
    }
   },
   "outputs": [],
   "source": [
    "df_PDF_main = df_PDF_main.merge(df_wind2[['Corp_code', 'Pub_year', 'Wind_ESG']], how='left',\n",
    "                 on=['Corp_code', 'Pub_year'])"
   ]
  },
  {
   "cell_type": "code",
   "execution_count": 21,
   "id": "81cfc5f2",
   "metadata": {
    "ExecuteTime": {
     "end_time": "2024-01-22T08:05:19.291063Z",
     "start_time": "2024-01-22T08:05:18.987187Z"
    }
   },
   "outputs": [],
   "source": [
    "df_PDF_main.to_excel(\"/Users/improvise/Desktop/保研/实证论文/ESG/Playground/05_DataIntegration2/df_PDF_main11.xlsx\")"
   ]
  },
  {
   "cell_type": "markdown",
   "id": "9fc6b14a-6125-41f3-afaf-4ebdae3f0b7d",
   "metadata": {},
   "source": [
    "# 其他国泰安数据  "
   ]
  },
  {
   "cell_type": "code",
   "execution_count": 54,
   "id": "704377c1-49b3-4691-b8b2-e14be70a374b",
   "metadata": {
    "scrolled": true
   },
   "outputs": [
    {
     "name": "stdout",
     "output_type": "stream",
     "text": [
      "<class 'pandas.core.frame.DataFrame'>\n",
      "RangeIndex: 1038 entries, 0 to 1037\n",
      "Data columns (total 52 columns):\n",
      " #   Column                Non-Null Count  Dtype  \n",
      "---  ------                --------------  -----  \n",
      " 0   Unnamed: 0            1038 non-null   int64  \n",
      " 1   PDF_name              1038 non-null   object \n",
      " 2   Corp_code             1038 non-null   int64  \n",
      " 3   Corp_name             1038 non-null   object \n",
      " 4   Corp_market           1038 non-null   object \n",
      " 5   Pub_year              1038 non-null   int64  \n",
      " 6   Pub_type              1038 non-null   object \n",
      " 7   PDF_pages             1038 non-null   int64  \n",
      " 8   img_num               1038 non-null   int64  \n",
      " 9   img_size_avg          1038 non-null   float64\n",
      " 10  img_num_pages_ratio   1038 non-null   float64\n",
      " 11  img_size_pages_ratio  1038 non-null   float64\n",
      " 12  dist_diag_ratio       953 non-null    float64\n",
      " 13  Corp_industry_code    1032 non-null   object \n",
      " 14  Mono_idst             1038 non-null   bool   \n",
      " 15  Poll_idst             1038 non-null   bool   \n",
      " 16  ROA                   1025 non-null   float64\n",
      " 17  ROE                   1025 non-null   float64\n",
      " 18  OperateDuration       1032 non-null   float64\n",
      " 19  BloombergESG          374 non-null    float64\n",
      " 20  BloombergE            374 non-null    float64\n",
      " 21  BloombergS            374 non-null    float64\n",
      " 22  BloombergG            374 non-null    float64\n",
      " 23  ShortName             374 non-null    object \n",
      " 24  STPT                  374 non-null    float64\n",
      " 25  金融业                   374 non-null    float64\n",
      " 26  资不抵债                  374 non-null    float64\n",
      " 27  沪深上市                  374 non-null    float64\n",
      " 28  北京上市                  374 non-null    float64\n",
      " 29  IndustryName          374 non-null    object \n",
      " 30  Industry1             374 non-null    object \n",
      " 31  Industry2             374 non-null    object \n",
      " 32  PROVINCECODE          371 non-null    float64\n",
      " 33  PROVINCE              374 non-null    object \n",
      " 34  CITYCODE              371 non-null    float64\n",
      " 35  CITY                  374 non-null    object \n",
      " 36  East                  371 non-null    float64\n",
      " 37  West                  371 non-null    float64\n",
      " 38  Mid                   371 non-null    float64\n",
      " 39  HighTech_1            374 non-null    float64\n",
      " 40  HighTech_2            374 non-null    float64\n",
      " 41  Pollute_1             374 non-null    float64\n",
      " 42  Pollute_2             374 non-null    float64\n",
      " 43  Pollute_3             374 non-null    float64\n",
      " 44  EndDate               1038 non-null   object \n",
      " 45  Patents               245 non-null    float64\n",
      " 46  Invention             207 non-null    float64\n",
      " 47  AnaAttention          707 non-null    float64\n",
      " 48  ReportAttention       707 non-null    float64\n",
      " 49  FTSE_ESG_score        535 non-null    float64\n",
      " 50  word_simi_avg         1038 non-null   float64\n",
      " 51  Wind_ESG              1010 non-null   float64\n",
      "dtypes: bool(2), float64(33), int64(5), object(12)\n",
      "memory usage: 407.6+ KB\n"
     ]
    }
   ],
   "source": [
    "df_PDF_main = pd.read_excel(\"/Users/improvise/Desktop/保研/实证论文/ESG/Playground/05_DataIntegration2/df_PDF_main11.xlsx\")\n",
    "df_PDF_main.info()"
   ]
  },
  {
   "cell_type": "markdown",
   "id": "45e2fa1a-fef4-4bb9-aeb0-086896fa5dc7",
   "metadata": {},
   "source": [
    "## 管理者 \n",
    "- Symbol [证券代码]  null\r\n",
    "- \n",
    "Enddate [统计截止日期]- nul l\n",
    "- \r\n",
    "StatisticalCaliber [统计口径 - 针对该表所有统计指标进行统计口径区分，1=年末在职人员；2=本年度所有人员（包含离职、在职、退休等人）\n",
    "- 。\r\n",
    "ManageHoldshares [高级管理人员持股数] - 包括兼任的\n",
    "- 情况\r\n",
    "Top3ManageSumSalary [高级管理人员前三名薪酬额] - 不包含津贴"
   ]
  },
  {
   "cell_type": "code",
   "execution_count": 55,
   "id": "4ccda6cf-03cc-4384-9fac-ec1eb029da82",
   "metadata": {},
   "outputs": [
    {
     "name": "stderr",
     "output_type": "stream",
     "text": [
      "/Users/improvise/miniconda/envs/Tannhauser/lib/python3.9/site-packages/openpyxl/styles/stylesheet.py:226: UserWarning: Workbook contains no default style, apply openpyxl's default\n",
      "  warn(\"Workbook contains no default style, apply openpyxl's default\")\n"
     ]
    }
   ],
   "source": [
    "df_manager = pd.read_excel(\"/Users/improvise/Desktop/保研/实证论文/ESG/Playground/00_DataBase/csmar/高管人数、持股及薪酬情况表171534660/CG_ManagerShareSalary.xlsx\")\n",
    "# df_manager.describe() "
   ]
  },
  {
   "cell_type": "code",
   "execution_count": 56,
   "id": "61a2b9a4-3fbd-4274-acbb-88e64f9773d9",
   "metadata": {},
   "outputs": [],
   "source": [
    "df_manager_1 = df_manager[df_manager['StatisticalCaliber']==\"1\"]"
   ]
  },
  {
   "cell_type": "code",
   "execution_count": 57,
   "id": "6237df4a-d43d-4fe6-ba6f-fcfe3987dc50",
   "metadata": {},
   "outputs": [
    {
     "name": "stderr",
     "output_type": "stream",
     "text": [
      "/var/folders/kd/t2wnd4h911v09vtv543hpkg80000gn/T/ipykernel_15788/2655510556.py:1: SettingWithCopyWarning: \n",
      "A value is trying to be set on a copy of a slice from a DataFrame\n",
      "\n",
      "See the caveats in the documentation: https://pandas.pydata.org/pandas-docs/stable/user_guide/indexing.html#returning-a-view-versus-a-copy\n",
      "  df_manager_1.rename(columns={\"Enddate\":\"Pub_year\", \"Symbol\":\"Corp_code\"}, inplace=True)\n"
     ]
    }
   ],
   "source": [
    "df_manager_1.rename(columns={\"Enddate\":\"Pub_year\", \"Symbol\":\"Corp_code\"}, inplace=True)"
   ]
  },
  {
   "cell_type": "code",
   "execution_count": 58,
   "id": "5a2efebd-a879-40f0-bc81-0ab7b6df98b2",
   "metadata": {},
   "outputs": [
    {
     "name": "stderr",
     "output_type": "stream",
     "text": [
      "/var/folders/kd/t2wnd4h911v09vtv543hpkg80000gn/T/ipykernel_15788/2590505547.py:1: SettingWithCopyWarning: \n",
      "A value is trying to be set on a copy of a slice from a DataFrame.\n",
      "Try using .loc[row_indexer,col_indexer] = value instead\n",
      "\n",
      "See the caveats in the documentation: https://pandas.pydata.org/pandas-docs/stable/user_guide/indexing.html#returning-a-view-versus-a-copy\n",
      "  df_manager_1['Pub_year'] = df_manager_1['Pub_year'].apply(lambda x: x.split('-')[0])\n"
     ]
    }
   ],
   "source": [
    "df_manager_1['Pub_year'] = df_manager_1['Pub_year'].apply(lambda x: x.split('-')[0])"
   ]
  },
  {
   "cell_type": "code",
   "execution_count": 59,
   "id": "bc7cb3a4-1d53-4269-99ba-1a219d1b2949",
   "metadata": {},
   "outputs": [
    {
     "name": "stderr",
     "output_type": "stream",
     "text": [
      "/var/folders/kd/t2wnd4h911v09vtv543hpkg80000gn/T/ipykernel_15788/1472829185.py:2: SettingWithCopyWarning: \n",
      "A value is trying to be set on a copy of a slice from a DataFrame.\n",
      "Try using .loc[row_indexer,col_indexer] = value instead\n",
      "\n",
      "See the caveats in the documentation: https://pandas.pydata.org/pandas-docs/stable/user_guide/indexing.html#returning-a-view-versus-a-copy\n",
      "  df_manager_1['Corp_code'] = df_manager_1[\"Corp_code\"].apply(lambda x: f\"{'0' * (6-len(str(x)))}{x}\" if len(str(x))<6 else str(x))\n",
      "/var/folders/kd/t2wnd4h911v09vtv543hpkg80000gn/T/ipykernel_15788/1472829185.py:5: SettingWithCopyWarning: \n",
      "A value is trying to be set on a copy of a slice from a DataFrame.\n",
      "Try using .loc[row_indexer,col_indexer] = value instead\n",
      "\n",
      "See the caveats in the documentation: https://pandas.pydata.org/pandas-docs/stable/user_guide/indexing.html#returning-a-view-versus-a-copy\n",
      "  df_manager_1['Pub_year'] = df_manager_1['Pub_year'].astype(str)\n"
     ]
    }
   ],
   "source": [
    "df_PDF_main['Corp_code'] = df_PDF_main[\"Corp_code\"].apply(lambda x: f\"{'0' * (6-len(str(x)))}{x}\" if len(str(x))<6 else str(x))\n",
    "df_manager_1['Corp_code'] = df_manager_1[\"Corp_code\"].apply(lambda x: f\"{'0' * (6-len(str(x)))}{x}\" if len(str(x))<6 else str(x))\n",
    "\n",
    "df_PDF_main['Pub_year'] = df_PDF_main['Pub_year'].astype(str)\n",
    "df_manager_1['Pub_year'] = df_manager_1['Pub_year'].astype(str)"
   ]
  },
  {
   "cell_type": "code",
   "execution_count": 68,
   "id": "0a0a7173-cc97-4572-a26f-fa2dcc468411",
   "metadata": {},
   "outputs": [],
   "source": [
    "df_PDF_main2 = df_PDF_main.merge(df_manager_1[['Corp_code', 'Pub_year', 'Top3ManageSumSalary']],\n",
    "                 on=['Corp_code','Pub_year'], how='left') "
   ]
  },
  {
   "cell_type": "code",
   "execution_count": 73,
   "id": "642a2f8b-70e2-44c4-a028-c0cb1d67f309",
   "metadata": {
    "scrolled": true
   },
   "outputs": [
    {
     "name": "stdout",
     "output_type": "stream",
     "text": [
      "<class 'pandas.core.frame.DataFrame'>\n",
      "RangeIndex: 1038 entries, 0 to 1037\n",
      "Data columns (total 52 columns):\n",
      " #   Column                Non-Null Count  Dtype  \n",
      "---  ------                --------------  -----  \n",
      " 0   PDF_name              1038 non-null   object \n",
      " 1   Corp_code             1038 non-null   object \n",
      " 2   Corp_name             1038 non-null   object \n",
      " 3   Corp_market           1038 non-null   object \n",
      " 4   Pub_year              1038 non-null   object \n",
      " 5   Pub_type              1038 non-null   object \n",
      " 6   PDF_pages             1038 non-null   int64  \n",
      " 7   img_num               1038 non-null   int64  \n",
      " 8   img_size_avg          1038 non-null   float64\n",
      " 9   img_num_pages_ratio   1038 non-null   float64\n",
      " 10  img_size_pages_ratio  1038 non-null   float64\n",
      " 11  dist_diag_ratio       953 non-null    float64\n",
      " 12  Corp_industry_code    1032 non-null   object \n",
      " 13  Mono_idst             1038 non-null   bool   \n",
      " 14  Poll_idst             1038 non-null   bool   \n",
      " 15  ROA                   1025 non-null   float64\n",
      " 16  ROE                   1025 non-null   float64\n",
      " 17  OperateDuration       1032 non-null   float64\n",
      " 18  BloombergESG          374 non-null    float64\n",
      " 19  BloombergE            374 non-null    float64\n",
      " 20  BloombergS            374 non-null    float64\n",
      " 21  BloombergG            374 non-null    float64\n",
      " 22  ShortName             374 non-null    object \n",
      " 23  STPT                  374 non-null    float64\n",
      " 24  金融业                   374 non-null    float64\n",
      " 25  资不抵债                  374 non-null    float64\n",
      " 26  沪深上市                  374 non-null    float64\n",
      " 27  北京上市                  374 non-null    float64\n",
      " 28  IndustryName          374 non-null    object \n",
      " 29  Industry1             374 non-null    object \n",
      " 30  Industry2             374 non-null    object \n",
      " 31  PROVINCECODE          371 non-null    float64\n",
      " 32  PROVINCE              374 non-null    object \n",
      " 33  CITYCODE              371 non-null    float64\n",
      " 34  CITY                  374 non-null    object \n",
      " 35  East                  371 non-null    float64\n",
      " 36  West                  371 non-null    float64\n",
      " 37  Mid                   371 non-null    float64\n",
      " 38  HighTech_1            374 non-null    float64\n",
      " 39  HighTech_2            374 non-null    float64\n",
      " 40  Pollute_1             374 non-null    float64\n",
      " 41  Pollute_2             374 non-null    float64\n",
      " 42  Pollute_3             374 non-null    float64\n",
      " 43  EndDate               1038 non-null   object \n",
      " 44  Patents               245 non-null    float64\n",
      " 45  Invention             207 non-null    float64\n",
      " 46  AnaAttention          707 non-null    float64\n",
      " 47  ReportAttention       707 non-null    float64\n",
      " 48  FTSE_ESG_score        535 non-null    float64\n",
      " 49  word_simi_avg         1038 non-null   float64\n",
      " 50  Wind_ESG              1010 non-null   float64\n",
      " 51  Top3ManageSumSalary   1027 non-null   object \n",
      "dtypes: bool(2), float64(33), int64(2), object(15)\n",
      "memory usage: 407.6+ KB\n"
     ]
    }
   ],
   "source": [
    "# df_PDF_main2.drop(columns='Unnamed: 0', inplace=True)\n",
    "df_PDF_main2.info()"
   ]
  },
  {
   "cell_type": "markdown",
   "id": "282bbff0-fcf0-4f16-ae48-42cf532c16b6",
   "metadata": {},
   "source": [
    "## 现金比率 \n",
    "```\n",
    "\n",
    "df_bas:\n",
    "- Stkcd [证券代码] - 以沪、深、北证券交易所公布的证券代码为准。\r",
    "- \n",
    "ShortName [证券简称] - 以沪、深、北证券交易所公布的证券简称为准。- \r\n",
    "Accper [统计截止日期] - YYYY-MM-DD，前四位表示会计报表公布年- 度\r\n",
    "Typrep [报表类型] - 指上市公司的财务报表中反映的是合并报表或者母公司报表。“A＝合并报表”、“B＝母公司报表- ”。\r\n",
    "A001000000 [资产总计] - 资产各项目之总计。1990年起使用\n",
    "\n",
    "df_comscfd:\n",
    "- Stkcd [证券代码] - 指上市公司所在的交易所公布的代码。\r",
    "- \n",
    "ShortName [证券简称] - 以沪、深、北证券交易所公布的证券简称为准。- \r\n",
    "Accper [统计截止日期] - 指会计报表日，统一用10位字符表示，如1999-12-31- 。\r\n",
    "Typrep [报表类型] - 指上市公司的财务报表中反映的是合并报表或者母公司报表。“A＝合并报表”、“B＝母公司报表- ”。\r\n",
    "C006000000 [期末现金及现金等价物余额] - 期末现金及现金等价物的余额.20\n",
    "\n",
    "\n",
    "```07年开始使用。"
   ]
  },
  {
   "cell_type": "code",
   "execution_count": 109,
   "id": "42aabd7c-ce90-469f-80a9-e7a1258e1ea7",
   "metadata": {},
   "outputs": [
    {
     "name": "stderr",
     "output_type": "stream",
     "text": [
      "/Users/improvise/miniconda/envs/Tannhauser/lib/python3.9/site-packages/openpyxl/styles/stylesheet.py:226: UserWarning: Workbook contains no default style, apply openpyxl's default\n",
      "  warn(\"Workbook contains no default style, apply openpyxl's default\")\n",
      "/Users/improvise/miniconda/envs/Tannhauser/lib/python3.9/site-packages/openpyxl/styles/stylesheet.py:226: UserWarning: Workbook contains no default style, apply openpyxl's default\n",
      "  warn(\"Workbook contains no default style, apply openpyxl's default\")\n"
     ]
    }
   ],
   "source": [
    "df_bas = pd.read_excel(\"/Users/improvise/Desktop/保研/实证论文/ESG/Playground/00_DataBase/csmar/资产负债表085805729/FS_Combas.xlsx\")\n",
    "df_comscfd = pd.read_excel(\"/Users/improvise/Desktop/保研/实证论文/ESG/Playground/00_DataBase/csmar/现金流量表(直接法)172420783/FS_Comscfd.xlsx\")"
   ]
  },
  {
   "cell_type": "code",
   "execution_count": 110,
   "id": "893a7d8c-aec5-4f99-bdb6-8a86bca77d09",
   "metadata": {},
   "outputs": [
    {
     "name": "stdout",
     "output_type": "stream",
     "text": [
      "<class 'pandas.core.frame.DataFrame'>\n",
      "RangeIndex: 569765 entries, 0 to 569764\n",
      "Data columns (total 5 columns):\n",
      " #   Column      Non-Null Count   Dtype \n",
      "---  ------      --------------   ----- \n",
      " 0   Stkcd       569765 non-null  object\n",
      " 1   ShortName   569765 non-null  object\n",
      " 2   Accper      569765 non-null  object\n",
      " 3   Typrep      569765 non-null  object\n",
      " 4   A001000000  569758 non-null  object\n",
      "dtypes: object(5)\n",
      "memory usage: 21.7+ MB\n",
      "<class 'pandas.core.frame.DataFrame'>\n",
      "RangeIndex: 546784 entries, 0 to 546783\n",
      "Data columns (total 5 columns):\n",
      " #   Column      Non-Null Count   Dtype \n",
      "---  ------      --------------   ----- \n",
      " 0   Stkcd       546784 non-null  object\n",
      " 1   ShortName   546784 non-null  object\n",
      " 2   Accper      546784 non-null  object\n",
      " 3   Typrep      546784 non-null  object\n",
      " 4   C006000000  545325 non-null  object\n",
      "dtypes: object(5)\n",
      "memory usage: 20.9+ MB\n"
     ]
    },
    {
     "data": {
      "text/plain": [
       "(None, None)"
      ]
     },
     "execution_count": 110,
     "metadata": {},
     "output_type": "execute_result"
    }
   ],
   "source": [
    "df_bas.info(), df_comscfd.info()"
   ]
  },
  {
   "cell_type": "code",
   "execution_count": 111,
   "id": "da700042-87dc-4f77-b3f0-2e4041f963d3",
   "metadata": {},
   "outputs": [],
   "source": [
    "# 获取表，包括stkcd, year, A001000000, C006000000 \n",
    "df_cash_ratio = pd.DataFrame()\n",
    "\n",
    "df_bas = df_bas[df_bas['Typrep'] == \"A\"]\n",
    "df_comscfd = df_comscfd[df_comscfd['Typrep'] == \"A\"]"
   ]
  },
  {
   "cell_type": "code",
   "execution_count": 112,
   "id": "58eb8ebb-5d77-46e3-be73-97c3d812d5a7",
   "metadata": {},
   "outputs": [
    {
     "name": "stderr",
     "output_type": "stream",
     "text": [
      "/var/folders/kd/t2wnd4h911v09vtv543hpkg80000gn/T/ipykernel_15788/3409826651.py:1: SettingWithCopyWarning: \n",
      "A value is trying to be set on a copy of a slice from a DataFrame.\n",
      "Try using .loc[row_indexer,col_indexer] = value instead\n",
      "\n",
      "See the caveats in the documentation: https://pandas.pydata.org/pandas-docs/stable/user_guide/indexing.html#returning-a-view-versus-a-copy\n",
      "  df_bas['Pub_year'] = df_bas['Accper'].apply(lambda x: x.split('-')[0])\n",
      "/var/folders/kd/t2wnd4h911v09vtv543hpkg80000gn/T/ipykernel_15788/3409826651.py:2: SettingWithCopyWarning: \n",
      "A value is trying to be set on a copy of a slice from a DataFrame.\n",
      "Try using .loc[row_indexer,col_indexer] = value instead\n",
      "\n",
      "See the caveats in the documentation: https://pandas.pydata.org/pandas-docs/stable/user_guide/indexing.html#returning-a-view-versus-a-copy\n",
      "  df_comscfd['Pub_year'] = df_comscfd['Accper'].apply(lambda x: x.split('-')[0])\n"
     ]
    }
   ],
   "source": [
    "df_bas['Pub_year'] = df_bas['Accper'].apply(lambda x: x.split('-')[0])\n",
    "df_comscfd['Pub_year'] = df_comscfd['Accper'].apply(lambda x: x.split('-')[0])"
   ]
  },
  {
   "cell_type": "code",
   "execution_count": 113,
   "id": "def3105f-9143-454c-9ca0-d6d860b991b9",
   "metadata": {},
   "outputs": [
    {
     "name": "stderr",
     "output_type": "stream",
     "text": [
      "/var/folders/kd/t2wnd4h911v09vtv543hpkg80000gn/T/ipykernel_15788/2214132265.py:2: SettingWithCopyWarning: \n",
      "A value is trying to be set on a copy of a slice from a DataFrame.\n",
      "Try using .loc[row_indexer,col_indexer] = value instead\n",
      "\n",
      "See the caveats in the documentation: https://pandas.pydata.org/pandas-docs/stable/user_guide/indexing.html#returning-a-view-versus-a-copy\n",
      "  df_bas['Month'] = df_bas['Accper'].apply(lambda x:  x.split(\"-\")[1])\n",
      "/var/folders/kd/t2wnd4h911v09vtv543hpkg80000gn/T/ipykernel_15788/2214132265.py:3: SettingWithCopyWarning: \n",
      "A value is trying to be set on a copy of a slice from a DataFrame.\n",
      "Try using .loc[row_indexer,col_indexer] = value instead\n",
      "\n",
      "See the caveats in the documentation: https://pandas.pydata.org/pandas-docs/stable/user_guide/indexing.html#returning-a-view-versus-a-copy\n",
      "  df_comscfd['Month'] = df_comscfd['Accper'].apply(lambda x: x.split('-')[1])\n"
     ]
    }
   ],
   "source": [
    "# 只要年末的数据 \n",
    "df_bas['Month'] = df_bas['Accper'].apply(lambda x:  x.split(\"-\")[1])\n",
    "df_comscfd['Month'] = df_comscfd['Accper'].apply(lambda x: x.split('-')[1])"
   ]
  },
  {
   "cell_type": "code",
   "execution_count": 114,
   "id": "102ee648-3818-4633-8d16-776ea0a0a8d8",
   "metadata": {},
   "outputs": [],
   "source": [
    "df_bas = df_bas[df_bas['Month']=='12']\n",
    "df_comscfd = df_comscfd[df_comscfd['Month']=='12']"
   ]
  },
  {
   "cell_type": "code",
   "execution_count": 115,
   "id": "5c1a3aef-320f-4519-83fa-64ca0f807e6e",
   "metadata": {},
   "outputs": [],
   "source": [
    "df_cash_ratio = pd.merge(df_bas[['Stkcd', 'Pub_year', 'A001000000']], df_comscfd[['Stkcd', 'Pub_year', 'C006000000']],\n",
    "         on=['Stkcd', 'Pub_year'], how='left')"
   ]
  },
  {
   "cell_type": "code",
   "execution_count": 116,
   "id": "eb0fb8da-c403-4729-be39-f448354f588f",
   "metadata": {},
   "outputs": [
    {
     "name": "stdout",
     "output_type": "stream",
     "text": [
      "<class 'pandas.core.frame.DataFrame'>\n",
      "RangeIndex: 64828 entries, 0 to 64827\n",
      "Data columns (total 4 columns):\n",
      " #   Column      Non-Null Count  Dtype \n",
      "---  ------      --------------  ----- \n",
      " 0   Stkcd       64828 non-null  object\n",
      " 1   Pub_year    64828 non-null  object\n",
      " 2   A001000000  64828 non-null  object\n",
      " 3   C006000000  62046 non-null  object\n",
      "dtypes: object(4)\n",
      "memory usage: 2.0+ MB\n"
     ]
    }
   ],
   "source": [
    "df_cash_ratio.info()"
   ]
  },
  {
   "cell_type": "code",
   "execution_count": 117,
   "id": "46b67b88-7e80-4278-8246-712067038165",
   "metadata": {},
   "outputs": [],
   "source": [
    "df_cash_ratio_2 = df_cash_ratio[(df_cash_ratio['Pub_year']=='2020') |(df_cash_ratio['Pub_year']=='2021')|(df_cash_ratio['Pub_year']=='2022')]"
   ]
  },
  {
   "cell_type": "code",
   "execution_count": 118,
   "id": "0f459ded-2851-4e16-9504-47dfb932fe5e",
   "metadata": {},
   "outputs": [
    {
     "name": "stderr",
     "output_type": "stream",
     "text": [
      "/var/folders/kd/t2wnd4h911v09vtv543hpkg80000gn/T/ipykernel_15788/2904470283.py:1: SettingWithCopyWarning: \n",
      "A value is trying to be set on a copy of a slice from a DataFrame.\n",
      "Try using .loc[row_indexer,col_indexer] = value instead\n",
      "\n",
      "See the caveats in the documentation: https://pandas.pydata.org/pandas-docs/stable/user_guide/indexing.html#returning-a-view-versus-a-copy\n",
      "  df_cash_ratio_2['cash_ratio'] = df_cash_ratio_2.apply(lambda row: row['C006000000'] / row['A001000000'], axis=1)\n"
     ]
    }
   ],
   "source": [
    "df_cash_ratio_2['cash_ratio'] = df_cash_ratio_2.apply(lambda row: row['C006000000'] / row['A001000000'], axis=1)"
   ]
  },
  {
   "cell_type": "code",
   "execution_count": 119,
   "id": "d804db2a-f37a-4790-8751-08b856d67d9f",
   "metadata": {},
   "outputs": [],
   "source": [
    "df_cash_ratio_2 = df_cash_ratio_2.rename(columns={'Stkcd':'Corp_code'})"
   ]
  },
  {
   "cell_type": "code",
   "execution_count": 103,
   "id": "0a9c3e8d-7a0b-49d4-a99f-ac798a257cd5",
   "metadata": {},
   "outputs": [
    {
     "data": {
      "text/html": [
       "<div>\n",
       "<style scoped>\n",
       "    .dataframe tbody tr th:only-of-type {\n",
       "        vertical-align: middle;\n",
       "    }\n",
       "\n",
       "    .dataframe tbody tr th {\n",
       "        vertical-align: top;\n",
       "    }\n",
       "\n",
       "    .dataframe thead th {\n",
       "        text-align: right;\n",
       "    }\n",
       "</style>\n",
       "<table border=\"1\" class=\"dataframe\">\n",
       "  <thead>\n",
       "    <tr style=\"text-align: right;\">\n",
       "      <th></th>\n",
       "      <th>Stkcd</th>\n",
       "      <th>ShortName</th>\n",
       "      <th>Accper</th>\n",
       "      <th>Typrep</th>\n",
       "      <th>A001000000</th>\n",
       "      <th>Pub_year</th>\n",
       "    </tr>\n",
       "  </thead>\n",
       "  <tbody>\n",
       "    <tr>\n",
       "      <th>481278</th>\n",
       "      <td>601066</td>\n",
       "      <td>中信建投</td>\n",
       "      <td>2020-01-01</td>\n",
       "      <td>A</td>\n",
       "      <td>285669623807.02002</td>\n",
       "      <td>2020</td>\n",
       "    </tr>\n",
       "    <tr>\n",
       "      <th>481280</th>\n",
       "      <td>601066</td>\n",
       "      <td>中信建投</td>\n",
       "      <td>2020-03-31</td>\n",
       "      <td>A</td>\n",
       "      <td>287013960879.130005</td>\n",
       "      <td>2020</td>\n",
       "    </tr>\n",
       "    <tr>\n",
       "      <th>481282</th>\n",
       "      <td>601066</td>\n",
       "      <td>中信建投</td>\n",
       "      <td>2020-06-30</td>\n",
       "      <td>A</td>\n",
       "      <td>311522057680.26001</td>\n",
       "      <td>2020</td>\n",
       "    </tr>\n",
       "    <tr>\n",
       "      <th>481284</th>\n",
       "      <td>601066</td>\n",
       "      <td>中信建投</td>\n",
       "      <td>2020-09-30</td>\n",
       "      <td>A</td>\n",
       "      <td>353800408439.080017</td>\n",
       "      <td>2020</td>\n",
       "    </tr>\n",
       "    <tr>\n",
       "      <th>481286</th>\n",
       "      <td>601066</td>\n",
       "      <td>中信建投</td>\n",
       "      <td>2020-12-31</td>\n",
       "      <td>A</td>\n",
       "      <td>371228143308.72998</td>\n",
       "      <td>2020</td>\n",
       "    </tr>\n",
       "  </tbody>\n",
       "</table>\n",
       "</div>"
      ],
      "text/plain": [
       "         Stkcd ShortName      Accper Typrep           A001000000 Pub_year\n",
       "481278  601066      中信建投  2020-01-01      A   285669623807.02002     2020\n",
       "481280  601066      中信建投  2020-03-31      A  287013960879.130005     2020\n",
       "481282  601066      中信建投  2020-06-30      A   311522057680.26001     2020\n",
       "481284  601066      中信建投  2020-09-30      A  353800408439.080017     2020\n",
       "481286  601066      中信建投  2020-12-31      A   371228143308.72998     2020"
      ]
     },
     "execution_count": 103,
     "metadata": {},
     "output_type": "execute_result"
    }
   ],
   "source": [
    "df_bas[(df_bas['Stkcd'] == '601066') & (df_bas['Pub_year']=='2020')]"
   ]
  },
  {
   "cell_type": "code",
   "execution_count": 122,
   "id": "4c965b9e-5fa2-4664-a458-1118969c3dfa",
   "metadata": {},
   "outputs": [
    {
     "data": {
      "text/plain": [
       "Index(['Corp_code', 'Pub_year', 'A001000000', 'C006000000', 'cash_ratio'], dtype='object')"
      ]
     },
     "execution_count": 122,
     "metadata": {},
     "output_type": "execute_result"
    }
   ],
   "source": [
    "df_cash_ratio_2.columns"
   ]
  },
  {
   "cell_type": "code",
   "execution_count": 126,
   "id": "a0cec43e-b570-4b94-9611-76e750eef070",
   "metadata": {},
   "outputs": [],
   "source": [
    "df_PDF_main3 = df_PDF_main2.merge(df_cash_ratio_2[['Corp_code', 'Pub_year', 'cash_ratio']],\n",
    "                   how='left', on=['Corp_code', 'Pub_year'])"
   ]
  },
  {
   "cell_type": "code",
   "execution_count": 127,
   "id": "1a7cdd80-82d7-49d1-ba56-ef9afb140fbb",
   "metadata": {},
   "outputs": [],
   "source": [
    "df_PDF_main3.to_excel(\"/Users/improvise/Desktop/保研/实证论文/ESG/Playground/05_DataIntegration2/df_PDF_main12.xlsx\",\n",
    "                     index = False)"
   ]
  },
  {
   "cell_type": "code",
   "execution_count": null,
   "id": "889780b0-56cb-4318-83a8-cb03ee7cb5f1",
   "metadata": {},
   "outputs": [],
   "source": []
  }
 ],
 "metadata": {
  "kernelspec": {
   "display_name": "Python 3 (ipykernel)",
   "language": "python",
   "name": "python3"
  },
  "language_info": {
   "codemirror_mode": {
    "name": "ipython",
    "version": 3
   },
   "file_extension": ".py",
   "mimetype": "text/x-python",
   "name": "python",
   "nbconvert_exporter": "python",
   "pygments_lexer": "ipython3",
   "version": "3.9.18"
  },
  "notify_time": "30",
  "toc": {
   "base_numbering": 1,
   "nav_menu": {},
   "number_sections": true,
   "sideBar": true,
   "skip_h1_title": false,
   "title_cell": "Table of Contents",
   "title_sidebar": "Contents",
   "toc_cell": false,
   "toc_position": {
    "height": "calc(100% - 180px)",
    "left": "10px",
    "top": "150px",
    "width": "261.467407px"
   },
   "toc_section_display": true,
   "toc_window_display": false
  }
 },
 "nbformat": 4,
 "nbformat_minor": 5
}
