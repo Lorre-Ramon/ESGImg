{
 "cells": [
  {
   "cell_type": "code",
   "execution_count": 1,
   "id": "903036ba",
   "metadata": {
    "ExecuteTime": {
     "end_time": "2023-11-23T03:00:58.751482Z",
     "start_time": "2023-11-23T03:00:57.990038Z"
    }
   },
   "outputs": [],
   "source": [
    "import pandas as pd \n",
    "import os \n",
    "import fitz\n",
    "import math"
   ]
  },
  {
   "cell_type": "code",
   "execution_count": 14,
   "id": "419b1725",
   "metadata": {
    "ExecuteTime": {
     "end_time": "2023-11-18T01:29:35.043170Z",
     "start_time": "2023-11-18T01:29:34.048670Z"
    }
   },
   "outputs": [],
   "source": [
    "# 读入df_img\n",
    "df_img = pd.read_excel(\"/Users/improvise/Desktop/保研/实证论文/ESG/Playground/03_TextImgMatch/10k_distance.xlsx\")"
   ]
  },
  {
   "cell_type": "code",
   "execution_count": 15,
   "id": "56503d42",
   "metadata": {
    "ExecuteTime": {
     "end_time": "2023-11-18T01:29:35.047313Z",
     "start_time": "2023-11-18T01:29:35.044327Z"
    }
   },
   "outputs": [],
   "source": [
    "values_to_remove = [\"华为2022.pdf\", \"万科2022.pdf\", \"601966.SH-玲珑轮胎-玲珑轮胎 山东玲珑轮胎股份有限公司2022年可持续发展报告英文版-2023-04-29.pdf\", \"002129.SZ-TCL中环-TCL中环 TCL中环新能源科技股份有限公司2022年度可持续发展报告(英文版)-2023-03-29.pdf\", \"000726.SZ-鲁泰A-鲁泰Ａ 鲁泰纺织可持续发展报告2022-英文版-2023-04-12.pdf\"]\n",
    "df_img = df_img[~df_img['PDF_name'].isin(values_to_remove)]"
   ]
  },
  {
   "cell_type": "code",
   "execution_count": 16,
   "id": "2b0ea5e5",
   "metadata": {
    "ExecuteTime": {
     "end_time": "2023-11-18T01:29:35.049482Z",
     "start_time": "2023-11-18T01:29:35.048043Z"
    }
   },
   "outputs": [],
   "source": [
    "PDF_folder = \"/Users/improvise/Desktop/保研/实证论文/ESG/Playground/00_DataBase/00_SustainabilityReport_PDF/2022\""
   ]
  },
  {
   "cell_type": "code",
   "execution_count": 17,
   "id": "e811e2eb",
   "metadata": {
    "ExecuteTime": {
     "end_time": "2023-11-18T01:29:35.172037Z",
     "start_time": "2023-11-18T01:29:35.164258Z"
    }
   },
   "outputs": [],
   "source": [
    "df_PDF = pd.DataFrame()\n",
    "df_PDF['PDF_name'] = df_img['PDF_name'].unique()"
   ]
  },
  {
   "cell_type": "markdown",
   "id": "15782e66",
   "metadata": {},
   "source": [
    "# 获取PDF页数"
   ]
  },
  {
   "cell_type": "code",
   "execution_count": 18,
   "id": "f84bff76",
   "metadata": {
    "ExecuteTime": {
     "end_time": "2023-11-18T01:29:36.318011Z",
     "start_time": "2023-11-18T01:29:36.314616Z"
    }
   },
   "outputs": [],
   "source": [
    "def pages(PDF_path):\n",
    "    pdf_file = fitz.open(PDF_path)\n",
    "    return pdf_file.page_count"
   ]
  },
  {
   "cell_type": "code",
   "execution_count": 19,
   "id": "15d66fed",
   "metadata": {
    "ExecuteTime": {
     "end_time": "2023-11-18T01:29:37.033668Z",
     "start_time": "2023-11-18T01:29:36.864598Z"
    }
   },
   "outputs": [],
   "source": [
    "# 获取PDF页数\n",
    "df_PDF['PDF_pages'] = df_PDF['PDF_name'].apply(lambda x: pages(os.path.join(PDF_folder, x)))"
   ]
  },
  {
   "cell_type": "markdown",
   "id": "e8766647",
   "metadata": {},
   "source": [
    "# 获取PDF中图片数量"
   ]
  },
  {
   "cell_type": "code",
   "execution_count": 20,
   "id": "60dc9bf3",
   "metadata": {
    "ExecuteTime": {
     "end_time": "2023-11-18T01:29:38.240844Z",
     "start_time": "2023-11-18T01:29:38.231023Z"
    }
   },
   "outputs": [],
   "source": [
    "df_PDF = df_PDF.merge(df_img.groupby('PDF_name')['page'].count().reset_index(name= 'img_num'),\n",
    "                     on='PDF_name', how='left')"
   ]
  },
  {
   "cell_type": "markdown",
   "id": "44a6622c",
   "metadata": {},
   "source": [
    "# 获取图片大小（均值）"
   ]
  },
  {
   "cell_type": "code",
   "execution_count": 21,
   "id": "2a234a45",
   "metadata": {
    "ExecuteTime": {
     "end_time": "2023-11-18T01:29:38.987501Z",
     "start_time": "2023-11-18T01:29:38.977524Z"
    }
   },
   "outputs": [],
   "source": [
    "df_PDF = df_PDF.merge(df_img.groupby('PDF_name')['img_size'].mean().reset_index(name= 'img_size_avg'),\n",
    "                     how='left', on='PDF_name')"
   ]
  },
  {
   "cell_type": "code",
   "execution_count": 22,
   "id": "e2484e57",
   "metadata": {
    "ExecuteTime": {
     "end_time": "2023-11-18T01:29:39.619604Z",
     "start_time": "2023-11-18T01:29:39.611089Z"
    }
   },
   "outputs": [],
   "source": [
    "# 计算图片数量与页数比\n",
    "df_PDF['img_num_pages_ratio'] = df_PDF.apply(lambda row: row['img_num'] / row['PDF_pages'], axis=1)\n",
    "\n",
    "# 计算图片大小和页数比\n",
    "df_PDF['img_size_pages_ratio'] = df_PDF.apply(lambda row: row['img_size_avg'] / row['PDF_pages'], axis=1)"
   ]
  },
  {
   "cell_type": "markdown",
   "id": "ba1432ed",
   "metadata": {},
   "source": [
    "# 计算图文空间距离(平均） 与 页面对角线距离 比"
   ]
  },
  {
   "cell_type": "code",
   "execution_count": 23,
   "id": "2a72aa6f",
   "metadata": {
    "ExecuteTime": {
     "end_time": "2023-11-18T01:29:40.570408Z",
     "start_time": "2023-11-18T01:29:40.566156Z"
    }
   },
   "outputs": [],
   "source": [
    "def diagonal(PDF_path):\n",
    "    pdf_file = fitz.open(PDF_path)\n",
    "    width, height = pdf_file[2].rect.width, pdf_file[2].rect.height\n",
    "    \n",
    "    return math.sqrt(width**2 + height**2)"
   ]
  },
  {
   "cell_type": "code",
   "execution_count": 24,
   "id": "82076910",
   "metadata": {
    "ExecuteTime": {
     "end_time": "2023-11-18T01:29:41.545251Z",
     "start_time": "2023-11-18T01:29:40.974010Z"
    }
   },
   "outputs": [],
   "source": [
    "diagonal_series = df_PDF['PDF_name'].apply(lambda x: diagonal(os.path.join(PDF_folder, x)))\n",
    "diagonal_series.index = df_PDF['PDF_name']"
   ]
  },
  {
   "cell_type": "code",
   "execution_count": 25,
   "id": "e348eecd",
   "metadata": {
    "ExecuteTime": {
     "end_time": "2023-11-18T01:29:41.554415Z",
     "start_time": "2023-11-18T01:29:41.549909Z"
    }
   },
   "outputs": [],
   "source": [
    "diagonal_compute = pd.merge(diagonal_series.reset_index(name = 'diag'), \n",
    "                           df_img.groupby('PDF_name')['distance'].mean().reset_index(name = 'dist_avg'),\n",
    "                           on='PDF_name',\n",
    "                           how = 'left')"
   ]
  },
  {
   "cell_type": "code",
   "execution_count": 26,
   "id": "9f494624",
   "metadata": {
    "ExecuteTime": {
     "end_time": "2023-11-18T01:29:42.276033Z",
     "start_time": "2023-11-18T01:29:42.269055Z"
    }
   },
   "outputs": [],
   "source": [
    "diagonal_compute['dist_diag_ratio'] = diagonal_compute.apply(lambda row: row['dist_avg'] / row['diag'], axis=1)"
   ]
  },
  {
   "cell_type": "code",
   "execution_count": 28,
   "id": "81ffd9a8",
   "metadata": {
    "ExecuteTime": {
     "end_time": "2023-11-18T01:30:39.345268Z",
     "start_time": "2023-11-18T01:30:39.299648Z"
    }
   },
   "outputs": [],
   "source": [
    "df_PDF = pd.merge(df_PDF, diagonal_compute[['PDF_name', 'dist_diag_ratio']],\n",
    "        on='PDF_name', how = 'left')\n",
    "df_PDF.to_excel(\"/Users/improvise/Desktop/保研/实证论文/ESG/Playground/03_TextImgMatch/main_data.xlsx\", index=False)"
   ]
  },
  {
   "cell_type": "markdown",
   "id": "88f69858",
   "metadata": {},
   "source": [
    "# 获取上市公司代码"
   ]
  },
  {
   "cell_type": "code",
   "execution_count": null,
   "id": "c4cff23f",
   "metadata": {},
   "outputs": [],
   "source": [
    "df_PDF = pd.read_excel(\"/Users/improvise/Desktop/保研/实证论文/ESG/Playground/03_TextImgMatch/main_data.xlsx\")"
   ]
  },
  {
   "cell_type": "code",
   "execution_count": 14,
   "id": "c2211e4c",
   "metadata": {
    "ExecuteTime": {
     "end_time": "2023-11-21T02:30:54.667438Z",
     "start_time": "2023-11-21T02:30:54.661073Z"
    }
   },
   "outputs": [],
   "source": [
    "def corp_code(PDF_name):\n",
    "    return str(PDF_name.split(\"-\")[0][0:6]) if PDF_name.split(\"-\")[0][-2:] != 'HK' else str(PDF_name.split(\"-\")[0][0:5])\n",
    "\n",
    "def corp_market(PDF_name):\n",
    "    return PDF_name.split(\"-\")[0][-2:]"
   ]
  },
  {
   "cell_type": "code",
   "execution_count": 15,
   "id": "3ff54b81",
   "metadata": {
    "ExecuteTime": {
     "end_time": "2023-11-21T02:31:02.404406Z",
     "start_time": "2023-11-21T02:31:02.400326Z"
    }
   },
   "outputs": [],
   "source": [
    "df_PDF['Corp_code'] = df_PDF['PDF_name'].apply(corp_code)"
   ]
  },
  {
   "cell_type": "code",
   "execution_count": 10,
   "id": "06dce925",
   "metadata": {
    "ExecuteTime": {
     "end_time": "2023-11-21T02:20:24.550422Z",
     "start_time": "2023-11-21T02:20:24.546249Z"
    }
   },
   "outputs": [],
   "source": [
    "df_PDF['Corp_market'] = df_PDF['PDF_name'].apply(corp_market)\n",
    "# df_PDF = df_PDF[['Corp_code','Corp_market', 'PDF_name', 'PDF_pages', 'img_num', 'img_size_avg', 'img_num_pages_ratio',\n",
    "#        'img_size_pages_ratio', 'dist_diag_ratio']]"
   ]
  },
  {
   "cell_type": "code",
   "execution_count": 20,
   "id": "2fd20248",
   "metadata": {
    "ExecuteTime": {
     "end_time": "2023-11-21T02:31:45.825274Z",
     "start_time": "2023-11-21T02:31:45.795170Z"
    }
   },
   "outputs": [],
   "source": [
    "df_PDF.to_excel(\"/Users/improvise/Desktop/保研/实证论文/ESG/Playground/03_TextImgMatch/main_data.xlsx\", index=False)"
   ]
  },
  {
   "cell_type": "code",
   "execution_count": 19,
   "id": "64540f21",
   "metadata": {
    "ExecuteTime": {
     "end_time": "2023-11-21T02:31:44.485630Z",
     "start_time": "2023-11-21T02:31:44.470878Z"
    }
   },
   "outputs": [
    {
     "data": {
      "text/html": [
       "<div>\n",
       "<style scoped>\n",
       "    .dataframe tbody tr th:only-of-type {\n",
       "        vertical-align: middle;\n",
       "    }\n",
       "\n",
       "    .dataframe tbody tr th {\n",
       "        vertical-align: top;\n",
       "    }\n",
       "\n",
       "    .dataframe thead th {\n",
       "        text-align: right;\n",
       "    }\n",
       "</style>\n",
       "<table border=\"1\" class=\"dataframe\">\n",
       "  <thead>\n",
       "    <tr style=\"text-align: right;\">\n",
       "      <th></th>\n",
       "      <th>Corp_code</th>\n",
       "      <th>Corp_market</th>\n",
       "      <th>PDF_name</th>\n",
       "      <th>PDF_pages</th>\n",
       "      <th>img_num</th>\n",
       "      <th>img_size_avg</th>\n",
       "      <th>img_num_pages_ratio</th>\n",
       "      <th>img_size_pages_ratio</th>\n",
       "      <th>dist_diag_ratio</th>\n",
       "    </tr>\n",
       "  </thead>\n",
       "  <tbody>\n",
       "    <tr>\n",
       "      <th>0</th>\n",
       "      <td>01138</td>\n",
       "      <td>HK</td>\n",
       "      <td>01138.HK-中远海能-中远海能 中远海能2022年可持续发展报告-2023-03-31...</td>\n",
       "      <td>81</td>\n",
       "      <td>32</td>\n",
       "      <td>77928.528832</td>\n",
       "      <td>0.395062</td>\n",
       "      <td>962.080603</td>\n",
       "      <td>0.287667</td>\n",
       "    </tr>\n",
       "    <tr>\n",
       "      <th>1</th>\n",
       "      <td>600872</td>\n",
       "      <td>SH</td>\n",
       "      <td>600872.SH-中炬高新-中炬高新 中炬高新2022年度社会责任暨可持续发展报告-202...</td>\n",
       "      <td>41</td>\n",
       "      <td>93</td>\n",
       "      <td>93096.083568</td>\n",
       "      <td>2.268293</td>\n",
       "      <td>2270.636185</td>\n",
       "      <td>0.483167</td>\n",
       "    </tr>\n",
       "    <tr>\n",
       "      <th>2</th>\n",
       "      <td>002916</td>\n",
       "      <td>SZ</td>\n",
       "      <td>002916.SZ-深南电路-深南电路 2022年可持续发展(暨ESG)报告-2023-03...</td>\n",
       "      <td>40</td>\n",
       "      <td>59</td>\n",
       "      <td>38031.556062</td>\n",
       "      <td>1.475000</td>\n",
       "      <td>950.788902</td>\n",
       "      <td>0.250278</td>\n",
       "    </tr>\n",
       "    <tr>\n",
       "      <th>3</th>\n",
       "      <td>00941</td>\n",
       "      <td>HK</td>\n",
       "      <td>00941.HK-中国移动-中国移动 2022年度可持续发展报告-2023-03-24.pdf</td>\n",
       "      <td>50</td>\n",
       "      <td>68</td>\n",
       "      <td>77341.818769</td>\n",
       "      <td>1.360000</td>\n",
       "      <td>1546.836375</td>\n",
       "      <td>0.345360</td>\n",
       "    </tr>\n",
       "    <tr>\n",
       "      <th>4</th>\n",
       "      <td>002271</td>\n",
       "      <td>SZ</td>\n",
       "      <td>002271.SZ-东方雨虹-东方雨虹 2022年度可持续发展报告-2023-04-13.pdf</td>\n",
       "      <td>55</td>\n",
       "      <td>90</td>\n",
       "      <td>43160.205976</td>\n",
       "      <td>1.636364</td>\n",
       "      <td>784.731018</td>\n",
       "      <td>0.290214</td>\n",
       "    </tr>\n",
       "    <tr>\n",
       "      <th>...</th>\n",
       "      <td>...</td>\n",
       "      <td>...</td>\n",
       "      <td>...</td>\n",
       "      <td>...</td>\n",
       "      <td>...</td>\n",
       "      <td>...</td>\n",
       "      <td>...</td>\n",
       "      <td>...</td>\n",
       "      <td>...</td>\n",
       "    </tr>\n",
       "    <tr>\n",
       "      <th>70</th>\n",
       "      <td>600201</td>\n",
       "      <td>SH</td>\n",
       "      <td>600201.SH-生物股份-生物股份 金宇生物技术股份有限公司2022年年度可持续发展报告...</td>\n",
       "      <td>36</td>\n",
       "      <td>35</td>\n",
       "      <td>102463.497340</td>\n",
       "      <td>0.972222</td>\n",
       "      <td>2846.208259</td>\n",
       "      <td>0.344099</td>\n",
       "    </tr>\n",
       "    <tr>\n",
       "      <th>71</th>\n",
       "      <td>600588</td>\n",
       "      <td>SH</td>\n",
       "      <td>600588.SH-用友网络-用友网络 用友网络2022年度可持续发展(ESG)报告-202...</td>\n",
       "      <td>33</td>\n",
       "      <td>31</td>\n",
       "      <td>109075.470388</td>\n",
       "      <td>0.939394</td>\n",
       "      <td>3305.317284</td>\n",
       "      <td>0.333807</td>\n",
       "    </tr>\n",
       "    <tr>\n",
       "      <th>72</th>\n",
       "      <td>600989</td>\n",
       "      <td>SH</td>\n",
       "      <td>600989.SH-宝丰能源-宝丰能源 宁夏宝丰能源集团股份有限公司2022年可持续发展报告...</td>\n",
       "      <td>35</td>\n",
       "      <td>58</td>\n",
       "      <td>199669.598451</td>\n",
       "      <td>1.657143</td>\n",
       "      <td>5704.845670</td>\n",
       "      <td>0.333910</td>\n",
       "    </tr>\n",
       "    <tr>\n",
       "      <th>73</th>\n",
       "      <td>600019</td>\n",
       "      <td>SH</td>\n",
       "      <td>600019.SH-宝钢股份-宝钢股份 宝山钢铁股份有限公司2022年度可持续发展报告-20...</td>\n",
       "      <td>73</td>\n",
       "      <td>227</td>\n",
       "      <td>157117.564714</td>\n",
       "      <td>3.109589</td>\n",
       "      <td>2152.295407</td>\n",
       "      <td>0.320448</td>\n",
       "    </tr>\n",
       "    <tr>\n",
       "      <th>74</th>\n",
       "      <td>600356</td>\n",
       "      <td>SH</td>\n",
       "      <td>600356.SH-恒丰纸业-恒丰纸业 恒丰纸业2022可持续发展报告-2023-03-15...</td>\n",
       "      <td>40</td>\n",
       "      <td>118</td>\n",
       "      <td>133293.581823</td>\n",
       "      <td>2.950000</td>\n",
       "      <td>3332.339546</td>\n",
       "      <td>0.378687</td>\n",
       "    </tr>\n",
       "  </tbody>\n",
       "</table>\n",
       "<p>75 rows × 9 columns</p>\n",
       "</div>"
      ],
      "text/plain": [
       "   Corp_code Corp_market                                           PDF_name  \\\n",
       "0      01138          HK  01138.HK-中远海能-中远海能 中远海能2022年可持续发展报告-2023-03-31...   \n",
       "1     600872          SH  600872.SH-中炬高新-中炬高新 中炬高新2022年度社会责任暨可持续发展报告-202...   \n",
       "2     002916          SZ  002916.SZ-深南电路-深南电路 2022年可持续发展(暨ESG)报告-2023-03...   \n",
       "3      00941          HK    00941.HK-中国移动-中国移动 2022年度可持续发展报告-2023-03-24.pdf   \n",
       "4     002271          SZ   002271.SZ-东方雨虹-东方雨虹 2022年度可持续发展报告-2023-04-13.pdf   \n",
       "..       ...         ...                                                ...   \n",
       "70    600201          SH  600201.SH-生物股份-生物股份 金宇生物技术股份有限公司2022年年度可持续发展报告...   \n",
       "71    600588          SH  600588.SH-用友网络-用友网络 用友网络2022年度可持续发展(ESG)报告-202...   \n",
       "72    600989          SH  600989.SH-宝丰能源-宝丰能源 宁夏宝丰能源集团股份有限公司2022年可持续发展报告...   \n",
       "73    600019          SH  600019.SH-宝钢股份-宝钢股份 宝山钢铁股份有限公司2022年度可持续发展报告-20...   \n",
       "74    600356          SH  600356.SH-恒丰纸业-恒丰纸业 恒丰纸业2022可持续发展报告-2023-03-15...   \n",
       "\n",
       "    PDF_pages  img_num   img_size_avg  img_num_pages_ratio  \\\n",
       "0          81       32   77928.528832             0.395062   \n",
       "1          41       93   93096.083568             2.268293   \n",
       "2          40       59   38031.556062             1.475000   \n",
       "3          50       68   77341.818769             1.360000   \n",
       "4          55       90   43160.205976             1.636364   \n",
       "..        ...      ...            ...                  ...   \n",
       "70         36       35  102463.497340             0.972222   \n",
       "71         33       31  109075.470388             0.939394   \n",
       "72         35       58  199669.598451             1.657143   \n",
       "73         73      227  157117.564714             3.109589   \n",
       "74         40      118  133293.581823             2.950000   \n",
       "\n",
       "    img_size_pages_ratio  dist_diag_ratio  \n",
       "0             962.080603         0.287667  \n",
       "1            2270.636185         0.483167  \n",
       "2             950.788902         0.250278  \n",
       "3            1546.836375         0.345360  \n",
       "4             784.731018         0.290214  \n",
       "..                   ...              ...  \n",
       "70           2846.208259         0.344099  \n",
       "71           3305.317284         0.333807  \n",
       "72           5704.845670         0.333910  \n",
       "73           2152.295407         0.320448  \n",
       "74           3332.339546         0.378687  \n",
       "\n",
       "[75 rows x 9 columns]"
      ]
     },
     "execution_count": 19,
     "metadata": {},
     "output_type": "execute_result"
    }
   ],
   "source": [
    "df_PDF"
   ]
  },
  {
   "cell_type": "code",
   "execution_count": 2,
   "id": "7d2ed3c8",
   "metadata": {
    "ExecuteTime": {
     "end_time": "2023-11-23T03:01:25.851408Z",
     "start_time": "2023-11-23T03:01:25.561161Z"
    }
   },
   "outputs": [
    {
     "data": {
      "text/html": [
       "<div>\n",
       "<style scoped>\n",
       "    .dataframe tbody tr th:only-of-type {\n",
       "        vertical-align: middle;\n",
       "    }\n",
       "\n",
       "    .dataframe tbody tr th {\n",
       "        vertical-align: top;\n",
       "    }\n",
       "\n",
       "    .dataframe thead th {\n",
       "        text-align: right;\n",
       "    }\n",
       "</style>\n",
       "<table border=\"1\" class=\"dataframe\">\n",
       "  <thead>\n",
       "    <tr style=\"text-align: right;\">\n",
       "      <th></th>\n",
       "      <th>Corp_code</th>\n",
       "      <th>Corp_market</th>\n",
       "      <th>PDF_name</th>\n",
       "      <th>PDF_pages</th>\n",
       "      <th>img_num</th>\n",
       "      <th>img_size_avg</th>\n",
       "      <th>img_num_pages_ratio</th>\n",
       "      <th>img_size_pages_ratio</th>\n",
       "      <th>dist_diag_ratio</th>\n",
       "    </tr>\n",
       "  </thead>\n",
       "  <tbody>\n",
       "    <tr>\n",
       "      <th>0</th>\n",
       "      <td>1138</td>\n",
       "      <td>HK</td>\n",
       "      <td>01138.HK-中远海能-中远海能 中远海能2022年可持续发展报告-2023-03-31...</td>\n",
       "      <td>81</td>\n",
       "      <td>32</td>\n",
       "      <td>77928.528832</td>\n",
       "      <td>0.395062</td>\n",
       "      <td>962.080603</td>\n",
       "      <td>0.287667</td>\n",
       "    </tr>\n",
       "    <tr>\n",
       "      <th>1</th>\n",
       "      <td>600872</td>\n",
       "      <td>SH</td>\n",
       "      <td>600872.SH-中炬高新-中炬高新 中炬高新2022年度社会责任暨可持续发展报告-202...</td>\n",
       "      <td>41</td>\n",
       "      <td>93</td>\n",
       "      <td>93096.083568</td>\n",
       "      <td>2.268293</td>\n",
       "      <td>2270.636185</td>\n",
       "      <td>0.483167</td>\n",
       "    </tr>\n",
       "    <tr>\n",
       "      <th>2</th>\n",
       "      <td>2916</td>\n",
       "      <td>SZ</td>\n",
       "      <td>002916.SZ-深南电路-深南电路 2022年可持续发展(暨ESG)报告-2023-03...</td>\n",
       "      <td>40</td>\n",
       "      <td>59</td>\n",
       "      <td>38031.556062</td>\n",
       "      <td>1.475000</td>\n",
       "      <td>950.788902</td>\n",
       "      <td>0.250278</td>\n",
       "    </tr>\n",
       "    <tr>\n",
       "      <th>3</th>\n",
       "      <td>941</td>\n",
       "      <td>HK</td>\n",
       "      <td>00941.HK-中国移动-中国移动 2022年度可持续发展报告-2023-03-24.pdf</td>\n",
       "      <td>50</td>\n",
       "      <td>68</td>\n",
       "      <td>77341.818769</td>\n",
       "      <td>1.360000</td>\n",
       "      <td>1546.836375</td>\n",
       "      <td>0.345360</td>\n",
       "    </tr>\n",
       "    <tr>\n",
       "      <th>4</th>\n",
       "      <td>2271</td>\n",
       "      <td>SZ</td>\n",
       "      <td>002271.SZ-东方雨虹-东方雨虹 2022年度可持续发展报告-2023-04-13.pdf</td>\n",
       "      <td>55</td>\n",
       "      <td>90</td>\n",
       "      <td>43160.205976</td>\n",
       "      <td>1.636364</td>\n",
       "      <td>784.731018</td>\n",
       "      <td>0.290214</td>\n",
       "    </tr>\n",
       "    <tr>\n",
       "      <th>...</th>\n",
       "      <td>...</td>\n",
       "      <td>...</td>\n",
       "      <td>...</td>\n",
       "      <td>...</td>\n",
       "      <td>...</td>\n",
       "      <td>...</td>\n",
       "      <td>...</td>\n",
       "      <td>...</td>\n",
       "      <td>...</td>\n",
       "    </tr>\n",
       "    <tr>\n",
       "      <th>70</th>\n",
       "      <td>600201</td>\n",
       "      <td>SH</td>\n",
       "      <td>600201.SH-生物股份-生物股份 金宇生物技术股份有限公司2022年年度可持续发展报告...</td>\n",
       "      <td>36</td>\n",
       "      <td>35</td>\n",
       "      <td>102463.497340</td>\n",
       "      <td>0.972222</td>\n",
       "      <td>2846.208259</td>\n",
       "      <td>0.344099</td>\n",
       "    </tr>\n",
       "    <tr>\n",
       "      <th>71</th>\n",
       "      <td>600588</td>\n",
       "      <td>SH</td>\n",
       "      <td>600588.SH-用友网络-用友网络 用友网络2022年度可持续发展(ESG)报告-202...</td>\n",
       "      <td>33</td>\n",
       "      <td>31</td>\n",
       "      <td>109075.470388</td>\n",
       "      <td>0.939394</td>\n",
       "      <td>3305.317284</td>\n",
       "      <td>0.333807</td>\n",
       "    </tr>\n",
       "    <tr>\n",
       "      <th>72</th>\n",
       "      <td>600989</td>\n",
       "      <td>SH</td>\n",
       "      <td>600989.SH-宝丰能源-宝丰能源 宁夏宝丰能源集团股份有限公司2022年可持续发展报告...</td>\n",
       "      <td>35</td>\n",
       "      <td>58</td>\n",
       "      <td>199669.598451</td>\n",
       "      <td>1.657143</td>\n",
       "      <td>5704.845670</td>\n",
       "      <td>0.333910</td>\n",
       "    </tr>\n",
       "    <tr>\n",
       "      <th>73</th>\n",
       "      <td>600019</td>\n",
       "      <td>SH</td>\n",
       "      <td>600019.SH-宝钢股份-宝钢股份 宝山钢铁股份有限公司2022年度可持续发展报告-20...</td>\n",
       "      <td>73</td>\n",
       "      <td>227</td>\n",
       "      <td>157117.564714</td>\n",
       "      <td>3.109589</td>\n",
       "      <td>2152.295407</td>\n",
       "      <td>0.320448</td>\n",
       "    </tr>\n",
       "    <tr>\n",
       "      <th>74</th>\n",
       "      <td>600356</td>\n",
       "      <td>SH</td>\n",
       "      <td>600356.SH-恒丰纸业-恒丰纸业 恒丰纸业2022可持续发展报告-2023-03-15...</td>\n",
       "      <td>40</td>\n",
       "      <td>118</td>\n",
       "      <td>133293.581823</td>\n",
       "      <td>2.950000</td>\n",
       "      <td>3332.339546</td>\n",
       "      <td>0.378687</td>\n",
       "    </tr>\n",
       "  </tbody>\n",
       "</table>\n",
       "<p>75 rows × 9 columns</p>\n",
       "</div>"
      ],
      "text/plain": [
       "    Corp_code Corp_market                                           PDF_name  \\\n",
       "0        1138          HK  01138.HK-中远海能-中远海能 中远海能2022年可持续发展报告-2023-03-31...   \n",
       "1      600872          SH  600872.SH-中炬高新-中炬高新 中炬高新2022年度社会责任暨可持续发展报告-202...   \n",
       "2        2916          SZ  002916.SZ-深南电路-深南电路 2022年可持续发展(暨ESG)报告-2023-03...   \n",
       "3         941          HK    00941.HK-中国移动-中国移动 2022年度可持续发展报告-2023-03-24.pdf   \n",
       "4        2271          SZ   002271.SZ-东方雨虹-东方雨虹 2022年度可持续发展报告-2023-04-13.pdf   \n",
       "..        ...         ...                                                ...   \n",
       "70     600201          SH  600201.SH-生物股份-生物股份 金宇生物技术股份有限公司2022年年度可持续发展报告...   \n",
       "71     600588          SH  600588.SH-用友网络-用友网络 用友网络2022年度可持续发展(ESG)报告-202...   \n",
       "72     600989          SH  600989.SH-宝丰能源-宝丰能源 宁夏宝丰能源集团股份有限公司2022年可持续发展报告...   \n",
       "73     600019          SH  600019.SH-宝钢股份-宝钢股份 宝山钢铁股份有限公司2022年度可持续发展报告-20...   \n",
       "74     600356          SH  600356.SH-恒丰纸业-恒丰纸业 恒丰纸业2022可持续发展报告-2023-03-15...   \n",
       "\n",
       "    PDF_pages  img_num   img_size_avg  img_num_pages_ratio  \\\n",
       "0          81       32   77928.528832             0.395062   \n",
       "1          41       93   93096.083568             2.268293   \n",
       "2          40       59   38031.556062             1.475000   \n",
       "3          50       68   77341.818769             1.360000   \n",
       "4          55       90   43160.205976             1.636364   \n",
       "..        ...      ...            ...                  ...   \n",
       "70         36       35  102463.497340             0.972222   \n",
       "71         33       31  109075.470388             0.939394   \n",
       "72         35       58  199669.598451             1.657143   \n",
       "73         73      227  157117.564714             3.109589   \n",
       "74         40      118  133293.581823             2.950000   \n",
       "\n",
       "    img_size_pages_ratio  dist_diag_ratio  \n",
       "0             962.080603         0.287667  \n",
       "1            2270.636185         0.483167  \n",
       "2             950.788902         0.250278  \n",
       "3            1546.836375         0.345360  \n",
       "4             784.731018         0.290214  \n",
       "..                   ...              ...  \n",
       "70           2846.208259         0.344099  \n",
       "71           3305.317284         0.333807  \n",
       "72           5704.845670         0.333910  \n",
       "73           2152.295407         0.320448  \n",
       "74           3332.339546         0.378687  \n",
       "\n",
       "[75 rows x 9 columns]"
      ]
     },
     "execution_count": 2,
     "metadata": {},
     "output_type": "execute_result"
    }
   ],
   "source": [
    "df_PDF = pd.read_excel(\"/Users/improvise/Desktop/保研/实证论文/ESG/Playground/03_TextImgMatch/main_data.xlsx\")\n"
   ]
  },
  {
   "cell_type": "code",
   "execution_count": 5,
   "id": "ba200566",
   "metadata": {
    "ExecuteTime": {
     "end_time": "2023-11-23T03:04:18.500351Z",
     "start_time": "2023-11-23T03:04:18.469033Z"
    }
   },
   "outputs": [],
   "source": [
    "df_PDF['Pub_year'] = 2022\n",
    "df_PDF['Pub_type'] = 'SUS'\n",
    "\n",
    "df_PDF.to_excel(\"/Users/improvise/Desktop/保研/实证论文/ESG/Playground/03_TextImgMatch/main_data.xlsx\", index=False)"
   ]
  },
  {
   "cell_type": "code",
   "execution_count": null,
   "id": "f2eb2e52",
   "metadata": {},
   "outputs": [],
   "source": []
  }
 ],
 "metadata": {
  "kernelspec": {
   "display_name": "Python 3 (ipykernel)",
   "language": "python",
   "name": "python3"
  },
  "language_info": {
   "codemirror_mode": {
    "name": "ipython",
    "version": 3
   },
   "file_extension": ".py",
   "mimetype": "text/x-python",
   "name": "python",
   "nbconvert_exporter": "python",
   "pygments_lexer": "ipython3",
   "version": "3.9.11"
  },
  "notify_time": "30",
  "toc": {
   "base_numbering": 1,
   "nav_menu": {},
   "number_sections": true,
   "sideBar": true,
   "skip_h1_title": false,
   "title_cell": "Table of Contents",
   "title_sidebar": "Contents",
   "toc_cell": false,
   "toc_position": {},
   "toc_section_display": true,
   "toc_window_display": false
  }
 },
 "nbformat": 4,
 "nbformat_minor": 5
}
