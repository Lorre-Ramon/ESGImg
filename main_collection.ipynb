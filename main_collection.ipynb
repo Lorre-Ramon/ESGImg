{
 "cells": [
  {
   "cell_type": "code",
   "execution_count": 1,
   "id": "903036ba",
   "metadata": {
    "ExecuteTime": {
     "end_time": "2023-12-30T01:41:00.615142Z",
     "start_time": "2023-12-30T01:40:59.511130Z"
    }
   },
   "outputs": [
    {
     "name": "stderr",
     "output_type": "stream",
     "text": [
      "/Users/improvise/miniconda/envs/Grace/lib/python3.9/site-packages/akshare/__init__.py:2606: UserWarning: 为了支持更多特性，请将 Pandas 升级到 2.1.0 及以上版本！\n",
      "  warnings.warn(\n"
     ]
    }
   ],
   "source": [
    "import pandas as pd \n",
    "import akshare as ak\n",
    "import os \n",
    "import fitz\n",
    "import math"
   ]
  },
  {
   "cell_type": "code",
   "execution_count": 15,
   "id": "56503d42",
   "metadata": {
    "ExecuteTime": {
     "end_time": "2023-11-18T01:29:35.047313Z",
     "start_time": "2023-11-18T01:29:35.044327Z"
    },
    "code_folding": [
     0
    ]
   },
   "outputs": [],
   "source": [
    "# values_to_remove = [\"华为2022.pdf\", \"万科2022.pdf\", \"601966.SH-玲珑轮胎-玲珑轮胎 山东玲珑轮胎股份有限公司2022年可持续发展报告英文版-2023-04-29.pdf\", \"002129.SZ-TCL中环-TCL中环 TCL中环新能源科技股份有限公司2022年度可持续发展报告(英文版)-2023-03-29.pdf\", \"000726.SZ-鲁泰A-鲁泰Ａ 鲁泰纺织可持续发展报告2022-英文版-2023-04-12.pdf\"]\n",
    "# df_img = df_img[~df_img['PDF_name'].isin(values_to_remove)]"
   ]
  },
  {
   "cell_type": "markdown",
   "id": "15782e66",
   "metadata": {},
   "source": [
    "# 获取df_PDF"
   ]
  },
  {
   "cell_type": "code",
   "execution_count": 33,
   "id": "f84bff76",
   "metadata": {
    "ExecuteTime": {
     "end_time": "2023-12-27T07:49:20.402039Z",
     "start_time": "2023-12-27T07:49:20.398853Z"
    }
   },
   "outputs": [],
   "source": [
    "# 获取PDF页数\n",
    "def pages(PDF_path):\n",
    "    pdf_file = fitz.open(PDF_path)\n",
    "    return pdf_file.page_count"
   ]
  },
  {
   "cell_type": "code",
   "execution_count": 37,
   "id": "74a300c3",
   "metadata": {
    "ExecuteTime": {
     "end_time": "2023-12-27T07:51:12.092723Z",
     "start_time": "2023-12-27T07:51:12.088066Z"
    }
   },
   "outputs": [],
   "source": [
    "# 页面对角线距离\n",
    "def diagonal(PDF_path):\n",
    "    pdf_file = fitz.open(PDF_path)\n",
    "    width, height = pdf_file[3].rect.width, pdf_file[2].rect.height\n",
    "    \n",
    "    return math.sqrt(width**2 + height**2)"
   ]
  },
  {
   "cell_type": "code",
   "execution_count": 40,
   "id": "a93182f2",
   "metadata": {
    "ExecuteTime": {
     "end_time": "2023-12-27T07:53:27.897163Z",
     "start_time": "2023-12-27T07:53:27.892278Z"
    }
   },
   "outputs": [],
   "source": [
    "# 获取上市公司代码\n",
    "def corp_code(PDF_name):\n",
    "    return str(PDF_name.split(\"-\")[0][0:6]) if PDF_name.split(\"-\")[0][-2:] != 'HK' else str(PDF_name.split(\"-\")[0][0:5])\n",
    "\n",
    "def corp_market(PDF_name):\n",
    "    return PDF_name.split(\"-\")[0][-2:]"
   ]
  },
  {
   "cell_type": "code",
   "execution_count": 47,
   "id": "ec989a55",
   "metadata": {
    "ExecuteTime": {
     "end_time": "2023-12-27T07:57:18.425783Z",
     "start_time": "2023-12-27T07:57:18.410008Z"
    }
   },
   "outputs": [],
   "source": [
    "def get_df_PDF(filepath, PDF_folder, PDF_year, PDF_type):\n",
    "    # 读入df_img，保存着距离信息\n",
    "    df_img = pd.read_excel(filepath)\n",
    "    \n",
    "    if \"Unnamed: 0\" in df_img.columns:\n",
    "        df_img = df_img.drop(\"Unnamed: 0\", axis=1)\n",
    "        \n",
    "    values_to_remove = [\"华为2022.pdf\", \"万科2022.pdf\", \"601966.SH-玲珑轮胎-玲珑轮胎 山东玲珑轮胎股份有限公司2022年可持续发展报告英文版-2023-04-29.pdf\", \"002129.SZ-TCL中环-TCL中环 TCL中环新能源科技股份有限公司2022年度可持续发展报告(英文版)-2023-03-29.pdf\", \"000726.SZ-鲁泰A-鲁泰Ａ 鲁泰纺织可持续发展报告2022-英文版-2023-04-12.pdf\"]\n",
    "    df_img = df_img[~df_img['PDF_name'].isin(values_to_remove)]\n",
    "        \n",
    "    # 准备df_PDF\n",
    "    df_PDF = pd.DataFrame()\n",
    "    df_PDF['PDF_name'] = df_img['PDF_name'].unique()\n",
    "    df_PDF['Corp_code'] = df_PDF['PDF_name'].apply(corp_code)\n",
    "    df_PDF['Corp_market'] = df_PDF['PDF_name'].apply(corp_market)\n",
    "    df_PDF['Pub_year'] = PDF_year\n",
    "    df_PDF['Pub_type'] = PDF_type\n",
    "    \n",
    "    # 获取PDF页数\n",
    "    df_PDF['PDF_pages'] = df_PDF['PDF_name'].apply(lambda x: pages(os.path.join(PDF_folder, x)))\n",
    "    \n",
    "    # 获取PDF内图片数量\n",
    "    df_PDF = df_PDF.merge(df_img.groupby('PDF_name')['page'].count().reset_index(name= 'img_num'),\n",
    "                     on='PDF_name', how='left')\n",
    "    \n",
    "    # 获取PDF内图片大小（均值）\n",
    "    df_img['img_size'] = df_img.apply(lambda row: abs(row[\"x1\"] - row[\"x0\"]) * abs(row[\"y1\"] - row[\"y0\"]),\n",
    "                                      axis=1)\n",
    "    df_PDF = df_PDF.merge(df_img.groupby('PDF_name')['img_size'].mean().reset_index(name= 'img_size_avg'),\n",
    "                     how='left', on='PDF_name')\n",
    "    \n",
    "    # 计算图片数量与页数比\n",
    "    df_PDF['img_num_pages_ratio'] = df_PDF.apply(lambda row: row['img_num'] / row['PDF_pages'], axis=1)\n",
    "\n",
    "    # 计算图片大小和页数比\n",
    "    df_PDF['img_size_pages_ratio'] = df_PDF.apply(lambda row: row['img_size_avg'] / row['PDF_pages'], axis=1)\n",
    "    \n",
    "    # 计算 图文空间距离(平均）与 页面对角线距离 比\n",
    "    diagonal_series = df_PDF['PDF_name'].apply(lambda x: diagonal(os.path.join(PDF_folder, x)))\n",
    "    diagonal_series.index = df_PDF['PDF_name']\n",
    "    \n",
    "    diagonal_compute = pd.merge(diagonal_series.reset_index(name = 'diag'), \n",
    "                           df_img.groupby('PDF_name')['distance'].mean().reset_index(name = 'dist_avg'),\n",
    "                           on='PDF_name', how = 'left')\n",
    "    diagonal_compute['dist_diag_ratio'] = diagonal_compute.apply(lambda row: row['dist_avg'] / row['diag'], \n",
    "                                                                 axis=1)\n",
    "    df_PDF = pd.merge(df_PDF, diagonal_compute[['PDF_name', 'dist_diag_ratio']],\n",
    "                      on='PDF_name', how = 'left')\n",
    "    \n",
    "    # 保存文件\n",
    "    df_PDF.to_excel(\"./Playground/04_DataIntegration/00_separate/df_PDF_{}_{}.xlsx\".format(PDF_type, PDF_year))\n",
    "\n",
    "    return df_PDF"
   ]
  },
  {
   "cell_type": "code",
   "execution_count": 53,
   "id": "2219c23c",
   "metadata": {
    "ExecuteTime": {
     "end_time": "2023-12-27T08:00:07.482343Z",
     "start_time": "2023-12-27T07:59:55.199336Z"
    }
   },
   "outputs": [
    {
     "data": {
      "text/html": [
       "<div>\n",
       "<style scoped>\n",
       "    .dataframe tbody tr th:only-of-type {\n",
       "        vertical-align: middle;\n",
       "    }\n",
       "\n",
       "    .dataframe tbody tr th {\n",
       "        vertical-align: top;\n",
       "    }\n",
       "\n",
       "    .dataframe thead th {\n",
       "        text-align: right;\n",
       "    }\n",
       "</style>\n",
       "<table border=\"1\" class=\"dataframe\">\n",
       "  <thead>\n",
       "    <tr style=\"text-align: right;\">\n",
       "      <th></th>\n",
       "      <th>PDF_name</th>\n",
       "      <th>Corp_code</th>\n",
       "      <th>Corp_market</th>\n",
       "      <th>Pub_year</th>\n",
       "      <th>Pub_type</th>\n",
       "      <th>PDF_pages</th>\n",
       "      <th>img_num</th>\n",
       "      <th>img_size_avg</th>\n",
       "      <th>img_num_pages_ratio</th>\n",
       "      <th>img_size_pages_ratio</th>\n",
       "      <th>dist_diag_ratio</th>\n",
       "    </tr>\n",
       "  </thead>\n",
       "  <tbody>\n",
       "    <tr>\n",
       "      <th>0</th>\n",
       "      <td>300011.SZ-鼎汉技术-鼎汉技术 2022年社会责任暨环境、社会及管治(ESG)报告-...</td>\n",
       "      <td>300011</td>\n",
       "      <td>SZ</td>\n",
       "      <td>2022</td>\n",
       "      <td>ESG</td>\n",
       "      <td>47</td>\n",
       "      <td>118</td>\n",
       "      <td>234082.815567</td>\n",
       "      <td>2.510638</td>\n",
       "      <td>4980.485438</td>\n",
       "      <td>0.347275</td>\n",
       "    </tr>\n",
       "    <tr>\n",
       "      <th>1</th>\n",
       "      <td>300021.SZ-大禹节水-大禹节水 2022年度环境、社会及公司治理(ESG)报告-20...</td>\n",
       "      <td>300021</td>\n",
       "      <td>SZ</td>\n",
       "      <td>2022</td>\n",
       "      <td>ESG</td>\n",
       "      <td>38</td>\n",
       "      <td>219</td>\n",
       "      <td>50995.114252</td>\n",
       "      <td>5.763158</td>\n",
       "      <td>1341.976691</td>\n",
       "      <td>0.377827</td>\n",
       "    </tr>\n",
       "    <tr>\n",
       "      <th>2</th>\n",
       "      <td>000553.SZ-安道麦A-安道麦A 2022年度环境、社会及公司治理报告-2023-07...</td>\n",
       "      <td>000553</td>\n",
       "      <td>SZ</td>\n",
       "      <td>2022</td>\n",
       "      <td>ESG</td>\n",
       "      <td>143</td>\n",
       "      <td>145</td>\n",
       "      <td>493534.342545</td>\n",
       "      <td>1.013986</td>\n",
       "      <td>3451.289109</td>\n",
       "      <td>0.185911</td>\n",
       "    </tr>\n",
       "    <tr>\n",
       "      <th>3</th>\n",
       "      <td>600779.SH-水井坊-水井坊 水井坊2022年度环境、社会、公司治理(ESG)报告-2...</td>\n",
       "      <td>600779</td>\n",
       "      <td>SH</td>\n",
       "      <td>2022</td>\n",
       "      <td>ESG</td>\n",
       "      <td>61</td>\n",
       "      <td>87</td>\n",
       "      <td>243267.877227</td>\n",
       "      <td>1.426230</td>\n",
       "      <td>3987.997987</td>\n",
       "      <td>0.335838</td>\n",
       "    </tr>\n",
       "    <tr>\n",
       "      <th>4</th>\n",
       "      <td>601600.SH-中国铝业-中国铝业 中国铝业2022年度社会责任暨环境、社会与管治报告-...</td>\n",
       "      <td>601600</td>\n",
       "      <td>SH</td>\n",
       "      <td>2022</td>\n",
       "      <td>ESG</td>\n",
       "      <td>92</td>\n",
       "      <td>88</td>\n",
       "      <td>188413.610568</td>\n",
       "      <td>0.956522</td>\n",
       "      <td>2047.974028</td>\n",
       "      <td>0.237009</td>\n",
       "    </tr>\n",
       "    <tr>\n",
       "      <th>...</th>\n",
       "      <td>...</td>\n",
       "      <td>...</td>\n",
       "      <td>...</td>\n",
       "      <td>...</td>\n",
       "      <td>...</td>\n",
       "      <td>...</td>\n",
       "      <td>...</td>\n",
       "      <td>...</td>\n",
       "      <td>...</td>\n",
       "      <td>...</td>\n",
       "      <td>...</td>\n",
       "    </tr>\n",
       "    <tr>\n",
       "      <th>593</th>\n",
       "      <td>002506.SZ-协鑫集成-协鑫集成 协鑫集成科技股份有限公司2022年度环境、社会及管治...</td>\n",
       "      <td>002506</td>\n",
       "      <td>SZ</td>\n",
       "      <td>2022</td>\n",
       "      <td>ESG</td>\n",
       "      <td>44</td>\n",
       "      <td>100</td>\n",
       "      <td>124995.912834</td>\n",
       "      <td>2.272727</td>\n",
       "      <td>2840.816201</td>\n",
       "      <td>0.297456</td>\n",
       "    </tr>\n",
       "    <tr>\n",
       "      <th>594</th>\n",
       "      <td>600487.SH-亨通光电-亨通光电 亨通光电2022年环境、社会及治理报告-2023-0...</td>\n",
       "      <td>600487</td>\n",
       "      <td>SH</td>\n",
       "      <td>2022</td>\n",
       "      <td>ESG</td>\n",
       "      <td>39</td>\n",
       "      <td>74</td>\n",
       "      <td>409709.302261</td>\n",
       "      <td>1.897436</td>\n",
       "      <td>10505.366725</td>\n",
       "      <td>0.362397</td>\n",
       "    </tr>\n",
       "    <tr>\n",
       "      <th>595</th>\n",
       "      <td>600874.SH-创业环保-创业环保 创业环保2022年环境、社会及管治报告-2023-0...</td>\n",
       "      <td>600874</td>\n",
       "      <td>SH</td>\n",
       "      <td>2022</td>\n",
       "      <td>ESG</td>\n",
       "      <td>43</td>\n",
       "      <td>3</td>\n",
       "      <td>353974.728585</td>\n",
       "      <td>0.069767</td>\n",
       "      <td>8231.970432</td>\n",
       "      <td>0.159869</td>\n",
       "    </tr>\n",
       "    <tr>\n",
       "      <th>596</th>\n",
       "      <td>601918.SH-新集能源-新集能源 新集能源2022年环境、社会和治理报告-2023-0...</td>\n",
       "      <td>601918</td>\n",
       "      <td>SH</td>\n",
       "      <td>2022</td>\n",
       "      <td>ESG</td>\n",
       "      <td>76</td>\n",
       "      <td>76</td>\n",
       "      <td>481020.231220</td>\n",
       "      <td>1.000000</td>\n",
       "      <td>6329.213569</td>\n",
       "      <td>NaN</td>\n",
       "    </tr>\n",
       "    <tr>\n",
       "      <th>597</th>\n",
       "      <td>002910.SZ-庄园牧场-庄园牧场 2022年度环境、社会及管治(ESG)报告-2023...</td>\n",
       "      <td>002910</td>\n",
       "      <td>SZ</td>\n",
       "      <td>2022</td>\n",
       "      <td>ESG</td>\n",
       "      <td>64</td>\n",
       "      <td>121</td>\n",
       "      <td>377612.761120</td>\n",
       "      <td>1.890625</td>\n",
       "      <td>5900.199392</td>\n",
       "      <td>0.243433</td>\n",
       "    </tr>\n",
       "  </tbody>\n",
       "</table>\n",
       "<p>598 rows × 11 columns</p>\n",
       "</div>"
      ],
      "text/plain": [
       "                                              PDF_name Corp_code Corp_market  \\\n",
       "0    300011.SZ-鼎汉技术-鼎汉技术 2022年社会责任暨环境、社会及管治(ESG)报告-...    300011          SZ   \n",
       "1    300021.SZ-大禹节水-大禹节水 2022年度环境、社会及公司治理(ESG)报告-20...    300021          SZ   \n",
       "2    000553.SZ-安道麦A-安道麦A 2022年度环境、社会及公司治理报告-2023-07...    000553          SZ   \n",
       "3    600779.SH-水井坊-水井坊 水井坊2022年度环境、社会、公司治理(ESG)报告-2...    600779          SH   \n",
       "4    601600.SH-中国铝业-中国铝业 中国铝业2022年度社会责任暨环境、社会与管治报告-...    601600          SH   \n",
       "..                                                 ...       ...         ...   \n",
       "593  002506.SZ-协鑫集成-协鑫集成 协鑫集成科技股份有限公司2022年度环境、社会及管治...    002506          SZ   \n",
       "594  600487.SH-亨通光电-亨通光电 亨通光电2022年环境、社会及治理报告-2023-0...    600487          SH   \n",
       "595  600874.SH-创业环保-创业环保 创业环保2022年环境、社会及管治报告-2023-0...    600874          SH   \n",
       "596  601918.SH-新集能源-新集能源 新集能源2022年环境、社会和治理报告-2023-0...    601918          SH   \n",
       "597  002910.SZ-庄园牧场-庄园牧场 2022年度环境、社会及管治(ESG)报告-2023...    002910          SZ   \n",
       "\n",
       "     Pub_year Pub_type  PDF_pages  img_num   img_size_avg  \\\n",
       "0        2022      ESG         47      118  234082.815567   \n",
       "1        2022      ESG         38      219   50995.114252   \n",
       "2        2022      ESG        143      145  493534.342545   \n",
       "3        2022      ESG         61       87  243267.877227   \n",
       "4        2022      ESG         92       88  188413.610568   \n",
       "..        ...      ...        ...      ...            ...   \n",
       "593      2022      ESG         44      100  124995.912834   \n",
       "594      2022      ESG         39       74  409709.302261   \n",
       "595      2022      ESG         43        3  353974.728585   \n",
       "596      2022      ESG         76       76  481020.231220   \n",
       "597      2022      ESG         64      121  377612.761120   \n",
       "\n",
       "     img_num_pages_ratio  img_size_pages_ratio  dist_diag_ratio  \n",
       "0               2.510638           4980.485438         0.347275  \n",
       "1               5.763158           1341.976691         0.377827  \n",
       "2               1.013986           3451.289109         0.185911  \n",
       "3               1.426230           3987.997987         0.335838  \n",
       "4               0.956522           2047.974028         0.237009  \n",
       "..                   ...                   ...              ...  \n",
       "593             2.272727           2840.816201         0.297456  \n",
       "594             1.897436          10505.366725         0.362397  \n",
       "595             0.069767           8231.970432         0.159869  \n",
       "596             1.000000           6329.213569              NaN  \n",
       "597             1.890625           5900.199392         0.243433  \n",
       "\n",
       "[598 rows x 11 columns]"
      ]
     },
     "execution_count": 53,
     "metadata": {},
     "output_type": "execute_result"
    }
   ],
   "source": [
    "get_df_PDF(\"./Playground/03_TextImgMatch/distance/ESG_2022_distance.xlsx\",\n",
    "          \"./Playground/00_DataBase/01_ESGReport_PDF/2022\",\n",
    "          2022, \"ESG\")"
   ]
  },
  {
   "cell_type": "markdown",
   "id": "a4eb97ec",
   "metadata": {},
   "source": [
    "# 合并df_PDF"
   ]
  },
  {
   "cell_type": "code",
   "execution_count": 58,
   "id": "b2907749",
   "metadata": {
    "ExecuteTime": {
     "end_time": "2023-12-27T08:16:35.702211Z",
     "start_time": "2023-12-27T08:16:35.494291Z"
    }
   },
   "outputs": [],
   "source": [
    "df_PDF_SUS_2020 = pd.read_excel(\"./Playground/04_DataIntegration/00_separate/df_PDF_SUS_2020.xlsx\")\n",
    "df_PDF_SUS_2021 = pd.read_excel(\"./Playground/04_DataIntegration/00_separate/df_PDF_SUS_2021.xlsx\")\n",
    "df_PDF_SUS_2022 = pd.read_excel(\"./Playground/04_DataIntegration/00_separate/df_PDF_SUS_2022.xlsx\")\n",
    "df_PDF_ESG_2020 = pd.read_excel(\"./Playground/04_DataIntegration/00_separate/df_PDF_ESG_2020.xlsx\")\n",
    "df_PDF_ESG_2021 = pd.read_excel(\"./Playground/04_DataIntegration/00_separate/df_PDF_ESG_2021.xlsx\")\n",
    "df_PDF_ESG_2022 = pd.read_excel(\"./Playground/04_DataIntegration/00_separate/df_PDF_ESG_2022.xlsx\")\n",
    "\n",
    "df_PDF_main = pd.concat([df_PDF_ESG_2020, df_PDF_ESG_2021, df_PDF_ESG_2022, \n",
    "                         df_PDF_SUS_2020, df_PDF_SUS_2021, df_PDF_SUS_2022])\n",
    "df_PDF_main = df_PDF_main.drop('Unnamed: 0', axis=1)\n",
    "\n",
    "# 保存df\n",
    "df_PDF_main.to_excel(\"./Playground/04_DataIntegration/df_PDF_main.xlsx\",\n",
    "                    index=False)"
   ]
  },
  {
   "cell_type": "markdown",
   "id": "5d81c756",
   "metadata": {},
   "source": [
    "# 读取PDF"
   ]
  },
  {
   "cell_type": "code",
   "execution_count": 37,
   "id": "8c729491",
   "metadata": {
    "ExecuteTime": {
     "end_time": "2023-12-29T07:13:24.027043Z",
     "start_time": "2023-12-29T07:13:23.908001Z"
    }
   },
   "outputs": [
    {
     "name": "stdout",
     "output_type": "stream",
     "text": [
      "<class 'pandas.core.frame.DataFrame'>\n",
      "RangeIndex: 1046 entries, 0 to 1045\n",
      "Data columns (total 11 columns):\n",
      " #   Column                Non-Null Count  Dtype  \n",
      "---  ------                --------------  -----  \n",
      " 0   PDF_name              1046 non-null   object \n",
      " 1   Corp_code             1046 non-null   object \n",
      " 2   Corp_market           1046 non-null   object \n",
      " 3   Pub_year              1046 non-null   int64  \n",
      " 4   Pub_type              1046 non-null   object \n",
      " 5   PDF_pages             1046 non-null   int64  \n",
      " 6   img_num               1046 non-null   int64  \n",
      " 7   img_size_avg          1046 non-null   float64\n",
      " 8   img_num_pages_ratio   1046 non-null   float64\n",
      " 9   img_size_pages_ratio  1046 non-null   float64\n",
      " 10  dist_diag_ratio       961 non-null    float64\n",
      "dtypes: float64(4), int64(3), object(4)\n",
      "memory usage: 90.0+ KB\n"
     ]
    }
   ],
   "source": [
    "df_PDF_main = pd.read_excel(\"./Playground/04_DataIntegration/df_PDF_main.xlsx\",\n",
    "                           dtype={'Corp_code': str})\n",
    "df_PDF_main.info()"
   ]
  },
  {
   "cell_type": "code",
   "execution_count": 38,
   "id": "e461d177",
   "metadata": {
    "ExecuteTime": {
     "end_time": "2023-12-29T07:13:25.534604Z",
     "start_time": "2023-12-29T07:13:25.529604Z"
    }
   },
   "outputs": [],
   "source": [
    "# 补全股票代码\n",
    "df_PDF_main['Corp_code'] = df_PDF_main.Corp_code.apply(lambda x: f'{\"0\"*(6-len(x))}{x}' if len(x)<6 else x)"
   ]
  },
  {
   "cell_type": "code",
   "execution_count": 39,
   "id": "17b1fdc8",
   "metadata": {
    "ExecuteTime": {
     "end_time": "2023-12-29T07:13:26.048000Z",
     "start_time": "2023-12-29T07:13:26.042097Z"
    }
   },
   "outputs": [],
   "source": [
    "# 创建上市公司名字\n",
    "df_PDF_main['Corp_name'] = df_PDF_main['PDF_name'].apply(lambda x: x.split('-')[1])"
   ]
  },
  {
   "cell_type": "markdown",
   "id": "8559204e",
   "metadata": {},
   "source": [
    "# 企业行业类型导入"
   ]
  },
  {
   "cell_type": "code",
   "execution_count": 40,
   "id": "10d59d52",
   "metadata": {
    "ExecuteTime": {
     "end_time": "2023-12-29T07:13:27.558687Z",
     "start_time": "2023-12-29T07:13:27.520297Z"
    }
   },
   "outputs": [
    {
     "data": {
      "text/html": [
       "<div>\n",
       "<style scoped>\n",
       "    .dataframe tbody tr th:only-of-type {\n",
       "        vertical-align: middle;\n",
       "    }\n",
       "\n",
       "    .dataframe tbody tr th {\n",
       "        vertical-align: top;\n",
       "    }\n",
       "\n",
       "    .dataframe thead th {\n",
       "        text-align: right;\n",
       "    }\n",
       "</style>\n",
       "<table border=\"1\" class=\"dataframe\">\n",
       "  <thead>\n",
       "    <tr style=\"text-align: right;\">\n",
       "      <th></th>\n",
       "      <th>类目编码</th>\n",
       "      <th>类目名称</th>\n",
       "      <th>终止日期</th>\n",
       "      <th>行业类型</th>\n",
       "      <th>行业类型编码</th>\n",
       "      <th>类目名称英文</th>\n",
       "      <th>父类编码</th>\n",
       "      <th>分级</th>\n",
       "    </tr>\n",
       "  </thead>\n",
       "  <tbody>\n",
       "    <tr>\n",
       "      <th>0</th>\n",
       "      <td>0</td>\n",
       "      <td>证监会行业分类</td>\n",
       "      <td>NaN</td>\n",
       "      <td>证监会行业分类标准</td>\n",
       "      <td>8001</td>\n",
       "      <td>CSRC Industry Classification</td>\n",
       "      <td>008</td>\n",
       "      <td>0</td>\n",
       "    </tr>\n",
       "    <tr>\n",
       "      <th>1</th>\n",
       "      <td>A</td>\n",
       "      <td>农、林、牧、渔业</td>\n",
       "      <td>NaN</td>\n",
       "      <td>证监会行业分类标准</td>\n",
       "      <td>8001</td>\n",
       "      <td>Agriculture</td>\n",
       "      <td>0</td>\n",
       "      <td>0</td>\n",
       "    </tr>\n",
       "    <tr>\n",
       "      <th>2</th>\n",
       "      <td>A01</td>\n",
       "      <td>农业</td>\n",
       "      <td>NaN</td>\n",
       "      <td>证监会行业分类标准</td>\n",
       "      <td>8001</td>\n",
       "      <td>Agriculture</td>\n",
       "      <td>A</td>\n",
       "      <td>1</td>\n",
       "    </tr>\n",
       "    <tr>\n",
       "      <th>3</th>\n",
       "      <td>A02</td>\n",
       "      <td>林业</td>\n",
       "      <td>NaN</td>\n",
       "      <td>证监会行业分类标准</td>\n",
       "      <td>8001</td>\n",
       "      <td>Forestry</td>\n",
       "      <td>A</td>\n",
       "      <td>1</td>\n",
       "    </tr>\n",
       "    <tr>\n",
       "      <th>4</th>\n",
       "      <td>A03</td>\n",
       "      <td>畜牧业</td>\n",
       "      <td>NaN</td>\n",
       "      <td>证监会行业分类标准</td>\n",
       "      <td>8001</td>\n",
       "      <td>Animal Husbandry</td>\n",
       "      <td>A</td>\n",
       "      <td>1</td>\n",
       "    </tr>\n",
       "    <tr>\n",
       "      <th>...</th>\n",
       "      <td>...</td>\n",
       "      <td>...</td>\n",
       "      <td>...</td>\n",
       "      <td>...</td>\n",
       "      <td>...</td>\n",
       "      <td>...</td>\n",
       "      <td>...</td>\n",
       "      <td>...</td>\n",
       "    </tr>\n",
       "    <tr>\n",
       "      <th>105</th>\n",
       "      <td>R87</td>\n",
       "      <td>文化艺术业</td>\n",
       "      <td>NaN</td>\n",
       "      <td>证监会行业分类标准</td>\n",
       "      <td>8001</td>\n",
       "      <td>Culture and Art</td>\n",
       "      <td>R</td>\n",
       "      <td>1</td>\n",
       "    </tr>\n",
       "    <tr>\n",
       "      <th>106</th>\n",
       "      <td>R88</td>\n",
       "      <td>体育</td>\n",
       "      <td>NaN</td>\n",
       "      <td>证监会行业分类标准</td>\n",
       "      <td>8001</td>\n",
       "      <td>Sports</td>\n",
       "      <td>R</td>\n",
       "      <td>1</td>\n",
       "    </tr>\n",
       "    <tr>\n",
       "      <th>107</th>\n",
       "      <td>R89</td>\n",
       "      <td>娱乐业</td>\n",
       "      <td>NaN</td>\n",
       "      <td>证监会行业分类标准</td>\n",
       "      <td>8001</td>\n",
       "      <td>Entertainment</td>\n",
       "      <td>R</td>\n",
       "      <td>1</td>\n",
       "    </tr>\n",
       "    <tr>\n",
       "      <th>108</th>\n",
       "      <td>S</td>\n",
       "      <td>综合</td>\n",
       "      <td>NaN</td>\n",
       "      <td>证监会行业分类标准</td>\n",
       "      <td>8001</td>\n",
       "      <td>Conglomerates</td>\n",
       "      <td>0</td>\n",
       "      <td>0</td>\n",
       "    </tr>\n",
       "    <tr>\n",
       "      <th>109</th>\n",
       "      <td>S90</td>\n",
       "      <td>综合</td>\n",
       "      <td>NaN</td>\n",
       "      <td>证监会行业分类标准</td>\n",
       "      <td>8001</td>\n",
       "      <td>Conglomerates</td>\n",
       "      <td>S</td>\n",
       "      <td>1</td>\n",
       "    </tr>\n",
       "  </tbody>\n",
       "</table>\n",
       "<p>110 rows × 8 columns</p>\n",
       "</div>"
      ],
      "text/plain": [
       "    类目编码      类目名称  终止日期       行业类型  行业类型编码                        类目名称英文  \\\n",
       "0      0   证监会行业分类   NaN  证监会行业分类标准    8001  CSRC Industry Classification   \n",
       "1      A  农、林、牧、渔业   NaN  证监会行业分类标准    8001                   Agriculture   \n",
       "2    A01        农业   NaN  证监会行业分类标准    8001                   Agriculture   \n",
       "3    A02        林业   NaN  证监会行业分类标准    8001                      Forestry   \n",
       "4    A03       畜牧业   NaN  证监会行业分类标准    8001              Animal Husbandry   \n",
       "..   ...       ...   ...        ...     ...                           ...   \n",
       "105  R87     文化艺术业   NaN  证监会行业分类标准    8001               Culture and Art   \n",
       "106  R88        体育   NaN  证监会行业分类标准    8001                        Sports   \n",
       "107  R89       娱乐业   NaN  证监会行业分类标准    8001                 Entertainment   \n",
       "108    S        综合   NaN  证监会行业分类标准    8001                 Conglomerates   \n",
       "109  S90        综合   NaN  证监会行业分类标准    8001                 Conglomerates   \n",
       "\n",
       "    父类编码  分级  \n",
       "0    008   0  \n",
       "1      0   0  \n",
       "2      A   1  \n",
       "3      A   1  \n",
       "4      A   1  \n",
       "..   ...  ..  \n",
       "105    R   1  \n",
       "106    R   1  \n",
       "107    R   1  \n",
       "108    0   0  \n",
       "109    S   1  \n",
       "\n",
       "[110 rows x 8 columns]"
      ]
     },
     "execution_count": 40,
     "metadata": {},
     "output_type": "execute_result"
    }
   ],
   "source": [
    "stock_industry_category_cninfo_df = pd.read_excel(\"./Playground/00_DataBase/02_Stock/证监会行业分类标准.xlsx\")\n",
    "\n",
    "if 'Unnamed: 0' in stock_industry_category_cninfo_df.columns:\n",
    "    stock_industry_category_cninfo_df = stock_industry_category_cninfo_df.drop('Unnamed: 0', axis=1)\n",
    "    \n",
    "stock_industry_category_cninfo_df"
   ]
  },
  {
   "cell_type": "code",
   "execution_count": 41,
   "id": "ff74e3f0",
   "metadata": {
    "ExecuteTime": {
     "end_time": "2023-12-29T07:13:28.766674Z",
     "start_time": "2023-12-29T07:13:28.760890Z"
    }
   },
   "outputs": [],
   "source": [
    "def industry_info(corp_code, stock_industry_category_cninfo_df=stock_industry_category_cninfo_df):\n",
    "    if len(str(corp_code)) == 6:\n",
    "        industry_name_list = ak.stock_profile_cninfo(symbol=str(corp_code))['所属行业'].values.tolist()\n",
    "        if len(industry_name_list) != 0:\n",
    "            industry_name = industry_name_list[0]\n",
    "            industry_code = stock_industry_category_cninfo_df[stock_industry_category_cninfo_df['类目名称'] == industry_name]['类目编码'].values.tolist()[-1]\n",
    "        \n",
    "            return industry_code\n",
    "        else:\n",
    "            print(f'ZeroInfoError: corp_code {corp_code} has no info.')\n",
    "            return None\n",
    "    else:\n",
    "        print(f'Unregularized corp_code found: {corp_code}')\n",
    "        return None"
   ]
  },
  {
   "cell_type": "code",
   "execution_count": 42,
   "id": "4229ff3e",
   "metadata": {
    "ExecuteTime": {
     "end_time": "2023-12-29T07:16:45.172125Z",
     "start_time": "2023-12-29T07:13:30.433334Z"
    }
   },
   "outputs": [
    {
     "name": "stdout",
     "output_type": "stream",
     "text": [
      "ZeroInfoError: corp_code 603157 has no info.\n",
      "ZeroInfoError: corp_code 101551 has no info.\n",
      "ZeroInfoError: corp_code 001138 has no info.\n",
      "ZeroInfoError: corp_code 000941 has no info.\n",
      "ZeroInfoError: corp_code 003347 has no info.\n",
      "ZeroInfoError: corp_code 006198 has no info.\n"
     ]
    }
   ],
   "source": [
    "df_PDF_main['Corp_industry_code'] = df_PDF_main['Corp_code'].apply(industry_info)"
   ]
  },
  {
   "cell_type": "markdown",
   "id": "024241f3",
   "metadata": {},
   "source": [
    "## 虚拟变量：污染行业和垄断行业"
   ]
  },
  {
   "cell_type": "code",
   "execution_count": 43,
   "id": "23019a1f",
   "metadata": {
    "ExecuteTime": {
     "end_time": "2023-12-29T07:16:45.184320Z",
     "start_time": "2023-12-29T07:16:45.177426Z"
    }
   },
   "outputs": [],
   "source": [
    "def polluting_industry(corp_industry_code, poll_list = ['C25', 'C26', 'C28', 'C31', 'C32', 'C33']):\n",
    "    \"\"\"\n",
    "    Return True if corp in polluting industry else False.\n",
    "    \"\"\"\n",
    "    return corp_industry_code in poll_list\n",
    "\n",
    "def monopoly_industry(corp_industry_code, mono_list = ['D44', 'D45', 'D46']):\n",
    "    \"\"\"\n",
    "    Return True if corp in monopolistic industry else False.\n",
    "    \"\"\"\n",
    "    return corp_industry_code in mono_list"
   ]
  },
  {
   "cell_type": "code",
   "execution_count": 44,
   "id": "2147d90f",
   "metadata": {
    "ExecuteTime": {
     "end_time": "2023-12-29T07:16:45.193841Z",
     "start_time": "2023-12-29T07:16:45.187600Z"
    }
   },
   "outputs": [],
   "source": [
    "df_PDF_main['Mono_idst'] = df_PDF_main['Corp_industry_code'].apply(monopoly_industry)\n",
    "df_PDF_main['Poll_idst'] = df_PDF_main['Corp_industry_code'].apply(polluting_industry)"
   ]
  },
  {
   "cell_type": "code",
   "execution_count": 46,
   "id": "31204e49",
   "metadata": {
    "ExecuteTime": {
     "end_time": "2023-12-29T07:25:43.486875Z",
     "start_time": "2023-12-29T07:25:43.324266Z"
    }
   },
   "outputs": [],
   "source": [
    "# df_PDF_main.to_excel(\"./Playground/04_DataIntegration/df_PDF_main2.xlsx\")"
   ]
  },
  {
   "cell_type": "code",
   "execution_count": 48,
   "id": "8393b990",
   "metadata": {
    "ExecuteTime": {
     "end_time": "2023-12-29T07:38:31.897961Z",
     "start_time": "2023-12-29T07:38:31.884041Z"
    }
   },
   "outputs": [],
   "source": [
    "df_PDF_main = df_PDF_main[['PDF_name', 'Corp_code', 'Corp_name', 'Corp_market', 'Pub_year', 'Pub_type',\n",
    "       'PDF_pages', 'img_num', 'img_size_avg', 'img_num_pages_ratio',\n",
    "       'img_size_pages_ratio', 'dist_diag_ratio', \n",
    "       'Corp_industry_code', 'Mono_idst', 'Poll_idst']]"
   ]
  },
  {
   "cell_type": "code",
   "execution_count": 49,
   "id": "5ec3823e",
   "metadata": {
    "ExecuteTime": {
     "end_time": "2023-12-29T07:38:39.688220Z",
     "start_time": "2023-12-29T07:38:39.666444Z"
    }
   },
   "outputs": [
    {
     "data": {
      "text/html": [
       "<div>\n",
       "<style scoped>\n",
       "    .dataframe tbody tr th:only-of-type {\n",
       "        vertical-align: middle;\n",
       "    }\n",
       "\n",
       "    .dataframe tbody tr th {\n",
       "        vertical-align: top;\n",
       "    }\n",
       "\n",
       "    .dataframe thead th {\n",
       "        text-align: right;\n",
       "    }\n",
       "</style>\n",
       "<table border=\"1\" class=\"dataframe\">\n",
       "  <thead>\n",
       "    <tr style=\"text-align: right;\">\n",
       "      <th></th>\n",
       "      <th>PDF_name</th>\n",
       "      <th>Corp_code</th>\n",
       "      <th>Corp_name</th>\n",
       "      <th>Corp_market</th>\n",
       "      <th>Pub_year</th>\n",
       "      <th>Pub_type</th>\n",
       "      <th>PDF_pages</th>\n",
       "      <th>img_num</th>\n",
       "      <th>img_size_avg</th>\n",
       "      <th>img_num_pages_ratio</th>\n",
       "      <th>img_size_pages_ratio</th>\n",
       "      <th>dist_diag_ratio</th>\n",
       "      <th>Corp_industry_code</th>\n",
       "      <th>Mono_idst</th>\n",
       "      <th>Poll_idst</th>\n",
       "    </tr>\n",
       "  </thead>\n",
       "  <tbody>\n",
       "    <tr>\n",
       "      <th>0</th>\n",
       "      <td>601066.SH-中信建投-2020年度社会责任暨环境、社会与管治报告-2021-04-0...</td>\n",
       "      <td>601066</td>\n",
       "      <td>中信建投</td>\n",
       "      <td>SH</td>\n",
       "      <td>2020</td>\n",
       "      <td>ESG</td>\n",
       "      <td>76</td>\n",
       "      <td>9</td>\n",
       "      <td>42387.210437</td>\n",
       "      <td>0.118421</td>\n",
       "      <td>557.726453</td>\n",
       "      <td>0.350460</td>\n",
       "      <td>J67</td>\n",
       "      <td>False</td>\n",
       "      <td>False</td>\n",
       "    </tr>\n",
       "    <tr>\n",
       "      <th>1</th>\n",
       "      <td>600803.SH-新奥股份-新奥天然气股份有限公司2020年度环境、社会及管治报告(中文版...</td>\n",
       "      <td>600803</td>\n",
       "      <td>新奥股份</td>\n",
       "      <td>SH</td>\n",
       "      <td>2020</td>\n",
       "      <td>ESG</td>\n",
       "      <td>44</td>\n",
       "      <td>153</td>\n",
       "      <td>128895.980539</td>\n",
       "      <td>3.477273</td>\n",
       "      <td>2929.454103</td>\n",
       "      <td>0.333972</td>\n",
       "      <td>D45</td>\n",
       "      <td>True</td>\n",
       "      <td>False</td>\n",
       "    </tr>\n",
       "    <tr>\n",
       "      <th>2</th>\n",
       "      <td>600600.SH-青岛啤酒-环境、社会及管治报告-2021-03-29.pdf</td>\n",
       "      <td>600600</td>\n",
       "      <td>青岛啤酒</td>\n",
       "      <td>SH</td>\n",
       "      <td>2020</td>\n",
       "      <td>ESG</td>\n",
       "      <td>32</td>\n",
       "      <td>99</td>\n",
       "      <td>125883.408804</td>\n",
       "      <td>3.093750</td>\n",
       "      <td>3933.856525</td>\n",
       "      <td>0.340635</td>\n",
       "      <td>C15</td>\n",
       "      <td>False</td>\n",
       "      <td>False</td>\n",
       "    </tr>\n",
       "    <tr>\n",
       "      <th>3</th>\n",
       "      <td>300759.SZ-康龙化成-康龙化成 2020年度社会责任暨环境、社会及管治报告-2021...</td>\n",
       "      <td>300759</td>\n",
       "      <td>康龙化成</td>\n",
       "      <td>SZ</td>\n",
       "      <td>2020</td>\n",
       "      <td>ESG</td>\n",
       "      <td>28</td>\n",
       "      <td>25</td>\n",
       "      <td>27196.530652</td>\n",
       "      <td>0.892857</td>\n",
       "      <td>971.304666</td>\n",
       "      <td>0.273792</td>\n",
       "      <td>M73</td>\n",
       "      <td>False</td>\n",
       "      <td>False</td>\n",
       "    </tr>\n",
       "    <tr>\n",
       "      <th>4</th>\n",
       "      <td>002242.SZ-九阳股份-九阳股份 2020年环境、社会及管治报告-2021-06-11...</td>\n",
       "      <td>002242</td>\n",
       "      <td>九阳股份</td>\n",
       "      <td>SZ</td>\n",
       "      <td>2020</td>\n",
       "      <td>ESG</td>\n",
       "      <td>51</td>\n",
       "      <td>52</td>\n",
       "      <td>61956.921173</td>\n",
       "      <td>1.019608</td>\n",
       "      <td>1214.841592</td>\n",
       "      <td>0.212756</td>\n",
       "      <td>C38</td>\n",
       "      <td>False</td>\n",
       "      <td>False</td>\n",
       "    </tr>\n",
       "    <tr>\n",
       "      <th>...</th>\n",
       "      <td>...</td>\n",
       "      <td>...</td>\n",
       "      <td>...</td>\n",
       "      <td>...</td>\n",
       "      <td>...</td>\n",
       "      <td>...</td>\n",
       "      <td>...</td>\n",
       "      <td>...</td>\n",
       "      <td>...</td>\n",
       "      <td>...</td>\n",
       "      <td>...</td>\n",
       "      <td>...</td>\n",
       "      <td>...</td>\n",
       "      <td>...</td>\n",
       "      <td>...</td>\n",
       "    </tr>\n",
       "    <tr>\n",
       "      <th>1041</th>\n",
       "      <td>600201.SH-生物股份-生物股份 金宇生物技术股份有限公司2022年年度可持续发展报告...</td>\n",
       "      <td>600201</td>\n",
       "      <td>生物股份</td>\n",
       "      <td>SH</td>\n",
       "      <td>2022</td>\n",
       "      <td>SUS</td>\n",
       "      <td>36</td>\n",
       "      <td>35</td>\n",
       "      <td>102463.497340</td>\n",
       "      <td>0.972222</td>\n",
       "      <td>2846.208259</td>\n",
       "      <td>0.319214</td>\n",
       "      <td>C27</td>\n",
       "      <td>False</td>\n",
       "      <td>False</td>\n",
       "    </tr>\n",
       "    <tr>\n",
       "      <th>1042</th>\n",
       "      <td>600588.SH-用友网络-用友网络 用友网络2022年度可持续发展(ESG)报告-202...</td>\n",
       "      <td>600588</td>\n",
       "      <td>用友网络</td>\n",
       "      <td>SH</td>\n",
       "      <td>2022</td>\n",
       "      <td>SUS</td>\n",
       "      <td>33</td>\n",
       "      <td>31</td>\n",
       "      <td>109075.470388</td>\n",
       "      <td>0.939394</td>\n",
       "      <td>3305.317284</td>\n",
       "      <td>0.252490</td>\n",
       "      <td>I65</td>\n",
       "      <td>False</td>\n",
       "      <td>False</td>\n",
       "    </tr>\n",
       "    <tr>\n",
       "      <th>1043</th>\n",
       "      <td>600989.SH-宝丰能源-宝丰能源 宁夏宝丰能源集团股份有限公司2022年可持续发展报告...</td>\n",
       "      <td>600989</td>\n",
       "      <td>宝丰能源</td>\n",
       "      <td>SH</td>\n",
       "      <td>2022</td>\n",
       "      <td>SUS</td>\n",
       "      <td>35</td>\n",
       "      <td>58</td>\n",
       "      <td>199669.598451</td>\n",
       "      <td>1.657143</td>\n",
       "      <td>5704.845670</td>\n",
       "      <td>0.291486</td>\n",
       "      <td>C26</td>\n",
       "      <td>False</td>\n",
       "      <td>True</td>\n",
       "    </tr>\n",
       "    <tr>\n",
       "      <th>1044</th>\n",
       "      <td>600019.SH-宝钢股份-宝钢股份 宝山钢铁股份有限公司2022年度可持续发展报告-20...</td>\n",
       "      <td>600019</td>\n",
       "      <td>宝钢股份</td>\n",
       "      <td>SH</td>\n",
       "      <td>2022</td>\n",
       "      <td>SUS</td>\n",
       "      <td>73</td>\n",
       "      <td>227</td>\n",
       "      <td>157117.564714</td>\n",
       "      <td>3.109589</td>\n",
       "      <td>2152.295407</td>\n",
       "      <td>0.292533</td>\n",
       "      <td>C31</td>\n",
       "      <td>False</td>\n",
       "      <td>True</td>\n",
       "    </tr>\n",
       "    <tr>\n",
       "      <th>1045</th>\n",
       "      <td>600356.SH-恒丰纸业-恒丰纸业 恒丰纸业2022可持续发展报告-2023-03-15...</td>\n",
       "      <td>600356</td>\n",
       "      <td>恒丰纸业</td>\n",
       "      <td>SH</td>\n",
       "      <td>2022</td>\n",
       "      <td>SUS</td>\n",
       "      <td>40</td>\n",
       "      <td>118</td>\n",
       "      <td>133293.581823</td>\n",
       "      <td>2.950000</td>\n",
       "      <td>3332.339546</td>\n",
       "      <td>0.333423</td>\n",
       "      <td>C22</td>\n",
       "      <td>False</td>\n",
       "      <td>False</td>\n",
       "    </tr>\n",
       "  </tbody>\n",
       "</table>\n",
       "<p>1046 rows × 15 columns</p>\n",
       "</div>"
      ],
      "text/plain": [
       "                                               PDF_name Corp_code Corp_name  \\\n",
       "0     601066.SH-中信建投-2020年度社会责任暨环境、社会与管治报告-2021-04-0...    601066      中信建投   \n",
       "1     600803.SH-新奥股份-新奥天然气股份有限公司2020年度环境、社会及管治报告(中文版...    600803      新奥股份   \n",
       "2              600600.SH-青岛啤酒-环境、社会及管治报告-2021-03-29.pdf    600600      青岛啤酒   \n",
       "3     300759.SZ-康龙化成-康龙化成 2020年度社会责任暨环境、社会及管治报告-2021...    300759      康龙化成   \n",
       "4     002242.SZ-九阳股份-九阳股份 2020年环境、社会及管治报告-2021-06-11...    002242      九阳股份   \n",
       "...                                                 ...       ...       ...   \n",
       "1041  600201.SH-生物股份-生物股份 金宇生物技术股份有限公司2022年年度可持续发展报告...    600201      生物股份   \n",
       "1042  600588.SH-用友网络-用友网络 用友网络2022年度可持续发展(ESG)报告-202...    600588      用友网络   \n",
       "1043  600989.SH-宝丰能源-宝丰能源 宁夏宝丰能源集团股份有限公司2022年可持续发展报告...    600989      宝丰能源   \n",
       "1044  600019.SH-宝钢股份-宝钢股份 宝山钢铁股份有限公司2022年度可持续发展报告-20...    600019      宝钢股份   \n",
       "1045  600356.SH-恒丰纸业-恒丰纸业 恒丰纸业2022可持续发展报告-2023-03-15...    600356      恒丰纸业   \n",
       "\n",
       "     Corp_market  Pub_year Pub_type  PDF_pages  img_num   img_size_avg  \\\n",
       "0             SH      2020      ESG         76        9   42387.210437   \n",
       "1             SH      2020      ESG         44      153  128895.980539   \n",
       "2             SH      2020      ESG         32       99  125883.408804   \n",
       "3             SZ      2020      ESG         28       25   27196.530652   \n",
       "4             SZ      2020      ESG         51       52   61956.921173   \n",
       "...          ...       ...      ...        ...      ...            ...   \n",
       "1041          SH      2022      SUS         36       35  102463.497340   \n",
       "1042          SH      2022      SUS         33       31  109075.470388   \n",
       "1043          SH      2022      SUS         35       58  199669.598451   \n",
       "1044          SH      2022      SUS         73      227  157117.564714   \n",
       "1045          SH      2022      SUS         40      118  133293.581823   \n",
       "\n",
       "      img_num_pages_ratio  img_size_pages_ratio  dist_diag_ratio  \\\n",
       "0                0.118421            557.726453         0.350460   \n",
       "1                3.477273           2929.454103         0.333972   \n",
       "2                3.093750           3933.856525         0.340635   \n",
       "3                0.892857            971.304666         0.273792   \n",
       "4                1.019608           1214.841592         0.212756   \n",
       "...                   ...                   ...              ...   \n",
       "1041             0.972222           2846.208259         0.319214   \n",
       "1042             0.939394           3305.317284         0.252490   \n",
       "1043             1.657143           5704.845670         0.291486   \n",
       "1044             3.109589           2152.295407         0.292533   \n",
       "1045             2.950000           3332.339546         0.333423   \n",
       "\n",
       "     Corp_industry_code  Mono_idst  Poll_idst  \n",
       "0                   J67      False      False  \n",
       "1                   D45       True      False  \n",
       "2                   C15      False      False  \n",
       "3                   M73      False      False  \n",
       "4                   C38      False      False  \n",
       "...                 ...        ...        ...  \n",
       "1041                C27      False      False  \n",
       "1042                I65      False      False  \n",
       "1043                C26      False       True  \n",
       "1044                C31      False       True  \n",
       "1045                C22      False      False  \n",
       "\n",
       "[1046 rows x 15 columns]"
      ]
     },
     "execution_count": 49,
     "metadata": {},
     "output_type": "execute_result"
    }
   ],
   "source": [
    "df_PDF_main"
   ]
  },
  {
   "cell_type": "markdown",
   "id": "b55cda19",
   "metadata": {},
   "source": [
    "# 财务数据\n",
    "ROA，ROE，成立时长，总资产，专利数\n",
    "## 专利数数据来源\n",
    "https://bbs.pinggu.org/thread-11541330-1-1.html"
   ]
  },
  {
   "cell_type": "code",
   "execution_count": 66,
   "id": "5740b440",
   "metadata": {
    "ExecuteTime": {
     "end_time": "2023-12-29T07:54:27.314115Z",
     "start_time": "2023-12-29T07:54:24.185983Z"
    },
    "collapsed": true
   },
   "outputs": [
    {
     "name": "stdout",
     "output_type": "stream",
     "text": [
      "<class 'pandas.core.frame.DataFrame'>\n",
      "Int64Index: 15354 entries, 0 to 5092\n",
      "Data columns (total 16 columns):\n",
      " #   Column    Non-Null Count  Dtype         \n",
      "---  ------    --------------  -----         \n",
      " 0   序号        15354 non-null  int64         \n",
      " 1   股票代码      15354 non-null  object        \n",
      " 2   股票简称      15354 non-null  object        \n",
      " 3   资产-货币资金   15228 non-null  float64       \n",
      " 4   资产-应收账款   15146 non-null  float64       \n",
      " 5   资产-存货     14848 non-null  float64       \n",
      " 6   资产-总资产    15354 non-null  float64       \n",
      " 7   资产-总资产同比  15354 non-null  float64       \n",
      " 8   负债-应付账款   15190 non-null  float64       \n",
      " 9   负债-预收账款   4685 non-null   float64       \n",
      " 10  负债-总负债    15354 non-null  float64       \n",
      " 11  负债-总负债同比  15354 non-null  float64       \n",
      " 12  资产负债率     15354 non-null  float64       \n",
      " 13  股东权益合计    15354 non-null  float64       \n",
      " 14  公告日期      15354 non-null  datetime64[ns]\n",
      " 15  所属年份      15354 non-null  object        \n",
      "dtypes: datetime64[ns](1), float64(11), int64(1), object(3)\n",
      "memory usage: 2.0+ MB\n",
      "<class 'pandas.core.frame.DataFrame'>\n",
      "Int64Index: 15382 entries, 0 to 5120\n",
      "Data columns (total 16 columns):\n",
      " #   Column       Non-Null Count  Dtype         \n",
      "---  ------       --------------  -----         \n",
      " 0   序号           15382 non-null  int64         \n",
      " 1   股票代码         15382 non-null  object        \n",
      " 2   股票简称         15382 non-null  object        \n",
      " 3   净利润          15382 non-null  float64       \n",
      " 4   净利润同比        15382 non-null  float64       \n",
      " 5   营业总收入        15376 non-null  float64       \n",
      " 6   营业总收入同比      15368 non-null  float64       \n",
      " 7   营业总支出-营业支出   15064 non-null  float64       \n",
      " 8   营业总支出-销售费用   14855 non-null  float64       \n",
      " 9   营业总支出-管理费用   15364 non-null  float64       \n",
      " 10  营业总支出-财务费用   15080 non-null  float64       \n",
      " 11  营业总支出-营业总支出  15382 non-null  float64       \n",
      " 12  营业利润         15382 non-null  float64       \n",
      " 13  利润总额         15382 non-null  float64       \n",
      " 14  公告日期         15382 non-null  datetime64[ns]\n",
      " 15  所属年份         15382 non-null  object        \n",
      "dtypes: datetime64[ns](1), float64(11), int64(1), object(3)\n",
      "memory usage: 2.0+ MB\n"
     ]
    },
    {
     "data": {
      "text/plain": [
       "(None, None)"
      ]
     },
     "execution_count": 66,
     "metadata": {},
     "output_type": "execute_result"
    }
   ],
   "source": [
    "BalanceSheet_2020 = pd.read_excel(\"./Playground/00_DataBase/02_Stock/A股资产负债表2020.xlsx\",\n",
    "                                 dtype={'股票代码': str})\n",
    "BalanceSheet_2020['所属年份'] = '2020'\n",
    "BalanceSheet_2021 = pd.read_excel(\"./Playground/00_DataBase/02_Stock/A股资产负债表2021.xlsx\",\n",
    "                                 dtype={'股票代码': str})\n",
    "BalanceSheet_2021['所属年份'] = '2021'\n",
    "BalanceSheet_2022 = pd.read_excel(\"./Playground/00_DataBase/02_Stock/A股资产负债表2022.xlsx\",\n",
    "                                 dtype={'股票代码': str})\n",
    "BalanceSheet_2022['所属年份'] = '2022'\n",
    "BalanceSheet = pd.concat([BalanceSheet_2020, BalanceSheet_2021, BalanceSheet_2022])\n",
    "BalanceSheet = BalanceSheet.drop(\"Unnamed: 0\", axis=1)\n",
    "# 补全股票代码\n",
    "BalanceSheet['股票代码'] = BalanceSheet['股票代码'].apply(lambda x: f'{\"0\"*(6-len(x))}{x}' if len(x)<6 else x)\n",
    "\n",
    "ProfitLost_2020 = pd.read_excel(\"./Playground/00_DataBase/02_Stock/A股利润表2020.xlsx\",\n",
    "                               dtype={'股票代码': str})\n",
    "ProfitLost_2020['所属年份'] = '2020'\n",
    "ProfitLost_2021 = pd.read_excel(\"./Playground/00_DataBase/02_Stock/A股利润表2021.xlsx\",\n",
    "                               dtype={'股票代码': str})\n",
    "ProfitLost_2021['所属年份'] = '2021'\n",
    "ProfitLost_2022 = pd.read_excel(\"./Playground/00_DataBase/02_Stock/A股利润表2022.xlsx\",\n",
    "                               dtype={'股票代码': str})\n",
    "ProfitLost_2022['所属年份'] = '2022'\n",
    "ProfitLost = pd.concat([ProfitLost_2020, ProfitLost_2021, ProfitLost_2022])\n",
    "ProfitLost = ProfitLost.drop(\"Unnamed: 0\", axis=1)\n",
    "# 补全股票代码\n",
    "ProfitLost['股票代码'] = ProfitLost['股票代码'].apply(lambda x: f'{\"0\"*(6-len(x))}{x}' if len(x)<6 else x)\n",
    "\n",
    "# BalanceSheet.info(), ProfitLost.info()"
   ]
  },
  {
   "cell_type": "code",
   "execution_count": 171,
   "id": "87758a96",
   "metadata": {
    "ExecuteTime": {
     "end_time": "2023-12-29T09:14:45.631852Z",
     "start_time": "2023-12-29T09:14:45.619647Z"
    }
   },
   "outputs": [],
   "source": [
    "# ROA = 税后净利润 / 总资产\n",
    "def getROA(corp_code, year, BalanceSheet = BalanceSheet, ProfitLost = ProfitLost):\n",
    "    asset = BalanceSheet[(BalanceSheet['股票代码'] == str(corp_code)) & (BalanceSheet['所属年份'] == str(year))]['资产-总资产']\n",
    "    net_profit = ProfitLost[(ProfitLost['股票代码'] == str(corp_code)) & (ProfitLost['所属年份'] == str(year))]['净利润']\n",
    "    if len(asset.tolist()) != 0 and len(net_profit.tolist()) != 0:\n",
    "        return float(net_profit.values / asset.values)\n",
    "    else:\n",
    "#         print(f\"corp {corp_code} has no info in ROA.\")\n",
    "        return None\n",
    "\n",
    "# ROE = 税后净利润 / 净资产\n",
    "def getROE(corp_code, year, BalanceSheet = BalanceSheet, ProfitLost = ProfitLost):\n",
    "    equity = BalanceSheet[(BalanceSheet['股票代码'] == str(corp_code)) & (BalanceSheet['所属年份'] == str(year))]['股东权益合计']\n",
    "    net_profit = ProfitLost[(ProfitLost['股票代码'] == str(corp_code)) & (ProfitLost['所属年份'] == str(year))]['净利润']\n",
    "    if len(equity.tolist()) != 0 and len(net_profit.tolist()) != 0:\n",
    "        return float(net_profit.values / equity.values)\n",
    "    else:\n",
    "#         print(f\"corp {corp_code} has no info in ROE.\")\n",
    "        return None\n",
    "\n",
    "# 成立时长(至2022年) ?2020年的企业数据反映的成立时长应该是与21年、22年的不同吧，每年增加1年?\n",
    "def OperateDuration(corp_code, year):\n",
    "    foundation_time = ak.stock_profile_cninfo(symbol=str(corp_code))['成立日期'].values.tolist()\n",
    "    if len(foundation_time) != 0:\n",
    "        foundation_year = foundation_time[0].split('-')[0]\n",
    "        return int(year) - int(foundation_year) + 1\n",
    "    else:\n",
    "#         print(f\"Corp {corp_code} has no info on founding date, set operating duration to \\'None\\'.\")\n",
    "        return None\n",
    "    \n",
    "# 总资产\n",
    "def getAsset(corp_code, year, BalanceSheet = BalanceSheet):\n",
    "    asset = BalanceSheet[(BalanceSheet['股票代码'] == str(corp_code)) & (BalanceSheet['所属年份'] == str(year))]['资产-总资产']\n",
    "    return asset"
   ]
  },
  {
   "cell_type": "code",
   "execution_count": null,
   "id": "591faca8",
   "metadata": {},
   "outputs": [],
   "source": [
    "def getTobinQ(corp_code, year, )"
   ]
  },
  {
   "cell_type": "code",
   "execution_count": 174,
   "id": "438e1681",
   "metadata": {
    "ExecuteTime": {
     "end_time": "2023-12-29T09:18:51.069971Z",
     "start_time": "2023-12-29T09:18:45.940436Z"
    }
   },
   "outputs": [
    {
     "name": "stderr",
     "output_type": "stream",
     "text": [
      "/var/folders/kd/t2wnd4h911v09vtv543hpkg80000gn/T/ipykernel_51824/2381933266.py:1: SettingWithCopyWarning: \n",
      "A value is trying to be set on a copy of a slice from a DataFrame.\n",
      "Try using .loc[row_indexer,col_indexer] = value instead\n",
      "\n",
      "See the caveats in the documentation: https://pandas.pydata.org/pandas-docs/stable/user_guide/indexing.html#returning-a-view-versus-a-copy\n",
      "  df_PDF_main['ROA'] = df_PDF_main.apply(lambda row: getROA(corp_code = row['Corp_code'], year = row['Pub_year']), axis=1)\n",
      "/var/folders/kd/t2wnd4h911v09vtv543hpkg80000gn/T/ipykernel_51824/2381933266.py:2: SettingWithCopyWarning: \n",
      "A value is trying to be set on a copy of a slice from a DataFrame.\n",
      "Try using .loc[row_indexer,col_indexer] = value instead\n",
      "\n",
      "See the caveats in the documentation: https://pandas.pydata.org/pandas-docs/stable/user_guide/indexing.html#returning-a-view-versus-a-copy\n",
      "  df_PDF_main['ROE'] = df_PDF_main.apply(lambda row: getROE(corp_code = row['Corp_code'], year = row['Pub_year']), axis=1)\n"
     ]
    }
   ],
   "source": [
    "df_PDF_main['ROA'] = df_PDF_main.apply(lambda row: getROA(corp_code = row['Corp_code'], year = row['Pub_year']), axis=1)\n",
    "df_PDF_main['ROE'] = df_PDF_main.apply(lambda row: getROE(corp_code = row['Corp_code'], year = row['Pub_year']), axis=1)"
   ]
  },
  {
   "cell_type": "code",
   "execution_count": 175,
   "id": "d4d53ea6",
   "metadata": {
    "ExecuteTime": {
     "end_time": "2023-12-29T09:22:25.081384Z",
     "start_time": "2023-12-29T09:19:08.195771Z"
    }
   },
   "outputs": [
    {
     "name": "stderr",
     "output_type": "stream",
     "text": [
      "/var/folders/kd/t2wnd4h911v09vtv543hpkg80000gn/T/ipykernel_51824/2035372471.py:1: SettingWithCopyWarning: \n",
      "A value is trying to be set on a copy of a slice from a DataFrame.\n",
      "Try using .loc[row_indexer,col_indexer] = value instead\n",
      "\n",
      "See the caveats in the documentation: https://pandas.pydata.org/pandas-docs/stable/user_guide/indexing.html#returning-a-view-versus-a-copy\n",
      "  df_PDF_main['OperateDuration'] = df_PDF_main.apply(lambda row: OperateDuration(corp_code = row['Corp_code'], year = row['Pub_year']), axis=1)\n"
     ]
    }
   ],
   "source": [
    "df_PDF_main['OperateDuration'] = df_PDF_main.apply(lambda row: OperateDuration(corp_code = row['Corp_code'], year = row['Pub_year']), axis=1)"
   ]
  },
  {
   "cell_type": "code",
   "execution_count": 176,
   "id": "53aee36c",
   "metadata": {
    "ExecuteTime": {
     "end_time": "2023-12-29T09:22:25.097964Z",
     "start_time": "2023-12-29T09:22:25.085842Z"
    }
   },
   "outputs": [
    {
     "name": "stdout",
     "output_type": "stream",
     "text": [
      "<class 'pandas.core.frame.DataFrame'>\n",
      "RangeIndex: 1046 entries, 0 to 1045\n",
      "Data columns (total 18 columns):\n",
      " #   Column                Non-Null Count  Dtype  \n",
      "---  ------                --------------  -----  \n",
      " 0   PDF_name              1046 non-null   object \n",
      " 1   Corp_code             1046 non-null   object \n",
      " 2   Corp_name             1046 non-null   object \n",
      " 3   Corp_market           1046 non-null   object \n",
      " 4   Pub_year              1046 non-null   int64  \n",
      " 5   Pub_type              1046 non-null   object \n",
      " 6   PDF_pages             1046 non-null   int64  \n",
      " 7   img_num               1046 non-null   int64  \n",
      " 8   img_size_avg          1046 non-null   float64\n",
      " 9   img_num_pages_ratio   1046 non-null   float64\n",
      " 10  img_size_pages_ratio  1046 non-null   float64\n",
      " 11  dist_diag_ratio       961 non-null    float64\n",
      " 12  Corp_industry_code    1040 non-null   object \n",
      " 13  Mono_idst             1046 non-null   bool   \n",
      " 14  Poll_idst             1046 non-null   bool   \n",
      " 15  ROA                   1033 non-null   float64\n",
      " 16  ROE                   1033 non-null   float64\n",
      " 17  OperateDuration       1040 non-null   float64\n",
      "dtypes: bool(2), float64(7), int64(3), object(6)\n",
      "memory usage: 132.9+ KB\n"
     ]
    }
   ],
   "source": [
    "df_PDF_main.info()"
   ]
  },
  {
   "cell_type": "code",
   "execution_count": 177,
   "id": "9570b0cd",
   "metadata": {
    "ExecuteTime": {
     "end_time": "2023-12-29T09:23:04.930009Z",
     "start_time": "2023-12-29T09:23:04.761695Z"
    }
   },
   "outputs": [],
   "source": [
    "df_PDF_main.to_excel(\"./Playground/04_DataIntegration/df_PDF_main3.xlsx\")"
   ]
  },
  {
   "cell_type": "markdown",
   "id": "0d2f5198",
   "metadata": {},
   "source": [
    "# ESG数据"
   ]
  },
  {
   "cell_type": "code",
   "execution_count": 9,
   "id": "e77d154e",
   "metadata": {
    "ExecuteTime": {
     "end_time": "2023-12-29T11:35:03.573930Z",
     "start_time": "2023-12-29T11:35:02.908603Z"
    }
   },
   "outputs": [],
   "source": [
    "BloombergESG = pd.read_excel(\"./Playground/00_DataBase/03_彭博ESG2006-2022（评级体系更新）/BloombergESG（匹配版）.xls\",\n",
    "                            dtype={'Stkcd': str})\n",
    "BloombergESG['Stkcd'] = BloombergESG['Stkcd'].apply(lambda x: f'{\"0\"*(6-len(x))}{x}' if len(x)<6 else x)"
   ]
  },
  {
   "cell_type": "code",
   "execution_count": 14,
   "id": "a7170351",
   "metadata": {
    "ExecuteTime": {
     "end_time": "2023-12-29T11:47:21.461991Z",
     "start_time": "2023-12-29T11:47:21.457104Z"
    }
   },
   "outputs": [],
   "source": [
    "BloombergESG = BloombergESG.rename(columns={'Stkcd':'Corp_code', 'Year':'Pub_year'})"
   ]
  },
  {
   "cell_type": "code",
   "execution_count": 16,
   "id": "84196032",
   "metadata": {
    "ExecuteTime": {
     "end_time": "2023-12-29T11:52:15.590019Z",
     "start_time": "2023-12-29T11:52:15.574281Z"
    }
   },
   "outputs": [],
   "source": [
    "df_PDF_main['Corp_code'] = df_PDF_main['Corp_code'].astype(str)\n",
    "BloombergESG['Corp_code'] = BloombergESG['Corp_code'].astype(str)\n",
    "df_PDF_main['Pub_year'] = df_PDF_main['Pub_year'].astype(str)\n",
    "BloombergESG['Pub_year'] = BloombergESG['Pub_year'].astype(str)"
   ]
  },
  {
   "cell_type": "code",
   "execution_count": 19,
   "id": "93e3f0b7",
   "metadata": {
    "ExecuteTime": {
     "end_time": "2023-12-29T11:53:26.882693Z",
     "start_time": "2023-12-29T11:53:26.860125Z"
    }
   },
   "outputs": [],
   "source": [
    "df_PDF_main = pd.merge(df_PDF_main, BloombergESG, how='left',\n",
    "        on=['Corp_code', 'Pub_year']).drop(\"Unnamed: 0\", axis=1)"
   ]
  },
  {
   "cell_type": "code",
   "execution_count": 22,
   "id": "264faad4",
   "metadata": {
    "ExecuteTime": {
     "end_time": "2023-12-29T11:55:21.645581Z",
     "start_time": "2023-12-29T11:55:21.194364Z"
    }
   },
   "outputs": [],
   "source": [
    "df_PDF_main.to_excel(\"./Playground/04_DataIntegration/df_PDF_main4.xlsx\")"
   ]
  },
  {
   "cell_type": "markdown",
   "id": "ba74fbca",
   "metadata": {},
   "source": [
    "# 专利信息（创新）"
   ]
  },
  {
   "cell_type": "code",
   "execution_count": 4,
   "id": "9f8be6de",
   "metadata": {
    "ExecuteTime": {
     "end_time": "2023-12-30T01:43:26.458115Z",
     "start_time": "2023-12-30T01:43:22.961620Z"
    },
    "collapsed": true
   },
   "outputs": [
    {
     "name": "stderr",
     "output_type": "stream",
     "text": [
      "/Users/improvise/miniconda/envs/Grace/lib/python3.9/site-packages/openpyxl/styles/stylesheet.py:226: UserWarning: Workbook contains no default style, apply openpyxl's default\n",
      "  warn(\"Workbook contains no default style, apply openpyxl's default\")\n"
     ]
    },
    {
     "name": "stdout",
     "output_type": "stream",
     "text": [
      "<class 'pandas.core.frame.DataFrame'>\n",
      "RangeIndex: 48011 entries, 0 to 48010\n",
      "Data columns (total 8 columns):\n",
      " #   Column         Non-Null Count  Dtype \n",
      "---  ------         --------------  ----- \n",
      " 0   Symbol         48011 non-null  object\n",
      " 1   EndDate        48011 non-null  object\n",
      " 2   StateTypeCode  48011 non-null  object\n",
      " 3   Area           48011 non-null  object\n",
      " 4   ApplyTypeCode  48011 non-null  object\n",
      " 5   ApplyType      48011 non-null  object\n",
      " 6   Patents        38033 non-null  object\n",
      " 7   Invention      34650 non-null  object\n",
      "dtypes: object(8)\n",
      "memory usage: 2.9+ MB\n"
     ]
    }
   ],
   "source": [
    "df_patent = pd.read_excel(\"./Playground/00_DataBase/04_国内外专利申请获得情况表204112695 (1)/PT_LCDOMFORAPPLY.xlsx\")\n",
    "df_patent.info()"
   ]
  },
  {
   "cell_type": "code",
   "execution_count": 7,
   "id": "8229805e",
   "metadata": {
    "ExecuteTime": {
     "end_time": "2023-12-30T01:45:10.585277Z",
     "start_time": "2023-12-30T01:45:10.578071Z"
    },
    "collapsed": true
   },
   "outputs": [
    {
     "data": {
      "text/plain": [
       "array(['统计截止日期', '没有单位', '2021-12-31', '2016-12-31', '2017-12-31',\n",
       "       '2018-12-31', '2019-12-31', '2020-12-31', '2022-12-31',\n",
       "       '2008-12-31', '2013-12-31', '2014-12-31', '2015-12-31',\n",
       "       '2011-12-31', '2007-12-31', '2012-12-31', '2009-12-31',\n",
       "       '2010-12-31'], dtype=object)"
      ]
     },
     "execution_count": 7,
     "metadata": {},
     "output_type": "execute_result"
    }
   ],
   "source": [
    "df_patent['EndDate'].unique()"
   ]
  },
  {
   "cell_type": "code",
   "execution_count": 17,
   "id": "0d66cf65",
   "metadata": {
    "ExecuteTime": {
     "end_time": "2023-12-30T01:56:53.718042Z",
     "start_time": "2023-12-30T01:56:53.698174Z"
    },
    "collapsed": true
   },
   "outputs": [
    {
     "data": {
      "text/html": [
       "<div>\n",
       "<style scoped>\n",
       "    .dataframe tbody tr th:only-of-type {\n",
       "        vertical-align: middle;\n",
       "    }\n",
       "\n",
       "    .dataframe tbody tr th {\n",
       "        vertical-align: top;\n",
       "    }\n",
       "\n",
       "    .dataframe thead th {\n",
       "        text-align: right;\n",
       "    }\n",
       "</style>\n",
       "<table border=\"1\" class=\"dataframe\">\n",
       "  <thead>\n",
       "    <tr style=\"text-align: right;\">\n",
       "      <th></th>\n",
       "      <th>Corp_code</th>\n",
       "      <th>EndDate</th>\n",
       "      <th>StateTypeCode</th>\n",
       "      <th>Area</th>\n",
       "      <th>ApplyTypeCode</th>\n",
       "      <th>ApplyType</th>\n",
       "      <th>Patents</th>\n",
       "      <th>Invention</th>\n",
       "    </tr>\n",
       "  </thead>\n",
       "  <tbody>\n",
       "    <tr>\n",
       "      <th>0</th>\n",
       "      <td>证券代码</td>\n",
       "      <td>统计截止日期</td>\n",
       "      <td>报表类型</td>\n",
       "      <td>地区</td>\n",
       "      <td>申请类型编码</td>\n",
       "      <td>申请类型</td>\n",
       "      <td>专利</td>\n",
       "      <td>发明专利</td>\n",
       "    </tr>\n",
       "    <tr>\n",
       "      <th>1</th>\n",
       "      <td>没有单位</td>\n",
       "      <td>没有单位</td>\n",
       "      <td>没有单位</td>\n",
       "      <td>没有单位</td>\n",
       "      <td>没有单位</td>\n",
       "      <td>没有单位</td>\n",
       "      <td>件</td>\n",
       "      <td>件</td>\n",
       "    </tr>\n",
       "    <tr>\n",
       "      <th>2</th>\n",
       "      <td>000004</td>\n",
       "      <td>2021-12-31</td>\n",
       "      <td>1</td>\n",
       "      <td>1</td>\n",
       "      <td>S5204</td>\n",
       "      <td>截至报告期末累计获得</td>\n",
       "      <td>NaN</td>\n",
       "      <td>14</td>\n",
       "    </tr>\n",
       "    <tr>\n",
       "      <th>3</th>\n",
       "      <td>000008</td>\n",
       "      <td>2016-12-31</td>\n",
       "      <td>1</td>\n",
       "      <td>1</td>\n",
       "      <td>S5204</td>\n",
       "      <td>截至报告期末累计获得</td>\n",
       "      <td>NaN</td>\n",
       "      <td>56</td>\n",
       "    </tr>\n",
       "    <tr>\n",
       "      <th>4</th>\n",
       "      <td>000008</td>\n",
       "      <td>2017-12-31</td>\n",
       "      <td>1</td>\n",
       "      <td>1</td>\n",
       "      <td>S5201</td>\n",
       "      <td>已申请</td>\n",
       "      <td>123</td>\n",
       "      <td>NaN</td>\n",
       "    </tr>\n",
       "    <tr>\n",
       "      <th>...</th>\n",
       "      <td>...</td>\n",
       "      <td>...</td>\n",
       "      <td>...</td>\n",
       "      <td>...</td>\n",
       "      <td>...</td>\n",
       "      <td>...</td>\n",
       "      <td>...</td>\n",
       "      <td>...</td>\n",
       "    </tr>\n",
       "    <tr>\n",
       "      <th>48006</th>\n",
       "      <td>900956</td>\n",
       "      <td>2015-12-31</td>\n",
       "      <td>1</td>\n",
       "      <td>1</td>\n",
       "      <td>S5203</td>\n",
       "      <td>已授权</td>\n",
       "      <td>56</td>\n",
       "      <td>NaN</td>\n",
       "    </tr>\n",
       "    <tr>\n",
       "      <th>48007</th>\n",
       "      <td>900956</td>\n",
       "      <td>2017-12-31</td>\n",
       "      <td>1</td>\n",
       "      <td>1</td>\n",
       "      <td>S5201</td>\n",
       "      <td>已申请</td>\n",
       "      <td>12</td>\n",
       "      <td>4</td>\n",
       "    </tr>\n",
       "    <tr>\n",
       "      <th>48008</th>\n",
       "      <td>900956</td>\n",
       "      <td>2018-12-31</td>\n",
       "      <td>1</td>\n",
       "      <td>1</td>\n",
       "      <td>S5201</td>\n",
       "      <td>已申请</td>\n",
       "      <td>114</td>\n",
       "      <td>NaN</td>\n",
       "    </tr>\n",
       "    <tr>\n",
       "      <th>48009</th>\n",
       "      <td>900956</td>\n",
       "      <td>2018-12-31</td>\n",
       "      <td>1</td>\n",
       "      <td>1</td>\n",
       "      <td>S5203</td>\n",
       "      <td>已授权</td>\n",
       "      <td>63</td>\n",
       "      <td>13</td>\n",
       "    </tr>\n",
       "    <tr>\n",
       "      <th>48010</th>\n",
       "      <td>900956</td>\n",
       "      <td>2019-12-31</td>\n",
       "      <td>1</td>\n",
       "      <td>1</td>\n",
       "      <td>S5204</td>\n",
       "      <td>截至报告期末累计获得</td>\n",
       "      <td>381</td>\n",
       "      <td>NaN</td>\n",
       "    </tr>\n",
       "  </tbody>\n",
       "</table>\n",
       "<p>48011 rows × 8 columns</p>\n",
       "</div>"
      ],
      "text/plain": [
       "      Corp_code     EndDate StateTypeCode  Area ApplyTypeCode   ApplyType  \\\n",
       "0          证券代码      统计截止日期          报表类型    地区        申请类型编码        申请类型   \n",
       "1          没有单位        没有单位          没有单位  没有单位          没有单位        没有单位   \n",
       "2        000004  2021-12-31             1     1         S5204  截至报告期末累计获得   \n",
       "3        000008  2016-12-31             1     1         S5204  截至报告期末累计获得   \n",
       "4        000008  2017-12-31             1     1         S5201         已申请   \n",
       "...         ...         ...           ...   ...           ...         ...   \n",
       "48006    900956  2015-12-31             1     1         S5203         已授权   \n",
       "48007    900956  2017-12-31             1     1         S5201         已申请   \n",
       "48008    900956  2018-12-31             1     1         S5201         已申请   \n",
       "48009    900956  2018-12-31             1     1         S5203         已授权   \n",
       "48010    900956  2019-12-31             1     1         S5204  截至报告期末累计获得   \n",
       "\n",
       "      Patents Invention  \n",
       "0          专利      发明专利  \n",
       "1           件         件  \n",
       "2         NaN        14  \n",
       "3         NaN        56  \n",
       "4         123       NaN  \n",
       "...       ...       ...  \n",
       "48006      56       NaN  \n",
       "48007      12         4  \n",
       "48008     114       NaN  \n",
       "48009      63        13  \n",
       "48010     381       NaN  \n",
       "\n",
       "[48011 rows x 8 columns]"
      ]
     },
     "execution_count": 17,
     "metadata": {},
     "output_type": "execute_result"
    }
   ],
   "source": [
    "df_patent = df_patent.rename(columns={'Symbol':'Corp_code'})\n",
    "df_patent"
   ]
  },
  {
   "cell_type": "code",
   "execution_count": 14,
   "id": "387a03d3",
   "metadata": {
    "ExecuteTime": {
     "end_time": "2023-12-30T01:53:19.716196Z",
     "start_time": "2023-12-30T01:53:19.710210Z"
    }
   },
   "outputs": [],
   "source": [
    "df_PDF_main['EndDate'] = df_PDF_main['Pub_year'].apply(lambda x: '-'.join([str(x), '12', '31']))"
   ]
  },
  {
   "cell_type": "code",
   "execution_count": 101,
   "id": "92988eb7",
   "metadata": {
    "ExecuteTime": {
     "end_time": "2023-12-30T03:24:25.950246Z",
     "start_time": "2023-12-30T03:24:25.930795Z"
    }
   },
   "outputs": [],
   "source": [
    "df_patent_gain = df_patent[(df_patent['ApplyTypeCode'] == 'S5204') & (df_patent['Area']==1) & (df_patent['StateTypeCode']==1)]"
   ]
  },
  {
   "cell_type": "code",
   "execution_count": 104,
   "id": "7198f5a5",
   "metadata": {
    "ExecuteTime": {
     "end_time": "2023-12-30T03:26:55.620795Z",
     "start_time": "2023-12-30T03:26:55.596035Z"
    }
   },
   "outputs": [
    {
     "name": "stderr",
     "output_type": "stream",
     "text": [
      "/var/folders/kd/t2wnd4h911v09vtv543hpkg80000gn/T/ipykernel_7667/2785880780.py:2: SettingWithCopyWarning: \n",
      "A value is trying to be set on a copy of a slice from a DataFrame.\n",
      "Try using .loc[row_indexer,col_indexer] = value instead\n",
      "\n",
      "See the caveats in the documentation: https://pandas.pydata.org/pandas-docs/stable/user_guide/indexing.html#returning-a-view-versus-a-copy\n",
      "  df_patent_gain['Corp_code'] = df_patent_gain['Corp_code'].astype(str)\n"
     ]
    }
   ],
   "source": [
    "df_PDF_main['Corp_code'] = df_PDF_main['Corp_code'].astype(str)\n",
    "df_patent_gain['Corp_code'] = df_patent_gain['Corp_code'].astype(str)\n",
    "\n",
    "df_PDF_main = df_PDF_main.merge(df_patent_gain[df_patent_gain['ApplyTypeCode']==\"S5204\"][['Corp_code', 'EndDate', 'Patents', 'Invention']],\n",
    "                                 how='left', on=['Corp_code', 'EndDate'])"
   ]
  },
  {
   "cell_type": "code",
   "execution_count": 106,
   "id": "af92eb99",
   "metadata": {
    "ExecuteTime": {
     "end_time": "2023-12-30T03:28:21.414691Z",
     "start_time": "2023-12-30T03:28:21.132842Z"
    }
   },
   "outputs": [],
   "source": [
    "df_PDF_main.to_excel(\"./Playground/04_DataIntegration/df_PDF_main5.xlsx\",\n",
    "                    index=False)"
   ]
  },
  {
   "cell_type": "markdown",
   "id": "6d2dc0b1",
   "metadata": {},
   "source": [
    "# 分析师研报关注度"
   ]
  },
  {
   "cell_type": "code",
   "execution_count": 108,
   "id": "6232b9f8",
   "metadata": {
    "ExecuteTime": {
     "end_time": "2023-12-30T05:19:36.281839Z",
     "start_time": "2023-12-30T05:19:31.463524Z"
    }
   },
   "outputs": [
    {
     "name": "stderr",
     "output_type": "stream",
     "text": [
      "/Users/improvise/miniconda/envs/Grace/lib/python3.9/site-packages/openpyxl/styles/stylesheet.py:226: UserWarning: Workbook contains no default style, apply openpyxl's default\n",
      "  warn(\"Workbook contains no default style, apply openpyxl's default\")\n"
     ]
    },
    {
     "name": "stdout",
     "output_type": "stream",
     "text": [
      "<class 'pandas.core.frame.DataFrame'>\n",
      "RangeIndex: 55661 entries, 0 to 55660\n",
      "Data columns (total 10 columns):\n",
      " #   Column           Non-Null Count  Dtype \n",
      "---  ------           --------------  ----- \n",
      " 0   Stknmec          55661 non-null  object\n",
      " 1   Stkcd            55661 non-null  object\n",
      " 2   Accper           55661 non-null  object\n",
      " 3   CompanySize      55355 non-null  object\n",
      " 4   Big4             55360 non-null  object\n",
      " 5   Outside          55360 non-null  object\n",
      " 6   AnaAttention     34427 non-null  object\n",
      " 7   ReportAttention  34841 non-null  object\n",
      " 8   CompanyOpacity   37907 non-null  object\n",
      " 9   RegisterCapital  55661 non-null  object\n",
      "dtypes: object(10)\n",
      "memory usage: 4.2+ MB\n"
     ]
    }
   ],
   "source": [
    "df_attention = pd.read_excel(\"./Playground/00_DataBase/05_上市公司基本信息特色指标表132631814/AF_CFEATUREPROFILE.xlsx\")\n",
    "df_attention.info()"
   ]
  },
  {
   "cell_type": "code",
   "execution_count": 112,
   "id": "2d635344",
   "metadata": {
    "ExecuteTime": {
     "end_time": "2023-12-30T05:23:41.244135Z",
     "start_time": "2023-12-30T05:23:41.235656Z"
    }
   },
   "outputs": [],
   "source": [
    "df_attention = df_attention.rename(columns={'Stkcd':'Corp_code', 'Accper':'EndDate'})"
   ]
  },
  {
   "cell_type": "code",
   "execution_count": 115,
   "id": "5b2b83dd",
   "metadata": {
    "ExecuteTime": {
     "end_time": "2023-12-30T05:24:03.509344Z",
     "start_time": "2023-12-30T05:24:03.482375Z"
    }
   },
   "outputs": [],
   "source": [
    "df_PDF_main = df_PDF_main.merge(df_attention[['Corp_code', 'EndDate', 'AnaAttention','ReportAttention']], \n",
    "                  how='left', on=['Corp_code', 'EndDate'])"
   ]
  },
  {
   "cell_type": "code",
   "execution_count": 117,
   "id": "6e9bc400",
   "metadata": {
    "ExecuteTime": {
     "end_time": "2023-12-30T05:24:30.194357Z",
     "start_time": "2023-12-30T05:24:29.905921Z"
    }
   },
   "outputs": [],
   "source": [
    "df_PDF_main.to_excel(\"./Playground/04_DataIntegration/df_PDF_main6.xlsx\",\n",
    "                    index=False)"
   ]
  },
  {
   "cell_type": "code",
   "execution_count": null,
   "id": "cc97170b",
   "metadata": {},
   "outputs": [],
   "source": []
  }
 ],
 "metadata": {
  "kernelspec": {
   "display_name": "Python 3 (ipykernel)",
   "language": "python",
   "name": "python3"
  },
  "language_info": {
   "codemirror_mode": {
    "name": "ipython",
    "version": 3
   },
   "file_extension": ".py",
   "mimetype": "text/x-python",
   "name": "python",
   "nbconvert_exporter": "python",
   "pygments_lexer": "ipython3",
   "version": "3.9.11"
  },
  "notify_time": "30",
  "toc": {
   "base_numbering": 1,
   "nav_menu": {},
   "number_sections": true,
   "sideBar": true,
   "skip_h1_title": false,
   "title_cell": "Table of Contents",
   "title_sidebar": "Contents",
   "toc_cell": false,
   "toc_position": {
    "height": "calc(100% - 180px)",
    "left": "10px",
    "top": "150px",
    "width": "261.467407px"
   },
   "toc_section_display": true,
   "toc_window_display": true
  }
 },
 "nbformat": 4,
 "nbformat_minor": 5
}
