{
 "cells": [
  {
   "cell_type": "code",
   "execution_count": 1,
   "id": "ab7169be",
   "metadata": {
    "ExecuteTime": {
     "end_time": "2023-11-30T05:27:03.275568Z",
     "start_time": "2023-11-30T05:27:03.260777Z"
    }
   },
   "outputs": [],
   "source": [
    "import warnings\n",
    "warnings.filterwarnings(\"ignore\")"
   ]
  },
  {
   "cell_type": "code",
   "execution_count": 2,
   "id": "f322883e",
   "metadata": {
    "ExecuteTime": {
     "end_time": "2023-11-30T05:27:04.434010Z",
     "start_time": "2023-11-30T05:27:03.653646Z"
    }
   },
   "outputs": [],
   "source": [
    "from docx import Document\n",
    "import os\n",
    "from PIL import Image, ImageOps\n",
    "import io\n",
    "import numpy as np\n",
    "import fitz  # PyMuPDF\n",
    "from skimage import feature, color, exposure\n",
    "import pandas as pd\n",
    "\n",
    "from time import sleep\n",
    "from tqdm import tqdm"
   ]
  },
  {
   "cell_type": "markdown",
   "id": "1a8558af",
   "metadata": {},
   "source": [
    "# PDF图片提取及中心坐标提取\n",
    "## 检测图片是否为反色\n",
    "\n",
    "**函数名称：** is_image_inverted_combined\n",
    "\n",
    "**目标：** 综合使用三种不同的方法来检测图像是否被反色。\n",
    "\n",
    "### 亮度分布检测\n",
    "**原理：** 该方法计算图像中明亮像素（值大于128）的比例，并与预设的亮度阈值进行比较。\n",
    "\n",
    "如果明亮像素的比例超过阈值，该方法将投票为“反色”。\n",
    "### 颜色直方图比较\n",
    "**原理：** 这种方法是通过比较图像的颜色直方图和其反色版本的直方图来工作的。\n",
    "\n",
    "使用相关系数来测量原始图像直方图和其反色直方图之间的相似性。\n",
    "如果相关系数超过预设的直方图阈值，该方法将投票为“反色”。\n",
    "### 边缘检测比较\n",
    "**原理：** 首先，使用边缘检测算法（如Canny）来提取图像的边缘。然后，比较原始图像和其反色版本的边缘强度。\n",
    "\n",
    "使用相关系数来测量原始图像的边缘和其反色版本之间的边缘强度相似性。\n",
    "如果相关系数超过预设的边缘检测阈值，该方法将投票为“反色”。\n",
    "### 投票机制\n",
    "每种方法都会基于其独特的检测策略进行投票。\n",
    "如果至少有两种方法投票为“反色”，那么函数将返回True，表示图像被认为是反色的。否则，返回False。"
   ]
  },
  {
   "cell_type": "code",
   "execution_count": 3,
   "id": "5015b477",
   "metadata": {
    "ExecuteTime": {
     "end_time": "2023-11-30T05:27:04.439555Z",
     "start_time": "2023-11-30T05:27:04.435761Z"
    },
    "code_folding": [
     0
    ]
   },
   "outputs": [],
   "source": [
    "def is_image_inverted_combined(img, brightness_threshold=0.75, \n",
    "                histogram_threshold=0.8, edge_threshold=0.8):\n",
    "    # Convert image to RGB mode if it's in \"P\" mode (palette mode)\n",
    "    \n",
    "    img = img.convert(\"RGB\")\n",
    "    \n",
    "    # Convert image to grayscale\n",
    "    img_gray = img.convert(\"L\")\n",
    "    img_gray_np = np.array(img_gray)\n",
    "    \n",
    "    # 1. Brightness distribution\n",
    "    light_fraction = np.mean(img_gray_np > 128)\n",
    "    brightness_decision = light_fraction > brightness_threshold\n",
    "#     print(light_fraction)\n",
    "#     print(brightness_decision)\n",
    "    \n",
    "    # 2. Color histogram comparison\n",
    "    img_hist = exposure.histogram(np.array(img.convert(\"RGB\")), nbins=256)\n",
    "    inverted_img_hist = exposure.histogram(np.array(ImageOps.invert(img).convert(\"RGB\")), nbins=256)\n",
    "    hist_correlation = np.corrcoef(img_hist[0], inverted_img_hist[0])[0, 1]\n",
    "    histogram_decision = hist_correlation > histogram_threshold\n",
    "#     print(hist_correlation)\n",
    "#     print(histogram_decision)\n",
    "    \n",
    "    # 3. Edge detection comparison\n",
    "    edges_original = feature.canny(color.rgb2gray(np.array(img)))\n",
    "    edges_inverted = feature.canny(color.rgb2gray(np.array(ImageOps.invert(img))))\n",
    "    edge_correlation = np.corrcoef(edges_original.flatten(), edges_inverted.flatten())[0, 1]\n",
    "    edge_decision = edge_correlation > edge_threshold\n",
    "#     print(edge_correlation)\n",
    "#     print(edge_decision)\n",
    "    \n",
    "    # Majority voting\n",
    "    return sum([brightness_decision, histogram_decision, edge_decision]) >= 256"
   ]
  },
  {
   "cell_type": "markdown",
   "id": "2b53d4ec",
   "metadata": {},
   "source": [
    "## 检测低信息含量图片"
   ]
  },
  {
   "cell_type": "code",
   "execution_count": 4,
   "id": "1a88e283",
   "metadata": {
    "ExecuteTime": {
     "end_time": "2023-11-30T05:27:04.443382Z",
     "start_time": "2023-11-30T05:27:04.441600Z"
    }
   },
   "outputs": [],
   "source": [
    "# def is_low_variance_image_in_memory(img, threshold=3000):\n",
    "#     try:\n",
    "#         data = np.array(img.convert('RGB'))\n",
    "#         variance = np.var(data)\n",
    "#         return variance < threshold\n",
    "#     except Exception as e:\n",
    "#         print(f\"Error processing image: {e}\")\n",
    "#         return None"
   ]
  },
  {
   "cell_type": "markdown",
   "id": "b0863b1c",
   "metadata": {},
   "source": [
    "## PyMuPDF获取图片及坐标"
   ]
  },
  {
   "cell_type": "code",
   "execution_count": 5,
   "id": "979ce1d7",
   "metadata": {
    "ExecuteTime": {
     "end_time": "2023-11-30T05:27:04.584867Z",
     "start_time": "2023-11-30T05:27:04.580716Z"
    }
   },
   "outputs": [],
   "source": [
    "# 建立dataframe存储坐标信息\n",
    "coordinate_df = pd.DataFrame(columns=[\"file_name\",\"x0\",\"y0\",\n",
    "                                     \"x1\",\"y1\",\"centre_coordinate\"])"
   ]
  },
  {
   "cell_type": "code",
   "execution_count": 6,
   "id": "f0c3f2bb",
   "metadata": {
    "ExecuteTime": {
     "end_time": "2023-11-30T05:27:04.787734Z",
     "start_time": "2023-11-30T05:27:04.758367Z"
    },
    "code_folding": [
     0
    ]
   },
   "outputs": [],
   "source": [
    "def PyMuPDF_get_img(file_path, subfolder_name = 'PyMu_img_folder', coordinate_df=coordinate_df):\n",
    "    i = 0\n",
    "    # 打开PDF并获取名称\n",
    "    pdf_file = fitz.open(file_path)\n",
    "    pdf_file_name = os.path.basename(file_path)\n",
    "\n",
    "    # 检查子目录是否存在，如果不存在则创建\n",
    "    if not os.path.exists(subfolder_name):\n",
    "        os.makedirs(subfolder_name)\n",
    "    \n",
    "    for page_number in range(len(pdf_file)):\n",
    "        # 获取页数\n",
    "        page = pdf_file[page_number]\n",
    "        \n",
    "        # 获取图像信息和图像坐标\n",
    "        image_list = page.get_images(full=True)\n",
    "\n",
    "        for img_index, img_info in enumerate(image_list):\n",
    "            \n",
    "            #获取图片名称\n",
    "            image_filename = f\"{pdf_file_name}_page_{page_number + 1}_img_{img_index + 1}.png\"\n",
    "            \n",
    "            img_xref = img_info[0]\n",
    "            base_image = pdf_file.extract_image(img_info[0])\n",
    "            image_bytes = base_image[\"image\"]\n",
    "            image = Image.open(io.BytesIO(image_bytes))\n",
    "\n",
    "            # 获取图像坐标\n",
    "            try:\n",
    "                image_rect = page.get_image_rects(img_xref)\n",
    "                if not image_rect:\n",
    "                    print(f\"Warning: No image rectangle found for xref {img_xref} on page {page_number + 1} in PDF {pdf_file_name}. Skipping this image.\")\n",
    "                    continue\n",
    "                rect = image_rect[0]\n",
    "                x0, y0, x1, y1 = rect.x0, rect.y0, rect.x1, rect.y1\n",
    "                center_coord = (x0 + x1)/2 , (y0 + y1)/2\n",
    "            except Exception as e:\n",
    "                print(f\"Error getting image rectangle for xref {img_xref} on page {page_number + 1} in PDF {pdf_file_name}: {str(e)}. \\nSkipping this image.\")\n",
    "            \n",
    "            # 判断图片大小，过滤过小的图片\n",
    "            if abs(x0-x1) < 100:\n",
    "                continue\n",
    "            \n",
    "            # 打开图像并检查颜色模式\n",
    "            image = Image.open(io.BytesIO(image_bytes))\n",
    "            if image.mode == \"CMYK\":\n",
    "                image = image.convert(\"RGB\")\n",
    "                \n",
    "            # 检查图片是否反色\n",
    "            if is_image_inverted_combined(image):\n",
    "                print('Inverted image detected: {} is inverted.'.format(image_filename))\n",
    "                image = image.convert(\"RGB\")  # Ensure the image is in RGB mode\n",
    "                image = ImageOps.invert(image)\n",
    "    \n",
    "            # 图片保存\n",
    "            image_filepath = os.path.join(subfolder_name, image_filename)\n",
    "            image.save(open(image_filepath, \"wb\"), \"PNG\")\n",
    "            \n",
    "            # 坐标保存\n",
    "            info = pd.Series([image_filename, x0, y0, x1, y1, center_coord],\n",
    "                            index=[\"file_name\",\"x0\",\"y0\",\"x1\",\"y1\",\"centre_coordinate\"])\n",
    "            coordinate_df = pd.concat([coordinate_df, pd.DataFrame([info])], ignore_index=True)\n",
    "            \n",
    "            # 打印\n",
    "            \"\"\"\n",
    "            输出的坐标是一个包含四个值的元组 (x0,y0,x1,y1)，\n",
    "            分别代表图像矩形框的左下角 (x0, y0) 和右上角 (x1, y1) 的坐标\n",
    "            \"\"\"\n",
    "#             print(f\"Image {image_filename}; coordinates: {image_rect}; center_coord: {center_coord}\")\n",
    "            i = i+1\n",
    "            \n",
    "    if i < len(pdf_file) + 5:\n",
    "        print(\"Anomaly found in PDF {} ({} pages), only {} pics.\".format(pdf_file_name, len(pdf_file),i))\n",
    "    \n",
    "    # Close the PDF\n",
    "    pdf_file.close()\n",
    "    \n",
    "    # 保存坐标表格\n",
    "    df_filepath = os.path.join(subfolder_name, \"coordinate_df.csv\")\n",
    "    coordinate_df.to_csv(df_filepath)\n",
    "    \n",
    "    return coordinate_df"
   ]
  },
  {
   "cell_type": "code",
   "execution_count": 7,
   "id": "b8bdcba2",
   "metadata": {
    "ExecuteTime": {
     "end_time": "2023-11-30T05:27:04.931860Z",
     "start_time": "2023-11-30T05:27:04.927183Z"
    },
    "code_folding": [
     0
    ]
   },
   "outputs": [],
   "source": [
    "def get_file_path(directory):\n",
    "    files = [f for f in os.listdir(directory) if f != '.DS_Store']\n",
    "    return [os.path.join(directory, file) for file in files if os.path.isfile(os.path.join(directory, file))]"
   ]
  },
  {
   "cell_type": "code",
   "execution_count": 8,
   "id": "b170ca20",
   "metadata": {
    "ExecuteTime": {
     "end_time": "2023-11-30T05:27:05.113082Z",
     "start_time": "2023-11-30T05:27:05.107017Z"
    }
   },
   "outputs": [],
   "source": [
    "file_bundle = get_file_path(\"/Users/improvise/Desktop/保研/实证论文/ESG/Playground/00_DataBase/00_SustainabilityReport_PDF/2020\")\n",
    "\n",
    "# 保存到：\n",
    "subfolder_name = \"/Users/improvise/Desktop/保研/实证论文/ESG/Playground/01_Extraction/SUS 2020/02 PyMu_img\""
   ]
  },
  {
   "cell_type": "code",
   "execution_count": 11,
   "id": "6220e6ea",
   "metadata": {
    "ExecuteTime": {
     "end_time": "2023-11-30T05:37:14.071400Z",
     "start_time": "2023-11-30T05:34:41.109629Z"
    },
    "scrolled": false
   },
   "outputs": [
    {
     "name": "stderr",
     "output_type": "stream",
     "text": [
      "  9%|███▊                                        | 3/35 [01:06<10:32, 19.75s/it]"
     ]
    },
    {
     "name": "stdout",
     "output_type": "stream",
     "text": [
      "Anomaly found in PDF 300347.SZ-泰格医药-泰格医药_泰格医药2020年可持续发展报告暨环境、社会与公司治理报告-2021-03-30.pdf (82 pages), only 17 pics.\n"
     ]
    },
    {
     "name": "stderr",
     "output_type": "stream",
     "text": [
      " 14%|██████▎                                     | 5/35 [02:32<15:17, 30.59s/it]"
     ]
    },
    {
     "name": "stdout",
     "output_type": "stream",
     "text": [
      "Anomaly found in PDF 300349.SZ-金卡智能-金卡智能_2020年可持续发展报告-2021-04-27.pdf (44 pages), only 38 pics.\n",
      "Error processing file /Users/improvise/Desktop/保研/实证论文/ESG/Playground/00_DataBase/00_SustainabilityReport_PDF/2020/601866.SH-中远海发-中远海发2020年度可持续发展报告-2021-03-31.pdf: broken data stream when reading image file\n"
     ]
    },
    {
     "name": "stderr",
     "output_type": "stream",
     "text": [
      "\n"
     ]
    },
    {
     "data": {
      "text/html": [
       "<div>\n",
       "<style scoped>\n",
       "    .dataframe tbody tr th:only-of-type {\n",
       "        vertical-align: middle;\n",
       "    }\n",
       "\n",
       "    .dataframe tbody tr th {\n",
       "        vertical-align: top;\n",
       "    }\n",
       "\n",
       "    .dataframe thead th {\n",
       "        text-align: right;\n",
       "    }\n",
       "</style>\n",
       "<table border=\"1\" class=\"dataframe\">\n",
       "  <thead>\n",
       "    <tr style=\"text-align: right;\">\n",
       "      <th></th>\n",
       "      <th>file_name</th>\n",
       "      <th>x0</th>\n",
       "      <th>y0</th>\n",
       "      <th>x1</th>\n",
       "      <th>y1</th>\n",
       "      <th>centre_coordinate</th>\n",
       "    </tr>\n",
       "  </thead>\n",
       "  <tbody>\n",
       "    <tr>\n",
       "      <th>0</th>\n",
       "      <td>603650.SH-彤程新材-彤程新材2020可持续发展报告-2021-04-16.pdf_...</td>\n",
       "      <td>7.484946</td>\n",
       "      <td>395.415039</td>\n",
       "      <td>445.039856</td>\n",
       "      <td>744.113525</td>\n",
       "      <td>(226.2624008655548, 569.7642822265625)</td>\n",
       "    </tr>\n",
       "    <tr>\n",
       "      <th>1</th>\n",
       "      <td>603650.SH-彤程新材-彤程新材2020可持续发展报告-2021-04-16.pdf_...</td>\n",
       "      <td>662.362305</td>\n",
       "      <td>370.616730</td>\n",
       "      <td>1145.026001</td>\n",
       "      <td>692.643921</td>\n",
       "      <td>(903.6941528320312, 531.6303253173828)</td>\n",
       "    </tr>\n",
       "    <tr>\n",
       "      <th>2</th>\n",
       "      <td>603650.SH-彤程新材-彤程新材2020可持续发展报告-2021-04-16.pdf_...</td>\n",
       "      <td>100.456299</td>\n",
       "      <td>723.191040</td>\n",
       "      <td>218.392700</td>\n",
       "      <td>776.971741</td>\n",
       "      <td>(159.42449951171875, 750.0813903808594)</td>\n",
       "    </tr>\n",
       "    <tr>\n",
       "      <th>3</th>\n",
       "      <td>603650.SH-彤程新材-彤程新材2020可持续发展报告-2021-04-16.pdf_...</td>\n",
       "      <td>340.077515</td>\n",
       "      <td>378.196716</td>\n",
       "      <td>446.974518</td>\n",
       "      <td>442.814911</td>\n",
       "      <td>(393.52601623535156, 410.5058135986328)</td>\n",
       "    </tr>\n",
       "    <tr>\n",
       "      <th>4</th>\n",
       "      <td>603650.SH-彤程新材-彤程新材2020可持续发展报告-2021-04-16.pdf_...</td>\n",
       "      <td>331.465393</td>\n",
       "      <td>225.435257</td>\n",
       "      <td>459.083496</td>\n",
       "      <td>262.310730</td>\n",
       "      <td>(395.2744445800781, 243.87299346923828)</td>\n",
       "    </tr>\n",
       "    <tr>\n",
       "      <th>...</th>\n",
       "      <td>...</td>\n",
       "      <td>...</td>\n",
       "      <td>...</td>\n",
       "      <td>...</td>\n",
       "      <td>...</td>\n",
       "      <td>...</td>\n",
       "    </tr>\n",
       "    <tr>\n",
       "      <th>946</th>\n",
       "      <td>300349.SZ-金卡智能-金卡智能_2020年可持续发展报告-2021-04-27.pd...</td>\n",
       "      <td>198.649994</td>\n",
       "      <td>76.249969</td>\n",
       "      <td>397.190002</td>\n",
       "      <td>225.149963</td>\n",
       "      <td>(297.9199981689453, 150.69996643066406)</td>\n",
       "    </tr>\n",
       "    <tr>\n",
       "      <th>947</th>\n",
       "      <td>300349.SZ-金卡智能-金卡智能_2020年可持续发展报告-2021-04-27.pd...</td>\n",
       "      <td>181.220001</td>\n",
       "      <td>228.999969</td>\n",
       "      <td>298.410004</td>\n",
       "      <td>385.249969</td>\n",
       "      <td>(239.81500244140625, 307.1249694824219)</td>\n",
       "    </tr>\n",
       "    <tr>\n",
       "      <th>948</th>\n",
       "      <td>300349.SZ-金卡智能-金卡智能_2020年可持续发展报告-2021-04-27.pd...</td>\n",
       "      <td>298.230011</td>\n",
       "      <td>229.500000</td>\n",
       "      <td>415.280029</td>\n",
       "      <td>385.559998</td>\n",
       "      <td>(356.75502014160156, 307.5299987792969)</td>\n",
       "    </tr>\n",
       "    <tr>\n",
       "      <th>949</th>\n",
       "      <td>300349.SZ-金卡智能-金卡智能_2020年可持续发展报告-2021-04-27.pd...</td>\n",
       "      <td>167.520004</td>\n",
       "      <td>75.599976</td>\n",
       "      <td>427.929993</td>\n",
       "      <td>255.659973</td>\n",
       "      <td>(297.7249984741211, 165.62997436523438)</td>\n",
       "    </tr>\n",
       "    <tr>\n",
       "      <th>950</th>\n",
       "      <td>300349.SZ-金卡智能-金卡智能_2020年可持续发展报告-2021-04-27.pd...</td>\n",
       "      <td>176.899994</td>\n",
       "      <td>77.819977</td>\n",
       "      <td>418.549988</td>\n",
       "      <td>238.909973</td>\n",
       "      <td>(297.72499084472656, 158.36497497558594)</td>\n",
       "    </tr>\n",
       "  </tbody>\n",
       "</table>\n",
       "<p>951 rows × 6 columns</p>\n",
       "</div>"
      ],
      "text/plain": [
       "                                             file_name          x0  \\\n",
       "0    603650.SH-彤程新材-彤程新材2020可持续发展报告-2021-04-16.pdf_...    7.484946   \n",
       "1    603650.SH-彤程新材-彤程新材2020可持续发展报告-2021-04-16.pdf_...  662.362305   \n",
       "2    603650.SH-彤程新材-彤程新材2020可持续发展报告-2021-04-16.pdf_...  100.456299   \n",
       "3    603650.SH-彤程新材-彤程新材2020可持续发展报告-2021-04-16.pdf_...  340.077515   \n",
       "4    603650.SH-彤程新材-彤程新材2020可持续发展报告-2021-04-16.pdf_...  331.465393   \n",
       "..                                                 ...         ...   \n",
       "946  300349.SZ-金卡智能-金卡智能_2020年可持续发展报告-2021-04-27.pd...  198.649994   \n",
       "947  300349.SZ-金卡智能-金卡智能_2020年可持续发展报告-2021-04-27.pd...  181.220001   \n",
       "948  300349.SZ-金卡智能-金卡智能_2020年可持续发展报告-2021-04-27.pd...  298.230011   \n",
       "949  300349.SZ-金卡智能-金卡智能_2020年可持续发展报告-2021-04-27.pd...  167.520004   \n",
       "950  300349.SZ-金卡智能-金卡智能_2020年可持续发展报告-2021-04-27.pd...  176.899994   \n",
       "\n",
       "             y0           x1          y1  \\\n",
       "0    395.415039   445.039856  744.113525   \n",
       "1    370.616730  1145.026001  692.643921   \n",
       "2    723.191040   218.392700  776.971741   \n",
       "3    378.196716   446.974518  442.814911   \n",
       "4    225.435257   459.083496  262.310730   \n",
       "..          ...          ...         ...   \n",
       "946   76.249969   397.190002  225.149963   \n",
       "947  228.999969   298.410004  385.249969   \n",
       "948  229.500000   415.280029  385.559998   \n",
       "949   75.599976   427.929993  255.659973   \n",
       "950   77.819977   418.549988  238.909973   \n",
       "\n",
       "                            centre_coordinate  \n",
       "0      (226.2624008655548, 569.7642822265625)  \n",
       "1      (903.6941528320312, 531.6303253173828)  \n",
       "2     (159.42449951171875, 750.0813903808594)  \n",
       "3     (393.52601623535156, 410.5058135986328)  \n",
       "4     (395.2744445800781, 243.87299346923828)  \n",
       "..                                        ...  \n",
       "946   (297.9199981689453, 150.69996643066406)  \n",
       "947   (239.81500244140625, 307.1249694824219)  \n",
       "948   (356.75502014160156, 307.5299987792969)  \n",
       "949   (297.7249984741211, 165.62997436523438)  \n",
       "950  (297.72499084472656, 158.36497497558594)  \n",
       "\n",
       "[951 rows x 6 columns]"
      ]
     },
     "execution_count": 11,
     "metadata": {},
     "output_type": "execute_result"
    }
   ],
   "source": [
    "try:\n",
    "    for file in tqdm(file_bundle):\n",
    "        coordinate_df = pd.concat([coordinate_df, PyMuPDF_get_img(file, subfolder_name)],\n",
    "                                 ignore_index=True)\n",
    "except OSError as e:\n",
    "    print(f\"Error processing file {file}: {e}\")\n",
    "\n",
    "coordinate_df"
   ]
  },
  {
   "cell_type": "code",
   "execution_count": 12,
   "id": "41168758",
   "metadata": {
    "ExecuteTime": {
     "end_time": "2023-11-30T05:40:06.500815Z",
     "start_time": "2023-11-30T05:40:06.411358Z"
    }
   },
   "outputs": [],
   "source": [
    "# coordinate_df.to_csv(\"/Users/improvise/Desktop/保研/实证论文/ESG/Playground/PyMu_img01//coordinate_df2.csv\")\n",
    "coordinate_df.to_excel(\"/Users/improvise/Desktop/保研/实证论文/ESG/Playground/01_Extraction/SUS 2020/03 PyMu_img_cord/img_cord.xlsx\",\n",
    "                      index = False)"
   ]
  },
  {
   "cell_type": "code",
   "execution_count": null,
   "id": "dd325610",
   "metadata": {},
   "outputs": [],
   "source": []
  }
 ],
 "metadata": {
  "kernelspec": {
   "display_name": "Python 3 (ipykernel)",
   "language": "python",
   "name": "python3"
  },
  "language_info": {
   "codemirror_mode": {
    "name": "ipython",
    "version": 3
   },
   "file_extension": ".py",
   "mimetype": "text/x-python",
   "name": "python",
   "nbconvert_exporter": "python",
   "pygments_lexer": "ipython3",
   "version": "3.9.11"
  },
  "notify_time": "30",
  "toc": {
   "base_numbering": 1,
   "nav_menu": {},
   "number_sections": true,
   "sideBar": true,
   "skip_h1_title": false,
   "title_cell": "Table of Contents",
   "title_sidebar": "Contents",
   "toc_cell": false,
   "toc_position": {},
   "toc_section_display": true,
   "toc_window_display": false
  }
 },
 "nbformat": 4,
 "nbformat_minor": 5
}
