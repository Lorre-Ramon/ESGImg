{
 "cells": [
  {
   "cell_type": "code",
   "execution_count": 1,
   "id": "ab7169be",
   "metadata": {
    "ExecuteTime": {
     "end_time": "2023-12-03T04:55:31.476959Z",
     "start_time": "2023-12-03T04:55:31.468358Z"
    }
   },
   "outputs": [],
   "source": [
    "import warnings\n",
    "warnings.filterwarnings(\"ignore\")"
   ]
  },
  {
   "cell_type": "code",
   "execution_count": 2,
   "id": "f322883e",
   "metadata": {
    "ExecuteTime": {
     "end_time": "2023-12-03T04:55:32.777665Z",
     "start_time": "2023-12-03T04:55:32.030978Z"
    }
   },
   "outputs": [],
   "source": [
    "from docx import Document\n",
    "import os\n",
    "from PIL import Image, ImageOps\n",
    "import io\n",
    "import numpy as np\n",
    "import fitz  # PyMuPDF\n",
    "from skimage import feature, color, exposure\n",
    "import pandas as pd\n",
    "\n",
    "from time import sleep\n",
    "from tqdm import tqdm"
   ]
  },
  {
   "cell_type": "markdown",
   "id": "1a8558af",
   "metadata": {},
   "source": [
    "# PDF图片提取及中心坐标提取\n",
    "## 检测图片是否为反色\n",
    "\n",
    "**函数名称：** is_image_inverted_combined\n",
    "\n",
    "**目标：** 综合使用三种不同的方法来检测图像是否被反色。\n",
    "\n",
    "### 亮度分布检测\n",
    "**原理：** 该方法计算图像中明亮像素（值大于128）的比例，并与预设的亮度阈值进行比较。\n",
    "\n",
    "如果明亮像素的比例超过阈值，该方法将投票为“反色”。\n",
    "### 颜色直方图比较\n",
    "**原理：** 这种方法是通过比较图像的颜色直方图和其反色版本的直方图来工作的。\n",
    "\n",
    "使用相关系数来测量原始图像直方图和其反色直方图之间的相似性。\n",
    "如果相关系数超过预设的直方图阈值，该方法将投票为“反色”。\n",
    "### 边缘检测比较\n",
    "**原理：** 首先，使用边缘检测算法（如Canny）来提取图像的边缘。然后，比较原始图像和其反色版本的边缘强度。\n",
    "\n",
    "使用相关系数来测量原始图像的边缘和其反色版本之间的边缘强度相似性。\n",
    "如果相关系数超过预设的边缘检测阈值，该方法将投票为“反色”。\n",
    "### 投票机制\n",
    "每种方法都会基于其独特的检测策略进行投票。\n",
    "如果至少有两种方法投票为“反色”，那么函数将返回True，表示图像被认为是反色的。否则，返回False。"
   ]
  },
  {
   "cell_type": "code",
   "execution_count": 3,
   "id": "5015b477",
   "metadata": {
    "ExecuteTime": {
     "end_time": "2023-12-03T04:55:32.782291Z",
     "start_time": "2023-12-03T04:55:32.778894Z"
    },
    "code_folding": [
     0
    ]
   },
   "outputs": [],
   "source": [
    "def is_image_inverted_combined(img, brightness_threshold=0.75, \n",
    "                histogram_threshold=0.8, edge_threshold=0.8):\n",
    "    # Convert image to RGB mode if it's in \"P\" mode (palette mode)\n",
    "    \n",
    "    img = img.convert(\"RGB\")\n",
    "    \n",
    "    # Convert image to grayscale\n",
    "    img_gray = img.convert(\"L\")\n",
    "    img_gray_np = np.array(img_gray)\n",
    "    \n",
    "    # 1. Brightness distribution\n",
    "    light_fraction = np.mean(img_gray_np > 128)\n",
    "    brightness_decision = light_fraction > brightness_threshold\n",
    "#     print(light_fraction)\n",
    "#     print(brightness_decision)\n",
    "    \n",
    "    # 2. Color histogram comparison\n",
    "    img_hist = exposure.histogram(np.array(img.convert(\"RGB\")), nbins=256)\n",
    "    inverted_img_hist = exposure.histogram(np.array(ImageOps.invert(img).convert(\"RGB\")), nbins=256)\n",
    "    hist_correlation = np.corrcoef(img_hist[0], inverted_img_hist[0])[0, 1]\n",
    "    histogram_decision = hist_correlation > histogram_threshold\n",
    "#     print(hist_correlation)\n",
    "#     print(histogram_decision)\n",
    "    \n",
    "    # 3. Edge detection comparison\n",
    "    edges_original = feature.canny(color.rgb2gray(np.array(img)))\n",
    "    edges_inverted = feature.canny(color.rgb2gray(np.array(ImageOps.invert(img))))\n",
    "    edge_correlation = np.corrcoef(edges_original.flatten(), edges_inverted.flatten())[0, 1]\n",
    "    edge_decision = edge_correlation > edge_threshold\n",
    "#     print(edge_correlation)\n",
    "#     print(edge_decision)\n",
    "    \n",
    "    # Majority voting\n",
    "    return sum([brightness_decision, histogram_decision, edge_decision]) >= 256"
   ]
  },
  {
   "cell_type": "markdown",
   "id": "2b53d4ec",
   "metadata": {},
   "source": [
    "## 检测低信息含量图片"
   ]
  },
  {
   "cell_type": "code",
   "execution_count": 4,
   "id": "1a88e283",
   "metadata": {
    "ExecuteTime": {
     "end_time": "2023-12-03T04:55:33.039219Z",
     "start_time": "2023-12-03T04:55:33.034927Z"
    },
    "code_folding": [
     0
    ]
   },
   "outputs": [],
   "source": [
    "# def is_low_variance_image_in_memory(img, threshold=3000):\n",
    "#     try:\n",
    "#         data = np.array(img.convert('RGB'))\n",
    "#         variance = np.var(data)\n",
    "#         return variance < threshold\n",
    "#     except Exception as e:\n",
    "#         print(f\"Error processing image: {e}\")\n",
    "#         return None"
   ]
  },
  {
   "cell_type": "markdown",
   "id": "b0863b1c",
   "metadata": {},
   "source": [
    "## PyMuPDF获取图片及坐标"
   ]
  },
  {
   "cell_type": "code",
   "execution_count": 5,
   "id": "979ce1d7",
   "metadata": {
    "ExecuteTime": {
     "end_time": "2023-12-03T04:55:33.721678Z",
     "start_time": "2023-12-03T04:55:33.714784Z"
    }
   },
   "outputs": [],
   "source": [
    "# 建立dataframe存储坐标信息\n",
    "coordinate_df = pd.DataFrame(columns=[\"file_name\",\"x0\",\"y0\",\"x1\",\"y1\",\"centre_coordinate\"])"
   ]
  },
  {
   "cell_type": "code",
   "execution_count": 13,
   "id": "f0c3f2bb",
   "metadata": {
    "ExecuteTime": {
     "end_time": "2023-12-03T05:41:35.955295Z",
     "start_time": "2023-12-03T05:41:35.935176Z"
    },
    "code_folding": []
   },
   "outputs": [],
   "source": [
    "def PyMuPDF_get_img(file_path, subfolder_name = 'PyMu_img_folder', coordinate_df=coordinate_df):\n",
    "    i = 0\n",
    "    # 打开PDF并获取名称\n",
    "    pdf_file = fitz.open(file_path)\n",
    "    pdf_file_name = os.path.basename(file_path)\n",
    "\n",
    "    # 检查子目录是否存在，如果不存在则创建\n",
    "    if not os.path.exists(subfolder_name):\n",
    "        os.makedirs(subfolder_name)\n",
    "    \n",
    "    for page_number in range(len(pdf_file)):\n",
    "        # 获取页数\n",
    "        page = pdf_file[page_number]\n",
    "        \n",
    "        # 获取图像信息和图像坐标\n",
    "        image_list = page.get_images(full=True)\n",
    "\n",
    "        for img_index, img_info in enumerate(image_list):\n",
    "            \n",
    "            #获取图片名称\n",
    "            image_filename = f\"{pdf_file_name}_page_{page_number + 1}_img_{img_index + 1}.png\"\n",
    "            \n",
    "            img_xref = img_info[0]\n",
    "            base_image = pdf_file.extract_image(img_info[0])\n",
    "            if isinstance(base_image, dict):\n",
    "                image_bytes = base_image[\"image\"]\n",
    "                image = Image.open(io.BytesIO(image_bytes))\n",
    "\n",
    "                # 获取图像坐标\n",
    "                try:\n",
    "                    image_rect = page.get_image_rects(img_xref)\n",
    "                    if not image_rect:\n",
    "                        print(f\"Warning: No image rectangle found for xref {img_xref} on page {page_number + 1} in PDF {pdf_file_name}. Skipping this image.\")\n",
    "                        continue\n",
    "                    rect = image_rect[0]\n",
    "                    x0, y0, x1, y1 = rect.x0, rect.y0, rect.x1, rect.y1\n",
    "                    center_coord = (x0 + x1)/2 , (y0 + y1)/2\n",
    "                except Exception as e:\n",
    "                    print(f\"Error getting image rectangle for xref {img_xref} on page {page_number + 1} in PDF {pdf_file_name}: {str(e)}. \\nSkipping this image.\")\n",
    "\n",
    "                # 判断图片大小，过滤过小的图片\n",
    "                if abs(x0-x1) < 100:\n",
    "                    continue\n",
    "\n",
    "                # 打开图像并检查颜色模式\n",
    "                image = Image.open(io.BytesIO(image_bytes))\n",
    "                if image.mode == \"CMYK\":\n",
    "                    image = image.convert(\"RGB\")\n",
    "\n",
    "                # 检查图片是否反色\n",
    "                if is_image_inverted_combined(image):\n",
    "                    print('Inverted image detected: {} is inverted.'.format(image_filename))\n",
    "                    image = image.convert(\"RGB\")  # Ensure the image is in RGB mode\n",
    "                    image = ImageOps.invert(image)\n",
    "\n",
    "                # 图片保存\n",
    "                image_filepath = os.path.join(subfolder_name, image_filename)\n",
    "                image.save(open(image_filepath, \"wb\"), \"PNG\")\n",
    "\n",
    "                # 坐标保存\n",
    "                info = pd.Series([image_filename, x0, y0, x1, y1, center_coord],\n",
    "                                index=[\"file_name\",\"x0\",\"y0\",\"x1\",\"y1\",\"centre_coordinate\"])\n",
    "                coordinate_df = pd.concat([coordinate_df, pd.DataFrame([info])], ignore_index=True)\n",
    "\n",
    "                # 打印\n",
    "                \"\"\"\n",
    "                输出的坐标是一个包含四个值的元组 (x0,y0,x1,y1)，\n",
    "                分别代表图像矩形框的左下角 (x0, y0) 和右上角 (x1, y1) 的坐标\n",
    "                \"\"\"\n",
    "    #             print(f\"Image {image_filename}; coordinates: {image_rect}; center_coord: {center_coord}\")\n",
    "                i = i+1\n",
    "            else:\n",
    "                print(f\"Failed to extract image from xref {img_xref}\")\n",
    "            \n",
    "    if i < len(pdf_file) + 5:\n",
    "        print(\"Anomaly found in PDF {} ({} pages), only {} pics.\".format(pdf_file_name, len(pdf_file),i))\n",
    "    \n",
    "    # Close the PDF\n",
    "    pdf_file.close()\n",
    "    \n",
    "    # 保存坐标表格\n",
    "    df_filepath = os.path.join(subfolder_name, \"coordinate_df.csv\")\n",
    "    coordinate_df.to_csv(df_filepath)\n",
    "    \n",
    "    return coordinate_df"
   ]
  },
  {
   "cell_type": "code",
   "execution_count": 7,
   "id": "b8bdcba2",
   "metadata": {
    "ExecuteTime": {
     "end_time": "2023-12-03T04:55:34.937340Z",
     "start_time": "2023-12-03T04:55:34.930742Z"
    },
    "code_folding": [
     0
    ]
   },
   "outputs": [],
   "source": [
    "def get_file_path(directory):\n",
    "    files = [f for f in os.listdir(directory) if f != '.DS_Store']\n",
    "    return [os.path.join(directory, file) for file in files if os.path.isfile(os.path.join(directory, file))]"
   ]
  },
  {
   "cell_type": "code",
   "execution_count": 11,
   "id": "b170ca20",
   "metadata": {
    "ExecuteTime": {
     "end_time": "2023-12-03T05:41:18.134144Z",
     "start_time": "2023-12-03T05:41:18.130894Z"
    }
   },
   "outputs": [],
   "source": [
    "# 读取PDF\n",
    "file_bundle = get_file_path(\"/Users/improvise/Desktop/保研/实证论文/ESG/Playground/00_DataBase/01_ESGReport_PDF/2021\")\n",
    "# file_bundle = get_file_path(\"/Users/improvise/Downloads/test\")\n",
    "\n",
    "# 保存到：\n",
    "subfolder_name = \"/Users/improvise/Desktop/保研/实证论文/ESG/Playground/01_Extraction/ESG 2021/02 PyMu_img\"\n",
    "# subfolder_name = \"/Users/improvise/Downloads/test_output\""
   ]
  },
  {
   "cell_type": "code",
   "execution_count": 14,
   "id": "6220e6ea",
   "metadata": {
    "ExecuteTime": {
     "end_time": "2023-12-03T05:41:52.957015Z",
     "start_time": "2023-12-03T05:41:38.020109Z"
    },
    "scrolled": true
   },
   "outputs": [
    {
     "name": "stderr",
     "output_type": "stream",
     "text": [
      "\r",
      "  0%|                                                     | 0/1 [00:00<?, ?it/s]"
     ]
    },
    {
     "name": "stdout",
     "output_type": "stream",
     "text": [
      "\n",
      "Processing file:/Users/improvise/Downloads/test/002203.SZ-海亮股份-海亮股份 环境、社会、公司治理(ESG)报告暨社会责任报告-2022-04-28.pdf\n",
      "Warning: No image rectangle found for xref 357 on page 2 in PDF 002203.SZ-海亮股份-海亮股份 环境、社会、公司治理(ESG)报告暨社会责任报告-2022-04-28.pdf. Skipping this image.\n",
      "Failed to extract image from xref 324\n",
      "Warning: No image rectangle found for xref 907 on page 4 in PDF 002203.SZ-海亮股份-海亮股份 环境、社会、公司治理(ESG)报告暨社会责任报告-2022-04-28.pdf. Skipping this image.\n",
      "Warning: No image rectangle found for xref 413 on page 5 in PDF 002203.SZ-海亮股份-海亮股份 环境、社会、公司治理(ESG)报告暨社会责任报告-2022-04-28.pdf. Skipping this image.\n",
      "Warning: No image rectangle found for xref 907 on page 6 in PDF 002203.SZ-海亮股份-海亮股份 环境、社会、公司治理(ESG)报告暨社会责任报告-2022-04-28.pdf. Skipping this image.\n",
      "Warning: No image rectangle found for xref 431 on page 7 in PDF 002203.SZ-海亮股份-海亮股份 环境、社会、公司治理(ESG)报告暨社会责任报告-2022-04-28.pdf. Skipping this image.\n",
      "Warning: No image rectangle found for xref 568 on page 11 in PDF 002203.SZ-海亮股份-海亮股份 环境、社会、公司治理(ESG)报告暨社会责任报告-2022-04-28.pdf. Skipping this image.\n",
      "Warning: No image rectangle found for xref 570 on page 11 in PDF 002203.SZ-海亮股份-海亮股份 环境、社会、公司治理(ESG)报告暨社会责任报告-2022-04-28.pdf. Skipping this image.\n",
      "Warning: No image rectangle found for xref 589 on page 12 in PDF 002203.SZ-海亮股份-海亮股份 环境、社会、公司治理(ESG)报告暨社会责任报告-2022-04-28.pdf. Skipping this image.\n",
      "Warning: No image rectangle found for xref 613 on page 12 in PDF 002203.SZ-海亮股份-海亮股份 环境、社会、公司治理(ESG)报告暨社会责任报告-2022-04-28.pdf. Skipping this image.\n",
      "Warning: No image rectangle found for xref 627 on page 12 in PDF 002203.SZ-海亮股份-海亮股份 环境、社会、公司治理(ESG)报告暨社会责任报告-2022-04-28.pdf. Skipping this image.\n",
      "Warning: No image rectangle found for xref 669 on page 13 in PDF 002203.SZ-海亮股份-海亮股份 环境、社会、公司治理(ESG)报告暨社会责任报告-2022-04-28.pdf. Skipping this image.\n",
      "Warning: No image rectangle found for xref 770 on page 16 in PDF 002203.SZ-海亮股份-海亮股份 环境、社会、公司治理(ESG)报告暨社会责任报告-2022-04-28.pdf. Skipping this image.\n",
      "Warning: No image rectangle found for xref 787 on page 17 in PDF 002203.SZ-海亮股份-海亮股份 环境、社会、公司治理(ESG)报告暨社会责任报告-2022-04-28.pdf. Skipping this image.\n",
      "Warning: No image rectangle found for xref 787 on page 17 in PDF 002203.SZ-海亮股份-海亮股份 环境、社会、公司治理(ESG)报告暨社会责任报告-2022-04-28.pdf. Skipping this image.\n",
      "Warning: No image rectangle found for xref 787 on page 17 in PDF 002203.SZ-海亮股份-海亮股份 环境、社会、公司治理(ESG)报告暨社会责任报告-2022-04-28.pdf. Skipping this image.\n",
      "Warning: No image rectangle found for xref 787 on page 17 in PDF 002203.SZ-海亮股份-海亮股份 环境、社会、公司治理(ESG)报告暨社会责任报告-2022-04-28.pdf. Skipping this image.\n",
      "Warning: No image rectangle found for xref 907 on page 18 in PDF 002203.SZ-海亮股份-海亮股份 环境、社会、公司治理(ESG)报告暨社会责任报告-2022-04-28.pdf. Skipping this image.\n",
      "Warning: No image rectangle found for xref 844 on page 21 in PDF 002203.SZ-海亮股份-海亮股份 环境、社会、公司治理(ESG)报告暨社会责任报告-2022-04-28.pdf. Skipping this image.\n",
      "Warning: No image rectangle found for xref 846 on page 21 in PDF 002203.SZ-海亮股份-海亮股份 环境、社会、公司治理(ESG)报告暨社会责任报告-2022-04-28.pdf. Skipping this image.\n",
      "Warning: No image rectangle found for xref 848 on page 21 in PDF 002203.SZ-海亮股份-海亮股份 环境、社会、公司治理(ESG)报告暨社会责任报告-2022-04-28.pdf. Skipping this image.\n",
      "Warning: No image rectangle found for xref 884 on page 23 in PDF 002203.SZ-海亮股份-海亮股份 环境、社会、公司治理(ESG)报告暨社会责任报告-2022-04-28.pdf. Skipping this image.\n",
      "Warning: No image rectangle found for xref 886 on page 23 in PDF 002203.SZ-海亮股份-海亮股份 环境、社会、公司治理(ESG)报告暨社会责任报告-2022-04-28.pdf. Skipping this image.\n",
      "Warning: No image rectangle found for xref 876 on page 23 in PDF 002203.SZ-海亮股份-海亮股份 环境、社会、公司治理(ESG)报告暨社会责任报告-2022-04-28.pdf. Skipping this image.\n",
      "Warning: No image rectangle found for xref 888 on page 23 in PDF 002203.SZ-海亮股份-海亮股份 环境、社会、公司治理(ESG)报告暨社会责任报告-2022-04-28.pdf. Skipping this image.\n",
      "Warning: No image rectangle found for xref 878 on page 23 in PDF 002203.SZ-海亮股份-海亮股份 环境、社会、公司治理(ESG)报告暨社会责任报告-2022-04-28.pdf. Skipping this image.\n",
      "Warning: No image rectangle found for xref 880 on page 23 in PDF 002203.SZ-海亮股份-海亮股份 环境、社会、公司治理(ESG)报告暨社会责任报告-2022-04-28.pdf. Skipping this image.\n",
      "Warning: No image rectangle found for xref 882 on page 23 in PDF 002203.SZ-海亮股份-海亮股份 环境、社会、公司治理(ESG)报告暨社会责任报告-2022-04-28.pdf. Skipping this image.\n",
      "Warning: No image rectangle found for xref 895 on page 24 in PDF 002203.SZ-海亮股份-海亮股份 环境、社会、公司治理(ESG)报告暨社会责任报告-2022-04-28.pdf. Skipping this image.\n",
      "Warning: No image rectangle found for xref 897 on page 24 in PDF 002203.SZ-海亮股份-海亮股份 环境、社会、公司治理(ESG)报告暨社会责任报告-2022-04-28.pdf. Skipping this image.\n",
      "Warning: No image rectangle found for xref 907 on page 25 in PDF 002203.SZ-海亮股份-海亮股份 环境、社会、公司治理(ESG)报告暨社会责任报告-2022-04-28.pdf. Skipping this image.\n"
     ]
    },
    {
     "name": "stderr",
     "output_type": "stream",
     "text": [
      "100%|█████████████████████████████████████████████| 1/1 [00:14<00:00, 14.92s/it]"
     ]
    },
    {
     "name": "stdout",
     "output_type": "stream",
     "text": [
      "Warning: No image rectangle found for xref 946 on page 28 in PDF 002203.SZ-海亮股份-海亮股份 环境、社会、公司治理(ESG)报告暨社会责任报告-2022-04-28.pdf. Skipping this image.\n"
     ]
    },
    {
     "name": "stderr",
     "output_type": "stream",
     "text": [
      "\n"
     ]
    },
    {
     "data": {
      "text/html": [
       "<div>\n",
       "<style scoped>\n",
       "    .dataframe tbody tr th:only-of-type {\n",
       "        vertical-align: middle;\n",
       "    }\n",
       "\n",
       "    .dataframe tbody tr th {\n",
       "        vertical-align: top;\n",
       "    }\n",
       "\n",
       "    .dataframe thead th {\n",
       "        text-align: right;\n",
       "    }\n",
       "</style>\n",
       "<table border=\"1\" class=\"dataframe\">\n",
       "  <thead>\n",
       "    <tr style=\"text-align: right;\">\n",
       "      <th></th>\n",
       "      <th>file_name</th>\n",
       "      <th>x0</th>\n",
       "      <th>y0</th>\n",
       "      <th>x1</th>\n",
       "      <th>y1</th>\n",
       "      <th>centre_coordinate</th>\n",
       "    </tr>\n",
       "  </thead>\n",
       "  <tbody>\n",
       "    <tr>\n",
       "      <th>0</th>\n",
       "      <td>600350.SH-山东高速-山东高速股份有限公司2021年环境、社会及治理报告-2022-...</td>\n",
       "      <td>-1.100604</td>\n",
       "      <td>-1.134460</td>\n",
       "      <td>596.513000</td>\n",
       "      <td>809.110962</td>\n",
       "      <td>(297.7061984539032, 403.9882507324219)</td>\n",
       "    </tr>\n",
       "    <tr>\n",
       "      <th>1</th>\n",
       "      <td>600350.SH-山东高速-山东高速股份有限公司2021年环境、社会及治理报告-2022-...</td>\n",
       "      <td>39.002197</td>\n",
       "      <td>25.685434</td>\n",
       "      <td>201.660690</td>\n",
       "      <td>48.466736</td>\n",
       "      <td>(120.3314437866211, 37.07608509063721)</td>\n",
       "    </tr>\n",
       "    <tr>\n",
       "      <th>2</th>\n",
       "      <td>600350.SH-山东高速-山东高速股份有限公司2021年环境、社会及治理报告-2022-...</td>\n",
       "      <td>-1.196211</td>\n",
       "      <td>577.812927</td>\n",
       "      <td>240.420120</td>\n",
       "      <td>766.871460</td>\n",
       "      <td>(119.61195480823517, 672.3421936035156)</td>\n",
       "    </tr>\n",
       "    <tr>\n",
       "      <th>3</th>\n",
       "      <td>600350.SH-山东高速-山东高速股份有限公司2021年环境、社会及治理报告-2022-...</td>\n",
       "      <td>239.922119</td>\n",
       "      <td>577.812866</td>\n",
       "      <td>489.011108</td>\n",
       "      <td>766.871399</td>\n",
       "      <td>(364.46661376953125, 672.3421325683594)</td>\n",
       "    </tr>\n",
       "    <tr>\n",
       "      <th>4</th>\n",
       "      <td>600350.SH-山东高速-山东高速股份有限公司2021年环境、社会及治理报告-2022-...</td>\n",
       "      <td>488.513428</td>\n",
       "      <td>577.812866</td>\n",
       "      <td>737.851501</td>\n",
       "      <td>766.871399</td>\n",
       "      <td>(613.1824645996094, 672.3421325683594)</td>\n",
       "    </tr>\n",
       "    <tr>\n",
       "      <th>...</th>\n",
       "      <td>...</td>\n",
       "      <td>...</td>\n",
       "      <td>...</td>\n",
       "      <td>...</td>\n",
       "      <td>...</td>\n",
       "      <td>...</td>\n",
       "    </tr>\n",
       "    <tr>\n",
       "      <th>9499</th>\n",
       "      <td>002203.SZ-海亮股份-海亮股份 环境、社会、公司治理(ESG)报告暨社会责任报告-2...</td>\n",
       "      <td>652.340698</td>\n",
       "      <td>88.663773</td>\n",
       "      <td>901.140503</td>\n",
       "      <td>244.932007</td>\n",
       "      <td>(776.7406005859375, 166.79788970947266)</td>\n",
       "    </tr>\n",
       "    <tr>\n",
       "      <th>9500</th>\n",
       "      <td>002203.SZ-海亮股份-海亮股份 环境、社会、公司治理(ESG)报告暨社会责任报告-2...</td>\n",
       "      <td>881.466797</td>\n",
       "      <td>322.399414</td>\n",
       "      <td>1130.411011</td>\n",
       "      <td>478.489136</td>\n",
       "      <td>(1005.9389038085938, 400.44427490234375)</td>\n",
       "    </tr>\n",
       "    <tr>\n",
       "      <th>9501</th>\n",
       "      <td>002203.SZ-海亮股份-海亮股份 环境、社会、公司治理(ESG)报告暨社会责任报告-2...</td>\n",
       "      <td>652.253113</td>\n",
       "      <td>555.939453</td>\n",
       "      <td>901.139099</td>\n",
       "      <td>712.232605</td>\n",
       "      <td>(776.6961059570312, 634.0860290527344)</td>\n",
       "    </tr>\n",
       "    <tr>\n",
       "      <th>9502</th>\n",
       "      <td>002203.SZ-海亮股份-海亮股份 环境、社会、公司治理(ESG)报告暨社会责任报告-2...</td>\n",
       "      <td>56.347000</td>\n",
       "      <td>492.093994</td>\n",
       "      <td>535.223022</td>\n",
       "      <td>712.229004</td>\n",
       "      <td>(295.7850112915039, 602.1614990234375)</td>\n",
       "    </tr>\n",
       "    <tr>\n",
       "      <th>9503</th>\n",
       "      <td>002203.SZ-海亮股份-海亮股份 环境、社会、公司治理(ESG)报告暨社会责任报告-2...</td>\n",
       "      <td>0.000100</td>\n",
       "      <td>239.607788</td>\n",
       "      <td>1190.551270</td>\n",
       "      <td>808.045837</td>\n",
       "      <td>(595.2756847656237, 523.8268127441406)</td>\n",
       "    </tr>\n",
       "  </tbody>\n",
       "</table>\n",
       "<p>9504 rows × 6 columns</p>\n",
       "</div>"
      ],
      "text/plain": [
       "                                              file_name          x0  \\\n",
       "0     600350.SH-山东高速-山东高速股份有限公司2021年环境、社会及治理报告-2022-...   -1.100604   \n",
       "1     600350.SH-山东高速-山东高速股份有限公司2021年环境、社会及治理报告-2022-...   39.002197   \n",
       "2     600350.SH-山东高速-山东高速股份有限公司2021年环境、社会及治理报告-2022-...   -1.196211   \n",
       "3     600350.SH-山东高速-山东高速股份有限公司2021年环境、社会及治理报告-2022-...  239.922119   \n",
       "4     600350.SH-山东高速-山东高速股份有限公司2021年环境、社会及治理报告-2022-...  488.513428   \n",
       "...                                                 ...         ...   \n",
       "9499  002203.SZ-海亮股份-海亮股份 环境、社会、公司治理(ESG)报告暨社会责任报告-2...  652.340698   \n",
       "9500  002203.SZ-海亮股份-海亮股份 环境、社会、公司治理(ESG)报告暨社会责任报告-2...  881.466797   \n",
       "9501  002203.SZ-海亮股份-海亮股份 环境、社会、公司治理(ESG)报告暨社会责任报告-2...  652.253113   \n",
       "9502  002203.SZ-海亮股份-海亮股份 环境、社会、公司治理(ESG)报告暨社会责任报告-2...   56.347000   \n",
       "9503  002203.SZ-海亮股份-海亮股份 环境、社会、公司治理(ESG)报告暨社会责任报告-2...    0.000100   \n",
       "\n",
       "              y0           x1          y1  \\\n",
       "0      -1.134460   596.513000  809.110962   \n",
       "1      25.685434   201.660690   48.466736   \n",
       "2     577.812927   240.420120  766.871460   \n",
       "3     577.812866   489.011108  766.871399   \n",
       "4     577.812866   737.851501  766.871399   \n",
       "...          ...          ...         ...   \n",
       "9499   88.663773   901.140503  244.932007   \n",
       "9500  322.399414  1130.411011  478.489136   \n",
       "9501  555.939453   901.139099  712.232605   \n",
       "9502  492.093994   535.223022  712.229004   \n",
       "9503  239.607788  1190.551270  808.045837   \n",
       "\n",
       "                             centre_coordinate  \n",
       "0       (297.7061984539032, 403.9882507324219)  \n",
       "1       (120.3314437866211, 37.07608509063721)  \n",
       "2      (119.61195480823517, 672.3421936035156)  \n",
       "3      (364.46661376953125, 672.3421325683594)  \n",
       "4       (613.1824645996094, 672.3421325683594)  \n",
       "...                                        ...  \n",
       "9499   (776.7406005859375, 166.79788970947266)  \n",
       "9500  (1005.9389038085938, 400.44427490234375)  \n",
       "9501    (776.6961059570312, 634.0860290527344)  \n",
       "9502    (295.7850112915039, 602.1614990234375)  \n",
       "9503    (595.2756847656237, 523.8268127441406)  \n",
       "\n",
       "[9504 rows x 6 columns]"
      ]
     },
     "execution_count": 14,
     "metadata": {},
     "output_type": "execute_result"
    }
   ],
   "source": [
    "try:\n",
    "    for file in tqdm(file_bundle):\n",
    "        print(\"\\nProcessing file:{}\".format(file))\n",
    "        coordinate_df = pd.concat([coordinate_df, PyMuPDF_get_img(file, subfolder_name)],\n",
    "                                 ignore_index=True)\n",
    "except OSError as e:\n",
    "    print(f\"Error processing file {file}: {e}\")\n",
    "\n",
    "coordinate_df"
   ]
  },
  {
   "cell_type": "code",
   "execution_count": 13,
   "id": "41168758",
   "metadata": {
    "ExecuteTime": {
     "end_time": "2023-12-03T04:41:30.268373Z",
     "start_time": "2023-12-03T04:41:29.777389Z"
    }
   },
   "outputs": [],
   "source": [
    "# coordinate_df.to_csv(\"/Users/improvise/Desktop/保研/实证论文/ESG/Playground/PyMu_img01//coordinate_df2.csv\")\n",
    "coordinate_df.to_excel(\"/Users/improvise/Desktop/保研/实证论文/ESG/Playground/01_Extraction/ESG 2020/03 PyMu_img_cord/img_cord.xlsx\",\n",
    "                      index = False)"
   ]
  },
  {
   "cell_type": "code",
   "execution_count": null,
   "id": "dd325610",
   "metadata": {},
   "outputs": [],
   "source": []
  }
 ],
 "metadata": {
  "kernelspec": {
   "display_name": "Python 3 (ipykernel)",
   "language": "python",
   "name": "python3"
  },
  "language_info": {
   "codemirror_mode": {
    "name": "ipython",
    "version": 3
   },
   "file_extension": ".py",
   "mimetype": "text/x-python",
   "name": "python",
   "nbconvert_exporter": "python",
   "pygments_lexer": "ipython3",
   "version": "3.9.11"
  },
  "notify_time": "30",
  "toc": {
   "base_numbering": 1,
   "nav_menu": {},
   "number_sections": true,
   "sideBar": true,
   "skip_h1_title": false,
   "title_cell": "Table of Contents",
   "title_sidebar": "Contents",
   "toc_cell": false,
   "toc_position": {},
   "toc_section_display": true,
   "toc_window_display": false
  }
 },
 "nbformat": 4,
 "nbformat_minor": 5
}
